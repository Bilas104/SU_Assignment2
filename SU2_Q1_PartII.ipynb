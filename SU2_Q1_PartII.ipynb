{
  "nbformat": 4,
  "nbformat_minor": 0,
  "metadata": {
    "colab": {
      "provenance": [],
      "gpuType": "T4"
    },
    "kernelspec": {
      "name": "python3",
      "display_name": "Python 3"
    },
    "language_info": {
      "name": "python"
    },
    "accelerator": "GPU"
  },
  "cells": [
    {
      "cell_type": "code",
      "execution_count": 43,
      "metadata": {
        "id": "9PEpSRAXyHtM"
      },
      "outputs": [],
      "source": [
        "# Import necessary libraries\n",
        "import os\n",
        "import torch\n",
        "import torchaudio\n",
        "import numpy as np\n",
        "import pandas as pd\n",
        "import random\n",
        "import matplotlib.pyplot as plt\n",
        "from tqdm import tqdm\n",
        "from pathlib import Path\n",
        "import torch.nn as nn\n",
        "import torch.nn.functional as F\n",
        "from torch.utils.data import DataLoader, Dataset\n",
        "from sklearn.metrics import accuracy_score, precision_recall_fscore_support, roc_curve, auc, confusion_matrix\n",
        "from sklearn.preprocessing import normalize\n",
        "from transformers import Wav2Vec2FeatureExtractor, WavLMModel\n",
        "from peft import LoraConfig, get_peft_model, TaskType\n",
        "import soundfile as sf\n",
        "import pickle\n",
        "import shutil\n",
        "import zipfile\n",
        "from google.colab import drive"
      ]
    },
    {
      "cell_type": "code",
      "source": [
        "# Set device configuration\n",
        "device = torch.device('cuda' if torch.cuda.is_available() else 'cpu')\n",
        "print(f\"Using device: {device}\")"
      ],
      "metadata": {
        "colab": {
          "base_uri": "https://localhost:8080/"
        },
        "id": "Dy9CCved0Bmq",
        "outputId": "d0a5cdcf-86bb-4a40-d0af-3de8249854a7"
      },
      "execution_count": 2,
      "outputs": [
        {
          "output_type": "stream",
          "name": "stdout",
          "text": [
            "Using device: cuda\n"
          ]
        }
      ]
    },
    {
      "cell_type": "code",
      "source": [
        "# Set random seeds for reproducibility\n",
        "torch.manual_seed(42)\n",
        "np.random.seed(42)\n",
        "random.seed(42)"
      ],
      "metadata": {
        "id": "pkgYHiP30DLS"
      },
      "execution_count": 3,
      "outputs": []
    },
    {
      "cell_type": "code",
      "source": [
        "# Mount Google Drive\n",
        "drive.mount('/content/drive')"
      ],
      "metadata": {
        "colab": {
          "base_uri": "https://localhost:8080/"
        },
        "id": "jAIPAOAy0EcY",
        "outputId": "f4da44c7-122a-41b4-8067-78fda5c07366"
      },
      "execution_count": 4,
      "outputs": [
        {
          "output_type": "stream",
          "name": "stdout",
          "text": [
            "Mounted at /content/drive\n"
          ]
        }
      ]
    },
    {
      "cell_type": "code",
      "source": [
        "folder = '/content/drive/MyDrive/SU_Assignment_2'\n",
        "shared_vox1 = f'{folder}/vox1/vox1_test_wav.zip'\n",
        "shared_vox2_audio = f'{folder}/vox2/vox2_test_aac-002.zip'\n",
        "shared_vox2_txt = f'{folder}/vox2/vox2_test_txt.zip'"
      ],
      "metadata": {
        "id": "1BlpafWnA4Ve"
      },
      "execution_count": 5,
      "outputs": []
    },
    {
      "cell_type": "code",
      "source": [
        "os.makedirs('/content/voxceleb_data/vox1', exist_ok = True)\n",
        "os.makedirs('/content/voxceleb_data/vox2_aac', exist_ok = True)\n",
        "os.makedirs('/content/voxceleb_data/vox2_txt', exist_ok = True)"
      ],
      "metadata": {
        "id": "_gXP9GlUGMN9"
      },
      "execution_count": 6,
      "outputs": []
    },
    {
      "cell_type": "code",
      "source": [
        "# Copy files from Drive to local Colab VM\n",
        "shutil.copy(shared_vox1, \"/content/\")\n",
        "shutil.copy(shared_vox2_audio, \"/content/\")\n",
        "shutil.copy(shared_vox2_txt, \"/content/\")"
      ],
      "metadata": {
        "id": "SZ0Ol7J4GQvU",
        "colab": {
          "base_uri": "https://localhost:8080/",
          "height": 36
        },
        "outputId": "f5bc5b17-a878-48a4-bcad-bda25f4ffd41"
      },
      "execution_count": 7,
      "outputs": [
        {
          "output_type": "execute_result",
          "data": {
            "text/plain": [
              "'/content/vox2_test_txt.zip'"
            ],
            "application/vnd.google.colaboratory.intrinsic+json": {
              "type": "string"
            }
          },
          "metadata": {},
          "execution_count": 7
        }
      ]
    },
    {
      "cell_type": "code",
      "source": [
        "# Extract zip files with full paths\n",
        "zips_and_targets = {\n",
        "    \"/content/vox1_test_wav.zip\": \"/content/voxceleb_data/vox1\",\n",
        "    \"/content/vox2_test_aac-002.zip\": \"/content/voxceleb_data/vox2_aac\",\n",
        "    \"/content/vox2_test_txt.zip\": \"/content/voxceleb_data/vox2_txt\"\n",
        "}\n",
        "\n",
        "for zip_file, target_dir in zips_and_targets.items():\n",
        "    print(f\"Extracting {zip_file} to {target_dir}...\")\n",
        "    with zipfile.ZipFile(zip_file, 'r') as zip_ref:\n",
        "        zip_ref.extractall(target_dir)\n",
        "    print(f\"Done extracting {zip_file}\")"
      ],
      "metadata": {
        "id": "OEz5X42CGSN9",
        "colab": {
          "base_uri": "https://localhost:8080/"
        },
        "outputId": "a05f182c-1988-4e2e-8d34-87e95408facd"
      },
      "execution_count": 8,
      "outputs": [
        {
          "output_type": "stream",
          "name": "stdout",
          "text": [
            "Extracting /content/vox1_test_wav.zip to /content/voxceleb_data/vox1...\n",
            "Done extracting /content/vox1_test_wav.zip\n",
            "Extracting /content/vox2_test_aac-002.zip to /content/voxceleb_data/vox2_aac...\n",
            "Done extracting /content/vox2_test_aac-002.zip\n",
            "Extracting /content/vox2_test_txt.zip to /content/voxceleb_data/vox2_txt...\n",
            "Done extracting /content/vox2_test_txt.zip\n"
          ]
        }
      ]
    },
    {
      "cell_type": "code",
      "source": [
        "# Convert VoxCeleb2 AAC files to WAV format\n",
        "aac_root = \"/content/voxceleb_data/vox2_aac/aac\"\n",
        "wav_root = \"/content/voxceleb_data/vox2_wav\"\n",
        "os.makedirs(wav_root, exist_ok=True)\n",
        "\n",
        "# Get speaker directories\n",
        "speaker_dirs = sorted(os.listdir(aac_root))[:118]\n",
        "print(f\"Total speakers (VoxCeleb2): {len(speaker_dirs)}\")\n",
        "\n",
        "for speaker in tqdm(speaker_dirs, desc=\"Converting AAC to WAV\"):\n",
        "    speaker_path = os.path.join(aac_root, speaker)\n",
        "    for root, _, files in os.walk(speaker_path):\n",
        "        for file in files:\n",
        "            if file.endswith(\".m4a\"):\n",
        "                m4a_path = os.path.join(root, file)\n",
        "                relative_path = os.path.relpath(m4a_path, aac_root)\n",
        "                wav_path = os.path.join(wav_root, relative_path.replace(\".m4a\", \".wav\"))\n",
        "                os.makedirs(os.path.dirname(wav_path), exist_ok=True)\n",
        "                try:\n",
        "                    waveform, sr = torchaudio.load(m4a_path)\n",
        "                    torchaudio.save(wav_path, waveform, sr)\n",
        "                except Exception as e:\n",
        "                    print(f\"Skipped {m4a_path} — {e}\")\n",
        "print(\"Finished converting VoxCeleb2 AAC files to WAV.\")"
      ],
      "metadata": {
        "colab": {
          "base_uri": "https://localhost:8080/"
        },
        "id": "mW3NStGcNQHz",
        "outputId": "2f3abe62-a741-43cc-d06f-bcb30ed065c3"
      },
      "execution_count": 9,
      "outputs": [
        {
          "output_type": "stream",
          "name": "stdout",
          "text": [
            "Total speakers (VoxCeleb2): 118\n"
          ]
        },
        {
          "output_type": "stream",
          "name": "stderr",
          "text": [
            "Converting AAC to WAV: 100%|██████████| 118/118 [06:00<00:00,  3.06s/it]"
          ]
        },
        {
          "output_type": "stream",
          "name": "stdout",
          "text": [
            "Finished converting VoxCeleb2 AAC files to WAV.\n"
          ]
        },
        {
          "output_type": "stream",
          "name": "stderr",
          "text": [
            "\n"
          ]
        }
      ]
    },
    {
      "cell_type": "code",
      "source": [
        "def download_verification_list():\n",
        "    !wget https://mm.kaist.ac.kr/datasets/voxceleb/meta/veri_test.txt -O /content/veri_test.txt\n",
        "    return \"/content/veri_test.txt\"\n",
        "\n",
        "# Download verification list\n",
        "veri_txt_path = download_verification_list()"
      ],
      "metadata": {
        "id": "T6WCI05IIlCB",
        "colab": {
          "base_uri": "https://localhost:8080/"
        },
        "outputId": "a0c99b41-77d9-4fc7-c0e3-2dc8233b9e43"
      },
      "execution_count": 10,
      "outputs": [
        {
          "output_type": "stream",
          "name": "stdout",
          "text": [
            "--2025-04-06 14:05:23--  https://mm.kaist.ac.kr/datasets/voxceleb/meta/veri_test.txt\n",
            "Resolving mm.kaist.ac.kr (mm.kaist.ac.kr)... 143.248.39.47\n",
            "Connecting to mm.kaist.ac.kr (mm.kaist.ac.kr)|143.248.39.47|:443... connected.\n",
            "HTTP request sent, awaiting response... 200 OK\n",
            "Length: 2338640 (2.2M) [text/plain]\n",
            "Saving to: ‘/content/veri_test.txt’\n",
            "\n",
            "/content/veri_test. 100%[===================>]   2.23M   424KB/s    in 6.0s    \n",
            "\n",
            "2025-04-06 14:05:30 (382 KB/s) - ‘/content/veri_test.txt’ saved [2338640/2338640]\n",
            "\n"
          ]
        }
      ]
    },
    {
      "cell_type": "code",
      "source": [
        "# Load the processed data\n",
        "def load_processed_data(data_path='/content/voxceleb_data_info.pkl'):\n",
        "    with open(data_path, 'rb') as f:\n",
        "        data_info = pickle.load(f)\n",
        "\n",
        "    print(f\"Loaded processed data with {len(data_info['train_samples'])} training samples\")\n",
        "    return data_info"
      ],
      "metadata": {
        "id": "QJXWrlyM0F3L"
      },
      "execution_count": 11,
      "outputs": []
    },
    {
      "cell_type": "code",
      "source": [
        "# Helper functions for loading and processing audio\n",
        "def load_audio(path, target_sr=16000):\n",
        "    try:\n",
        "        waveform, sample_rate = torchaudio.load(path)\n",
        "        if waveform.shape[0] > 1:  # Convert stereo to mono if needed\n",
        "            waveform = waveform.mean(dim=0, keepdim=True)\n",
        "        if sample_rate != target_sr:\n",
        "            resampler = torchaudio.transforms.Resample(orig_freq=sample_rate, new_freq=target_sr)\n",
        "            waveform = resampler(waveform)\n",
        "        return waveform.squeeze(0)  # Return as torch.Tensor\n",
        "    except Exception as e:\n",
        "        print(f\"Error loading {path}: {e}\")\n",
        "        # Fallback to soundfile if torchaudio fails\n",
        "        audio, sr = sf.read(path)\n",
        "        if sr != target_sr:\n",
        "            raise ValueError(\"Resampling not implemented for fallback method.\")\n",
        "        return torch.tensor(audio, dtype=torch.float32)"
      ],
      "metadata": {
        "id": "RzZ3MfMM0ZAU"
      },
      "execution_count": 12,
      "outputs": []
    },
    {
      "cell_type": "code",
      "source": [
        "class VoxCelebDataset(Dataset):\n",
        "    def __init__(self, samples, sample_rate=16000, max_length=48000, feature_extractor=None):\n",
        "        self.samples = samples\n",
        "        self.sample_rate = sample_rate\n",
        "        self.max_length = max_length  # 3 seconds at 16kHz\n",
        "        self.feature_extractor = feature_extractor\n",
        "\n",
        "        # Find the maximum label for num_classes\n",
        "        self.num_classes = max([label for _, label in samples]) + 1\n",
        "        print(f\"Dataset initialized with {len(samples)} samples and {self.num_classes} classes\")\n",
        "\n",
        "    def __len__(self):\n",
        "        return len(self.samples)\n",
        "\n",
        "    def __getitem__(self, idx):\n",
        "        path, label = self.samples[idx]\n",
        "        waveform = load_audio(path, target_sr=self.sample_rate)\n",
        "\n",
        "        # Normalize the waveform\n",
        "        waveform = waveform / (torch.max(torch.abs(waveform)) + 1e-8)\n",
        "\n",
        "        # Clip or pad to max_length\n",
        "        if waveform.shape[0] > self.max_length:\n",
        "            # Randomly sample a segment of max_length\n",
        "            start = random.randint(0, waveform.shape[0] - self.max_length)\n",
        "            waveform = waveform[start:start + self.max_length]\n",
        "        else:\n",
        "            # Pad with zeros\n",
        "            padded = torch.zeros(self.max_length)\n",
        "            padded[:waveform.shape[0]] = waveform\n",
        "            waveform = padded\n",
        "\n",
        "        if self.feature_extractor is not None:\n",
        "            inputs = self.feature_extractor(\n",
        "                waveform,\n",
        "                sampling_rate=self.sample_rate,\n",
        "                return_tensors=\"pt\"\n",
        "            )\n",
        "            return inputs.input_values.squeeze(0), label\n",
        "\n",
        "        return waveform, label"
      ],
      "metadata": {
        "id": "jf4pBWDc0je-"
      },
      "execution_count": 13,
      "outputs": []
    },
    {
      "cell_type": "code",
      "source": [
        "def create_dataloader(samples, batch_size=8, feature_extractor=None, shuffle=True):\n",
        "    dataset = VoxCelebDataset(samples, feature_extractor=feature_extractor)\n",
        "    dataloader = DataLoader(\n",
        "        dataset,\n",
        "        batch_size=batch_size,\n",
        "        shuffle=shuffle,\n",
        "        num_workers=2,\n",
        "        pin_memory=True\n",
        "    )\n",
        "    return dataloader, dataset.num_classes"
      ],
      "metadata": {
        "id": "SsAh6g-k0hOC"
      },
      "execution_count": 14,
      "outputs": []
    },
    {
      "cell_type": "code",
      "source": [
        "# Verification utilities\n",
        "class VerificationDataset(Dataset):\n",
        "    def __init__(self, verification_pairs, sample_rate=16000, max_length=48000, feature_extractor=None):\n",
        "        self.verification_pairs = verification_pairs\n",
        "        self.sample_rate = sample_rate\n",
        "        self.max_length = max_length\n",
        "        self.feature_extractor = feature_extractor\n",
        "        print(f\"Verification dataset initialized with {len(verification_pairs)} pairs\")\n",
        "\n",
        "    def __len__(self):\n",
        "        return len(self.verification_pairs)\n",
        "\n",
        "    def __getitem__(self, idx):\n",
        "        path1, path2, label = self.verification_pairs[idx]\n",
        "\n",
        "        # Load and process audio 1\n",
        "        waveform1 = load_audio(path1, target_sr=self.sample_rate)\n",
        "        waveform1 = waveform1 / (torch.max(torch.abs(waveform1)) + 1e-8)\n",
        "\n",
        "        # Clip or pad audio 1\n",
        "        if waveform1.shape[0] > self.max_length:\n",
        "            waveform1 = waveform1[:self.max_length]\n",
        "        else:\n",
        "            padded1 = torch.zeros(self.max_length)\n",
        "            padded1[:waveform1.shape[0]] = waveform1\n",
        "            waveform1 = padded1\n",
        "\n",
        "        # Load and process audio 2\n",
        "        waveform2 = load_audio(path2, target_sr=self.sample_rate)\n",
        "        waveform2 = waveform2 / (torch.max(torch.abs(waveform2)) + 1e-8)\n",
        "\n",
        "        # Clip or pad audio 2\n",
        "        if waveform2.shape[0] > self.max_length:\n",
        "            waveform2 = waveform2[:self.max_length]\n",
        "        else:\n",
        "            padded2 = torch.zeros(self.max_length)\n",
        "            padded2[:waveform2.shape[0]] = waveform2\n",
        "            waveform2 = padded2\n",
        "\n",
        "        if self.feature_extractor is not None:\n",
        "            inputs1 = self.feature_extractor(\n",
        "                waveform1,\n",
        "                sampling_rate=self.sample_rate,\n",
        "                return_tensors=\"pt\"\n",
        "            ).input_values.squeeze(0)\n",
        "\n",
        "            inputs2 = self.feature_extractor(\n",
        "                waveform2,\n",
        "                sampling_rate=self.sample_rate,\n",
        "                return_tensors=\"pt\"\n",
        "            ).input_values.squeeze(0)\n",
        "\n",
        "            return inputs1, inputs2, label\n",
        "\n",
        "        return waveform1, waveform2, label"
      ],
      "metadata": {
        "id": "DRG0atWG0bZr"
      },
      "execution_count": 15,
      "outputs": []
    },
    {
      "cell_type": "code",
      "source": [
        "def create_verification_dataloader(verification_pairs, batch_size=8, feature_extractor=None):\n",
        "    dataset = VerificationDataset(verification_pairs, feature_extractor=feature_extractor)\n",
        "    dataloader = DataLoader(\n",
        "        dataset,\n",
        "        batch_size=batch_size,\n",
        "        shuffle=False,\n",
        "        num_workers=2,\n",
        "        pin_memory=True\n",
        "    )\n",
        "    return dataloader"
      ],
      "metadata": {
        "id": "EP_TJctw0a-L"
      },
      "execution_count": 16,
      "outputs": []
    },
    {
      "cell_type": "code",
      "source": [
        "#WaveLM Speaker Recognition Model\n",
        "class WaveLMSpeakerModel(nn.Module):\n",
        "    def __init__(self, num_classes, pretrained_model_name=\"microsoft/wavlm-base-plus\"):\n",
        "        super(WaveLMSpeakerModel, self).__init__()\n",
        "\n",
        "        # Load the pre-trained WaveLM model\n",
        "        self.wavlm = WavLMModel.from_pretrained(pretrained_model_name)\n",
        "\n",
        "        # Feature dimension from WaveLM base-plus\n",
        "        wavlm_dim = self.wavlm.config.hidden_size  # 768 for WaveLM base plus\n",
        "\n",
        "        # Speaker embedding network\n",
        "        self.speaker_embedding = nn.Sequential(\n",
        "            nn.Linear(wavlm_dim, 512),\n",
        "            nn.BatchNorm1d(512),\n",
        "            nn.ReLU(),\n",
        "            nn.Dropout(0.2),\n",
        "            nn.Linear(512, 256)\n",
        "        )\n",
        "\n",
        "        # Classification layer\n",
        "        self.classifier = nn.Linear(256, num_classes)\n",
        "\n",
        "    def forward(self, x, extract_embedding=False):\n",
        "        # Get WaveLM features\n",
        "        with torch.no_grad():\n",
        "            outputs = self.wavlm(x)\n",
        "            # Use the last hidden state\n",
        "            wavlm_features = outputs.last_hidden_state\n",
        "\n",
        "        # Mean pooling over time dimension\n",
        "        pooled_features = torch.mean(wavlm_features, dim=1)\n",
        "\n",
        "        # Speaker embedding\n",
        "        embedding = self.speaker_embedding(pooled_features)\n",
        "\n",
        "        # Return the embedding if requested (for verification)\n",
        "        if extract_embedding:\n",
        "            return embedding\n",
        "\n",
        "        # Classification for identification\n",
        "        logits = self.classifier(embedding)\n",
        "        return logits, embedding"
      ],
      "metadata": {
        "id": "ckOPfR3b0u0c"
      },
      "execution_count": 17,
      "outputs": []
    },
    {
      "cell_type": "code",
      "source": [
        "# Siamese network for verification tasks\n",
        "class SiameseSpeakerVerifier(nn.Module):\n",
        "    def __init__(self, embedding_model):\n",
        "        super(SiameseSpeakerVerifier, self).__init__()\n",
        "        self.embedding_model = embedding_model\n",
        "\n",
        "    def forward(self, x1, x2):\n",
        "        # Extract embeddings from both inputs\n",
        "        embedding1 = self.embedding_model(x1, extract_embedding=True)\n",
        "        embedding2 = self.embedding_model(x2, extract_embedding=True)\n",
        "\n",
        "        # Compute cosine similarity\n",
        "        embedding1_norm = F.normalize(embedding1, p=2, dim=1)\n",
        "        embedding2_norm = F.normalize(embedding2, p=2, dim=1)\n",
        "        cosine_similarity = torch.sum(embedding1_norm * embedding2_norm, dim=1)\n",
        "\n",
        "        return cosine_similarity, embedding1, embedding2"
      ],
      "metadata": {
        "id": "ys_N_JTq0zWL"
      },
      "execution_count": 18,
      "outputs": []
    },
    {
      "cell_type": "code",
      "source": [
        "# Initializing the WaveLM model with LoRA\n",
        "def init_wavelm_with_lora(num_classes):\n",
        "    # LoRA configuration\n",
        "    peft_config = LoraConfig(\n",
        "        task_type=TaskType.FEATURE_EXTRACTION,\n",
        "        inference_mode=False,\n",
        "        r=8,  # Rank of the low-rank matrices\n",
        "        lora_alpha=16,  # Scaling factor for the low-rank matrices\n",
        "        lora_dropout=0.1,\n",
        "        target_modules=[\"k_proj\", \"q_proj\", \"v_proj\"]  # Target attention modules\n",
        "    )\n",
        "\n",
        "    # Initializing the base model\n",
        "    base_model = WaveLMSpeakerModel(num_classes)\n",
        "\n",
        "    # Applying LoRA to the model\n",
        "    peft_model = get_peft_model(base_model, peft_config)\n",
        "    print(f\"Model initialized with LoRA for efficient fine-tuning\")\n",
        "\n",
        "    return peft_model"
      ],
      "metadata": {
        "id": "mZPvZCXS0xHV"
      },
      "execution_count": 19,
      "outputs": []
    },
    {
      "cell_type": "code",
      "source": [
        "# Training functions\n",
        "def train_epoch(model, dataloader, optimizer, criterion, scheduler, device, epoch):\n",
        "    model.train()\n",
        "    running_loss = 0.0\n",
        "    all_preds = []\n",
        "    all_labels = []\n",
        "\n",
        "    for i, (inputs, labels) in enumerate(tqdm(dataloader, desc=f\"Epoch {epoch+1} Training\")):\n",
        "        inputs, labels = inputs.to(device), labels.to(device)\n",
        "\n",
        "        # Zero the parameter gradients\n",
        "        optimizer.zero_grad()\n",
        "\n",
        "        # Forward pass\n",
        "        logits, _ = model(inputs)\n",
        "        loss = criterion(logits, labels)\n",
        "\n",
        "        # Backward pass and optimize\n",
        "        loss.backward()\n",
        "        optimizer.step()\n",
        "\n",
        "        # Update learning rate\n",
        "        if scheduler is not None:\n",
        "            scheduler.step()\n",
        "\n",
        "        # Statistics\n",
        "        running_loss += loss.item()\n",
        "\n",
        "        # Compute accuracy\n",
        "        preds = torch.argmax(logits, dim=1).cpu().numpy()\n",
        "        all_preds.extend(preds)\n",
        "        all_labels.extend(labels.cpu().numpy())\n",
        "\n",
        "        if (i + 1) % 10 == 0:\n",
        "            print(f'Step {i+1}/{len(dataloader)}, Loss: {loss.item():.4f}')\n",
        "\n",
        "    # Calculate epoch statistics\n",
        "    epoch_loss = running_loss / len(dataloader)\n",
        "    epoch_acc = accuracy_score(all_labels, all_preds)\n",
        "\n",
        "    return epoch_loss, epoch_acc"
      ],
      "metadata": {
        "id": "ri3TZfhj1KM5"
      },
      "execution_count": 20,
      "outputs": []
    },
    {
      "cell_type": "code",
      "source": [
        "def evaluate(model, dataloader, criterion, device, desc=\"Evaluation\"):\n",
        "    model.eval()\n",
        "    running_loss = 0.0\n",
        "    all_preds = []\n",
        "    all_labels = []\n",
        "\n",
        "    with torch.no_grad():\n",
        "        for inputs, labels in tqdm(dataloader, desc=desc):\n",
        "            inputs, labels = inputs.to(device), labels.to(device)\n",
        "\n",
        "            # Forward pass\n",
        "            logits, _ = model(inputs)\n",
        "            loss = criterion(logits, labels)\n",
        "\n",
        "            # Statistics\n",
        "            running_loss += loss.item()\n",
        "\n",
        "            # Compute accuracy\n",
        "            preds = torch.argmax(logits, dim=1).cpu().numpy()\n",
        "            all_preds.extend(preds)\n",
        "            all_labels.extend(labels.cpu().numpy())\n",
        "\n",
        "    # Calculate metrics\n",
        "    eval_loss = running_loss / len(dataloader)\n",
        "    eval_acc = accuracy_score(all_labels, all_preds)\n",
        "\n",
        "    # Additional metrics\n",
        "    precision, recall, f1, _ = precision_recall_fscore_support(\n",
        "        all_labels, all_preds, average='weighted'\n",
        "    )\n",
        "\n",
        "    return eval_loss, eval_acc, precision, recall, f1"
      ],
      "metadata": {
        "id": "05c7HfMn1T3n"
      },
      "execution_count": 21,
      "outputs": []
    },
    {
      "cell_type": "code",
      "source": [
        "# Verification evaluation functions\n",
        "def evaluate_verification(model, verifier, dataloader, device, threshold=0.5):\n",
        "    model.eval()\n",
        "    verifier.eval()\n",
        "\n",
        "    all_scores = []\n",
        "    all_labels = []\n",
        "\n",
        "    with torch.no_grad():\n",
        "        for x1, x2, labels in tqdm(dataloader, desc=\"Verification Evaluation\"):\n",
        "            x1, x2 = x1.to(device), x2.to(device)\n",
        "\n",
        "            # Calculate similarity scores\n",
        "            scores, _, _ = verifier(x1, x2)\n",
        "\n",
        "            # Collect results\n",
        "            all_scores.extend(scores.cpu().numpy())\n",
        "            all_labels.extend(labels.numpy())\n",
        "\n",
        "    all_scores = np.array(all_scores)\n",
        "    all_labels = np.array(all_labels)\n",
        "\n",
        "    # Calculate EER and other metrics\n",
        "    fpr, tpr, thresholds = roc_curve(all_labels, all_scores)\n",
        "    fnr = 1 - tpr\n",
        "\n",
        "    # Find the threshold where FPR = FNR (EER point)\n",
        "    eer_threshold = thresholds[np.nanargmin(np.absolute(fnr - fpr))]\n",
        "    eer = fpr[np.nanargmin(np.absolute(fnr - fpr))]\n",
        "\n",
        "    # Calculate ROC AUC\n",
        "    roc_auc = auc(fpr, tpr)\n",
        "\n",
        "    # Calculate verification accuracy using the provided threshold\n",
        "    pred_labels = (all_scores >= threshold).astype(int)\n",
        "    acc = accuracy_score(all_labels, pred_labels)\n",
        "\n",
        "    # Calculate verification accuracy using the EER threshold\n",
        "    pred_labels_eer = (all_scores >= eer_threshold).astype(int)\n",
        "    acc_eer = accuracy_score(all_labels, pred_labels_eer)\n",
        "\n",
        "    return {\n",
        "        \"eer\": eer,\n",
        "        \"eer_threshold\": eer_threshold,\n",
        "        \"auc\": roc_auc,\n",
        "        \"accuracy\": acc,\n",
        "        \"accuracy_eer\": acc_eer,\n",
        "        \"scores\": all_scores,\n",
        "        \"labels\": all_labels,\n",
        "        \"fpr\": fpr,\n",
        "        \"tpr\": tpr,\n",
        "        \"thresholds\": thresholds\n",
        "    }"
      ],
      "metadata": {
        "id": "SOXgo2L41QvU"
      },
      "execution_count": 22,
      "outputs": []
    },
    {
      "cell_type": "code",
      "source": [
        "def evaluate_speaker_identification(model, data_info, batch_size=8, save_dir='/content/plots'):\n",
        "    # Create save directory if it doesn't exist\n",
        "    os.makedirs(save_dir, exist_ok=True)\n",
        "\n",
        "    print(\"Evaluating speaker identification accuracy...\")\n",
        "\n",
        "    # Initialize feature extractor\n",
        "    model_name = model.encoder.name_or_path if hasattr(model, 'encoder') else \"microsoft/wavlm-base-plus\"\n",
        "    feature_extractor = Wav2Vec2FeatureExtractor.from_pretrained(model_name)\n",
        "\n",
        "    # Create test dataloader\n",
        "    test_loader, num_classes = create_dataloader(\n",
        "        data_info['test_samples'],\n",
        "        batch_size=batch_size,\n",
        "        feature_extractor=feature_extractor,\n",
        "        shuffle=False\n",
        "    )\n",
        "\n",
        "    # Set model to evaluation mode\n",
        "    model.eval()\n",
        "\n",
        "    # Evaluate on test set\n",
        "    all_preds = []\n",
        "    all_labels = []\n",
        "\n",
        "    with torch.no_grad():\n",
        "        for inputs, labels in tqdm(test_loader, desc=\"Speaker ID Evaluation\"):\n",
        "            inputs, labels = inputs.to(device), labels.to(device)\n",
        "\n",
        "            # Forward pass\n",
        "            if hasattr(model, 'classifier'):\n",
        "                logits, _ = model(inputs)\n",
        "                preds = torch.argmax(logits, dim=1)\n",
        "            else:\n",
        "                embeddings = model(inputs, extract_embedding=True)\n",
        "                preds = torch.zeros_like(labels)\n",
        "\n",
        "            # Collect predictions and labels\n",
        "            all_preds.extend(preds.cpu().numpy())\n",
        "            all_labels.extend(labels.cpu().numpy())\n",
        "\n",
        "    # Calculate metrics\n",
        "    accuracy = accuracy_score(all_labels, all_preds)\n",
        "    precision, recall, f1, _ = precision_recall_fscore_support(all_labels, all_preds, average='weighted')\n",
        "\n",
        "    # Create confusion matrix (for top N classes if there are many)\n",
        "    top_n = min(20, num_classes)  # Show at most 20 classes\n",
        "    plt.figure(figsize=(12, 10))\n",
        "    cm = confusion_matrix(all_labels, all_preds)\n",
        "\n",
        "    # If there are too many classes, select the top N most common ones\n",
        "    if num_classes > top_n:\n",
        "        label_counts = np.bincount(all_labels)\n",
        "        top_indices = np.argsort(label_counts)[-top_n:]\n",
        "        cm_subset = cm[top_indices, :][:, top_indices]\n",
        "\n",
        "        # Create labels for the confusion matrix\n",
        "        cm_labels = [f\"Speaker {i}\" for i in top_indices]\n",
        "    else:\n",
        "        cm_subset = cm\n",
        "        cm_labels = [f\"Speaker {i}\" for i in range(num_classes)]\n",
        "\n",
        "    # Plot confusion matrix\n",
        "    plt.imshow(cm_subset, interpolation='nearest', cmap=plt.cm.Blues)\n",
        "    plt.title('Speaker Identification Confusion Matrix')\n",
        "    plt.colorbar()\n",
        "    tick_marks = np.arange(len(cm_labels))\n",
        "    plt.xticks(tick_marks, cm_labels, rotation=45)\n",
        "    plt.yticks(tick_marks, cm_labels)\n",
        "    plt.xlabel('Predicted Speaker')\n",
        "    plt.ylabel('True Speaker')\n",
        "    plt.tight_layout()\n",
        "\n",
        "    # Save the confusion matrix\n",
        "    plt.savefig(f'{save_dir}/speaker_id_confusion_matrix.png', dpi=300, bbox_inches='tight')\n",
        "    plt.show()\n",
        "\n",
        "    # Print results\n",
        "    print(f\"Speaker Identification Results:\")\n",
        "    print(f\"Accuracy: {accuracy:.4f}\")\n",
        "    print(f\"Precision: {precision:.4f}\")\n",
        "    print(f\"Recall: {recall:.4f}\")\n",
        "    print(f\"F1 Score: {f1:.4f}\")\n",
        "\n",
        "    return {\n",
        "        'accuracy': accuracy,\n",
        "        'precision': precision,\n",
        "        'recall': recall,\n",
        "        'f1': f1\n",
        "    }"
      ],
      "metadata": {
        "id": "OkMg1NegVCop"
      },
      "execution_count": 23,
      "outputs": []
    },
    {
      "cell_type": "code",
      "source": [
        "# Function to visualize training progress\n",
        "def plot_training_progress(train_losses, val_losses, train_accs, val_accs, save_dir='/content/plots'):\n",
        "    # Create save directory if it doesn't exist\n",
        "    os.makedirs(save_dir, exist_ok=True)\n",
        "\n",
        "    plt.figure(figsize=(12, 5))\n",
        "\n",
        "    # Plot loss\n",
        "    plt.subplot(1, 2, 1)\n",
        "    plt.plot(train_losses, label='Training Loss')\n",
        "    plt.plot(val_losses, label='Validation Loss')\n",
        "    plt.xlabel('Epoch')\n",
        "    plt.ylabel('Loss')\n",
        "    plt.legend()\n",
        "    plt.title('Training and Validation Loss')\n",
        "\n",
        "    # Plot accuracy\n",
        "    plt.subplot(1, 2, 2)\n",
        "    plt.plot(train_accs, label='Training Accuracy')\n",
        "    plt.plot(val_accs, label='Validation Accuracy')\n",
        "    plt.xlabel('Epoch')\n",
        "    plt.ylabel('Accuracy')\n",
        "    plt.legend()\n",
        "    plt.title('Training and Validation Accuracy')\n",
        "\n",
        "    plt.tight_layout()\n",
        "\n",
        "    # Save the figure\n",
        "    plt.savefig(f'{save_dir}/training_progress.png', dpi=300, bbox_inches='tight')\n",
        "    plt.show()"
      ],
      "metadata": {
        "id": "hxiV8cDD1OPx"
      },
      "execution_count": 24,
      "outputs": []
    },
    {
      "cell_type": "code",
      "source": [
        "# Function to plot verification ROC curve\n",
        "def plot_verification_roc(fpr, tpr, roc_auc, eer, save_dir='/content/plots'):\n",
        "    # Create save directory if it doesn't exist\n",
        "    os.makedirs(save_dir, exist_ok=True)\n",
        "\n",
        "    plt.figure(figsize=(8, 8))\n",
        "    plt.plot(fpr, tpr, lw=2, label=f'ROC curve (area = {roc_auc:.3f})')\n",
        "    plt.plot([0, 1], [0, 1], 'k--', lw=2)\n",
        "\n",
        "    # Mark the EER point\n",
        "    eer_idx = np.nanargmin(np.absolute(1 - tpr - fpr))\n",
        "    plt.scatter(fpr[eer_idx], tpr[eer_idx], marker='o', color='red',\n",
        "                label=f'EER = {eer:.3f}')\n",
        "\n",
        "    plt.xlim([0.0, 1.0])\n",
        "    plt.ylim([0.0, 1.05])\n",
        "    plt.xlabel('False Positive Rate')\n",
        "    plt.ylabel('True Positive Rate')\n",
        "    plt.title('Receiver Operating Characteristic (ROC)')\n",
        "    plt.legend(loc=\"lower right\")\n",
        "    plt.grid(True)\n",
        "\n",
        "    # Save the figure\n",
        "    plt.savefig(f'{save_dir}/verification_roc.png', dpi=300, bbox_inches='tight')\n",
        "    plt.show()"
      ],
      "metadata": {
        "id": "dGXbI-Mh1MdX"
      },
      "execution_count": 25,
      "outputs": []
    },
    {
      "cell_type": "code",
      "source": [
        "# Main execution function for training\n",
        "def train_wavelm_speaker_recognition(data_info, batch_size=8, num_epochs=4, learning_rate=1e-4,\n",
        "                                    save_dir='/content/model_checkpoints'):\n",
        "    # Create save directory\n",
        "    os.makedirs(save_dir, exist_ok=True)\n",
        "\n",
        "    # Initialize feature extractor\n",
        "    feature_extractor = Wav2Vec2FeatureExtractor.from_pretrained(\"microsoft/wavlm-base-plus\")\n",
        "\n",
        "    # Create dataloaders\n",
        "    train_loader, num_classes = create_dataloader(\n",
        "        data_info['train_samples'],\n",
        "        batch_size=batch_size,\n",
        "        feature_extractor=feature_extractor,\n",
        "        shuffle=True\n",
        "    )\n",
        "\n",
        "    test_loader, _ = create_dataloader(\n",
        "        data_info['test_samples'],\n",
        "        batch_size=batch_size,\n",
        "        feature_extractor=feature_extractor,\n",
        "        shuffle=False\n",
        "    )\n",
        "\n",
        "    # Initialize the model with LoRA\n",
        "    model = init_wavelm_with_lora(num_classes)\n",
        "    model.to(device)\n",
        "\n",
        "    # Define loss function and optimizer\n",
        "    criterion = nn.CrossEntropyLoss()\n",
        "    optimizer = torch.optim.AdamW(model.parameters(), lr=learning_rate)\n",
        "\n",
        "    # Learning rate scheduler\n",
        "    total_steps = len(train_loader) * num_epochs\n",
        "    scheduler = torch.optim.lr_scheduler.CosineAnnealingLR(optimizer, T_max=total_steps)\n",
        "\n",
        "    # Training loop\n",
        "    train_losses = []\n",
        "    train_accs = []\n",
        "    val_losses = []\n",
        "    val_accs = []\n",
        "    best_val_acc = 0.0\n",
        "\n",
        "    for epoch in range(num_epochs):\n",
        "        # Train for one epoch\n",
        "        train_loss, train_acc = train_epoch(\n",
        "            model, train_loader, optimizer, criterion, scheduler, device, epoch\n",
        "        )\n",
        "        train_losses.append(train_loss)\n",
        "        train_accs.append(train_acc)\n",
        "\n",
        "        # Evaluate on validation set\n",
        "        val_loss, val_acc, precision, recall, f1 = evaluate(\n",
        "            model, test_loader, criterion, device, desc=\"Validation\"\n",
        "        )\n",
        "        val_losses.append(val_loss)\n",
        "        val_accs.append(val_acc)\n",
        "\n",
        "        # Print epoch results\n",
        "        print(f\"Epoch {epoch+1}/{num_epochs} - \"\n",
        "              f\"Train Loss: {train_loss:.4f}, Train Acc: {train_acc:.4f}, \"\n",
        "              f\"Val Loss: {val_loss:.4f}, Val Acc: {val_acc:.4f}\")\n",
        "        print(f\"Precision: {precision:.4f}, Recall: {recall:.4f}, F1: {f1:.4f}\")\n",
        "\n",
        "        # Save best model\n",
        "        if val_acc > best_val_acc:\n",
        "            best_val_acc = val_acc\n",
        "            torch.save(model.state_dict(), f\"{save_dir}/wavelm_speaker_best.pt\")\n",
        "            print(f\"Saved best model with validation accuracy: {val_acc:.4f}\")\n",
        "\n",
        "        # Save checkpoint\n",
        "        torch.save({\n",
        "            'epoch': epoch,\n",
        "            'model_state_dict': model.state_dict(),\n",
        "            'optimizer_state_dict': optimizer.state_dict(),\n",
        "            'scheduler_state_dict': scheduler.state_dict() if scheduler else None,\n",
        "            'train_losses': train_losses,\n",
        "            'train_accs': train_accs,\n",
        "            'val_losses': val_losses,\n",
        "            'val_accs': val_accs,\n",
        "            'best_val_acc': best_val_acc\n",
        "        }, f\"{save_dir}/wavelm_speaker_checkpoint.pt\")\n",
        "\n",
        "    # Plot training progress\n",
        "    plot_training_progress(train_losses, val_losses, train_accs, val_accs)\n",
        "\n",
        "    # Load best model for final evaluation\n",
        "    model.load_state_dict(torch.load(f\"{save_dir}/wavelm_speaker_best.pt\"))\n",
        "\n",
        "    # Final evaluation\n",
        "    final_loss, final_acc, precision, recall, f1 = evaluate(\n",
        "        model, test_loader, criterion, device, desc=\"Final Evaluation\"\n",
        "    )\n",
        "\n",
        "    print(f\"\\nFinal Results:\")\n",
        "    print(f\"Test Loss: {final_loss:.4f}, Test Accuracy: {final_acc:.4f}\")\n",
        "    print(f\"Precision: {precision:.4f}, Recall: {recall:.4f}, F1: {f1:.4f}\")\n",
        "\n",
        "    return model, {\n",
        "        'final_acc': final_acc,\n",
        "        'precision': precision,\n",
        "        'recall': recall,\n",
        "        'f1': f1,\n",
        "        'train_losses': train_losses,\n",
        "        'train_accs': train_accs,\n",
        "        'val_losses': val_losses,\n",
        "        'val_accs': val_accs\n",
        "    }"
      ],
      "metadata": {
        "id": "XXFq9HFK1t0X"
      },
      "execution_count": 26,
      "outputs": []
    },
    {
      "cell_type": "code",
      "source": [
        "# Speaker verification task using the trained model\n",
        "def perform_speaker_verification(data_info, model, batch_size=8):\n",
        "    # Initialize feature extractor\n",
        "    feature_extractor = Wav2Vec2FeatureExtractor.from_pretrained(\"microsoft/wavlm-base-plus\")\n",
        "\n",
        "    # Create verification dataloader\n",
        "    verification_loader = create_verification_dataloader(\n",
        "        data_info['verification_pairs'][:5000],  # Using a subset for faster evaluation\n",
        "        batch_size=batch_size,\n",
        "        feature_extractor=feature_extractor\n",
        "    )\n",
        "\n",
        "    # Initialize the verification model (Siamese network)\n",
        "    verifier = SiameseSpeakerVerifier(model)\n",
        "    verifier.to(device)\n",
        "\n",
        "    # Evaluate verification performance\n",
        "    verification_results = evaluate_verification(\n",
        "        model, verifier, verification_loader, device, threshold=0.5\n",
        "    )\n",
        "\n",
        "    # Print results\n",
        "    print(f\"\\nVerification Results:\")\n",
        "    print(f\"EER: {verification_results['eer']:.4f}\")\n",
        "    print(f\"AUC: {verification_results['auc']:.4f}\")\n",
        "    print(f\"Accuracy (threshold=0.5): {verification_results['accuracy']:.4f}\")\n",
        "    print(f\"Accuracy (threshold={verification_results['eer_threshold']:.4f}): {verification_results['accuracy_eer']:.4f}\")\n",
        "\n",
        "    # Plot ROC curve\n",
        "    plot_verification_roc(\n",
        "        verification_results['fpr'],\n",
        "        verification_results['tpr'],\n",
        "        verification_results['auc'],\n",
        "        verification_results['eer']\n",
        "    )\n",
        "\n",
        "    return verification_results"
      ],
      "metadata": {
        "id": "u6cVcZ3u16vk"
      },
      "execution_count": 27,
      "outputs": []
    },
    {
      "cell_type": "code",
      "source": [
        "# ArcFace Loss Implementation\n",
        "class ArcFaceLoss(nn.Module):\n",
        "    def __init__(self, embedding_size, num_classes, s=30.0, m=0.5):\n",
        "        super(ArcFaceLoss, self).__init__()\n",
        "        self.embedding_size = embedding_size\n",
        "        self.num_classes = num_classes\n",
        "        self.s = s\n",
        "        self.m = m\n",
        "        self.weight = nn.Parameter(torch.FloatTensor(num_classes, embedding_size))\n",
        "        nn.init.xavier_uniform_(self.weight)\n",
        "\n",
        "    def forward(self, embeddings, labels):\n",
        "        # Normalize weights\n",
        "        normalized_weights = F.normalize(self.weight, p=2, dim=1)\n",
        "\n",
        "        # Normalize embeddings\n",
        "        normalized_embeddings = F.normalize(embeddings, p=2, dim=1)\n",
        "\n",
        "        # Cosine similarity\n",
        "        cos_theta = F.linear(normalized_embeddings, normalized_weights)\n",
        "\n",
        "        # Clip to prevent NaN\n",
        "        cos_theta = torch.clamp(cos_theta, -1.0 + 1e-7, 1.0 - 1e-7)\n",
        "\n",
        "        # Calculate arc cosine\n",
        "        theta = torch.acos(cos_theta)\n",
        "\n",
        "        # Add margin\n",
        "        target_logits = torch.cos(theta + self.m)\n",
        "\n",
        "        # Create one-hot encoding for target logits\n",
        "        one_hot = torch.zeros_like(cos_theta)\n",
        "        one_hot.scatter_(1, labels.view(-1, 1), 1)\n",
        "\n",
        "        # Apply margin to target logits only\n",
        "        output = torch.where(one_hot == 1, target_logits, cos_theta)\n",
        "\n",
        "        # Scale by s\n",
        "        output = output * self.s\n",
        "\n",
        "        return output, one_hot"
      ],
      "metadata": {
        "id": "xqbcfAQ-6m6H"
      },
      "execution_count": 28,
      "outputs": []
    },
    {
      "cell_type": "code",
      "source": [
        "# Enhanced verification metrics calculation\n",
        "def calculate_verification_metrics(scores, labels):\n",
        "    # Calculate ROC curve\n",
        "    fpr, tpr, thresholds = roc_curve(labels, scores)\n",
        "\n",
        "    # Calculate EER\n",
        "    fnr = 1 - tpr\n",
        "    eer_idx = np.argmin(np.abs(fpr - fnr))\n",
        "    eer = (fpr[eer_idx] + fnr[eer_idx]) / 2\n",
        "    eer_threshold = thresholds[eer_idx]\n",
        "\n",
        "    # Calculate TAR@1%FAR (True Accept Rate at 1% False Accept Rate)\n",
        "    tar_at_far_idx = np.argmin(np.abs(fpr - 0.01))\n",
        "    tar_at_far = tpr[tar_at_far_idx]\n",
        "    tar_at_far_threshold = thresholds[tar_at_far_idx]\n",
        "\n",
        "    # Calculate AUC\n",
        "    roc_auc = auc(fpr, tpr)\n",
        "\n",
        "    # Format metrics\n",
        "    eer_percent = eer * 100\n",
        "    tar_at_far_percent = tar_at_far * 100\n",
        "\n",
        "    return {\n",
        "        \"eer\": eer,\n",
        "        \"eer_percent\": eer_percent,\n",
        "        \"eer_threshold\": eer_threshold,\n",
        "        \"tar_at_far\": tar_at_far,\n",
        "        \"tar_at_far_percent\": tar_at_far_percent,\n",
        "        \"tar_at_far_threshold\": tar_at_far_threshold,\n",
        "        \"auc\": roc_auc,\n",
        "        \"fpr\": fpr,\n",
        "        \"tpr\": tpr,\n",
        "        \"thresholds\": thresholds\n",
        "    }"
      ],
      "metadata": {
        "id": "a5E7TTlM6qix"
      },
      "execution_count": 29,
      "outputs": []
    },
    {
      "cell_type": "code",
      "source": [
        "# Enhanced evaluation function for verification\n",
        "def enhanced_evaluate_verification(model, verifier, dataloader, device):\n",
        "    model.eval()\n",
        "    verifier.eval()\n",
        "\n",
        "    all_scores = []\n",
        "    all_labels = []\n",
        "\n",
        "    with torch.no_grad():\n",
        "        for x1, x2, labels in tqdm(dataloader, desc=\"Verification Evaluation\"):\n",
        "            x1, x2 = x1.to(device), x2.to(device)\n",
        "\n",
        "            # Calculate similarity scores\n",
        "            scores, _, _ = verifier(x1, x2)\n",
        "\n",
        "            # Collect results\n",
        "            all_scores.extend(scores.cpu().numpy())\n",
        "            all_labels.extend(labels.numpy())\n",
        "\n",
        "    all_scores = np.array(all_scores)\n",
        "    all_labels = np.array(all_labels)\n",
        "\n",
        "    # Calculate all metrics\n",
        "    metrics = calculate_verification_metrics(all_scores, all_labels)\n",
        "\n",
        "    # Add raw predictions for further analysis\n",
        "    metrics[\"scores\"] = all_scores\n",
        "    metrics[\"labels\"] = all_labels\n",
        "\n",
        "    return metrics"
      ],
      "metadata": {
        "id": "9T8-fB-F6uLu"
      },
      "execution_count": 30,
      "outputs": []
    },
    {
      "cell_type": "code",
      "source": [
        "# Modified Speaker Recognition Model with ArcFace support\n",
        "class SpeakerRecognitionModel(nn.Module):\n",
        "    def __init__(self, num_classes, model_name=\"microsoft/wavlm-base-plus\", embedding_size=256):\n",
        "        super(SpeakerRecognitionModel, self).__init__()\n",
        "\n",
        "        # Load the pre-trained model\n",
        "        self.encoder = WavLMModel.from_pretrained(model_name)\n",
        "\n",
        "        # Feature dimension\n",
        "        hidden_size = self.encoder.config.hidden_size\n",
        "\n",
        "        # Speaker embedding network\n",
        "        self.speaker_embedding = nn.Sequential(\n",
        "            nn.Linear(hidden_size, 512),\n",
        "            nn.BatchNorm1d(512),\n",
        "            nn.ReLU(),\n",
        "            nn.Dropout(0.2),\n",
        "            nn.Linear(512, embedding_size)\n",
        "        )\n",
        "\n",
        "        # For standard cross-entropy loss\n",
        "        self.classifier = nn.Linear(embedding_size, num_classes)\n",
        "\n",
        "        # For ArcFace\n",
        "        self.use_arcface = False\n",
        "        self.arcface = None\n",
        "        self.num_classes = num_classes\n",
        "        self.embedding_size = embedding_size\n",
        "\n",
        "    def enable_arcface(self, s=30.0, m=0.5):\n",
        "        self.use_arcface = True\n",
        "        self.arcface = ArcFaceLoss(self.embedding_size, self.num_classes, s, m)\n",
        "\n",
        "    def disable_arcface(self):\n",
        "        self.use_arcface = False\n",
        "\n",
        "    def forward(self, x, labels=None, extract_embedding=False):\n",
        "\n",
        "        # Get encoder features\n",
        "        with torch.no_grad():\n",
        "            outputs = self.encoder(x)\n",
        "            features = outputs.last_hidden_state\n",
        "\n",
        "        # Mean pooling over time dimension\n",
        "        pooled_features = torch.mean(features, dim=1)\n",
        "\n",
        "        # Speaker embedding\n",
        "        embedding = self.speaker_embedding(pooled_features)\n",
        "\n",
        "        # Return the embedding if requested (for verification)\n",
        "        if extract_embedding:\n",
        "            return embedding\n",
        "\n",
        "        # If using ArcFace and labels are provided\n",
        "        if self.use_arcface and labels is not None:\n",
        "            logits, _ = self.arcface(embedding, labels)\n",
        "            return logits, embedding\n",
        "        # Standard classification\n",
        "        else:\n",
        "            logits = self.classifier(embedding)\n",
        "            return logits, embedding"
      ],
      "metadata": {
        "id": "LhyAt55w61xb"
      },
      "execution_count": 31,
      "outputs": []
    },
    {
      "cell_type": "code",
      "source": [
        "# Functions to compare pre-trained and fine-tuned models\n",
        "def evaluate_pretrained_model(data_info, model_name=\"microsoft/wavlm-base-plus\", batch_size=8, save_dir='/content/plots'):\n",
        "    print(f\"Evaluating pre-trained model: {model_name}\")\n",
        "    feature_extractor = None\n",
        "\n",
        "    feature_extractor = Wav2Vec2FeatureExtractor.from_pretrained(model_name)\n",
        "\n",
        "     # Create verification pairs\n",
        "    verification_pairs = data_info['verification_pairs'][:5000]  # Using subset for faster evaluation\n",
        "\n",
        "    # Initialize model\n",
        "    num_classes = 100\n",
        "    model = SpeakerRecognitionModel(num_classes, model_name=model_name)\n",
        "    model.to(device)\n",
        "\n",
        "    # Initialize the verification model\n",
        "    verifier = SiameseSpeakerVerifier(model)\n",
        "    verifier.to(device)\n",
        "\n",
        " # Create metrics to track\n",
        "    subset_sizes = [500, 1000, 2000, 3000, 4000, 5000]\n",
        "    metrics_by_subset = []\n",
        "\n",
        "    for size in tqdm(subset_sizes, desc=\"Evaluating subsets\"):\n",
        "        # Create dataloader for this subset\n",
        "        subset_loader = create_verification_dataloader(\n",
        "            verification_pairs[:size],\n",
        "            batch_size=batch_size,\n",
        "            feature_extractor=feature_extractor\n",
        "        )\n",
        "\n",
        "        # Evaluate on this subset\n",
        "        metrics = enhanced_evaluate_verification(model, verifier, subset_loader, device)\n",
        "        metrics['subset_size'] = size\n",
        "        metrics_by_subset.append(metrics)\n",
        "\n",
        "\n",
        "    # Plot results\n",
        "    plt.figure(figsize=(15, 10))\n",
        "\n",
        "    # Plot EER across subset sizes\n",
        "    plt.subplot(2, 2, 1)\n",
        "    plt.plot([m['subset_size'] for m in metrics_by_subset],\n",
        "             [m['eer_percent'] for m in metrics_by_subset], 'b-o')\n",
        "    plt.title('EER vs. Dataset Size')\n",
        "    plt.xlabel('Number of Verification Pairs')\n",
        "    plt.ylabel('EER (%)')\n",
        "    plt.grid(True)\n",
        "\n",
        "    # Plot AUC across subset sizes\n",
        "    plt.subplot(2, 2, 2)\n",
        "    plt.plot([m['subset_size'] for m in metrics_by_subset],\n",
        "             [m['auc'] for m in metrics_by_subset], 'r-o')\n",
        "    plt.title('AUC vs. Dataset Size')\n",
        "    plt.xlabel('Number of Verification Pairs')\n",
        "    plt.ylabel('AUC')\n",
        "    plt.grid(True)\n",
        "\n",
        "    # Plot TAR@1%FAR across subset sizes\n",
        "    plt.subplot(2, 2, 3)\n",
        "    plt.plot([m['subset_size'] for m in metrics_by_subset],\n",
        "             [m['tar_at_far_percent'] for m in metrics_by_subset], 'g-o')\n",
        "    plt.title('TAR@1%FAR vs. Dataset Size')\n",
        "    plt.xlabel('Number of Verification Pairs')\n",
        "    plt.ylabel('TAR@1%FAR (%)')\n",
        "    plt.grid(True)\n",
        "\n",
        "    # Plot final ROC curve\n",
        "    plt.subplot(2, 2, 4)\n",
        "    final_metrics = metrics_by_subset[-1]  # Get the last (largest) subset\n",
        "    plt.plot(final_metrics['fpr'], final_metrics['tpr'], 'b-')\n",
        "    plt.plot([0, 1], [0, 1], 'k--')\n",
        "    plt.xlim([0.0, 1.0])\n",
        "    plt.ylim([0.0, 1.05])\n",
        "    plt.xlabel('False Positive Rate')\n",
        "    plt.ylabel('True Positive Rate')\n",
        "    plt.title(f'ROC Curve (AUC = {final_metrics[\"auc\"]:.3f})')\n",
        "    plt.grid(True)\n",
        "\n",
        "    plt.tight_layout()\n",
        "\n",
        "    # Save the figure\n",
        "    plt.savefig(f'{save_dir}/pretrained_model_evaluation.png', dpi=300, bbox_inches='tight')\n",
        "    plt.show()\n",
        "\n",
        "    # Print final results\n",
        "    print(f\"\\nPre-trained Model Verification Results (Full Dataset):\")\n",
        "    print(f\"EER: {final_metrics['eer_percent']:.2f}%\")\n",
        "    print(f\"TAR@1%FAR: {final_metrics['tar_at_far_percent']:.2f}%\")\n",
        "    print(f\"AUC: {final_metrics['auc']:.4f}\")\n",
        "\n",
        "    # Add speaker identification evaluation\n",
        "    speaker_id_metrics = evaluate_speaker_identification(model, data_info, batch_size, save_dir)\n",
        "\n",
        "    # Add speaker ID metrics to the returned metrics\n",
        "    final_metrics.update({\n",
        "        'speaker_id_accuracy': speaker_id_metrics['accuracy'],\n",
        "        'speaker_id_precision': speaker_id_metrics['precision'],\n",
        "        'speaker_id_recall': speaker_id_metrics['recall'],\n",
        "        'speaker_id_f1': speaker_id_metrics['f1']\n",
        "    })\n",
        "\n",
        "    return final_metrics"
      ],
      "metadata": {
        "id": "c2-EVFF27PKO"
      },
      "execution_count": 32,
      "outputs": []
    },
    {
      "cell_type": "code",
      "source": [
        "def fine_tune_with_arcface(data_info, model_name=\"microsoft/wavlm-base-plus\",\n",
        "                          batch_size=8, num_epochs=3, learning_rate=5e-4,\n",
        "                          save_dir='/content/model_checkpoints'):\n",
        "    print(f\"Fine-tuning model with ArcFace loss: {model_name}\")\n",
        "\n",
        "    # Create save directory\n",
        "    os.makedirs(save_dir, exist_ok=True)\n",
        "\n",
        "    # Initialize feature extractor\n",
        "    feature_extractor = Wav2Vec2FeatureExtractor.from_pretrained(model_name)\n",
        "\n",
        "    # Create dataloaders\n",
        "    train_loader, num_classes = create_dataloader(\n",
        "        data_info['train_samples'],\n",
        "        batch_size=batch_size,\n",
        "        feature_extractor=feature_extractor,\n",
        "        shuffle=True\n",
        "    )\n",
        "\n",
        "    test_loader, _ = create_dataloader(\n",
        "        data_info['test_samples'],\n",
        "        batch_size=batch_size,\n",
        "        feature_extractor=feature_extractor,\n",
        "        shuffle=False\n",
        "    )\n",
        "\n",
        "    # Initialize the model\n",
        "    model = SpeakerRecognitionModel(num_classes, model_name=model_name)\n",
        "\n",
        "    # Apply LoRA\n",
        "    peft_config = LoraConfig(\n",
        "        inference_mode=False,\n",
        "        r=8,\n",
        "        lora_alpha=16,\n",
        "        lora_dropout=0.1,\n",
        "        target_modules=[\"k_proj\", \"q_proj\", \"v_proj\"]\n",
        "    )\n",
        "    model = get_peft_model(model, peft_config)\n",
        "\n",
        "    # Enable ArcFace loss\n",
        "    model.enable_arcface(s=30.0, m=0.5)\n",
        "    model.to(device)\n",
        "\n",
        "    # Define optimizer\n",
        "    optimizer = torch.optim.AdamW(model.parameters(), lr=learning_rate, weight_decay=1e-4)\n",
        "\n",
        "    # Gradient clipping\n",
        "    torch.nn.utils.clip_grad_norm_(model.parameters(), max_norm=1.0)\n",
        "\n",
        "    # Learning rate scheduler\n",
        "    total_steps = len(train_loader) * num_epochs\n",
        "    scheduler = torch.optim.lr_scheduler.CosineAnnealingLR(optimizer, T_max=total_steps)\n",
        "\n",
        "    # Training loop\n",
        "    train_losses = []\n",
        "    train_accs = []\n",
        "    val_losses = []\n",
        "    val_accs = []\n",
        "    best_val_acc = 0.0\n",
        "\n",
        "    for epoch in range(num_epochs):\n",
        "        model.train()\n",
        "        running_loss = 0.0\n",
        "        all_preds = []\n",
        "        all_labels = []\n",
        "\n",
        "        for i, (inputs, labels) in enumerate(tqdm(train_loader, desc=f\"Epoch {epoch+1} Training\")):\n",
        "            inputs, labels = inputs.to(device), labels.to(device)\n",
        "\n",
        "            # Zero the parameter gradients\n",
        "            optimizer.zero_grad()\n",
        "\n",
        "            # Forward pass\n",
        "            logits, _ = model(inputs, labels)\n",
        "\n",
        "            # Cross entropy loss (already applied in ArcFace)\n",
        "            loss = F.cross_entropy(logits, labels)\n",
        "\n",
        "            # Backward pass and optimize\n",
        "            loss.backward()\n",
        "            optimizer.step()\n",
        "\n",
        "            # Update scheduler\n",
        "            if scheduler is not None:\n",
        "                scheduler.step()\n",
        "\n",
        "            # Statistics\n",
        "            running_loss += loss.item()\n",
        "\n",
        "            # Compute accuracy\n",
        "            preds = torch.argmax(logits, dim=1).cpu().numpy()\n",
        "            all_preds.extend(preds)\n",
        "            all_labels.extend(labels.cpu().numpy())\n",
        "\n",
        "            if (i + 1) % 10 == 0:\n",
        "                print(f'Step {i+1}/{len(train_loader)}, Loss: {loss.item():.4f}')\n",
        "\n",
        "        # Calculate epoch statistics\n",
        "        epoch_loss = running_loss / len(train_loader)\n",
        "        epoch_acc = accuracy_score(all_labels, all_preds)\n",
        "        train_losses.append(epoch_loss)\n",
        "        train_accs.append(epoch_acc)\n",
        "\n",
        "        # Validation\n",
        "        model.eval()\n",
        "        val_running_loss = 0.0\n",
        "        val_all_preds = []\n",
        "        val_all_labels = []\n",
        "\n",
        "        with torch.no_grad():\n",
        "            for inputs, labels in tqdm(test_loader, desc=\"Validation\"):\n",
        "                inputs, labels = inputs.to(device), labels.to(device)\n",
        "\n",
        "                # Forward pass\n",
        "                logits, _ = model(inputs)\n",
        "                loss = F.cross_entropy(logits, labels)\n",
        "\n",
        "                # Statistics\n",
        "                val_running_loss += loss.item()\n",
        "\n",
        "                # Compute accuracy\n",
        "                preds = torch.argmax(logits, dim=1).cpu().numpy()\n",
        "                val_all_preds.extend(preds)\n",
        "                val_all_labels.extend(labels.cpu().numpy())\n",
        "\n",
        "        # Calculate validation statistics\n",
        "        val_loss = val_running_loss / len(test_loader)\n",
        "        val_acc = accuracy_score(val_all_labels, val_all_preds)\n",
        "        val_losses.append(val_loss)\n",
        "        val_accs.append(val_acc)\n",
        "\n",
        "        # Print epoch results\n",
        "        print(f\"Epoch {epoch+1}/{num_epochs} - \"\n",
        "              f\"Train Loss: {epoch_loss:.4f}, Train Acc: {epoch_acc:.4f}, \"\n",
        "              f\"Val Loss: {val_loss:.4f}, Val Acc: {val_acc:.4f}\")\n",
        "\n",
        "        # Save best model\n",
        "        if val_acc > best_val_acc:\n",
        "            best_val_acc = val_acc\n",
        "            torch.save(model.state_dict(), f\"{save_dir}/model_arcface_best.pt\")\n",
        "            print(f\"Saved best model with validation accuracy: {val_acc:.4f}\")\n",
        "\n",
        "    # Plot training progress\n",
        "    plot_training_progress(train_losses, val_losses, train_accs, val_accs)\n",
        "\n",
        "    # Load best model\n",
        "    model.load_state_dict(torch.load(f\"{save_dir}/model_arcface_best.pt\"))\n",
        "\n",
        "    return model"
      ],
      "metadata": {
        "id": "-0yvtqTX7Z8t"
      },
      "execution_count": 33,
      "outputs": []
    },
    {
      "cell_type": "code",
      "source": [
        "def evaluate_finetuned_model(data_info, model, batch_size=8, save_dir='/content/plots'):\n",
        "    # Create save directory if it doesn't exist\n",
        "    os.makedirs(save_dir, exist_ok=True)\n",
        "\n",
        "    print(\"Evaluating fine-tuned model on verification task\")\n",
        "\n",
        "    # Get appropriate feature extractor\n",
        "    model_name = model.encoder.name_or_path if hasattr(model, 'encoder') else \"microsoft/wavlm-base-plus\"\n",
        "    feature_extractor = None\n",
        "\n",
        "    feature_extractor = Wav2Vec2FeatureExtractor.from_pretrained(model_name)\n",
        "\n",
        "    # Create verification dataloader\n",
        "    verification_loader = create_verification_dataloader(\n",
        "        data_info['verification_pairs'],\n",
        "        batch_size=batch_size,\n",
        "        feature_extractor=feature_extractor\n",
        "    )\n",
        "\n",
        "    # Initialize the verification model\n",
        "    verifier = SiameseSpeakerVerifier(model)\n",
        "    verifier.to(device)\n",
        "\n",
        "    # Evaluate\n",
        "    metrics = enhanced_evaluate_verification(model, verifier, verification_loader, device)\n",
        "\n",
        "    # Print results\n",
        "    print(f\"\\nFine-tuned Model Verification Results:\")\n",
        "    print(f\"EER: {metrics['eer_percent']:.2f}%\")\n",
        "    print(f\"TAR@1%FAR: {metrics['tar_at_far_percent']:.2f}%\")\n",
        "    print(f\"AUC: {metrics['auc']:.4f}\")\n",
        "\n",
        "    # Plot ROC curve and save\n",
        "    plot_verification_roc(\n",
        "        metrics['fpr'],\n",
        "        metrics['tpr'],\n",
        "        metrics['auc'],\n",
        "        metrics['eer'],\n",
        "        save_dir=save_dir\n",
        "    )\n",
        "\n",
        "    # Add speaker identification evaluation\n",
        "    speaker_id_metrics = evaluate_speaker_identification(model, data_info, batch_size, save_dir)\n",
        "\n",
        "    # Add speaker ID metrics to the returned metrics\n",
        "    metrics.update({\n",
        "        'speaker_id_accuracy': speaker_id_metrics['accuracy'],\n",
        "        'speaker_id_precision': speaker_id_metrics['precision'],\n",
        "        'speaker_id_recall': speaker_id_metrics['recall'],\n",
        "        'speaker_id_f1': speaker_id_metrics['f1']\n",
        "    })\n",
        "\n",
        "    return metrics"
      ],
      "metadata": {
        "id": "2w64a0dq7W6r"
      },
      "execution_count": 34,
      "outputs": []
    },
    {
      "cell_type": "code",
      "source": [
        "def compare_models(pretrained_metrics, finetuned_metrics, save_dir='/content/plots'):\n",
        "    # Create save directory if it doesn't exist\n",
        "    os.makedirs(save_dir, exist_ok=True)\n",
        "\n",
        "    print(\"\\n\" + \"=\"*50)\n",
        "    print(\"Model Performance Comparison\")\n",
        "    print(\"=\"*50)\n",
        "\n",
        "    print(f\"{'Metric':<15} {'Pre-trained':<15} {'Fine-tuned':<15} {'Improvement':<15}\")\n",
        "    print(\"-\"*60)\n",
        "\n",
        "    # EER (lower is better)\n",
        "    eer_pretrained = pretrained_metrics['eer_percent']\n",
        "    eer_finetuned = finetuned_metrics['eer_percent']\n",
        "    eer_improvement = eer_pretrained - eer_finetuned\n",
        "    print(f\"{'EER (%)':<15} {eer_pretrained:<15.2f} {eer_finetuned:<15.2f} {eer_improvement:<15.2f}\")\n",
        "\n",
        "    # TAR@1%FAR (higher is better)\n",
        "    tar_pretrained = pretrained_metrics['tar_at_far_percent']\n",
        "    tar_finetuned = finetuned_metrics['tar_at_far_percent']\n",
        "    tar_improvement = tar_finetuned - tar_pretrained\n",
        "    print(f\"{'TAR@1%FAR (%)':<15} {tar_pretrained:<15.2f} {tar_finetuned:<15.2f} {tar_improvement:<15.2f}\")\n",
        "\n",
        "    # AUC (higher is better)\n",
        "    auc_pretrained = pretrained_metrics['auc']\n",
        "    auc_finetuned = finetuned_metrics['auc']\n",
        "    auc_improvement = auc_finetuned - auc_pretrained\n",
        "    print(f\"{'AUC':<15} {auc_pretrained:<15.4f} {auc_finetuned:<15.4f} {auc_improvement:<15.4f}\")\n",
        "\n",
        "    # Comparison of speaker identification metrics\n",
        "    print(\"\\n\" + \"=\"*50)\n",
        "    print(\"Speaker Identification Performance Comparison\")\n",
        "    print(\"=\"*50)\n",
        "\n",
        "    print(f\"{'Metric':<15} {'Pre-trained':<15} {'Fine-tuned':<15} {'Improvement':<15}\")\n",
        "    print(\"-\"*60)\n",
        "\n",
        "    # Accuracy\n",
        "    accuracy_pretrained = pretrained_metrics['speaker_id_accuracy']\n",
        "    accuracy_finetuned = finetuned_metrics['speaker_id_accuracy']\n",
        "    accuracy_improvement = accuracy_finetuned - accuracy_pretrained\n",
        "    print(f\"{'Accuracy':<15} {accuracy_pretrained:<15.4f} {accuracy_finetuned:<15.4f} {accuracy_improvement:<15.4f}\")\n",
        "\n",
        "    # F1 Score\n",
        "    f1_pretrained = pretrained_metrics['speaker_id_f1']\n",
        "    f1_finetuned = finetuned_metrics['speaker_id_f1']\n",
        "    f1_improvement = f1_finetuned - f1_pretrained\n",
        "    print(f\"{'F1 Score':<15} {f1_pretrained:<15.4f} {f1_finetuned:<15.4f} {f1_improvement:<15.4f}\")\n",
        "\n",
        "    # Create a bar chart comparing the performance\n",
        "    metrics_names = ['Accuracy', 'F1 Score']\n",
        "    pretrained_values = [accuracy_pretrained, f1_pretrained]\n",
        "    finetuned_values = [accuracy_finetuned, f1_finetuned]\n",
        "\n",
        "    x = np.arange(len(metrics_names))\n",
        "    width = 0.35\n",
        "\n",
        "    plt.figure(figsize=(10, 6))\n",
        "    plt.bar(x - width/2, pretrained_values, width, label='Pre-trained')\n",
        "    plt.bar(x + width/2, finetuned_values, width, label='Fine-tuned')\n",
        "\n",
        "    plt.xlabel('Metrics')\n",
        "    plt.ylabel('Score')\n",
        "    plt.title('Speaker Identification Performance Comparison')\n",
        "    plt.xticks(x, metrics_names)\n",
        "    plt.ylim(0, 1.0)\n",
        "    plt.legend()\n",
        "    plt.grid(axis='y', linestyle='--', alpha=0.7)\n",
        "\n",
        "    # Save the comparison chart\n",
        "    plt.savefig(f'{save_dir}/speaker_id_comparison.png', dpi=300, bbox_inches='tight')\n",
        "    plt.show()\n",
        "\n",
        "    # Plot comparison ROC curves\n",
        "    plt.figure(figsize=(10, 8))\n",
        "    plt.plot(pretrained_metrics['fpr'], pretrained_metrics['tpr'],\n",
        "             lw=2, label=f'Pre-trained (AUC = {auc_pretrained:.3f})')\n",
        "    plt.plot(finetuned_metrics['fpr'], finetuned_metrics['tpr'],\n",
        "             lw=2, label=f'Fine-tuned (AUC = {auc_finetuned:.3f})')\n",
        "    plt.plot([0, 1], [0, 1], 'k--', lw=2)\n",
        "\n",
        "    # Mark EER points\n",
        "    eer_idx_pre = np.nanargmin(np.absolute(1 - pretrained_metrics['tpr'] - pretrained_metrics['fpr']))\n",
        "    eer_idx_fine = np.nanargmin(np.absolute(1 - finetuned_metrics['tpr'] - finetuned_metrics['fpr']))\n",
        "\n",
        "    plt.scatter(pretrained_metrics['fpr'][eer_idx_pre], pretrained_metrics['tpr'][eer_idx_pre],\n",
        "                marker='o', color='blue', label=f'Pre-trained EER = {eer_pretrained:.2f}%')\n",
        "    plt.scatter(finetuned_metrics['fpr'][eer_idx_fine], finetuned_metrics['tpr'][eer_idx_fine],\n",
        "                marker='o', color='red', label=f'Fine-tuned EER = {eer_finetuned:.2f}%')\n",
        "\n",
        "    plt.xlim([0.0, 1.0])\n",
        "    plt.ylim([0.0, 1.05])\n",
        "    plt.xlabel('False Positive Rate')\n",
        "    plt.ylabel('True Positive Rate')\n",
        "    plt.title('ROC Curve Comparison: Pre-trained vs. Fine-tuned')\n",
        "    plt.legend(loc=\"lower right\")\n",
        "    plt.grid(True)\n",
        "\n",
        "    # Save the figure\n",
        "    plt.savefig(f'{save_dir}/model_comparison_roc.png', dpi=300, bbox_inches='tight')\n",
        "    plt.show()"
      ],
      "metadata": {
        "id": "D-1f9Ig37Uxs"
      },
      "execution_count": 35,
      "outputs": []
    },
    {
      "cell_type": "code",
      "source": [
        "def save_results_and_models(pretrained_metrics, finetuned_metrics, pretrained_model, finetuned_model, save_dir='/content/model_outputs'):\n",
        "    # Create save directory\n",
        "    os.makedirs(save_dir, exist_ok=True)\n",
        "\n",
        "    # Save model weights using state_dict\n",
        "    torch.save(pretrained_model.state_dict(), f'{save_dir}/pretrained_model_weights.pt')\n",
        "    torch.save(finetuned_model.state_dict(), f'{save_dir}/finetuned_model_weights.pt')\n",
        "\n",
        "    # Try to save entire models, but catch any serialization errors\n",
        "    try:\n",
        "        torch.save(pretrained_model, f'{save_dir}/pretrained_model_full.pt')\n",
        "        torch.save(finetuned_model, f'{save_dir}/finetuned_model_full.pt')\n",
        "    except RuntimeError as e:\n",
        "        print(f\"Could not save full models due to serialization limitations: {e}\")\n",
        "        print(\"Model weights have been saved successfully using state_dict()\")\n",
        "\n",
        "    # Save evaluation metrics\n",
        "    with open(f'{save_dir}/pretrained_metrics.pkl', 'wb') as f:\n",
        "        pickle.dump(pretrained_metrics, f)\n",
        "\n",
        "    with open(f'{save_dir}/finetuned_metrics.pkl', 'wb') as f:\n",
        "        pickle.dump(finetuned_metrics, f)\n",
        "\n",
        "    # Also save as JSON for easier inspection\n",
        "    import json\n",
        "\n",
        "    # Convert numpy arrays to lists for JSON serialization\n",
        "    def prepare_for_json(metrics):\n",
        "        json_metrics = {}\n",
        "        for k, v in metrics.items():\n",
        "            if isinstance(v, np.ndarray):\n",
        "                json_metrics[k] = v.tolist()\n",
        "            elif isinstance(v, (int, float, str, bool, list, dict)) or v is None:\n",
        "                json_metrics[k] = v\n",
        "        return json_metrics\n",
        "\n",
        "    with open(f'{save_dir}/pretrained_metrics.json', 'w') as f:\n",
        "        json.dump(prepare_for_json({k: v for k, v in pretrained_metrics.items()\n",
        "                                   if k not in ['scores', 'labels', 'fpr', 'tpr', 'thresholds']}), f, indent=2)\n",
        "\n",
        "    with open(f'{save_dir}/finetuned_metrics.json', 'w') as f:\n",
        "        json.dump(prepare_for_json({k: v for k, v in finetuned_metrics.items()\n",
        "                                   if k not in ['scores', 'labels', 'fpr', 'tpr', 'thresholds']}), f, indent=2)\n",
        "\n",
        "    print(f\"Models and metrics saved to {save_dir}\")"
      ],
      "metadata": {
        "id": "N0PjYigUw35M"
      },
      "execution_count": 36,
      "outputs": []
    },
    {
      "cell_type": "code",
      "source": [
        "def run_speaker_verification_experiment(data_path='/content/voxceleb_data_info.pkl',\n",
        "                                        model_name=\"microsoft/wavlm-base-plus\",\n",
        "                                        batch_size=8,\n",
        "                                        num_epochs=3,\n",
        "                                        save_dir='/content/model_outputs'):\n",
        "    print(\"=\" * 60)\n",
        "    print(f\"Speaker Verification Experiment with {model_name}\")\n",
        "    print(\"=\" * 60)\n",
        "\n",
        "    # Create plots directory\n",
        "    plots_dir = f'{save_dir}/plots'\n",
        "    os.makedirs(plots_dir, exist_ok=True)\n",
        "\n",
        "    # Load the data\n",
        "    data_info = load_processed_data(data_path)\n",
        "\n",
        "    # Evaluate pre-trained model\n",
        "    print(\"\\nEvaluating pre-trained model\")\n",
        "    # Create the pretrained model first\n",
        "    pretrained_model = SpeakerRecognitionModel(num_classes=100, model_name=model_name)\n",
        "    pretrained_model.to(device)\n",
        "    pretrained_metrics = evaluate_pretrained_model(data_info, model_name, batch_size, save_dir=plots_dir)\n",
        "\n",
        "    # Fine-tune with ArcFace\n",
        "    print(\"\\nFine-tuning model with ArcFace loss\")\n",
        "    finetuned_model = fine_tune_with_arcface(\n",
        "        data_info,\n",
        "        model_name=model_name,\n",
        "        batch_size=batch_size,\n",
        "        num_epochs=num_epochs\n",
        "    )\n",
        "\n",
        "    # Evaluate fine-tuned model\n",
        "    print(\"\\nEvaluating fine-tuned model\")\n",
        "    finetuned_metrics = evaluate_finetuned_model(data_info, finetuned_model, batch_size, save_dir=plots_dir)\n",
        "\n",
        "    # Save models and results\n",
        "    print(\"\\nSaving models and results\")\n",
        "    save_results_and_models(\n",
        "        pretrained_metrics,\n",
        "        finetuned_metrics,\n",
        "        pretrained_model,\n",
        "        finetuned_model,\n",
        "        save_dir=save_dir\n",
        "    )\n",
        "\n",
        "    # Compare results\n",
        "    print(\"\\nComparing model performance\")\n",
        "    compare_models(pretrained_metrics, finetuned_metrics, save_dir=plots_dir)\n",
        "\n",
        "    return {\n",
        "        \"pretrained_metrics\": pretrained_metrics,\n",
        "        \"finetuned_metrics\": finetuned_metrics,\n",
        "        \"pretrained_model\": pretrained_model,\n",
        "        \"finetuned_model\": finetuned_model\n",
        "    }\n"
      ],
      "metadata": {
        "id": "Wn0HE8ZY7xiw"
      },
      "execution_count": 41,
      "outputs": []
    },
    {
      "cell_type": "code",
      "source": [
        "# Example usage:\n",
        "results = run_speaker_verification_experiment(num_epochs = 10, save_dir='/content/model_outputs')"
      ],
      "metadata": {
        "colab": {
          "base_uri": "https://localhost:8080/",
          "height": 1000
        },
        "id": "vgs9Trlh72ZT",
        "outputId": "c086cce2-eb77-4ad3-8e38-51079910b74b"
      },
      "execution_count": 44,
      "outputs": [
        {
          "output_type": "stream",
          "name": "stdout",
          "text": [
            "============================================================\n",
            "Speaker Verification Experiment with microsoft/wavlm-base-plus\n",
            "============================================================\n",
            "Loaded processed data with 2000 training samples\n",
            "\n",
            "Evaluating pre-trained model\n",
            "Evaluating pre-trained model: microsoft/wavlm-base-plus\n"
          ]
        },
        {
          "output_type": "stream",
          "name": "stderr",
          "text": [
            "\rEvaluating subsets:   0%|          | 0/6 [00:00<?, ?it/s]"
          ]
        },
        {
          "output_type": "stream",
          "name": "stdout",
          "text": [
            "Verification dataset initialized with 500 pairs\n"
          ]
        },
        {
          "output_type": "stream",
          "name": "stderr",
          "text": [
            "\n",
            "Verification Evaluation:   0%|          | 0/63 [00:00<?, ?it/s]\u001b[A\n",
            "Verification Evaluation:   2%|▏         | 1/63 [00:01<01:10,  1.14s/it]\u001b[A\n",
            "Verification Evaluation:   3%|▎         | 2/63 [00:01<00:36,  1.66it/s]\u001b[A\n",
            "Verification Evaluation:   5%|▍         | 3/63 [00:01<00:26,  2.28it/s]\u001b[A\n",
            "Verification Evaluation:   6%|▋         | 4/63 [00:01<00:20,  2.84it/s]\u001b[A\n",
            "Verification Evaluation:   8%|▊         | 5/63 [00:02<00:21,  2.74it/s]\u001b[A\n",
            "Verification Evaluation:  10%|▉         | 6/63 [00:02<00:17,  3.19it/s]\u001b[A\n",
            "Verification Evaluation:  11%|█         | 7/63 [00:02<00:20,  2.76it/s]\u001b[A\n",
            "Verification Evaluation:  13%|█▎        | 8/63 [00:03<00:17,  3.15it/s]\u001b[A\n",
            "Verification Evaluation:  14%|█▍        | 9/63 [00:03<00:19,  2.79it/s]\u001b[A\n",
            "Verification Evaluation:  16%|█▌        | 10/63 [00:03<00:16,  3.21it/s]\u001b[A\n",
            "Verification Evaluation:  17%|█▋        | 11/63 [00:04<00:15,  3.44it/s]\u001b[A\n",
            "Verification Evaluation:  19%|█▉        | 12/63 [00:04<00:13,  3.76it/s]\u001b[A\n",
            "Verification Evaluation:  21%|██        | 13/63 [00:04<00:12,  3.93it/s]\u001b[A\n",
            "Verification Evaluation:  22%|██▏       | 14/63 [00:04<00:11,  4.16it/s]\u001b[A\n",
            "Verification Evaluation:  24%|██▍       | 15/63 [00:04<00:12,  3.85it/s]\u001b[A\n",
            "Verification Evaluation:  25%|██▌       | 16/63 [00:05<00:11,  4.07it/s]\u001b[A\n",
            "Verification Evaluation:  27%|██▋       | 17/63 [00:05<00:10,  4.30it/s]\u001b[A\n",
            "Verification Evaluation:  29%|██▊       | 18/63 [00:05<00:10,  4.42it/s]\u001b[A\n",
            "Verification Evaluation:  30%|███       | 19/63 [00:05<00:10,  4.36it/s]\u001b[A\n",
            "Verification Evaluation:  32%|███▏      | 20/63 [00:06<00:09,  4.50it/s]\u001b[A\n",
            "Verification Evaluation:  33%|███▎      | 21/63 [00:06<00:09,  4.54it/s]\u001b[A\n",
            "Verification Evaluation:  35%|███▍      | 22/63 [00:06<00:08,  4.61it/s]\u001b[A\n",
            "Verification Evaluation:  37%|███▋      | 23/63 [00:06<00:08,  4.59it/s]\u001b[A\n",
            "Verification Evaluation:  38%|███▊      | 24/63 [00:06<00:08,  4.61it/s]\u001b[A\n",
            "Verification Evaluation:  40%|███▉      | 25/63 [00:07<00:08,  4.64it/s]\u001b[A\n",
            "Verification Evaluation:  41%|████▏     | 26/63 [00:07<00:07,  4.73it/s]\u001b[A\n",
            "Verification Evaluation:  43%|████▎     | 27/63 [00:07<00:07,  4.73it/s]\u001b[A\n",
            "Verification Evaluation:  44%|████▍     | 28/63 [00:07<00:07,  4.74it/s]\u001b[A\n",
            "Verification Evaluation:  46%|████▌     | 29/63 [00:07<00:07,  4.77it/s]\u001b[A\n",
            "Verification Evaluation:  48%|████▊     | 30/63 [00:08<00:06,  4.73it/s]\u001b[A\n",
            "Verification Evaluation:  49%|████▉     | 31/63 [00:08<00:06,  4.77it/s]\u001b[A\n",
            "Verification Evaluation:  51%|█████     | 32/63 [00:08<00:06,  4.75it/s]\u001b[A\n",
            "Verification Evaluation:  52%|█████▏    | 33/63 [00:08<00:06,  4.73it/s]\u001b[A\n",
            "Verification Evaluation:  54%|█████▍    | 34/63 [00:08<00:06,  4.76it/s]\u001b[A\n",
            "Verification Evaluation:  56%|█████▌    | 35/63 [00:09<00:05,  4.71it/s]\u001b[A\n",
            "Verification Evaluation:  57%|█████▋    | 36/63 [00:09<00:05,  4.74it/s]\u001b[A\n",
            "Verification Evaluation:  59%|█████▊    | 37/63 [00:09<00:05,  4.71it/s]\u001b[A\n",
            "Verification Evaluation:  60%|██████    | 38/63 [00:09<00:05,  4.70it/s]\u001b[A\n",
            "Verification Evaluation:  62%|██████▏   | 39/63 [00:10<00:05,  4.65it/s]\u001b[A\n",
            "Verification Evaluation:  63%|██████▎   | 40/63 [00:10<00:04,  4.65it/s]\u001b[A\n",
            "Verification Evaluation:  65%|██████▌   | 41/63 [00:10<00:04,  4.64it/s]\u001b[A\n",
            "Verification Evaluation:  67%|██████▋   | 42/63 [00:10<00:04,  4.65it/s]\u001b[A\n",
            "Verification Evaluation:  68%|██████▊   | 43/63 [00:10<00:04,  4.65it/s]\u001b[A\n",
            "Verification Evaluation:  70%|██████▉   | 44/63 [00:11<00:04,  4.68it/s]\u001b[A\n",
            "Verification Evaluation:  71%|███████▏  | 45/63 [00:11<00:03,  4.66it/s]\u001b[A\n",
            "Verification Evaluation:  73%|███████▎  | 46/63 [00:11<00:03,  4.66it/s]\u001b[A\n",
            "Verification Evaluation:  75%|███████▍  | 47/63 [00:11<00:03,  4.70it/s]\u001b[A\n",
            "Verification Evaluation:  76%|███████▌  | 48/63 [00:11<00:03,  4.70it/s]\u001b[A\n",
            "Verification Evaluation:  78%|███████▊  | 49/63 [00:12<00:02,  4.67it/s]\u001b[A\n",
            "Verification Evaluation:  79%|███████▉  | 50/63 [00:12<00:02,  4.68it/s]\u001b[A\n",
            "Verification Evaluation:  81%|████████  | 51/63 [00:12<00:02,  4.70it/s]\u001b[A\n",
            "Verification Evaluation:  83%|████████▎ | 52/63 [00:12<00:02,  4.74it/s]\u001b[A\n",
            "Verification Evaluation:  84%|████████▍ | 53/63 [00:13<00:02,  4.68it/s]\u001b[A\n",
            "Verification Evaluation:  86%|████████▌ | 54/63 [00:13<00:01,  4.66it/s]\u001b[A\n",
            "Verification Evaluation:  87%|████████▋ | 55/63 [00:13<00:01,  4.66it/s]\u001b[A\n",
            "Verification Evaluation:  89%|████████▉ | 56/63 [00:13<00:01,  4.63it/s]\u001b[A\n",
            "Verification Evaluation:  90%|█████████ | 57/63 [00:13<00:01,  4.65it/s]\u001b[A\n",
            "Verification Evaluation:  92%|█████████▏| 58/63 [00:14<00:01,  4.65it/s]\u001b[A\n",
            "Verification Evaluation:  94%|█████████▎| 59/63 [00:14<00:00,  4.60it/s]\u001b[A\n",
            "Verification Evaluation:  95%|█████████▌| 60/63 [00:14<00:00,  4.59it/s]\u001b[A\n",
            "Verification Evaluation:  97%|█████████▋| 61/63 [00:14<00:00,  4.57it/s]\u001b[A\n",
            "Verification Evaluation:  98%|█████████▊| 62/63 [00:14<00:00,  4.68it/s]\u001b[A\n",
            "Verification Evaluation: 100%|██████████| 63/63 [00:15<00:00,  4.14it/s]\n",
            "Evaluating subsets:  17%|█▋        | 1/6 [00:15<01:16, 15.22s/it]"
          ]
        },
        {
          "output_type": "stream",
          "name": "stdout",
          "text": [
            "Verification dataset initialized with 1000 pairs\n"
          ]
        },
        {
          "output_type": "stream",
          "name": "stderr",
          "text": [
            "\n",
            "Verification Evaluation:   0%|          | 0/125 [00:00<?, ?it/s]\u001b[A\n",
            "Verification Evaluation:   1%|          | 1/125 [00:00<01:46,  1.17it/s]\u001b[A\n",
            "Verification Evaluation:   2%|▏         | 2/125 [00:01<01:03,  1.93it/s]\u001b[A\n",
            "Verification Evaluation:   2%|▏         | 3/125 [00:01<00:49,  2.45it/s]\u001b[A\n",
            "Verification Evaluation:   3%|▎         | 4/125 [00:01<00:42,  2.86it/s]\u001b[A\n",
            "Verification Evaluation:   4%|▍         | 5/125 [00:02<00:43,  2.78it/s]\u001b[A\n",
            "Verification Evaluation:   5%|▍         | 6/125 [00:02<00:38,  3.13it/s]\u001b[A\n",
            "Verification Evaluation:   6%|▌         | 7/125 [00:02<00:38,  3.08it/s]\u001b[A\n",
            "Verification Evaluation:   6%|▋         | 8/125 [00:02<00:33,  3.48it/s]\u001b[A\n",
            "Verification Evaluation:   7%|▋         | 9/125 [00:03<00:30,  3.82it/s]\u001b[A\n",
            "Verification Evaluation:   8%|▊         | 10/125 [00:03<00:28,  4.06it/s]\u001b[A\n",
            "Verification Evaluation:   9%|▉         | 11/125 [00:03<00:27,  4.20it/s]\u001b[A\n",
            "Verification Evaluation:  10%|▉         | 12/125 [00:03<00:26,  4.33it/s]\u001b[A\n",
            "Verification Evaluation:  10%|█         | 13/125 [00:03<00:25,  4.47it/s]\u001b[A\n",
            "Verification Evaluation:  11%|█         | 14/125 [00:04<00:24,  4.52it/s]\u001b[A\n",
            "Verification Evaluation:  12%|█▏        | 15/125 [00:04<00:24,  4.52it/s]\u001b[A\n",
            "Verification Evaluation:  13%|█▎        | 16/125 [00:04<00:23,  4.59it/s]\u001b[A\n",
            "Verification Evaluation:  14%|█▎        | 17/125 [00:04<00:23,  4.57it/s]\u001b[A\n",
            "Verification Evaluation:  14%|█▍        | 18/125 [00:04<00:23,  4.64it/s]\u001b[A\n",
            "Verification Evaluation:  15%|█▌        | 19/125 [00:05<00:22,  4.63it/s]\u001b[A\n",
            "Verification Evaluation:  16%|█▌        | 20/125 [00:05<00:22,  4.64it/s]\u001b[A\n",
            "Verification Evaluation:  17%|█▋        | 21/125 [00:05<00:22,  4.67it/s]\u001b[A\n",
            "Verification Evaluation:  18%|█▊        | 22/125 [00:05<00:22,  4.67it/s]\u001b[A\n",
            "Verification Evaluation:  18%|█▊        | 23/125 [00:06<00:21,  4.68it/s]\u001b[A\n",
            "Verification Evaluation:  19%|█▉        | 24/125 [00:06<00:21,  4.66it/s]\u001b[A\n",
            "Verification Evaluation:  20%|██        | 25/125 [00:06<00:21,  4.64it/s]\u001b[A\n",
            "Verification Evaluation:  21%|██        | 26/125 [00:06<00:21,  4.68it/s]\u001b[A\n",
            "Verification Evaluation:  22%|██▏       | 27/125 [00:06<00:20,  4.69it/s]\u001b[A\n",
            "Verification Evaluation:  22%|██▏       | 28/125 [00:07<00:20,  4.68it/s]\u001b[A\n",
            "Verification Evaluation:  23%|██▎       | 29/125 [00:07<00:20,  4.68it/s]\u001b[A\n",
            "Verification Evaluation:  24%|██▍       | 30/125 [00:07<00:20,  4.60it/s]\u001b[A\n",
            "Verification Evaluation:  25%|██▍       | 31/125 [00:07<00:20,  4.66it/s]\u001b[A\n",
            "Verification Evaluation:  26%|██▌       | 32/125 [00:07<00:19,  4.65it/s]\u001b[A\n",
            "Verification Evaluation:  26%|██▋       | 33/125 [00:08<00:19,  4.69it/s]\u001b[A\n",
            "Verification Evaluation:  27%|██▋       | 34/125 [00:08<00:19,  4.65it/s]\u001b[A\n",
            "Verification Evaluation:  28%|██▊       | 35/125 [00:08<00:19,  4.66it/s]\u001b[A\n",
            "Verification Evaluation:  29%|██▉       | 36/125 [00:08<00:19,  4.58it/s]\u001b[A\n",
            "Verification Evaluation:  30%|██▉       | 37/125 [00:09<00:19,  4.63it/s]\u001b[A\n",
            "Verification Evaluation:  30%|███       | 38/125 [00:09<00:18,  4.68it/s]\u001b[A\n",
            "Verification Evaluation:  31%|███       | 39/125 [00:09<00:18,  4.62it/s]\u001b[A\n",
            "Verification Evaluation:  32%|███▏      | 40/125 [00:09<00:18,  4.66it/s]\u001b[A\n",
            "Verification Evaluation:  33%|███▎      | 41/125 [00:09<00:17,  4.69it/s]\u001b[A\n",
            "Verification Evaluation:  34%|███▎      | 42/125 [00:10<00:17,  4.65it/s]\u001b[A\n",
            "Verification Evaluation:  34%|███▍      | 43/125 [00:10<00:17,  4.67it/s]\u001b[A\n",
            "Verification Evaluation:  35%|███▌      | 44/125 [00:10<00:17,  4.61it/s]\u001b[A\n",
            "Verification Evaluation:  36%|███▌      | 45/125 [00:10<00:17,  4.61it/s]\u001b[A\n",
            "Verification Evaluation:  37%|███▋      | 46/125 [00:10<00:17,  4.64it/s]\u001b[A\n",
            "Verification Evaluation:  38%|███▊      | 47/125 [00:11<00:16,  4.61it/s]\u001b[A\n",
            "Verification Evaluation:  38%|███▊      | 48/125 [00:11<00:16,  4.62it/s]\u001b[A\n",
            "Verification Evaluation:  39%|███▉      | 49/125 [00:11<00:16,  4.69it/s]\u001b[A\n",
            "Verification Evaluation:  40%|████      | 50/125 [00:11<00:16,  4.64it/s]\u001b[A\n",
            "Verification Evaluation:  41%|████      | 51/125 [00:12<00:16,  4.60it/s]\u001b[A\n",
            "Verification Evaluation:  42%|████▏     | 52/125 [00:12<00:15,  4.60it/s]\u001b[A\n",
            "Verification Evaluation:  42%|████▏     | 53/125 [00:12<00:15,  4.60it/s]\u001b[A\n",
            "Verification Evaluation:  43%|████▎     | 54/125 [00:12<00:15,  4.54it/s]\u001b[A\n",
            "Verification Evaluation:  44%|████▍     | 55/125 [00:12<00:15,  4.54it/s]\u001b[A\n",
            "Verification Evaluation:  45%|████▍     | 56/125 [00:13<00:15,  4.49it/s]\u001b[A\n",
            "Verification Evaluation:  46%|████▌     | 57/125 [00:13<00:15,  4.43it/s]\u001b[A\n",
            "Verification Evaluation:  46%|████▋     | 58/125 [00:13<00:15,  4.44it/s]\u001b[A\n",
            "Verification Evaluation:  47%|████▋     | 59/125 [00:13<00:17,  3.82it/s]\u001b[A\n",
            "Verification Evaluation:  48%|████▊     | 60/125 [00:14<00:16,  4.02it/s]\u001b[A\n",
            "Verification Evaluation:  49%|████▉     | 61/125 [00:14<00:21,  3.03it/s]\u001b[A\n",
            "Verification Evaluation:  50%|████▉     | 62/125 [00:14<00:18,  3.36it/s]\u001b[A\n",
            "Verification Evaluation:  50%|█████     | 63/125 [00:15<00:20,  3.09it/s]\u001b[A\n",
            "Verification Evaluation:  51%|█████     | 64/125 [00:15<00:17,  3.39it/s]\u001b[A\n",
            "Verification Evaluation:  52%|█████▏    | 65/125 [00:15<00:18,  3.30it/s]\u001b[A\n",
            "Verification Evaluation:  53%|█████▎    | 66/125 [00:16<00:16,  3.59it/s]\u001b[A\n",
            "Verification Evaluation:  54%|█████▎    | 67/125 [00:16<00:16,  3.43it/s]\u001b[A\n",
            "Verification Evaluation:  54%|█████▍    | 68/125 [00:16<00:15,  3.75it/s]\u001b[A\n",
            "Verification Evaluation:  55%|█████▌    | 69/125 [00:16<00:14,  3.97it/s]\u001b[A\n",
            "Verification Evaluation:  56%|█████▌    | 70/125 [00:17<00:13,  4.18it/s]\u001b[A\n",
            "Verification Evaluation:  57%|█████▋    | 71/125 [00:17<00:12,  4.19it/s]\u001b[A\n",
            "Verification Evaluation:  58%|█████▊    | 72/125 [00:17<00:12,  4.23it/s]\u001b[A\n",
            "Verification Evaluation:  58%|█████▊    | 73/125 [00:17<00:11,  4.36it/s]\u001b[A\n",
            "Verification Evaluation:  59%|█████▉    | 74/125 [00:17<00:11,  4.33it/s]\u001b[A\n",
            "Verification Evaluation:  60%|██████    | 75/125 [00:18<00:11,  4.42it/s]\u001b[A\n",
            "Verification Evaluation:  61%|██████    | 76/125 [00:18<00:10,  4.47it/s]\u001b[A\n",
            "Verification Evaluation:  62%|██████▏   | 77/125 [00:18<00:10,  4.53it/s]\u001b[A\n",
            "Verification Evaluation:  62%|██████▏   | 78/125 [00:18<00:10,  4.55it/s]\u001b[A\n",
            "Verification Evaluation:  63%|██████▎   | 79/125 [00:19<00:09,  4.60it/s]\u001b[A\n",
            "Verification Evaluation:  64%|██████▍   | 80/125 [00:19<00:09,  4.63it/s]\u001b[A\n",
            "Verification Evaluation:  65%|██████▍   | 81/125 [00:19<00:09,  4.61it/s]\u001b[A\n",
            "Verification Evaluation:  66%|██████▌   | 82/125 [00:19<00:09,  4.60it/s]\u001b[A\n",
            "Verification Evaluation:  66%|██████▋   | 83/125 [00:19<00:09,  4.63it/s]\u001b[A\n",
            "Verification Evaluation:  67%|██████▋   | 84/125 [00:20<00:08,  4.57it/s]\u001b[A\n",
            "Verification Evaluation:  68%|██████▊   | 85/125 [00:20<00:08,  4.59it/s]\u001b[A\n",
            "Verification Evaluation:  69%|██████▉   | 86/125 [00:20<00:08,  4.60it/s]\u001b[A\n",
            "Verification Evaluation:  70%|██████▉   | 87/125 [00:20<00:08,  4.59it/s]\u001b[A\n",
            "Verification Evaluation:  70%|███████   | 88/125 [00:21<00:08,  4.61it/s]\u001b[A\n",
            "Verification Evaluation:  71%|███████   | 89/125 [00:21<00:07,  4.61it/s]\u001b[A\n",
            "Verification Evaluation:  72%|███████▏  | 90/125 [00:21<00:07,  4.63it/s]\u001b[A\n",
            "Verification Evaluation:  73%|███████▎  | 91/125 [00:21<00:07,  4.62it/s]\u001b[A\n",
            "Verification Evaluation:  74%|███████▎  | 92/125 [00:21<00:07,  4.60it/s]\u001b[A\n",
            "Verification Evaluation:  74%|███████▍  | 93/125 [00:22<00:07,  4.54it/s]\u001b[A\n",
            "Verification Evaluation:  75%|███████▌  | 94/125 [00:22<00:06,  4.54it/s]\u001b[A\n",
            "Verification Evaluation:  76%|███████▌  | 95/125 [00:22<00:06,  4.52it/s]\u001b[A\n",
            "Verification Evaluation:  77%|███████▋  | 96/125 [00:22<00:06,  4.61it/s]\u001b[A\n",
            "Verification Evaluation:  78%|███████▊  | 97/125 [00:22<00:06,  4.57it/s]\u001b[A\n",
            "Verification Evaluation:  78%|███████▊  | 98/125 [00:23<00:05,  4.60it/s]\u001b[A\n",
            "Verification Evaluation:  79%|███████▉  | 99/125 [00:23<00:05,  4.59it/s]\u001b[A\n",
            "Verification Evaluation:  80%|████████  | 100/125 [00:23<00:05,  4.63it/s]\u001b[A\n",
            "Verification Evaluation:  81%|████████  | 101/125 [00:23<00:05,  4.56it/s]\u001b[A\n",
            "Verification Evaluation:  82%|████████▏ | 102/125 [00:24<00:05,  4.58it/s]\u001b[A\n",
            "Verification Evaluation:  82%|████████▏ | 103/125 [00:24<00:04,  4.61it/s]\u001b[A\n",
            "Verification Evaluation:  83%|████████▎ | 104/125 [00:24<00:04,  4.54it/s]\u001b[A\n",
            "Verification Evaluation:  84%|████████▍ | 105/125 [00:24<00:04,  4.63it/s]\u001b[A\n",
            "Verification Evaluation:  85%|████████▍ | 106/125 [00:24<00:04,  4.58it/s]\u001b[A\n",
            "Verification Evaluation:  86%|████████▌ | 107/125 [00:25<00:03,  4.54it/s]\u001b[A\n",
            "Verification Evaluation:  86%|████████▋ | 108/125 [00:25<00:03,  4.55it/s]\u001b[A\n",
            "Verification Evaluation:  87%|████████▋ | 109/125 [00:25<00:03,  4.54it/s]\u001b[A\n",
            "Verification Evaluation:  88%|████████▊ | 110/125 [00:25<00:03,  4.50it/s]\u001b[A\n",
            "Verification Evaluation:  89%|████████▉ | 111/125 [00:26<00:03,  4.55it/s]\u001b[A\n",
            "Verification Evaluation:  90%|████████▉ | 112/125 [00:26<00:02,  4.59it/s]\u001b[A\n",
            "Verification Evaluation:  90%|█████████ | 113/125 [00:26<00:02,  4.58it/s]\u001b[A\n",
            "Verification Evaluation:  91%|█████████ | 114/125 [00:26<00:02,  4.54it/s]\u001b[A\n",
            "Verification Evaluation:  92%|█████████▏| 115/125 [00:26<00:02,  4.52it/s]\u001b[A\n",
            "Verification Evaluation:  93%|█████████▎| 116/125 [00:27<00:02,  4.49it/s]\u001b[A\n",
            "Verification Evaluation:  94%|█████████▎| 117/125 [00:27<00:02,  3.66it/s]\u001b[A\n",
            "Verification Evaluation:  94%|█████████▍| 118/125 [00:27<00:01,  3.83it/s]\u001b[A\n",
            "Verification Evaluation:  95%|█████████▌| 119/125 [00:28<00:01,  3.43it/s]\u001b[A\n",
            "Verification Evaluation:  96%|█████████▌| 120/125 [00:28<00:01,  3.69it/s]\u001b[A\n",
            "Verification Evaluation:  97%|█████████▋| 121/125 [00:28<00:01,  3.15it/s]\u001b[A\n",
            "Verification Evaluation:  98%|█████████▊| 122/125 [00:29<00:00,  3.44it/s]\u001b[A\n",
            "Verification Evaluation:  98%|█████████▊| 123/125 [00:29<00:00,  3.10it/s]\u001b[A\n",
            "Verification Evaluation:  99%|█████████▉| 124/125 [00:29<00:00,  3.46it/s]\u001b[A\n",
            "Verification Evaluation: 100%|██████████| 125/125 [00:29<00:00,  4.18it/s]\n",
            "Evaluating subsets:  33%|███▎      | 2/6 [00:45<01:35, 23.88s/it]"
          ]
        },
        {
          "output_type": "stream",
          "name": "stdout",
          "text": [
            "Verification dataset initialized with 2000 pairs\n"
          ]
        },
        {
          "output_type": "stream",
          "name": "stderr",
          "text": [
            "\n",
            "Verification Evaluation:   0%|          | 0/250 [00:00<?, ?it/s]\u001b[A\n",
            "Verification Evaluation:   0%|          | 1/250 [00:00<03:08,  1.32it/s]\u001b[A\n",
            "Verification Evaluation:   1%|          | 2/250 [00:00<01:48,  2.28it/s]\u001b[A\n",
            "Verification Evaluation:   1%|          | 3/250 [00:01<01:23,  2.96it/s]\u001b[A\n",
            "Verification Evaluation:   2%|▏         | 4/250 [00:01<01:10,  3.47it/s]\u001b[A\n",
            "Verification Evaluation:   2%|▏         | 5/250 [00:01<01:04,  3.77it/s]\u001b[A\n",
            "Verification Evaluation:   2%|▏         | 6/250 [00:01<01:00,  4.02it/s]\u001b[A\n",
            "Verification Evaluation:   3%|▎         | 7/250 [00:02<00:58,  4.18it/s]\u001b[A\n",
            "Verification Evaluation:   3%|▎         | 8/250 [00:02<00:56,  4.29it/s]\u001b[A\n",
            "Verification Evaluation:   4%|▎         | 9/250 [00:02<00:54,  4.40it/s]\u001b[A\n",
            "Verification Evaluation:   4%|▍         | 10/250 [00:02<00:53,  4.46it/s]\u001b[A\n",
            "Verification Evaluation:   4%|▍         | 11/250 [00:02<00:53,  4.49it/s]\u001b[A\n",
            "Verification Evaluation:   5%|▍         | 12/250 [00:03<00:52,  4.54it/s]\u001b[A\n",
            "Verification Evaluation:   5%|▌         | 13/250 [00:03<00:52,  4.53it/s]\u001b[A\n",
            "Verification Evaluation:   6%|▌         | 14/250 [00:03<00:52,  4.52it/s]\u001b[A\n",
            "Verification Evaluation:   6%|▌         | 15/250 [00:03<00:51,  4.57it/s]\u001b[A\n",
            "Verification Evaluation:   6%|▋         | 16/250 [00:04<00:51,  4.58it/s]\u001b[A\n",
            "Verification Evaluation:   7%|▋         | 17/250 [00:04<00:50,  4.61it/s]\u001b[A\n",
            "Verification Evaluation:   7%|▋         | 18/250 [00:04<00:51,  4.54it/s]\u001b[A\n",
            "Verification Evaluation:   8%|▊         | 19/250 [00:04<00:50,  4.54it/s]\u001b[A\n",
            "Verification Evaluation:   8%|▊         | 20/250 [00:04<00:50,  4.57it/s]\u001b[A\n",
            "Verification Evaluation:   8%|▊         | 21/250 [00:05<00:51,  4.47it/s]\u001b[A\n",
            "Verification Evaluation:   9%|▉         | 22/250 [00:05<00:50,  4.52it/s]\u001b[A\n",
            "Verification Evaluation:   9%|▉         | 23/250 [00:05<00:50,  4.52it/s]\u001b[A\n",
            "Verification Evaluation:  10%|▉         | 24/250 [00:05<00:49,  4.53it/s]\u001b[A\n",
            "Verification Evaluation:  10%|█         | 25/250 [00:06<00:49,  4.51it/s]\u001b[A\n",
            "Verification Evaluation:  10%|█         | 26/250 [00:06<00:49,  4.51it/s]\u001b[A\n",
            "Verification Evaluation:  11%|█         | 27/250 [00:06<00:49,  4.51it/s]\u001b[A\n",
            "Verification Evaluation:  11%|█         | 28/250 [00:06<00:48,  4.54it/s]\u001b[A\n",
            "Verification Evaluation:  12%|█▏        | 29/250 [00:06<00:48,  4.56it/s]\u001b[A\n",
            "Verification Evaluation:  12%|█▏        | 30/250 [00:07<00:48,  4.57it/s]\u001b[A\n",
            "Verification Evaluation:  12%|█▏        | 31/250 [00:07<00:47,  4.58it/s]\u001b[A\n",
            "Verification Evaluation:  13%|█▎        | 32/250 [00:07<00:48,  4.51it/s]\u001b[A\n",
            "Verification Evaluation:  13%|█▎        | 33/250 [00:07<00:47,  4.55it/s]\u001b[A\n",
            "Verification Evaluation:  14%|█▎        | 34/250 [00:08<00:47,  4.52it/s]\u001b[A\n",
            "Verification Evaluation:  14%|█▍        | 35/250 [00:08<00:47,  4.50it/s]\u001b[A\n",
            "Verification Evaluation:  14%|█▍        | 36/250 [00:08<00:47,  4.50it/s]\u001b[A\n",
            "Verification Evaluation:  15%|█▍        | 37/250 [00:08<00:47,  4.49it/s]\u001b[A\n",
            "Verification Evaluation:  15%|█▌        | 38/250 [00:08<00:47,  4.47it/s]\u001b[A\n",
            "Verification Evaluation:  16%|█▌        | 39/250 [00:09<00:47,  4.47it/s]\u001b[A\n",
            "Verification Evaluation:  16%|█▌        | 40/250 [00:09<00:46,  4.49it/s]\u001b[A\n",
            "Verification Evaluation:  16%|█▋        | 41/250 [00:09<00:46,  4.52it/s]\u001b[A\n",
            "Verification Evaluation:  17%|█▋        | 42/250 [00:09<00:46,  4.50it/s]\u001b[A\n",
            "Verification Evaluation:  17%|█▋        | 43/250 [00:10<00:46,  4.50it/s]\u001b[A\n",
            "Verification Evaluation:  18%|█▊        | 44/250 [00:10<00:46,  4.47it/s]\u001b[A\n",
            "Verification Evaluation:  18%|█▊        | 45/250 [00:10<00:46,  4.45it/s]\u001b[A\n",
            "Verification Evaluation:  18%|█▊        | 46/250 [00:10<00:45,  4.48it/s]\u001b[A\n",
            "Verification Evaluation:  19%|█▉        | 47/250 [00:10<00:45,  4.50it/s]\u001b[A\n",
            "Verification Evaluation:  19%|█▉        | 48/250 [00:11<00:45,  4.48it/s]\u001b[A\n",
            "Verification Evaluation:  20%|█▉        | 49/250 [00:11<00:53,  3.75it/s]\u001b[A\n",
            "Verification Evaluation:  20%|██        | 50/250 [00:11<00:51,  3.90it/s]\u001b[A\n",
            "Verification Evaluation:  20%|██        | 51/250 [00:11<00:51,  3.86it/s]\u001b[A\n",
            "Verification Evaluation:  21%|██        | 52/250 [00:12<01:02,  3.15it/s]\u001b[A\n",
            "Verification Evaluation:  21%|██        | 53/250 [00:12<00:56,  3.49it/s]\u001b[A\n",
            "Verification Evaluation:  22%|██▏       | 54/250 [00:12<00:56,  3.45it/s]\u001b[A\n",
            "Verification Evaluation:  22%|██▏       | 55/250 [00:13<00:55,  3.51it/s]\u001b[A\n",
            "Verification Evaluation:  22%|██▏       | 56/250 [00:13<00:57,  3.38it/s]\u001b[A\n",
            "Verification Evaluation:  23%|██▎       | 57/250 [00:13<01:01,  3.12it/s]\u001b[A\n",
            "Verification Evaluation:  23%|██▎       | 58/250 [00:14<00:58,  3.30it/s]\u001b[A\n",
            "Verification Evaluation:  24%|██▎       | 59/250 [00:14<00:54,  3.51it/s]\u001b[A\n",
            "Verification Evaluation:  24%|██▍       | 60/250 [00:14<00:52,  3.65it/s]\u001b[A\n",
            "Verification Evaluation:  24%|██▍       | 61/250 [00:14<00:49,  3.83it/s]\u001b[A\n",
            "Verification Evaluation:  25%|██▍       | 62/250 [00:15<00:46,  4.06it/s]\u001b[A\n",
            "Verification Evaluation:  25%|██▌       | 63/250 [00:15<00:46,  4.04it/s]\u001b[A\n",
            "Verification Evaluation:  26%|██▌       | 64/250 [00:15<00:44,  4.18it/s]\u001b[A\n",
            "Verification Evaluation:  26%|██▌       | 65/250 [00:15<00:42,  4.31it/s]\u001b[A\n",
            "Verification Evaluation:  26%|██▋       | 66/250 [00:16<00:42,  4.35it/s]\u001b[A\n",
            "Verification Evaluation:  27%|██▋       | 67/250 [00:16<00:41,  4.37it/s]\u001b[A\n",
            "Verification Evaluation:  27%|██▋       | 68/250 [00:16<00:41,  4.39it/s]\u001b[A\n",
            "Verification Evaluation:  28%|██▊       | 69/250 [00:16<00:40,  4.47it/s]\u001b[A\n",
            "Verification Evaluation:  28%|██▊       | 70/250 [00:16<00:40,  4.47it/s]\u001b[A\n",
            "Verification Evaluation:  28%|██▊       | 71/250 [00:17<00:40,  4.45it/s]\u001b[A\n",
            "Verification Evaluation:  29%|██▉       | 72/250 [00:17<00:40,  4.39it/s]\u001b[A\n",
            "Verification Evaluation:  29%|██▉       | 73/250 [00:17<00:39,  4.46it/s]\u001b[A\n",
            "Verification Evaluation:  30%|██▉       | 74/250 [00:17<00:39,  4.46it/s]\u001b[A\n",
            "Verification Evaluation:  30%|███       | 75/250 [00:18<00:38,  4.52it/s]\u001b[A\n",
            "Verification Evaluation:  30%|███       | 76/250 [00:18<00:38,  4.54it/s]\u001b[A\n",
            "Verification Evaluation:  31%|███       | 77/250 [00:18<00:38,  4.49it/s]\u001b[A\n",
            "Verification Evaluation:  31%|███       | 78/250 [00:18<00:38,  4.50it/s]\u001b[A\n",
            "Verification Evaluation:  32%|███▏      | 79/250 [00:18<00:37,  4.52it/s]\u001b[A\n",
            "Verification Evaluation:  32%|███▏      | 80/250 [00:19<00:37,  4.51it/s]\u001b[A\n",
            "Verification Evaluation:  32%|███▏      | 81/250 [00:19<00:37,  4.50it/s]\u001b[A\n",
            "Verification Evaluation:  33%|███▎      | 82/250 [00:19<00:37,  4.49it/s]\u001b[A\n",
            "Verification Evaluation:  33%|███▎      | 83/250 [00:19<00:37,  4.48it/s]\u001b[A\n",
            "Verification Evaluation:  34%|███▎      | 84/250 [00:20<00:36,  4.49it/s]\u001b[A\n",
            "Verification Evaluation:  34%|███▍      | 85/250 [00:20<00:37,  4.45it/s]\u001b[A\n",
            "Verification Evaluation:  34%|███▍      | 86/250 [00:20<00:36,  4.49it/s]\u001b[A\n",
            "Verification Evaluation:  35%|███▍      | 87/250 [00:20<00:36,  4.50it/s]\u001b[A\n",
            "Verification Evaluation:  35%|███▌      | 88/250 [00:20<00:36,  4.50it/s]\u001b[A\n",
            "Verification Evaluation:  36%|███▌      | 89/250 [00:21<00:35,  4.50it/s]\u001b[A\n",
            "Verification Evaluation:  36%|███▌      | 90/250 [00:21<00:35,  4.49it/s]\u001b[A\n",
            "Verification Evaluation:  36%|███▋      | 91/250 [00:21<00:35,  4.48it/s]\u001b[A\n",
            "Verification Evaluation:  37%|███▋      | 92/250 [00:21<00:35,  4.51it/s]\u001b[A\n",
            "Verification Evaluation:  37%|███▋      | 93/250 [00:22<00:34,  4.49it/s]\u001b[A\n",
            "Verification Evaluation:  38%|███▊      | 94/250 [00:22<00:34,  4.50it/s]\u001b[A\n",
            "Verification Evaluation:  38%|███▊      | 95/250 [00:22<00:34,  4.50it/s]\u001b[A\n",
            "Verification Evaluation:  38%|███▊      | 96/250 [00:22<00:34,  4.52it/s]\u001b[A\n",
            "Verification Evaluation:  39%|███▉      | 97/250 [00:22<00:34,  4.50it/s]\u001b[A\n",
            "Verification Evaluation:  39%|███▉      | 98/250 [00:23<00:33,  4.48it/s]\u001b[A\n",
            "Verification Evaluation:  40%|███▉      | 99/250 [00:23<00:33,  4.47it/s]\u001b[A\n",
            "Verification Evaluation:  40%|████      | 100/250 [00:23<00:33,  4.51it/s]\u001b[A\n",
            "Verification Evaluation:  40%|████      | 101/250 [00:23<00:32,  4.52it/s]\u001b[A\n",
            "Verification Evaluation:  41%|████      | 102/250 [00:24<00:32,  4.51it/s]\u001b[A\n",
            "Verification Evaluation:  41%|████      | 103/250 [00:24<00:32,  4.49it/s]\u001b[A\n",
            "Verification Evaluation:  42%|████▏     | 104/250 [00:24<00:32,  4.47it/s]\u001b[A\n",
            "Verification Evaluation:  42%|████▏     | 105/250 [00:24<00:32,  4.44it/s]\u001b[A\n",
            "Verification Evaluation:  42%|████▏     | 106/250 [00:24<00:32,  4.44it/s]\u001b[A\n",
            "Verification Evaluation:  43%|████▎     | 107/250 [00:25<00:31,  4.50it/s]\u001b[A\n",
            "Verification Evaluation:  43%|████▎     | 108/250 [00:25<00:31,  4.48it/s]\u001b[A\n",
            "Verification Evaluation:  44%|████▎     | 109/250 [00:25<00:32,  4.32it/s]\u001b[A\n",
            "Verification Evaluation:  44%|████▍     | 110/250 [00:25<00:32,  4.37it/s]\u001b[A\n",
            "Verification Evaluation:  44%|████▍     | 111/250 [00:26<00:31,  4.38it/s]\u001b[A\n",
            "Verification Evaluation:  45%|████▍     | 112/250 [00:26<00:33,  4.08it/s]\u001b[A\n",
            "Verification Evaluation:  45%|████▌     | 113/250 [00:26<00:41,  3.32it/s]\u001b[A\n",
            "Verification Evaluation:  46%|████▌     | 114/250 [00:27<00:39,  3.42it/s]\u001b[A\n",
            "Verification Evaluation:  46%|████▌     | 115/250 [00:27<00:38,  3.53it/s]\u001b[A\n",
            "Verification Evaluation:  46%|████▋     | 116/250 [00:27<00:40,  3.28it/s]\u001b[A\n",
            "Verification Evaluation:  47%|████▋     | 117/250 [00:27<00:38,  3.48it/s]\u001b[A\n",
            "Verification Evaluation:  47%|████▋     | 118/250 [00:28<00:39,  3.35it/s]\u001b[A\n",
            "Verification Evaluation:  48%|████▊     | 119/250 [00:28<00:40,  3.20it/s]\u001b[A\n",
            "Verification Evaluation:  48%|████▊     | 120/250 [00:28<00:36,  3.53it/s]\u001b[A\n",
            "Verification Evaluation:  48%|████▊     | 121/250 [00:29<00:34,  3.77it/s]\u001b[A\n",
            "Verification Evaluation:  49%|████▉     | 122/250 [00:29<00:32,  3.97it/s]\u001b[A\n",
            "Verification Evaluation:  49%|████▉     | 123/250 [00:29<00:31,  4.05it/s]\u001b[A\n",
            "Verification Evaluation:  50%|████▉     | 124/250 [00:29<00:30,  4.18it/s]\u001b[A\n",
            "Verification Evaluation:  50%|█████     | 125/250 [00:29<00:29,  4.26it/s]\u001b[A\n",
            "Verification Evaluation:  50%|█████     | 126/250 [00:30<00:28,  4.31it/s]\u001b[A\n",
            "Verification Evaluation:  51%|█████     | 127/250 [00:30<00:28,  4.29it/s]\u001b[A\n",
            "Verification Evaluation:  51%|█████     | 128/250 [00:30<00:28,  4.33it/s]\u001b[A\n",
            "Verification Evaluation:  52%|█████▏    | 129/250 [00:30<00:27,  4.32it/s]\u001b[A\n",
            "Verification Evaluation:  52%|█████▏    | 130/250 [00:31<00:27,  4.37it/s]\u001b[A\n",
            "Verification Evaluation:  52%|█████▏    | 131/250 [00:31<00:26,  4.43it/s]\u001b[A\n",
            "Verification Evaluation:  53%|█████▎    | 132/250 [00:31<00:26,  4.43it/s]\u001b[A\n",
            "Verification Evaluation:  53%|█████▎    | 133/250 [00:31<00:26,  4.46it/s]\u001b[A\n",
            "Verification Evaluation:  54%|█████▎    | 134/250 [00:32<00:26,  4.39it/s]\u001b[A\n",
            "Verification Evaluation:  54%|█████▍    | 135/250 [00:32<00:25,  4.44it/s]\u001b[A\n",
            "Verification Evaluation:  54%|█████▍    | 136/250 [00:32<00:25,  4.41it/s]\u001b[A\n",
            "Verification Evaluation:  55%|█████▍    | 137/250 [00:32<00:25,  4.41it/s]\u001b[A\n",
            "Verification Evaluation:  55%|█████▌    | 138/250 [00:32<00:25,  4.43it/s]\u001b[A\n",
            "Verification Evaluation:  56%|█████▌    | 139/250 [00:33<00:24,  4.46it/s]\u001b[A\n",
            "Verification Evaluation:  56%|█████▌    | 140/250 [00:33<00:24,  4.48it/s]\u001b[A\n",
            "Verification Evaluation:  56%|█████▋    | 141/250 [00:33<00:24,  4.45it/s]\u001b[A\n",
            "Verification Evaluation:  57%|█████▋    | 142/250 [00:33<00:24,  4.47it/s]\u001b[A\n",
            "Verification Evaluation:  57%|█████▋    | 143/250 [00:34<00:23,  4.46it/s]\u001b[A\n",
            "Verification Evaluation:  58%|█████▊    | 144/250 [00:34<00:23,  4.49it/s]\u001b[A\n",
            "Verification Evaluation:  58%|█████▊    | 145/250 [00:34<00:23,  4.43it/s]\u001b[A\n",
            "Verification Evaluation:  58%|█████▊    | 146/250 [00:34<00:23,  4.43it/s]\u001b[A\n",
            "Verification Evaluation:  59%|█████▉    | 147/250 [00:34<00:23,  4.43it/s]\u001b[A\n",
            "Verification Evaluation:  59%|█████▉    | 148/250 [00:35<00:23,  4.43it/s]\u001b[A\n",
            "Verification Evaluation:  60%|█████▉    | 149/250 [00:35<00:22,  4.46it/s]\u001b[A\n",
            "Verification Evaluation:  60%|██████    | 150/250 [00:35<00:22,  4.44it/s]\u001b[A\n",
            "Verification Evaluation:  60%|██████    | 151/250 [00:35<00:22,  4.43it/s]\u001b[A\n",
            "Verification Evaluation:  61%|██████    | 152/250 [00:36<00:21,  4.47it/s]\u001b[A\n",
            "Verification Evaluation:  61%|██████    | 153/250 [00:36<00:21,  4.50it/s]\u001b[A\n",
            "Verification Evaluation:  62%|██████▏   | 154/250 [00:36<00:21,  4.48it/s]\u001b[A\n",
            "Verification Evaluation:  62%|██████▏   | 155/250 [00:36<00:21,  4.45it/s]\u001b[A\n",
            "Verification Evaluation:  62%|██████▏   | 156/250 [00:36<00:20,  4.50it/s]\u001b[A\n",
            "Verification Evaluation:  63%|██████▎   | 157/250 [00:37<00:20,  4.47it/s]\u001b[A\n",
            "Verification Evaluation:  63%|██████▎   | 158/250 [00:37<00:20,  4.44it/s]\u001b[A\n",
            "Verification Evaluation:  64%|██████▎   | 159/250 [00:37<00:20,  4.43it/s]\u001b[A\n",
            "Verification Evaluation:  64%|██████▍   | 160/250 [00:37<00:20,  4.42it/s]\u001b[A\n",
            "Verification Evaluation:  64%|██████▍   | 161/250 [00:38<00:20,  4.43it/s]\u001b[A\n",
            "Verification Evaluation:  65%|██████▍   | 162/250 [00:38<00:19,  4.45it/s]\u001b[A\n",
            "Verification Evaluation:  65%|██████▌   | 163/250 [00:38<00:19,  4.45it/s]\u001b[A\n",
            "Verification Evaluation:  66%|██████▌   | 164/250 [00:38<00:19,  4.46it/s]\u001b[A\n",
            "Verification Evaluation:  66%|██████▌   | 165/250 [00:38<00:18,  4.49it/s]\u001b[A\n",
            "Verification Evaluation:  66%|██████▋   | 166/250 [00:39<00:18,  4.44it/s]\u001b[A\n",
            "Verification Evaluation:  67%|██████▋   | 167/250 [00:39<00:18,  4.41it/s]\u001b[A\n",
            "Verification Evaluation:  67%|██████▋   | 168/250 [00:39<00:19,  4.27it/s]\u001b[A\n",
            "Verification Evaluation:  68%|██████▊   | 169/250 [00:39<00:19,  4.25it/s]\u001b[A\n",
            "Verification Evaluation:  68%|██████▊   | 170/250 [00:40<00:22,  3.59it/s]\u001b[A\n",
            "Verification Evaluation:  68%|██████▊   | 171/250 [00:40<00:22,  3.51it/s]\u001b[A\n",
            "Verification Evaluation:  69%|██████▉   | 172/250 [00:40<00:23,  3.25it/s]\u001b[A\n",
            "Verification Evaluation:  69%|██████▉   | 173/250 [00:41<00:24,  3.19it/s]\u001b[A\n",
            "Verification Evaluation:  70%|██████▉   | 174/250 [00:41<00:22,  3.44it/s]\u001b[A\n",
            "Verification Evaluation:  70%|███████   | 175/250 [00:41<00:20,  3.58it/s]\u001b[A\n",
            "Verification Evaluation:  70%|███████   | 176/250 [00:42<00:22,  3.29it/s]\u001b[A\n",
            "Verification Evaluation:  71%|███████   | 177/250 [00:42<00:21,  3.36it/s]\u001b[A\n",
            "Verification Evaluation:  71%|███████   | 178/250 [00:42<00:23,  3.11it/s]\u001b[A\n",
            "Verification Evaluation:  72%|███████▏  | 179/250 [00:43<00:20,  3.44it/s]\u001b[A\n",
            "Verification Evaluation:  72%|███████▏  | 180/250 [00:43<00:21,  3.31it/s]\u001b[A\n",
            "Verification Evaluation:  72%|███████▏  | 181/250 [00:43<00:19,  3.58it/s]\u001b[A\n",
            "Verification Evaluation:  73%|███████▎  | 182/250 [00:43<00:18,  3.69it/s]\u001b[A\n",
            "Verification Evaluation:  73%|███████▎  | 183/250 [00:44<00:17,  3.84it/s]\u001b[A\n",
            "Verification Evaluation:  74%|███████▎  | 184/250 [00:44<00:16,  4.04it/s]\u001b[A\n",
            "Verification Evaluation:  74%|███████▍  | 185/250 [00:44<00:15,  4.13it/s]\u001b[A\n",
            "Verification Evaluation:  74%|███████▍  | 186/250 [00:44<00:15,  4.21it/s]\u001b[A\n",
            "Verification Evaluation:  75%|███████▍  | 187/250 [00:44<00:14,  4.26it/s]\u001b[A\n",
            "Verification Evaluation:  75%|███████▌  | 188/250 [00:45<00:14,  4.30it/s]\u001b[A\n",
            "Verification Evaluation:  76%|███████▌  | 189/250 [00:45<00:13,  4.36it/s]\u001b[A\n",
            "Verification Evaluation:  76%|███████▌  | 190/250 [00:45<00:13,  4.35it/s]\u001b[A\n",
            "Verification Evaluation:  76%|███████▋  | 191/250 [00:45<00:13,  4.39it/s]\u001b[A\n",
            "Verification Evaluation:  77%|███████▋  | 192/250 [00:46<00:13,  4.41it/s]\u001b[A\n",
            "Verification Evaluation:  77%|███████▋  | 193/250 [00:46<00:12,  4.39it/s]\u001b[A\n",
            "Verification Evaluation:  78%|███████▊  | 194/250 [00:46<00:12,  4.39it/s]\u001b[A\n",
            "Verification Evaluation:  78%|███████▊  | 195/250 [00:46<00:12,  4.39it/s]\u001b[A\n",
            "Verification Evaluation:  78%|███████▊  | 196/250 [00:46<00:12,  4.43it/s]\u001b[A\n",
            "Verification Evaluation:  79%|███████▉  | 197/250 [00:47<00:11,  4.47it/s]\u001b[A\n",
            "Verification Evaluation:  79%|███████▉  | 198/250 [00:47<00:11,  4.47it/s]\u001b[A\n",
            "Verification Evaluation:  80%|███████▉  | 199/250 [00:47<00:11,  4.47it/s]\u001b[A\n",
            "Verification Evaluation:  80%|████████  | 200/250 [00:47<00:11,  4.48it/s]\u001b[A\n",
            "Verification Evaluation:  80%|████████  | 201/250 [00:48<00:10,  4.46it/s]\u001b[A\n",
            "Verification Evaluation:  81%|████████  | 202/250 [00:48<00:10,  4.47it/s]\u001b[A\n",
            "Verification Evaluation:  81%|████████  | 203/250 [00:48<00:10,  4.51it/s]\u001b[A\n",
            "Verification Evaluation:  82%|████████▏ | 204/250 [00:48<00:10,  4.40it/s]\u001b[A\n",
            "Verification Evaluation:  82%|████████▏ | 205/250 [00:49<00:10,  4.35it/s]\u001b[A\n",
            "Verification Evaluation:  82%|████████▏ | 206/250 [00:49<00:10,  4.21it/s]\u001b[A\n",
            "Verification Evaluation:  83%|████████▎ | 207/250 [00:49<00:10,  4.22it/s]\u001b[A\n",
            "Verification Evaluation:  83%|████████▎ | 208/250 [00:49<00:10,  4.17it/s]\u001b[A\n",
            "Verification Evaluation:  84%|████████▎ | 209/250 [00:50<00:10,  3.89it/s]\u001b[A\n",
            "Verification Evaluation:  84%|████████▍ | 210/250 [00:50<00:09,  4.05it/s]\u001b[A\n",
            "Verification Evaluation:  84%|████████▍ | 211/250 [00:50<00:09,  4.18it/s]\u001b[A\n",
            "Verification Evaluation:  85%|████████▍ | 212/250 [00:50<00:08,  4.30it/s]\u001b[A\n",
            "Verification Evaluation:  85%|████████▌ | 213/250 [00:50<00:08,  4.30it/s]\u001b[A\n",
            "Verification Evaluation:  86%|████████▌ | 214/250 [00:51<00:08,  4.34it/s]\u001b[A\n",
            "Verification Evaluation:  86%|████████▌ | 215/250 [00:51<00:08,  4.37it/s]\u001b[A\n",
            "Verification Evaluation:  86%|████████▋ | 216/250 [00:51<00:07,  4.40it/s]\u001b[A\n",
            "Verification Evaluation:  87%|████████▋ | 217/250 [00:51<00:07,  4.37it/s]\u001b[A\n",
            "Verification Evaluation:  87%|████████▋ | 218/250 [00:52<00:07,  4.40it/s]\u001b[A\n",
            "Verification Evaluation:  88%|████████▊ | 219/250 [00:52<00:07,  4.42it/s]\u001b[A\n",
            "Verification Evaluation:  88%|████████▊ | 220/250 [00:52<00:06,  4.40it/s]\u001b[A\n",
            "Verification Evaluation:  88%|████████▊ | 221/250 [00:52<00:06,  4.36it/s]\u001b[A\n",
            "Verification Evaluation:  89%|████████▉ | 222/250 [00:52<00:06,  4.36it/s]\u001b[A\n",
            "Verification Evaluation:  89%|████████▉ | 223/250 [00:53<00:06,  4.32it/s]\u001b[A\n",
            "Verification Evaluation:  90%|████████▉ | 224/250 [00:53<00:05,  4.37it/s]\u001b[A\n",
            "Verification Evaluation:  90%|█████████ | 225/250 [00:53<00:05,  4.37it/s]\u001b[A\n",
            "Verification Evaluation:  90%|█████████ | 226/250 [00:54<00:06,  3.84it/s]\u001b[A\n",
            "Verification Evaluation:  91%|█████████ | 227/250 [00:54<00:05,  3.84it/s]\u001b[A\n",
            "Verification Evaluation:  91%|█████████ | 228/250 [00:54<00:06,  3.63it/s]\u001b[A\n",
            "Verification Evaluation:  92%|█████████▏| 229/250 [00:54<00:06,  3.25it/s]\u001b[A\n",
            "Verification Evaluation:  92%|█████████▏| 230/250 [00:55<00:05,  3.41it/s]\u001b[A\n",
            "Verification Evaluation:  92%|█████████▏| 231/250 [00:55<00:06,  2.90it/s]\u001b[A\n",
            "Verification Evaluation:  93%|█████████▎| 232/250 [00:55<00:05,  3.19it/s]\u001b[A\n",
            "Verification Evaluation:  93%|█████████▎| 233/250 [00:56<00:05,  2.97it/s]\u001b[A\n",
            "Verification Evaluation:  94%|█████████▎| 234/250 [00:56<00:04,  3.26it/s]\u001b[A\n",
            "Verification Evaluation:  94%|█████████▍| 235/250 [00:56<00:04,  3.29it/s]\u001b[A\n",
            "Verification Evaluation:  94%|█████████▍| 236/250 [00:57<00:03,  3.52it/s]\u001b[A\n",
            "Verification Evaluation:  95%|█████████▍| 237/250 [00:57<00:03,  3.76it/s]\u001b[A\n",
            "Verification Evaluation:  95%|█████████▌| 238/250 [00:57<00:03,  3.92it/s]\u001b[A\n",
            "Verification Evaluation:  96%|█████████▌| 239/250 [00:57<00:02,  4.06it/s]\u001b[A\n",
            "Verification Evaluation:  96%|█████████▌| 240/250 [00:57<00:02,  4.14it/s]\u001b[A\n",
            "Verification Evaluation:  96%|█████████▋| 241/250 [00:58<00:02,  4.24it/s]\u001b[A\n",
            "Verification Evaluation:  97%|█████████▋| 242/250 [00:58<00:01,  4.25it/s]\u001b[A\n",
            "Verification Evaluation:  97%|█████████▋| 243/250 [00:58<00:01,  4.26it/s]\u001b[A\n",
            "Verification Evaluation:  98%|█████████▊| 244/250 [00:58<00:01,  4.35it/s]\u001b[A\n",
            "Verification Evaluation:  98%|█████████▊| 245/250 [00:59<00:01,  4.35it/s]\u001b[A\n",
            "Verification Evaluation:  98%|█████████▊| 246/250 [00:59<00:00,  4.39it/s]\u001b[A\n",
            "Verification Evaluation:  99%|█████████▉| 247/250 [00:59<00:00,  4.40it/s]\u001b[A\n",
            "Verification Evaluation:  99%|█████████▉| 248/250 [00:59<00:00,  4.45it/s]\u001b[A\n",
            "Verification Evaluation: 100%|█████████▉| 249/250 [01:00<00:00,  4.45it/s]\u001b[A\n",
            "Verification Evaluation: 100%|██████████| 250/250 [01:00<00:00,  4.14it/s]\n",
            "Evaluating subsets:  50%|█████     | 3/6 [01:45<02:01, 40.53s/it]"
          ]
        },
        {
          "output_type": "stream",
          "name": "stdout",
          "text": [
            "Verification dataset initialized with 3000 pairs\n"
          ]
        },
        {
          "output_type": "stream",
          "name": "stderr",
          "text": [
            "\n",
            "Verification Evaluation:   0%|          | 0/375 [00:00<?, ?it/s]\u001b[A\n",
            "Verification Evaluation:   0%|          | 1/375 [00:00<04:00,  1.55it/s]\u001b[A\n",
            "Verification Evaluation:   1%|          | 2/375 [00:00<02:28,  2.51it/s]\u001b[A\n",
            "Verification Evaluation:   1%|          | 3/375 [00:01<01:59,  3.12it/s]\u001b[A\n",
            "Verification Evaluation:   1%|          | 4/375 [00:01<01:46,  3.48it/s]\u001b[A\n",
            "Verification Evaluation:   1%|▏         | 5/375 [00:01<01:38,  3.75it/s]\u001b[A\n",
            "Verification Evaluation:   2%|▏         | 6/375 [00:01<01:33,  3.96it/s]\u001b[A\n",
            "Verification Evaluation:   2%|▏         | 7/375 [00:02<01:29,  4.10it/s]\u001b[A\n",
            "Verification Evaluation:   2%|▏         | 8/375 [00:02<01:27,  4.18it/s]\u001b[A\n",
            "Verification Evaluation:   2%|▏         | 9/375 [00:02<01:26,  4.25it/s]\u001b[A\n",
            "Verification Evaluation:   3%|▎         | 10/375 [00:02<01:26,  4.22it/s]\u001b[A\n",
            "Verification Evaluation:   3%|▎         | 11/375 [00:02<01:24,  4.30it/s]\u001b[A\n",
            "Verification Evaluation:   3%|▎         | 12/375 [00:03<01:23,  4.36it/s]\u001b[A\n",
            "Verification Evaluation:   3%|▎         | 13/375 [00:03<01:23,  4.35it/s]\u001b[A\n",
            "Verification Evaluation:   4%|▎         | 14/375 [00:03<01:23,  4.34it/s]\u001b[A\n",
            "Verification Evaluation:   4%|▍         | 15/375 [00:03<01:22,  4.37it/s]\u001b[A\n",
            "Verification Evaluation:   4%|▍         | 16/375 [00:04<01:22,  4.35it/s]\u001b[A\n",
            "Verification Evaluation:   5%|▍         | 17/375 [00:04<01:22,  4.35it/s]\u001b[A\n",
            "Verification Evaluation:   5%|▍         | 18/375 [00:04<01:21,  4.37it/s]\u001b[A\n",
            "Verification Evaluation:   5%|▌         | 19/375 [00:04<01:21,  4.35it/s]\u001b[A\n",
            "Verification Evaluation:   5%|▌         | 20/375 [00:04<01:21,  4.37it/s]\u001b[A\n",
            "Verification Evaluation:   6%|▌         | 21/375 [00:05<01:20,  4.38it/s]\u001b[A\n",
            "Verification Evaluation:   6%|▌         | 22/375 [00:05<01:21,  4.34it/s]\u001b[A\n",
            "Verification Evaluation:   6%|▌         | 23/375 [00:05<01:20,  4.39it/s]\u001b[A\n",
            "Verification Evaluation:   6%|▋         | 24/375 [00:05<01:20,  4.37it/s]\u001b[A\n",
            "Verification Evaluation:   7%|▋         | 25/375 [00:06<01:20,  4.35it/s]\u001b[A\n",
            "Verification Evaluation:   7%|▋         | 26/375 [00:06<01:19,  4.38it/s]\u001b[A\n",
            "Verification Evaluation:   7%|▋         | 27/375 [00:06<01:21,  4.29it/s]\u001b[A\n",
            "Verification Evaluation:   7%|▋         | 28/375 [00:06<01:20,  4.33it/s]\u001b[A\n",
            "Verification Evaluation:   8%|▊         | 29/375 [00:07<01:20,  4.32it/s]\u001b[A\n",
            "Verification Evaluation:   8%|▊         | 30/375 [00:07<01:19,  4.31it/s]\u001b[A\n",
            "Verification Evaluation:   8%|▊         | 31/375 [00:07<01:20,  4.26it/s]\u001b[A\n",
            "Verification Evaluation:   9%|▊         | 32/375 [00:07<01:20,  4.27it/s]\u001b[A\n",
            "Verification Evaluation:   9%|▉         | 33/375 [00:08<01:33,  3.66it/s]\u001b[A\n",
            "Verification Evaluation:   9%|▉         | 34/375 [00:08<01:29,  3.83it/s]\u001b[A\n",
            "Verification Evaluation:   9%|▉         | 35/375 [00:08<01:43,  3.27it/s]\u001b[A\n",
            "Verification Evaluation:  10%|▉         | 36/375 [00:09<01:36,  3.50it/s]\u001b[A\n",
            "Verification Evaluation:  10%|▉         | 37/375 [00:09<01:43,  3.28it/s]\u001b[A\n",
            "Verification Evaluation:  10%|█         | 38/375 [00:09<01:34,  3.57it/s]\u001b[A\n",
            "Verification Evaluation:  10%|█         | 39/375 [00:10<01:54,  2.92it/s]\u001b[A\n",
            "Verification Evaluation:  11%|█         | 40/375 [00:10<01:44,  3.22it/s]\u001b[A\n",
            "Verification Evaluation:  11%|█         | 41/375 [00:10<01:49,  3.06it/s]\u001b[A\n",
            "Verification Evaluation:  11%|█         | 42/375 [00:10<01:39,  3.36it/s]\u001b[A\n",
            "Verification Evaluation:  11%|█▏        | 43/375 [00:11<01:32,  3.58it/s]\u001b[A\n",
            "Verification Evaluation:  12%|█▏        | 44/375 [00:11<01:28,  3.73it/s]\u001b[A\n",
            "Verification Evaluation:  12%|█▏        | 45/375 [00:11<01:25,  3.87it/s]\u001b[A\n",
            "Verification Evaluation:  12%|█▏        | 46/375 [00:11<01:22,  4.01it/s]\u001b[A\n",
            "Verification Evaluation:  13%|█▎        | 47/375 [00:12<01:20,  4.10it/s]\u001b[A\n",
            "Verification Evaluation:  13%|█▎        | 48/375 [00:12<01:18,  4.18it/s]\u001b[A\n",
            "Verification Evaluation:  13%|█▎        | 49/375 [00:12<01:18,  4.16it/s]\u001b[A\n",
            "Verification Evaluation:  13%|█▎        | 50/375 [00:12<01:16,  4.27it/s]\u001b[A\n",
            "Verification Evaluation:  14%|█▎        | 51/375 [00:13<01:15,  4.28it/s]\u001b[A\n",
            "Verification Evaluation:  14%|█▍        | 52/375 [00:13<01:15,  4.28it/s]\u001b[A\n",
            "Verification Evaluation:  14%|█▍        | 53/375 [00:13<01:15,  4.27it/s]\u001b[A\n",
            "Verification Evaluation:  14%|█▍        | 54/375 [00:13<01:14,  4.32it/s]\u001b[A\n",
            "Verification Evaluation:  15%|█▍        | 55/375 [00:13<01:14,  4.31it/s]\u001b[A\n",
            "Verification Evaluation:  15%|█▍        | 56/375 [00:14<01:14,  4.30it/s]\u001b[A\n",
            "Verification Evaluation:  15%|█▌        | 57/375 [00:14<01:13,  4.34it/s]\u001b[A\n",
            "Verification Evaluation:  15%|█▌        | 58/375 [00:14<01:13,  4.34it/s]\u001b[A\n",
            "Verification Evaluation:  16%|█▌        | 59/375 [00:14<01:12,  4.36it/s]\u001b[A\n",
            "Verification Evaluation:  16%|█▌        | 60/375 [00:15<01:12,  4.37it/s]\u001b[A\n",
            "Verification Evaluation:  16%|█▋        | 61/375 [00:15<01:11,  4.38it/s]\u001b[A\n",
            "Verification Evaluation:  17%|█▋        | 62/375 [00:15<01:11,  4.38it/s]\u001b[A\n",
            "Verification Evaluation:  17%|█▋        | 63/375 [00:15<01:11,  4.35it/s]\u001b[A\n",
            "Verification Evaluation:  17%|█▋        | 64/375 [00:16<01:11,  4.37it/s]\u001b[A\n",
            "Verification Evaluation:  17%|█▋        | 65/375 [00:16<01:11,  4.34it/s]\u001b[A\n",
            "Verification Evaluation:  18%|█▊        | 66/375 [00:16<01:11,  4.35it/s]\u001b[A\n",
            "Verification Evaluation:  18%|█▊        | 67/375 [00:16<01:11,  4.33it/s]\u001b[A\n",
            "Verification Evaluation:  18%|█▊        | 68/375 [00:16<01:10,  4.34it/s]\u001b[A\n",
            "Verification Evaluation:  18%|█▊        | 69/375 [00:17<01:09,  4.39it/s]\u001b[A\n",
            "Verification Evaluation:  19%|█▊        | 70/375 [00:17<01:09,  4.37it/s]\u001b[A\n",
            "Verification Evaluation:  19%|█▉        | 71/375 [00:17<01:09,  4.36it/s]\u001b[A\n",
            "Verification Evaluation:  19%|█▉        | 72/375 [00:17<01:09,  4.33it/s]\u001b[A\n",
            "Verification Evaluation:  19%|█▉        | 73/375 [00:18<01:09,  4.32it/s]\u001b[A\n",
            "Verification Evaluation:  20%|█▉        | 74/375 [00:18<01:09,  4.33it/s]\u001b[A\n",
            "Verification Evaluation:  20%|██        | 75/375 [00:18<01:09,  4.31it/s]\u001b[A\n",
            "Verification Evaluation:  20%|██        | 76/375 [00:18<01:09,  4.33it/s]\u001b[A\n",
            "Verification Evaluation:  21%|██        | 77/375 [00:19<01:09,  4.32it/s]\u001b[A\n",
            "Verification Evaluation:  21%|██        | 78/375 [00:19<01:08,  4.32it/s]\u001b[A\n",
            "Verification Evaluation:  21%|██        | 79/375 [00:19<01:08,  4.30it/s]\u001b[A\n",
            "Verification Evaluation:  21%|██▏       | 80/375 [00:19<01:08,  4.32it/s]\u001b[A\n",
            "Verification Evaluation:  22%|██▏       | 81/375 [00:19<01:08,  4.29it/s]\u001b[A\n",
            "Verification Evaluation:  22%|██▏       | 82/375 [00:20<01:08,  4.26it/s]\u001b[A\n",
            "Verification Evaluation:  22%|██▏       | 83/375 [00:20<01:08,  4.29it/s]\u001b[A\n",
            "Verification Evaluation:  22%|██▏       | 84/375 [00:20<01:07,  4.30it/s]\u001b[A\n",
            "Verification Evaluation:  23%|██▎       | 85/375 [00:20<01:07,  4.30it/s]\u001b[A\n",
            "Verification Evaluation:  23%|██▎       | 86/375 [00:21<01:07,  4.30it/s]\u001b[A\n",
            "Verification Evaluation:  23%|██▎       | 87/375 [00:21<01:06,  4.31it/s]\u001b[A\n",
            "Verification Evaluation:  23%|██▎       | 88/375 [00:21<01:07,  4.27it/s]\u001b[A\n",
            "Verification Evaluation:  24%|██▎       | 89/375 [00:21<01:07,  4.26it/s]\u001b[A\n",
            "Verification Evaluation:  24%|██▍       | 90/375 [00:22<01:06,  4.26it/s]\u001b[A\n",
            "Verification Evaluation:  24%|██▍       | 91/375 [00:22<01:06,  4.28it/s]\u001b[A\n",
            "Verification Evaluation:  25%|██▍       | 92/375 [00:22<01:22,  3.42it/s]\u001b[A\n",
            "Verification Evaluation:  25%|██▍       | 93/375 [00:22<01:17,  3.65it/s]\u001b[A\n",
            "Verification Evaluation:  25%|██▌       | 94/375 [00:23<01:20,  3.48it/s]\u001b[A\n",
            "Verification Evaluation:  25%|██▌       | 95/375 [00:23<01:15,  3.71it/s]\u001b[A\n",
            "Verification Evaluation:  26%|██▌       | 96/375 [00:23<01:30,  3.09it/s]\u001b[A\n",
            "Verification Evaluation:  26%|██▌       | 97/375 [00:24<01:22,  3.39it/s]\u001b[A\n",
            "Verification Evaluation:  26%|██▌       | 98/375 [00:24<01:22,  3.34it/s]\u001b[A\n",
            "Verification Evaluation:  26%|██▋       | 99/375 [00:24<01:18,  3.53it/s]\u001b[A\n",
            "Verification Evaluation:  27%|██▋       | 100/375 [00:25<01:26,  3.16it/s]\u001b[A\n",
            "Verification Evaluation:  27%|██▋       | 101/375 [00:25<01:20,  3.41it/s]\u001b[A\n",
            "Verification Evaluation:  27%|██▋       | 102/375 [00:25<01:14,  3.68it/s]\u001b[A\n",
            "Verification Evaluation:  27%|██▋       | 103/375 [00:25<01:11,  3.78it/s]\u001b[A\n",
            "Verification Evaluation:  28%|██▊       | 104/375 [00:26<01:09,  3.91it/s]\u001b[A\n",
            "Verification Evaluation:  28%|██▊       | 105/375 [00:26<01:06,  4.05it/s]\u001b[A\n",
            "Verification Evaluation:  28%|██▊       | 106/375 [00:26<01:04,  4.15it/s]\u001b[A\n",
            "Verification Evaluation:  29%|██▊       | 107/375 [00:26<01:04,  4.16it/s]\u001b[A\n",
            "Verification Evaluation:  29%|██▉       | 108/375 [00:26<01:03,  4.20it/s]\u001b[A\n",
            "Verification Evaluation:  29%|██▉       | 109/375 [00:27<01:02,  4.25it/s]\u001b[A\n",
            "Verification Evaluation:  29%|██▉       | 110/375 [00:27<01:02,  4.27it/s]\u001b[A\n",
            "Verification Evaluation:  30%|██▉       | 111/375 [00:27<01:01,  4.29it/s]\u001b[A\n",
            "Verification Evaluation:  30%|██▉       | 112/375 [00:27<01:01,  4.31it/s]\u001b[A\n",
            "Verification Evaluation:  30%|███       | 113/375 [00:28<01:01,  4.28it/s]\u001b[A\n",
            "Verification Evaluation:  30%|███       | 114/375 [00:28<01:00,  4.29it/s]\u001b[A\n",
            "Verification Evaluation:  31%|███       | 115/375 [00:28<01:00,  4.33it/s]\u001b[A\n",
            "Verification Evaluation:  31%|███       | 116/375 [00:28<01:00,  4.31it/s]\u001b[A\n",
            "Verification Evaluation:  31%|███       | 117/375 [00:29<00:59,  4.33it/s]\u001b[A\n",
            "Verification Evaluation:  31%|███▏      | 118/375 [00:29<00:59,  4.30it/s]\u001b[A\n",
            "Verification Evaluation:  32%|███▏      | 119/375 [00:29<00:58,  4.36it/s]\u001b[A\n",
            "Verification Evaluation:  32%|███▏      | 120/375 [00:29<00:58,  4.37it/s]\u001b[A\n",
            "Verification Evaluation:  32%|███▏      | 121/375 [00:29<00:58,  4.33it/s]\u001b[A\n",
            "Verification Evaluation:  33%|███▎      | 122/375 [00:30<00:58,  4.33it/s]\u001b[A\n",
            "Verification Evaluation:  33%|███▎      | 123/375 [00:30<00:58,  4.34it/s]\u001b[A\n",
            "Verification Evaluation:  33%|███▎      | 124/375 [00:30<00:58,  4.30it/s]\u001b[A\n",
            "Verification Evaluation:  33%|███▎      | 125/375 [00:30<00:58,  4.28it/s]\u001b[A\n",
            "Verification Evaluation:  34%|███▎      | 126/375 [00:31<00:58,  4.27it/s]\u001b[A\n",
            "Verification Evaluation:  34%|███▍      | 127/375 [00:31<00:57,  4.29it/s]\u001b[A\n",
            "Verification Evaluation:  34%|███▍      | 128/375 [00:31<00:57,  4.32it/s]\u001b[A\n",
            "Verification Evaluation:  34%|███▍      | 129/375 [00:31<00:57,  4.30it/s]\u001b[A\n",
            "Verification Evaluation:  35%|███▍      | 130/375 [00:32<00:56,  4.33it/s]\u001b[A\n",
            "Verification Evaluation:  35%|███▍      | 131/375 [00:32<00:56,  4.30it/s]\u001b[A\n",
            "Verification Evaluation:  35%|███▌      | 132/375 [00:32<00:56,  4.30it/s]\u001b[A\n",
            "Verification Evaluation:  35%|███▌      | 133/375 [00:32<00:56,  4.30it/s]\u001b[A\n",
            "Verification Evaluation:  36%|███▌      | 134/375 [00:32<00:55,  4.31it/s]\u001b[A\n",
            "Verification Evaluation:  36%|███▌      | 135/375 [00:33<00:55,  4.31it/s]\u001b[A\n",
            "Verification Evaluation:  36%|███▋      | 136/375 [00:33<00:55,  4.33it/s]\u001b[A\n",
            "Verification Evaluation:  37%|███▋      | 137/375 [00:33<00:55,  4.28it/s]\u001b[A\n",
            "Verification Evaluation:  37%|███▋      | 138/375 [00:33<00:55,  4.31it/s]\u001b[A\n",
            "Verification Evaluation:  37%|███▋      | 139/375 [00:34<00:54,  4.29it/s]\u001b[A\n",
            "Verification Evaluation:  37%|███▋      | 140/375 [00:34<00:55,  4.24it/s]\u001b[A\n",
            "Verification Evaluation:  38%|███▊      | 141/375 [00:34<00:55,  4.25it/s]\u001b[A\n",
            "Verification Evaluation:  38%|███▊      | 142/375 [00:34<00:54,  4.27it/s]\u001b[A\n",
            "Verification Evaluation:  38%|███▊      | 143/375 [00:35<00:54,  4.25it/s]\u001b[A\n",
            "Verification Evaluation:  38%|███▊      | 144/375 [00:35<00:54,  4.24it/s]\u001b[A\n",
            "Verification Evaluation:  39%|███▊      | 145/375 [00:35<00:54,  4.24it/s]\u001b[A\n",
            "Verification Evaluation:  39%|███▉      | 146/375 [00:35<00:54,  4.24it/s]\u001b[A\n",
            "Verification Evaluation:  39%|███▉      | 147/375 [00:36<00:54,  4.21it/s]\u001b[A\n",
            "Verification Evaluation:  39%|███▉      | 148/375 [00:36<00:53,  4.23it/s]\u001b[A\n",
            "Verification Evaluation:  40%|███▉      | 149/375 [00:36<00:58,  3.87it/s]\u001b[A\n",
            "Verification Evaluation:  40%|████      | 150/375 [00:36<00:56,  3.99it/s]\u001b[A\n",
            "Verification Evaluation:  40%|████      | 151/375 [00:37<01:15,  2.96it/s]\u001b[A\n",
            "Verification Evaluation:  41%|████      | 152/375 [00:37<01:07,  3.29it/s]\u001b[A\n",
            "Verification Evaluation:  41%|████      | 153/375 [00:37<01:05,  3.38it/s]\u001b[A\n",
            "Verification Evaluation:  41%|████      | 154/375 [00:38<01:01,  3.58it/s]\u001b[A\n",
            "Verification Evaluation:  41%|████▏     | 155/375 [00:38<01:13,  2.98it/s]\u001b[A\n",
            "Verification Evaluation:  42%|████▏     | 156/375 [00:38<01:06,  3.31it/s]\u001b[A\n",
            "Verification Evaluation:  42%|████▏     | 157/375 [00:39<01:09,  3.12it/s]\u001b[A\n",
            "Verification Evaluation:  42%|████▏     | 158/375 [00:39<01:04,  3.39it/s]\u001b[A\n",
            "Verification Evaluation:  42%|████▏     | 159/375 [00:39<00:59,  3.63it/s]\u001b[A\n",
            "Verification Evaluation:  43%|████▎     | 160/375 [00:39<00:56,  3.80it/s]\u001b[A\n",
            "Verification Evaluation:  43%|████▎     | 161/375 [00:40<00:58,  3.67it/s]\u001b[A\n",
            "Verification Evaluation:  43%|████▎     | 162/375 [00:40<00:55,  3.85it/s]\u001b[A\n",
            "Verification Evaluation:  43%|████▎     | 163/375 [00:40<00:52,  4.01it/s]\u001b[A\n",
            "Verification Evaluation:  44%|████▎     | 164/375 [00:40<00:51,  4.06it/s]\u001b[A\n",
            "Verification Evaluation:  44%|████▍     | 165/375 [00:41<00:50,  4.15it/s]\u001b[A\n",
            "Verification Evaluation:  44%|████▍     | 166/375 [00:41<00:49,  4.24it/s]\u001b[A\n",
            "Verification Evaluation:  45%|████▍     | 167/375 [00:41<00:48,  4.25it/s]\u001b[A\n",
            "Verification Evaluation:  45%|████▍     | 168/375 [00:41<00:48,  4.23it/s]\u001b[A\n",
            "Verification Evaluation:  45%|████▌     | 169/375 [00:42<00:48,  4.25it/s]\u001b[A\n",
            "Verification Evaluation:  45%|████▌     | 170/375 [00:42<00:47,  4.29it/s]\u001b[A\n",
            "Verification Evaluation:  46%|████▌     | 171/375 [00:42<00:47,  4.33it/s]\u001b[A\n",
            "Verification Evaluation:  46%|████▌     | 172/375 [00:42<00:47,  4.26it/s]\u001b[A\n",
            "Verification Evaluation:  46%|████▌     | 173/375 [00:42<00:46,  4.30it/s]\u001b[A\n",
            "Verification Evaluation:  46%|████▋     | 174/375 [00:43<00:46,  4.31it/s]\u001b[A\n",
            "Verification Evaluation:  47%|████▋     | 175/375 [00:43<00:46,  4.30it/s]\u001b[A\n",
            "Verification Evaluation:  47%|████▋     | 176/375 [00:43<00:46,  4.29it/s]\u001b[A\n",
            "Verification Evaluation:  47%|████▋     | 177/375 [00:43<00:46,  4.30it/s]\u001b[A\n",
            "Verification Evaluation:  47%|████▋     | 178/375 [00:44<00:45,  4.29it/s]\u001b[A\n",
            "Verification Evaluation:  48%|████▊     | 179/375 [00:44<00:45,  4.33it/s]\u001b[A\n",
            "Verification Evaluation:  48%|████▊     | 180/375 [00:44<00:45,  4.32it/s]\u001b[A\n",
            "Verification Evaluation:  48%|████▊     | 181/375 [00:44<00:45,  4.30it/s]\u001b[A\n",
            "Verification Evaluation:  49%|████▊     | 182/375 [00:45<00:44,  4.29it/s]\u001b[A\n",
            "Verification Evaluation:  49%|████▉     | 183/375 [00:45<00:44,  4.33it/s]\u001b[A\n",
            "Verification Evaluation:  49%|████▉     | 184/375 [00:45<00:44,  4.34it/s]\u001b[A\n",
            "Verification Evaluation:  49%|████▉     | 185/375 [00:45<00:44,  4.31it/s]\u001b[A\n",
            "Verification Evaluation:  50%|████▉     | 186/375 [00:45<00:44,  4.29it/s]\u001b[A\n",
            "Verification Evaluation:  50%|████▉     | 187/375 [00:46<00:43,  4.31it/s]\u001b[A\n",
            "Verification Evaluation:  50%|█████     | 188/375 [00:46<00:43,  4.32it/s]\u001b[A\n",
            "Verification Evaluation:  50%|█████     | 189/375 [00:46<00:43,  4.31it/s]\u001b[A\n",
            "Verification Evaluation:  51%|█████     | 190/375 [00:46<00:42,  4.32it/s]\u001b[A\n",
            "Verification Evaluation:  51%|█████     | 191/375 [00:47<00:42,  4.32it/s]\u001b[A\n",
            "Verification Evaluation:  51%|█████     | 192/375 [00:47<00:42,  4.34it/s]\u001b[A\n",
            "Verification Evaluation:  51%|█████▏    | 193/375 [00:47<00:42,  4.30it/s]\u001b[A\n",
            "Verification Evaluation:  52%|█████▏    | 194/375 [00:47<00:42,  4.29it/s]\u001b[A\n",
            "Verification Evaluation:  52%|█████▏    | 195/375 [00:48<00:42,  4.28it/s]\u001b[A\n",
            "Verification Evaluation:  52%|█████▏    | 196/375 [00:48<00:41,  4.29it/s]\u001b[A\n",
            "Verification Evaluation:  53%|█████▎    | 197/375 [00:48<00:41,  4.29it/s]\u001b[A\n",
            "Verification Evaluation:  53%|█████▎    | 198/375 [00:48<00:41,  4.32it/s]\u001b[A\n",
            "Verification Evaluation:  53%|█████▎    | 199/375 [00:48<00:40,  4.31it/s]\u001b[A\n",
            "Verification Evaluation:  53%|█████▎    | 200/375 [00:49<00:40,  4.31it/s]\u001b[A\n",
            "Verification Evaluation:  54%|█████▎    | 201/375 [00:49<00:40,  4.29it/s]\u001b[A\n",
            "Verification Evaluation:  54%|█████▍    | 202/375 [00:49<00:40,  4.31it/s]\u001b[A\n",
            "Verification Evaluation:  54%|█████▍    | 203/375 [00:49<00:40,  4.23it/s]\u001b[A\n",
            "Verification Evaluation:  54%|█████▍    | 204/375 [00:50<00:39,  4.28it/s]\u001b[A\n",
            "Verification Evaluation:  55%|█████▍    | 205/375 [00:50<00:39,  4.30it/s]\u001b[A\n",
            "Verification Evaluation:  55%|█████▍    | 206/375 [00:50<00:39,  4.23it/s]\u001b[A\n",
            "Verification Evaluation:  55%|█████▌    | 207/375 [00:50<00:43,  3.89it/s]\u001b[A\n",
            "Verification Evaluation:  55%|█████▌    | 208/375 [00:51<00:45,  3.64it/s]\u001b[A\n",
            "Verification Evaluation:  56%|█████▌    | 209/375 [00:51<00:53,  3.09it/s]\u001b[A\n",
            "Verification Evaluation:  56%|█████▌    | 210/375 [00:51<00:48,  3.40it/s]\u001b[A\n",
            "Verification Evaluation:  56%|█████▋    | 211/375 [00:52<00:58,  2.79it/s]\u001b[A\n",
            "Verification Evaluation:  57%|█████▋    | 212/375 [00:52<00:51,  3.13it/s]\u001b[A\n",
            "Verification Evaluation:  57%|█████▋    | 213/375 [00:53<00:56,  2.87it/s]\u001b[A\n",
            "Verification Evaluation:  57%|█████▋    | 214/375 [00:53<00:49,  3.23it/s]\u001b[A\n",
            "Verification Evaluation:  57%|█████▋    | 215/375 [00:53<00:49,  3.21it/s]\u001b[A\n",
            "Verification Evaluation:  58%|█████▊    | 216/375 [00:53<00:45,  3.47it/s]\u001b[A\n",
            "Verification Evaluation:  58%|█████▊    | 217/375 [00:54<00:43,  3.66it/s]\u001b[A\n",
            "Verification Evaluation:  58%|█████▊    | 218/375 [00:54<00:41,  3.80it/s]\u001b[A\n",
            "Verification Evaluation:  58%|█████▊    | 219/375 [00:54<00:39,  3.94it/s]\u001b[A\n",
            "Verification Evaluation:  59%|█████▊    | 220/375 [00:54<00:38,  4.08it/s]\u001b[A\n",
            "Verification Evaluation:  59%|█████▉    | 221/375 [00:54<00:36,  4.19it/s]\u001b[A\n",
            "Verification Evaluation:  59%|█████▉    | 222/375 [00:55<00:36,  4.19it/s]\u001b[A\n",
            "Verification Evaluation:  59%|█████▉    | 223/375 [00:55<00:35,  4.24it/s]\u001b[A\n",
            "Verification Evaluation:  60%|█████▉    | 224/375 [00:55<00:35,  4.27it/s]\u001b[A\n",
            "Verification Evaluation:  60%|██████    | 225/375 [00:55<00:34,  4.32it/s]\u001b[A\n",
            "Verification Evaluation:  60%|██████    | 226/375 [00:56<00:34,  4.29it/s]\u001b[A\n",
            "Verification Evaluation:  61%|██████    | 227/375 [00:56<00:34,  4.32it/s]\u001b[A\n",
            "Verification Evaluation:  61%|██████    | 228/375 [00:56<00:33,  4.34it/s]\u001b[A\n",
            "Verification Evaluation:  61%|██████    | 229/375 [00:56<00:33,  4.36it/s]\u001b[A\n",
            "Verification Evaluation:  61%|██████▏   | 230/375 [00:57<00:33,  4.36it/s]\u001b[A\n",
            "Verification Evaluation:  62%|██████▏   | 231/375 [00:57<00:32,  4.38it/s]\u001b[A\n",
            "Verification Evaluation:  62%|██████▏   | 232/375 [00:57<00:32,  4.38it/s]\u001b[A\n",
            "Verification Evaluation:  62%|██████▏   | 233/375 [00:57<00:32,  4.36it/s]\u001b[A\n",
            "Verification Evaluation:  62%|██████▏   | 234/375 [00:57<00:32,  4.33it/s]\u001b[A\n",
            "Verification Evaluation:  63%|██████▎   | 235/375 [00:58<00:32,  4.34it/s]\u001b[A\n",
            "Verification Evaluation:  63%|██████▎   | 236/375 [00:58<00:32,  4.34it/s]\u001b[A\n",
            "Verification Evaluation:  63%|██████▎   | 237/375 [00:58<00:32,  4.29it/s]\u001b[A\n",
            "Verification Evaluation:  63%|██████▎   | 238/375 [00:58<00:31,  4.29it/s]\u001b[A\n",
            "Verification Evaluation:  64%|██████▎   | 239/375 [00:59<00:31,  4.27it/s]\u001b[A\n",
            "Verification Evaluation:  64%|██████▍   | 240/375 [00:59<00:31,  4.33it/s]\u001b[A\n",
            "Verification Evaluation:  64%|██████▍   | 241/375 [00:59<00:30,  4.35it/s]\u001b[A\n",
            "Verification Evaluation:  65%|██████▍   | 242/375 [00:59<00:30,  4.34it/s]\u001b[A\n",
            "Verification Evaluation:  65%|██████▍   | 243/375 [01:00<00:30,  4.33it/s]\u001b[A\n",
            "Verification Evaluation:  65%|██████▌   | 244/375 [01:00<00:30,  4.36it/s]\u001b[A\n",
            "Verification Evaluation:  65%|██████▌   | 245/375 [01:00<00:29,  4.35it/s]\u001b[A\n",
            "Verification Evaluation:  66%|██████▌   | 246/375 [01:00<00:29,  4.36it/s]\u001b[A\n",
            "Verification Evaluation:  66%|██████▌   | 247/375 [01:00<00:29,  4.33it/s]\u001b[A\n",
            "Verification Evaluation:  66%|██████▌   | 248/375 [01:01<00:29,  4.34it/s]\u001b[A\n",
            "Verification Evaluation:  66%|██████▋   | 249/375 [01:01<00:29,  4.29it/s]\u001b[A\n",
            "Verification Evaluation:  67%|██████▋   | 250/375 [01:01<00:28,  4.32it/s]\u001b[A\n",
            "Verification Evaluation:  67%|██████▋   | 251/375 [01:01<00:28,  4.32it/s]\u001b[A\n",
            "Verification Evaluation:  67%|██████▋   | 252/375 [01:02<00:28,  4.32it/s]\u001b[A\n",
            "Verification Evaluation:  67%|██████▋   | 253/375 [01:02<00:28,  4.34it/s]\u001b[A\n",
            "Verification Evaluation:  68%|██████▊   | 254/375 [01:02<00:27,  4.35it/s]\u001b[A\n",
            "Verification Evaluation:  68%|██████▊   | 255/375 [01:02<00:27,  4.34it/s]\u001b[A\n",
            "Verification Evaluation:  68%|██████▊   | 256/375 [01:03<00:27,  4.34it/s]\u001b[A\n",
            "Verification Evaluation:  69%|██████▊   | 257/375 [01:03<00:27,  4.33it/s]\u001b[A\n",
            "Verification Evaluation:  69%|██████▉   | 258/375 [01:03<00:27,  4.30it/s]\u001b[A\n",
            "Verification Evaluation:  69%|██████▉   | 259/375 [01:03<00:26,  4.33it/s]\u001b[A\n",
            "Verification Evaluation:  69%|██████▉   | 260/375 [01:03<00:26,  4.31it/s]\u001b[A\n",
            "Verification Evaluation:  70%|██████▉   | 261/375 [01:04<00:26,  4.33it/s]\u001b[A\n",
            "Verification Evaluation:  70%|██████▉   | 262/375 [01:04<00:26,  4.33it/s]\u001b[A\n",
            "Verification Evaluation:  70%|███████   | 263/375 [01:04<00:31,  3.59it/s]\u001b[A\n",
            "Verification Evaluation:  70%|███████   | 264/375 [01:05<00:29,  3.80it/s]\u001b[A\n",
            "Verification Evaluation:  71%|███████   | 265/375 [01:05<00:33,  3.26it/s]\u001b[A\n",
            "Verification Evaluation:  71%|███████   | 266/375 [01:05<00:32,  3.34it/s]\u001b[A\n",
            "Verification Evaluation:  71%|███████   | 267/375 [01:06<00:37,  2.90it/s]\u001b[A\n",
            "Verification Evaluation:  71%|███████▏  | 268/375 [01:06<00:34,  3.13it/s]\u001b[A\n",
            "Verification Evaluation:  72%|███████▏  | 269/375 [01:06<00:37,  2.85it/s]\u001b[A\n",
            "Verification Evaluation:  72%|███████▏  | 270/375 [01:07<00:32,  3.19it/s]\u001b[A\n",
            "Verification Evaluation:  72%|███████▏  | 271/375 [01:07<00:30,  3.44it/s]\u001b[A\n",
            "Verification Evaluation:  73%|███████▎  | 272/375 [01:07<00:28,  3.62it/s]\u001b[A\n",
            "Verification Evaluation:  73%|███████▎  | 273/375 [01:07<00:27,  3.77it/s]\u001b[A\n",
            "Verification Evaluation:  73%|███████▎  | 274/375 [01:08<00:25,  3.92it/s]\u001b[A\n",
            "Verification Evaluation:  73%|███████▎  | 275/375 [01:08<00:24,  4.07it/s]\u001b[A\n",
            "Verification Evaluation:  74%|███████▎  | 276/375 [01:08<00:24,  4.12it/s]\u001b[A\n",
            "Verification Evaluation:  74%|███████▍  | 277/375 [01:08<00:23,  4.17it/s]\u001b[A\n",
            "Verification Evaluation:  74%|███████▍  | 278/375 [01:09<00:22,  4.24it/s]\u001b[A\n",
            "Verification Evaluation:  74%|███████▍  | 279/375 [01:09<00:22,  4.25it/s]\u001b[A\n",
            "Verification Evaluation:  75%|███████▍  | 280/375 [01:09<00:22,  4.29it/s]\u001b[A\n",
            "Verification Evaluation:  75%|███████▍  | 281/375 [01:09<00:21,  4.28it/s]\u001b[A\n",
            "Verification Evaluation:  75%|███████▌  | 282/375 [01:09<00:21,  4.26it/s]\u001b[A\n",
            "Verification Evaluation:  75%|███████▌  | 283/375 [01:10<00:21,  4.30it/s]\u001b[A\n",
            "Verification Evaluation:  76%|███████▌  | 284/375 [01:10<00:21,  4.29it/s]\u001b[A\n",
            "Verification Evaluation:  76%|███████▌  | 285/375 [01:10<00:20,  4.30it/s]\u001b[A\n",
            "Verification Evaluation:  76%|███████▋  | 286/375 [01:10<00:20,  4.26it/s]\u001b[A\n",
            "Verification Evaluation:  77%|███████▋  | 287/375 [01:11<00:20,  4.25it/s]\u001b[A\n",
            "Verification Evaluation:  77%|███████▋  | 288/375 [01:11<00:21,  4.00it/s]\u001b[A\n",
            "Verification Evaluation:  77%|███████▋  | 289/375 [01:11<00:24,  3.47it/s]\u001b[A\n",
            "Verification Evaluation:  77%|███████▋  | 290/375 [01:11<00:23,  3.68it/s]\u001b[A\n",
            "Verification Evaluation:  78%|███████▊  | 291/375 [01:12<00:23,  3.64it/s]\u001b[A\n",
            "Verification Evaluation:  78%|███████▊  | 292/375 [01:12<00:22,  3.73it/s]\u001b[A\n",
            "Verification Evaluation:  78%|███████▊  | 293/375 [01:13<00:29,  2.78it/s]\u001b[A\n",
            "Verification Evaluation:  78%|███████▊  | 294/375 [01:13<00:27,  2.98it/s]\u001b[A\n",
            "Verification Evaluation:  79%|███████▊  | 295/375 [01:13<00:24,  3.20it/s]\u001b[A\n",
            "Verification Evaluation:  79%|███████▉  | 296/375 [01:13<00:22,  3.49it/s]\u001b[A\n",
            "Verification Evaluation:  79%|███████▉  | 297/375 [01:14<00:21,  3.68it/s]\u001b[A\n",
            "Verification Evaluation:  79%|███████▉  | 298/375 [01:14<00:20,  3.83it/s]\u001b[A\n",
            "Verification Evaluation:  80%|███████▉  | 299/375 [01:14<00:19,  3.96it/s]\u001b[A\n",
            "Verification Evaluation:  80%|████████  | 300/375 [01:14<00:18,  4.08it/s]\u001b[A\n",
            "Verification Evaluation:  80%|████████  | 301/375 [01:15<00:17,  4.16it/s]\u001b[A\n",
            "Verification Evaluation:  81%|████████  | 302/375 [01:15<00:17,  4.21it/s]\u001b[A\n",
            "Verification Evaluation:  81%|████████  | 303/375 [01:15<00:16,  4.24it/s]\u001b[A\n",
            "Verification Evaluation:  81%|████████  | 304/375 [01:15<00:16,  4.32it/s]\u001b[A\n",
            "Verification Evaluation:  81%|████████▏ | 305/375 [01:15<00:16,  4.35it/s]\u001b[A\n",
            "Verification Evaluation:  82%|████████▏ | 306/375 [01:16<00:15,  4.34it/s]\u001b[A\n",
            "Verification Evaluation:  82%|████████▏ | 307/375 [01:16<00:15,  4.33it/s]\u001b[A\n",
            "Verification Evaluation:  82%|████████▏ | 308/375 [01:16<00:15,  4.31it/s]\u001b[A\n",
            "Verification Evaluation:  82%|████████▏ | 309/375 [01:16<00:15,  4.23it/s]\u001b[A\n",
            "Verification Evaluation:  83%|████████▎ | 310/375 [01:17<00:15,  4.31it/s]\u001b[A\n",
            "Verification Evaluation:  83%|████████▎ | 311/375 [01:17<00:14,  4.33it/s]\u001b[A\n",
            "Verification Evaluation:  83%|████████▎ | 312/375 [01:17<00:14,  4.35it/s]\u001b[A\n",
            "Verification Evaluation:  83%|████████▎ | 313/375 [01:17<00:15,  3.99it/s]\u001b[A\n",
            "Verification Evaluation:  84%|████████▎ | 314/375 [01:18<00:15,  4.02it/s]\u001b[A\n",
            "Verification Evaluation:  84%|████████▍ | 315/375 [01:18<00:21,  2.76it/s]\u001b[A\n",
            "Verification Evaluation:  84%|████████▍ | 316/375 [01:18<00:19,  3.06it/s]\u001b[A\n",
            "Verification Evaluation:  85%|████████▍ | 317/375 [01:19<00:18,  3.06it/s]\u001b[A\n",
            "Verification Evaluation:  85%|████████▍ | 318/375 [01:19<00:17,  3.33it/s]\u001b[A\n",
            "Verification Evaluation:  85%|████████▌ | 319/375 [01:19<00:17,  3.16it/s]\u001b[A\n",
            "Verification Evaluation:  85%|████████▌ | 320/375 [01:20<00:15,  3.45it/s]\u001b[A\n",
            "Verification Evaluation:  86%|████████▌ | 321/375 [01:20<00:16,  3.30it/s]\u001b[A\n",
            "Verification Evaluation:  86%|████████▌ | 322/375 [01:20<00:14,  3.55it/s]\u001b[A\n",
            "Verification Evaluation:  86%|████████▌ | 323/375 [01:21<00:17,  3.05it/s]\u001b[A\n",
            "Verification Evaluation:  86%|████████▋ | 324/375 [01:21<00:15,  3.36it/s]\u001b[A\n",
            "Verification Evaluation:  87%|████████▋ | 325/375 [01:21<00:15,  3.24it/s]\u001b[A\n",
            "Verification Evaluation:  87%|████████▋ | 326/375 [01:21<00:14,  3.50it/s]\u001b[A\n",
            "Verification Evaluation:  87%|████████▋ | 327/375 [01:22<00:12,  3.74it/s]\u001b[A\n",
            "Verification Evaluation:  87%|████████▋ | 328/375 [01:22<00:12,  3.84it/s]\u001b[A\n",
            "Verification Evaluation:  88%|████████▊ | 329/375 [01:22<00:11,  3.98it/s]\u001b[A\n",
            "Verification Evaluation:  88%|████████▊ | 330/375 [01:22<00:11,  4.08it/s]\u001b[A\n",
            "Verification Evaluation:  88%|████████▊ | 331/375 [01:23<00:10,  4.17it/s]\u001b[A\n",
            "Verification Evaluation:  89%|████████▊ | 332/375 [01:23<00:10,  4.22it/s]\u001b[A\n",
            "Verification Evaluation:  89%|████████▉ | 333/375 [01:23<00:09,  4.27it/s]\u001b[A\n",
            "Verification Evaluation:  89%|████████▉ | 334/375 [01:23<00:09,  4.26it/s]\u001b[A\n",
            "Verification Evaluation:  89%|████████▉ | 335/375 [01:23<00:09,  4.36it/s]\u001b[A\n",
            "Verification Evaluation:  90%|████████▉ | 336/375 [01:24<00:08,  4.37it/s]\u001b[A\n",
            "Verification Evaluation:  90%|████████▉ | 337/375 [01:24<00:08,  4.38it/s]\u001b[A\n",
            "Verification Evaluation:  90%|█████████ | 338/375 [01:24<00:08,  4.41it/s]\u001b[A\n",
            "Verification Evaluation:  90%|█████████ | 339/375 [01:24<00:08,  4.38it/s]\u001b[A\n",
            "Verification Evaluation:  91%|█████████ | 340/375 [01:25<00:08,  4.37it/s]\u001b[A\n",
            "Verification Evaluation:  91%|█████████ | 341/375 [01:25<00:07,  4.39it/s]\u001b[A\n",
            "Verification Evaluation:  91%|█████████ | 342/375 [01:25<00:07,  4.41it/s]\u001b[A\n",
            "Verification Evaluation:  91%|█████████▏| 343/375 [01:25<00:07,  4.37it/s]\u001b[A\n",
            "Verification Evaluation:  92%|█████████▏| 344/375 [01:26<00:07,  4.37it/s]\u001b[A\n",
            "Verification Evaluation:  92%|█████████▏| 345/375 [01:26<00:06,  4.35it/s]\u001b[A\n",
            "Verification Evaluation:  92%|█████████▏| 346/375 [01:26<00:06,  4.36it/s]\u001b[A\n",
            "Verification Evaluation:  93%|█████████▎| 347/375 [01:26<00:06,  4.33it/s]\u001b[A\n",
            "Verification Evaluation:  93%|█████████▎| 348/375 [01:26<00:06,  4.33it/s]\u001b[A\n",
            "Verification Evaluation:  93%|█████████▎| 349/375 [01:27<00:06,  4.30it/s]\u001b[A\n",
            "Verification Evaluation:  93%|█████████▎| 350/375 [01:27<00:05,  4.33it/s]\u001b[A\n",
            "Verification Evaluation:  94%|█████████▎| 351/375 [01:27<00:05,  4.34it/s]\u001b[A\n",
            "Verification Evaluation:  94%|█████████▍| 352/375 [01:27<00:05,  4.37it/s]\u001b[A\n",
            "Verification Evaluation:  94%|█████████▍| 353/375 [01:28<00:05,  4.35it/s]\u001b[A\n",
            "Verification Evaluation:  94%|█████████▍| 354/375 [01:28<00:04,  4.39it/s]\u001b[A\n",
            "Verification Evaluation:  95%|█████████▍| 355/375 [01:28<00:04,  4.39it/s]\u001b[A\n",
            "Verification Evaluation:  95%|█████████▍| 356/375 [01:28<00:04,  4.35it/s]\u001b[A\n",
            "Verification Evaluation:  95%|█████████▌| 357/375 [01:29<00:04,  4.34it/s]\u001b[A\n",
            "Verification Evaluation:  95%|█████████▌| 358/375 [01:29<00:03,  4.32it/s]\u001b[A\n",
            "Verification Evaluation:  96%|█████████▌| 359/375 [01:29<00:03,  4.35it/s]\u001b[A\n",
            "Verification Evaluation:  96%|█████████▌| 360/375 [01:29<00:03,  4.36it/s]\u001b[A\n",
            "Verification Evaluation:  96%|█████████▋| 361/375 [01:29<00:03,  4.37it/s]\u001b[A\n",
            "Verification Evaluation:  97%|█████████▋| 362/375 [01:30<00:02,  4.36it/s]\u001b[A\n",
            "Verification Evaluation:  97%|█████████▋| 363/375 [01:30<00:02,  4.31it/s]\u001b[A\n",
            "Verification Evaluation:  97%|█████████▋| 364/375 [01:30<00:02,  4.31it/s]\u001b[A\n",
            "Verification Evaluation:  97%|█████████▋| 365/375 [01:30<00:02,  4.32it/s]\u001b[A\n",
            "Verification Evaluation:  98%|█████████▊| 366/375 [01:31<00:02,  4.27it/s]\u001b[A\n",
            "Verification Evaluation:  98%|█████████▊| 367/375 [01:31<00:01,  4.28it/s]\u001b[A\n",
            "Verification Evaluation:  98%|█████████▊| 368/375 [01:31<00:01,  4.30it/s]\u001b[A\n",
            "Verification Evaluation:  98%|█████████▊| 369/375 [01:31<00:01,  4.32it/s]\u001b[A\n",
            "Verification Evaluation:  99%|█████████▊| 370/375 [01:32<00:01,  4.33it/s]\u001b[A\n",
            "Verification Evaluation:  99%|█████████▉| 371/375 [01:32<00:00,  4.29it/s]\u001b[A\n",
            "Verification Evaluation:  99%|█████████▉| 372/375 [01:32<00:00,  4.27it/s]\u001b[A\n",
            "Verification Evaluation:  99%|█████████▉| 373/375 [01:32<00:00,  4.09it/s]\u001b[A\n",
            "Verification Evaluation: 100%|█████████▉| 374/375 [01:33<00:00,  3.41it/s]\u001b[A\n",
            "Verification Evaluation: 100%|██████████| 375/375 [01:33<00:00,  4.01it/s]\n",
            "Evaluating subsets:  67%|██████▋   | 4/6 [03:19<02:02, 61.46s/it]"
          ]
        },
        {
          "output_type": "stream",
          "name": "stdout",
          "text": [
            "Verification dataset initialized with 4000 pairs\n"
          ]
        },
        {
          "output_type": "stream",
          "name": "stderr",
          "text": [
            "\n",
            "Verification Evaluation:   0%|          | 0/500 [00:00<?, ?it/s]\u001b[A\n",
            "Verification Evaluation:   0%|          | 1/500 [00:00<07:42,  1.08it/s]\u001b[A\n",
            "Verification Evaluation:   0%|          | 2/500 [00:01<04:16,  1.94it/s]\u001b[A\n",
            "Verification Evaluation:   1%|          | 3/500 [00:01<03:31,  2.35it/s]\u001b[A\n",
            "Verification Evaluation:   1%|          | 4/500 [00:01<02:52,  2.87it/s]\u001b[A\n",
            "Verification Evaluation:   1%|          | 5/500 [00:01<02:30,  3.28it/s]\u001b[A\n",
            "Verification Evaluation:   1%|          | 6/500 [00:02<02:20,  3.53it/s]\u001b[A\n",
            "Verification Evaluation:   1%|▏         | 7/500 [00:02<02:15,  3.64it/s]\u001b[A\n",
            "Verification Evaluation:   2%|▏         | 8/500 [00:02<02:07,  3.87it/s]\u001b[A\n",
            "Verification Evaluation:   2%|▏         | 9/500 [00:02<02:03,  3.99it/s]\u001b[A\n",
            "Verification Evaluation:   2%|▏         | 10/500 [00:03<01:59,  4.09it/s]\u001b[A\n",
            "Verification Evaluation:   2%|▏         | 11/500 [00:03<01:57,  4.15it/s]\u001b[A\n",
            "Verification Evaluation:   2%|▏         | 12/500 [00:03<01:55,  4.22it/s]\u001b[A\n",
            "Verification Evaluation:   3%|▎         | 13/500 [00:03<01:54,  4.26it/s]\u001b[A\n",
            "Verification Evaluation:   3%|▎         | 14/500 [00:04<01:52,  4.32it/s]\u001b[A\n",
            "Verification Evaluation:   3%|▎         | 15/500 [00:04<01:51,  4.34it/s]\u001b[A\n",
            "Verification Evaluation:   3%|▎         | 16/500 [00:04<01:51,  4.33it/s]\u001b[A\n",
            "Verification Evaluation:   3%|▎         | 17/500 [00:04<01:50,  4.38it/s]\u001b[A\n",
            "Verification Evaluation:   4%|▎         | 18/500 [00:04<01:51,  4.34it/s]\u001b[A\n",
            "Verification Evaluation:   4%|▍         | 19/500 [00:05<01:50,  4.34it/s]\u001b[A\n",
            "Verification Evaluation:   4%|▍         | 20/500 [00:05<01:51,  4.30it/s]\u001b[A\n",
            "Verification Evaluation:   4%|▍         | 21/500 [00:05<01:50,  4.34it/s]\u001b[A\n",
            "Verification Evaluation:   4%|▍         | 22/500 [00:05<01:49,  4.38it/s]\u001b[A\n",
            "Verification Evaluation:   5%|▍         | 23/500 [00:06<01:49,  4.37it/s]\u001b[A\n",
            "Verification Evaluation:   5%|▍         | 24/500 [00:06<01:49,  4.35it/s]\u001b[A\n",
            "Verification Evaluation:   5%|▌         | 25/500 [00:06<01:49,  4.34it/s]\u001b[A\n",
            "Verification Evaluation:   5%|▌         | 26/500 [00:06<01:49,  4.31it/s]\u001b[A\n",
            "Verification Evaluation:   5%|▌         | 27/500 [00:07<01:49,  4.34it/s]\u001b[A\n",
            "Verification Evaluation:   6%|▌         | 28/500 [00:07<01:47,  4.37it/s]\u001b[A\n",
            "Verification Evaluation:   6%|▌         | 29/500 [00:07<01:48,  4.36it/s]\u001b[A\n",
            "Verification Evaluation:   6%|▌         | 30/500 [00:07<01:48,  4.33it/s]\u001b[A\n",
            "Verification Evaluation:   6%|▌         | 31/500 [00:07<01:48,  4.31it/s]\u001b[A\n",
            "Verification Evaluation:   6%|▋         | 32/500 [00:08<01:47,  4.35it/s]\u001b[A\n",
            "Verification Evaluation:   7%|▋         | 33/500 [00:08<01:46,  4.37it/s]\u001b[A\n",
            "Verification Evaluation:   7%|▋         | 34/500 [00:08<01:46,  4.36it/s]\u001b[A\n",
            "Verification Evaluation:   7%|▋         | 35/500 [00:08<01:47,  4.34it/s]\u001b[A\n",
            "Verification Evaluation:   7%|▋         | 36/500 [00:09<01:47,  4.32it/s]\u001b[A\n",
            "Verification Evaluation:   7%|▋         | 37/500 [00:09<01:48,  4.29it/s]\u001b[A\n",
            "Verification Evaluation:   8%|▊         | 38/500 [00:09<01:47,  4.29it/s]\u001b[A\n",
            "Verification Evaluation:   8%|▊         | 39/500 [00:09<01:46,  4.31it/s]\u001b[A\n",
            "Verification Evaluation:   8%|▊         | 40/500 [00:10<01:45,  4.34it/s]\u001b[A\n",
            "Verification Evaluation:   8%|▊         | 41/500 [00:10<01:45,  4.34it/s]\u001b[A\n",
            "Verification Evaluation:   8%|▊         | 42/500 [00:10<01:45,  4.35it/s]\u001b[A\n",
            "Verification Evaluation:   9%|▊         | 43/500 [00:10<01:45,  4.34it/s]\u001b[A\n",
            "Verification Evaluation:   9%|▉         | 44/500 [00:10<01:45,  4.33it/s]\u001b[A\n",
            "Verification Evaluation:   9%|▉         | 45/500 [00:11<01:44,  4.34it/s]\u001b[A\n",
            "Verification Evaluation:   9%|▉         | 46/500 [00:11<01:44,  4.34it/s]\u001b[A\n",
            "Verification Evaluation:   9%|▉         | 47/500 [00:11<01:45,  4.30it/s]\u001b[A\n",
            "Verification Evaluation:  10%|▉         | 48/500 [00:11<01:44,  4.31it/s]\u001b[A\n",
            "Verification Evaluation:  10%|▉         | 49/500 [00:12<01:44,  4.33it/s]\u001b[A\n",
            "Verification Evaluation:  10%|█         | 50/500 [00:12<01:45,  4.28it/s]\u001b[A\n",
            "Verification Evaluation:  10%|█         | 51/500 [00:12<01:44,  4.31it/s]\u001b[A\n",
            "Verification Evaluation:  10%|█         | 52/500 [00:12<01:43,  4.33it/s]\u001b[A\n",
            "Verification Evaluation:  11%|█         | 53/500 [00:13<01:50,  4.03it/s]\u001b[A\n",
            "Verification Evaluation:  11%|█         | 54/500 [00:13<01:48,  4.10it/s]\u001b[A\n",
            "Verification Evaluation:  11%|█         | 55/500 [00:13<02:33,  2.91it/s]\u001b[A\n",
            "Verification Evaluation:  11%|█         | 56/500 [00:14<02:18,  3.20it/s]\u001b[A\n",
            "Verification Evaluation:  11%|█▏        | 57/500 [00:14<02:06,  3.49it/s]\u001b[A\n",
            "Verification Evaluation:  12%|█▏        | 58/500 [00:14<01:59,  3.71it/s]\u001b[A\n",
            "Verification Evaluation:  12%|█▏        | 59/500 [00:14<02:08,  3.44it/s]\u001b[A\n",
            "Verification Evaluation:  12%|█▏        | 60/500 [00:15<02:05,  3.49it/s]\u001b[A\n",
            "Verification Evaluation:  12%|█▏        | 61/500 [00:15<02:15,  3.24it/s]\u001b[A\n",
            "Verification Evaluation:  12%|█▏        | 62/500 [00:15<02:04,  3.53it/s]\u001b[A\n",
            "Verification Evaluation:  13%|█▎        | 63/500 [00:16<02:02,  3.57it/s]\u001b[A\n",
            "Verification Evaluation:  13%|█▎        | 64/500 [00:16<01:56,  3.73it/s]\u001b[A\n",
            "Verification Evaluation:  13%|█▎        | 65/500 [00:16<01:51,  3.90it/s]\u001b[A\n",
            "Verification Evaluation:  13%|█▎        | 66/500 [00:16<01:48,  3.99it/s]\u001b[A\n",
            "Verification Evaluation:  13%|█▎        | 67/500 [00:16<01:44,  4.13it/s]\u001b[A\n",
            "Verification Evaluation:  14%|█▎        | 68/500 [00:17<01:43,  4.19it/s]\u001b[A\n",
            "Verification Evaluation:  14%|█▍        | 69/500 [00:17<01:40,  4.27it/s]\u001b[A\n",
            "Verification Evaluation:  14%|█▍        | 70/500 [00:17<01:40,  4.29it/s]\u001b[A\n",
            "Verification Evaluation:  14%|█▍        | 71/500 [00:17<01:38,  4.35it/s]\u001b[A\n",
            "Verification Evaluation:  14%|█▍        | 72/500 [00:18<01:37,  4.38it/s]\u001b[A\n",
            "Verification Evaluation:  15%|█▍        | 73/500 [00:18<01:37,  4.39it/s]\u001b[A\n",
            "Verification Evaluation:  15%|█▍        | 74/500 [00:18<01:37,  4.37it/s]\u001b[A\n",
            "Verification Evaluation:  15%|█▌        | 75/500 [00:18<01:37,  4.34it/s]\u001b[A\n",
            "Verification Evaluation:  15%|█▌        | 76/500 [00:19<01:37,  4.37it/s]\u001b[A\n",
            "Verification Evaluation:  15%|█▌        | 77/500 [00:19<01:37,  4.33it/s]\u001b[A\n",
            "Verification Evaluation:  16%|█▌        | 78/500 [00:19<01:36,  4.35it/s]\u001b[A\n",
            "Verification Evaluation:  16%|█▌        | 79/500 [00:19<01:37,  4.32it/s]\u001b[A\n",
            "Verification Evaluation:  16%|█▌        | 80/500 [00:19<01:36,  4.36it/s]\u001b[A\n",
            "Verification Evaluation:  16%|█▌        | 81/500 [00:20<01:35,  4.38it/s]\u001b[A\n",
            "Verification Evaluation:  16%|█▋        | 82/500 [00:20<01:35,  4.37it/s]\u001b[A\n",
            "Verification Evaluation:  17%|█▋        | 83/500 [00:20<01:35,  4.34it/s]\u001b[A\n",
            "Verification Evaluation:  17%|█▋        | 84/500 [00:20<01:35,  4.37it/s]\u001b[A\n",
            "Verification Evaluation:  17%|█▋        | 85/500 [00:21<01:36,  4.30it/s]\u001b[A\n",
            "Verification Evaluation:  17%|█▋        | 86/500 [00:21<01:35,  4.32it/s]\u001b[A\n",
            "Verification Evaluation:  17%|█▋        | 87/500 [00:21<01:35,  4.30it/s]\u001b[A\n",
            "Verification Evaluation:  18%|█▊        | 88/500 [00:21<01:35,  4.33it/s]\u001b[A\n",
            "Verification Evaluation:  18%|█▊        | 89/500 [00:22<01:35,  4.32it/s]\u001b[A\n",
            "Verification Evaluation:  18%|█▊        | 90/500 [00:22<01:34,  4.35it/s]\u001b[A\n",
            "Verification Evaluation:  18%|█▊        | 91/500 [00:22<01:34,  4.33it/s]\u001b[A\n",
            "Verification Evaluation:  18%|█▊        | 92/500 [00:22<01:33,  4.36it/s]\u001b[A\n",
            "Verification Evaluation:  19%|█▊        | 93/500 [00:22<01:33,  4.33it/s]\u001b[A\n",
            "Verification Evaluation:  19%|█▉        | 94/500 [00:23<01:32,  4.39it/s]\u001b[A\n",
            "Verification Evaluation:  19%|█▉        | 95/500 [00:23<01:33,  4.35it/s]\u001b[A\n",
            "Verification Evaluation:  19%|█▉        | 96/500 [00:23<01:33,  4.30it/s]\u001b[A\n",
            "Verification Evaluation:  19%|█▉        | 97/500 [00:23<01:33,  4.32it/s]\u001b[A\n",
            "Verification Evaluation:  20%|█▉        | 98/500 [00:24<01:33,  4.31it/s]\u001b[A\n",
            "Verification Evaluation:  20%|█▉        | 99/500 [00:24<01:32,  4.34it/s]\u001b[A\n",
            "Verification Evaluation:  20%|██        | 100/500 [00:24<01:32,  4.32it/s]\u001b[A\n",
            "Verification Evaluation:  20%|██        | 101/500 [00:24<01:32,  4.34it/s]\u001b[A\n",
            "Verification Evaluation:  20%|██        | 102/500 [00:25<01:31,  4.33it/s]\u001b[A\n",
            "Verification Evaluation:  21%|██        | 103/500 [00:25<01:31,  4.35it/s]\u001b[A\n",
            "Verification Evaluation:  21%|██        | 104/500 [00:25<01:30,  4.35it/s]\u001b[A\n",
            "Verification Evaluation:  21%|██        | 105/500 [00:25<01:31,  4.32it/s]\u001b[A\n",
            "Verification Evaluation:  21%|██        | 106/500 [00:25<01:30,  4.34it/s]\u001b[A\n",
            "Verification Evaluation:  21%|██▏       | 107/500 [00:26<01:31,  4.31it/s]\u001b[A\n",
            "Verification Evaluation:  22%|██▏       | 108/500 [00:26<01:30,  4.33it/s]\u001b[A\n",
            "Verification Evaluation:  22%|██▏       | 109/500 [00:26<01:29,  4.35it/s]\u001b[A\n",
            "Verification Evaluation:  22%|██▏       | 110/500 [00:26<01:30,  4.33it/s]\u001b[A\n",
            "Verification Evaluation:  22%|██▏       | 111/500 [00:27<01:31,  4.25it/s]\u001b[A\n",
            "Verification Evaluation:  22%|██▏       | 112/500 [00:27<01:42,  3.79it/s]\u001b[A\n",
            "Verification Evaluation:  23%|██▎       | 113/500 [00:27<01:48,  3.58it/s]\u001b[A\n",
            "Verification Evaluation:  23%|██▎       | 114/500 [00:28<02:04,  3.09it/s]\u001b[A\n",
            "Verification Evaluation:  23%|██▎       | 115/500 [00:28<01:54,  3.37it/s]\u001b[A\n",
            "Verification Evaluation:  23%|██▎       | 116/500 [00:28<02:15,  2.82it/s]\u001b[A\n",
            "Verification Evaluation:  23%|██▎       | 117/500 [00:29<02:01,  3.15it/s]\u001b[A\n",
            "Verification Evaluation:  24%|██▎       | 118/500 [00:29<02:08,  2.97it/s]\u001b[A\n",
            "Verification Evaluation:  24%|██▍       | 119/500 [00:29<01:56,  3.28it/s]\u001b[A\n",
            "Verification Evaluation:  24%|██▍       | 120/500 [00:30<01:49,  3.47it/s]\u001b[A\n",
            "Verification Evaluation:  24%|██▍       | 121/500 [00:30<01:43,  3.65it/s]\u001b[A\n",
            "Verification Evaluation:  24%|██▍       | 122/500 [00:30<01:38,  3.83it/s]\u001b[A\n",
            "Verification Evaluation:  25%|██▍       | 123/500 [00:30<01:35,  3.95it/s]\u001b[A\n",
            "Verification Evaluation:  25%|██▍       | 124/500 [00:30<01:31,  4.09it/s]\u001b[A\n",
            "Verification Evaluation:  25%|██▌       | 125/500 [00:31<01:30,  4.15it/s]\u001b[A\n",
            "Verification Evaluation:  25%|██▌       | 126/500 [00:31<01:29,  4.19it/s]\u001b[A\n",
            "Verification Evaluation:  25%|██▌       | 127/500 [00:31<01:29,  4.18it/s]\u001b[A\n",
            "Verification Evaluation:  26%|██▌       | 128/500 [00:31<01:27,  4.27it/s]\u001b[A\n",
            "Verification Evaluation:  26%|██▌       | 129/500 [00:32<01:26,  4.28it/s]\u001b[A\n",
            "Verification Evaluation:  26%|██▌       | 130/500 [00:32<01:26,  4.30it/s]\u001b[A\n",
            "Verification Evaluation:  26%|██▌       | 131/500 [00:32<01:25,  4.33it/s]\u001b[A\n",
            "Verification Evaluation:  26%|██▋       | 132/500 [00:32<01:25,  4.33it/s]\u001b[A\n",
            "Verification Evaluation:  27%|██▋       | 133/500 [00:33<01:24,  4.33it/s]\u001b[A\n",
            "Verification Evaluation:  27%|██▋       | 134/500 [00:33<01:23,  4.37it/s]\u001b[A\n",
            "Verification Evaluation:  27%|██▋       | 135/500 [00:33<01:24,  4.31it/s]\u001b[A\n",
            "Verification Evaluation:  27%|██▋       | 136/500 [00:33<01:24,  4.30it/s]\u001b[A\n",
            "Verification Evaluation:  27%|██▋       | 137/500 [00:33<01:24,  4.32it/s]\u001b[A\n",
            "Verification Evaluation:  28%|██▊       | 138/500 [00:34<01:23,  4.32it/s]\u001b[A\n",
            "Verification Evaluation:  28%|██▊       | 139/500 [00:34<01:23,  4.32it/s]\u001b[A\n",
            "Verification Evaluation:  28%|██▊       | 140/500 [00:34<01:23,  4.32it/s]\u001b[A\n",
            "Verification Evaluation:  28%|██▊       | 141/500 [00:34<01:22,  4.34it/s]\u001b[A\n",
            "Verification Evaluation:  28%|██▊       | 142/500 [00:35<01:22,  4.33it/s]\u001b[A\n",
            "Verification Evaluation:  29%|██▊       | 143/500 [00:35<01:22,  4.34it/s]\u001b[A\n",
            "Verification Evaluation:  29%|██▉       | 144/500 [00:35<01:22,  4.31it/s]\u001b[A\n",
            "Verification Evaluation:  29%|██▉       | 145/500 [00:35<01:21,  4.34it/s]\u001b[A\n",
            "Verification Evaluation:  29%|██▉       | 146/500 [00:36<01:20,  4.38it/s]\u001b[A\n",
            "Verification Evaluation:  29%|██▉       | 147/500 [00:36<01:20,  4.37it/s]\u001b[A\n",
            "Verification Evaluation:  30%|██▉       | 148/500 [00:36<01:20,  4.38it/s]\u001b[A\n",
            "Verification Evaluation:  30%|██▉       | 149/500 [00:36<01:20,  4.36it/s]\u001b[A\n",
            "Verification Evaluation:  30%|███       | 150/500 [00:36<01:19,  4.40it/s]\u001b[A\n",
            "Verification Evaluation:  30%|███       | 151/500 [00:37<01:20,  4.35it/s]\u001b[A\n",
            "Verification Evaluation:  30%|███       | 152/500 [00:37<01:20,  4.32it/s]\u001b[A\n",
            "Verification Evaluation:  31%|███       | 153/500 [00:37<01:19,  4.34it/s]\u001b[A\n",
            "Verification Evaluation:  31%|███       | 154/500 [00:37<01:19,  4.34it/s]\u001b[A\n",
            "Verification Evaluation:  31%|███       | 155/500 [00:38<01:20,  4.28it/s]\u001b[A\n",
            "Verification Evaluation:  31%|███       | 156/500 [00:38<01:19,  4.33it/s]\u001b[A\n",
            "Verification Evaluation:  31%|███▏      | 157/500 [00:38<01:18,  4.36it/s]\u001b[A\n",
            "Verification Evaluation:  32%|███▏      | 158/500 [00:38<01:19,  4.32it/s]\u001b[A\n",
            "Verification Evaluation:  32%|███▏      | 159/500 [00:39<01:19,  4.30it/s]\u001b[A\n",
            "Verification Evaluation:  32%|███▏      | 160/500 [00:39<01:18,  4.31it/s]\u001b[A\n",
            "Verification Evaluation:  32%|███▏      | 161/500 [00:39<01:18,  4.33it/s]\u001b[A\n",
            "Verification Evaluation:  32%|███▏      | 162/500 [00:39<01:19,  4.27it/s]\u001b[A\n",
            "Verification Evaluation:  33%|███▎      | 163/500 [00:39<01:18,  4.28it/s]\u001b[A\n",
            "Verification Evaluation:  33%|███▎      | 164/500 [00:40<01:18,  4.30it/s]\u001b[A\n",
            "Verification Evaluation:  33%|███▎      | 165/500 [00:40<01:17,  4.30it/s]\u001b[A\n",
            "Verification Evaluation:  33%|███▎      | 166/500 [00:40<01:18,  4.26it/s]\u001b[A\n",
            "Verification Evaluation:  33%|███▎      | 167/500 [00:40<01:18,  4.27it/s]\u001b[A\n",
            "Verification Evaluation:  34%|███▎      | 168/500 [00:41<01:16,  4.31it/s]\u001b[A\n",
            "Verification Evaluation:  34%|███▍      | 169/500 [00:41<01:16,  4.31it/s]\u001b[A\n",
            "Verification Evaluation:  34%|███▍      | 170/500 [00:41<01:28,  3.74it/s]\u001b[A\n",
            "Verification Evaluation:  34%|███▍      | 171/500 [00:42<01:30,  3.62it/s]\u001b[A\n",
            "Verification Evaluation:  34%|███▍      | 172/500 [00:42<01:44,  3.13it/s]\u001b[A\n",
            "Verification Evaluation:  35%|███▍      | 173/500 [00:42<01:38,  3.33it/s]\u001b[A\n",
            "Verification Evaluation:  35%|███▍      | 174/500 [00:43<01:46,  3.06it/s]\u001b[A\n",
            "Verification Evaluation:  35%|███▌      | 175/500 [00:43<01:36,  3.38it/s]\u001b[A\n",
            "Verification Evaluation:  35%|███▌      | 176/500 [00:43<01:48,  2.99it/s]\u001b[A\n",
            "Verification Evaluation:  35%|███▌      | 177/500 [00:43<01:37,  3.30it/s]\u001b[A\n",
            "Verification Evaluation:  36%|███▌      | 178/500 [00:44<01:35,  3.39it/s]\u001b[A\n",
            "Verification Evaluation:  36%|███▌      | 179/500 [00:44<01:28,  3.61it/s]\u001b[A\n",
            "Verification Evaluation:  36%|███▌      | 180/500 [00:44<01:23,  3.81it/s]\u001b[A\n",
            "Verification Evaluation:  36%|███▌      | 181/500 [00:44<01:20,  3.95it/s]\u001b[A\n",
            "Verification Evaluation:  36%|███▋      | 182/500 [00:45<01:18,  4.04it/s]\u001b[A\n",
            "Verification Evaluation:  37%|███▋      | 183/500 [00:45<01:16,  4.16it/s]\u001b[A\n",
            "Verification Evaluation:  37%|███▋      | 184/500 [00:45<01:15,  4.19it/s]\u001b[A\n",
            "Verification Evaluation:  37%|███▋      | 185/500 [00:45<01:14,  4.24it/s]\u001b[A\n",
            "Verification Evaluation:  37%|███▋      | 186/500 [00:46<01:13,  4.26it/s]\u001b[A\n",
            "Verification Evaluation:  37%|███▋      | 187/500 [00:46<01:13,  4.28it/s]\u001b[A\n",
            "Verification Evaluation:  38%|███▊      | 188/500 [00:46<01:12,  4.28it/s]\u001b[A\n",
            "Verification Evaluation:  38%|███▊      | 189/500 [00:46<01:12,  4.29it/s]\u001b[A\n",
            "Verification Evaluation:  38%|███▊      | 190/500 [00:47<01:12,  4.30it/s]\u001b[A\n",
            "Verification Evaluation:  38%|███▊      | 191/500 [00:47<01:12,  4.26it/s]\u001b[A\n",
            "Verification Evaluation:  38%|███▊      | 192/500 [00:47<01:11,  4.30it/s]\u001b[A\n",
            "Verification Evaluation:  39%|███▊      | 193/500 [00:47<01:11,  4.32it/s]\u001b[A\n",
            "Verification Evaluation:  39%|███▉      | 194/500 [00:47<01:10,  4.31it/s]\u001b[A\n",
            "Verification Evaluation:  39%|███▉      | 195/500 [00:48<01:10,  4.33it/s]\u001b[A\n",
            "Verification Evaluation:  39%|███▉      | 196/500 [00:48<01:10,  4.32it/s]\u001b[A\n",
            "Verification Evaluation:  39%|███▉      | 197/500 [00:48<01:09,  4.33it/s]\u001b[A\n",
            "Verification Evaluation:  40%|███▉      | 198/500 [00:48<01:10,  4.29it/s]\u001b[A\n",
            "Verification Evaluation:  40%|███▉      | 199/500 [00:49<01:09,  4.34it/s]\u001b[A\n",
            "Verification Evaluation:  40%|████      | 200/500 [00:49<01:09,  4.29it/s]\u001b[A\n",
            "Verification Evaluation:  40%|████      | 201/500 [00:49<01:09,  4.30it/s]\u001b[A\n",
            "Verification Evaluation:  40%|████      | 202/500 [00:49<01:09,  4.32it/s]\u001b[A\n",
            "Verification Evaluation:  41%|████      | 203/500 [00:50<01:09,  4.29it/s]\u001b[A\n",
            "Verification Evaluation:  41%|████      | 204/500 [00:50<01:08,  4.34it/s]\u001b[A\n",
            "Verification Evaluation:  41%|████      | 205/500 [00:50<01:08,  4.32it/s]\u001b[A\n",
            "Verification Evaluation:  41%|████      | 206/500 [00:50<01:08,  4.27it/s]\u001b[A\n",
            "Verification Evaluation:  41%|████▏     | 207/500 [00:50<01:09,  4.22it/s]\u001b[A\n",
            "Verification Evaluation:  42%|████▏     | 208/500 [00:51<01:08,  4.24it/s]\u001b[A\n",
            "Verification Evaluation:  42%|████▏     | 209/500 [00:51<01:08,  4.26it/s]\u001b[A\n",
            "Verification Evaluation:  42%|████▏     | 210/500 [00:51<01:07,  4.29it/s]\u001b[A\n",
            "Verification Evaluation:  42%|████▏     | 211/500 [00:51<01:07,  4.31it/s]\u001b[A\n",
            "Verification Evaluation:  42%|████▏     | 212/500 [00:52<01:07,  4.28it/s]\u001b[A\n",
            "Verification Evaluation:  43%|████▎     | 213/500 [00:52<01:06,  4.29it/s]\u001b[A\n",
            "Verification Evaluation:  43%|████▎     | 214/500 [00:52<01:06,  4.32it/s]\u001b[A\n",
            "Verification Evaluation:  43%|████▎     | 215/500 [00:52<01:05,  4.33it/s]\u001b[A\n",
            "Verification Evaluation:  43%|████▎     | 216/500 [00:53<01:06,  4.27it/s]\u001b[A\n",
            "Verification Evaluation:  43%|████▎     | 217/500 [00:53<01:06,  4.29it/s]\u001b[A\n",
            "Verification Evaluation:  44%|████▎     | 218/500 [00:53<01:05,  4.32it/s]\u001b[A\n",
            "Verification Evaluation:  44%|████▍     | 219/500 [00:53<01:05,  4.29it/s]\u001b[A\n",
            "Verification Evaluation:  44%|████▍     | 220/500 [00:53<01:05,  4.30it/s]\u001b[A\n",
            "Verification Evaluation:  44%|████▍     | 221/500 [00:54<01:05,  4.28it/s]\u001b[A\n",
            "Verification Evaluation:  44%|████▍     | 222/500 [00:54<01:04,  4.31it/s]\u001b[A\n",
            "Verification Evaluation:  45%|████▍     | 223/500 [00:54<01:03,  4.34it/s]\u001b[A\n",
            "Verification Evaluation:  45%|████▍     | 224/500 [00:54<01:03,  4.34it/s]\u001b[A\n",
            "Verification Evaluation:  45%|████▌     | 225/500 [00:55<01:03,  4.30it/s]\u001b[A\n",
            "Verification Evaluation:  45%|████▌     | 226/500 [00:55<01:10,  3.86it/s]\u001b[A\n",
            "Verification Evaluation:  45%|████▌     | 227/500 [00:55<01:15,  3.59it/s]\u001b[A\n",
            "Verification Evaluation:  46%|████▌     | 228/500 [00:56<01:19,  3.43it/s]\u001b[A\n",
            "Verification Evaluation:  46%|████▌     | 229/500 [00:56<01:31,  2.98it/s]\u001b[A\n",
            "Verification Evaluation:  46%|████▌     | 230/500 [00:56<01:22,  3.28it/s]\u001b[A\n",
            "Verification Evaluation:  46%|████▌     | 231/500 [00:57<01:29,  2.99it/s]\u001b[A\n",
            "Verification Evaluation:  46%|████▋     | 232/500 [00:57<01:21,  3.30it/s]\u001b[A\n",
            "Verification Evaluation:  47%|████▋     | 233/500 [00:57<01:30,  2.96it/s]\u001b[A\n",
            "Verification Evaluation:  47%|████▋     | 234/500 [00:58<01:21,  3.26it/s]\u001b[A\n",
            "Verification Evaluation:  47%|████▋     | 235/500 [00:58<01:14,  3.57it/s]\u001b[A\n",
            "Verification Evaluation:  47%|████▋     | 236/500 [00:58<01:10,  3.72it/s]\u001b[A\n",
            "Verification Evaluation:  47%|████▋     | 237/500 [00:58<01:07,  3.90it/s]\u001b[A\n",
            "Verification Evaluation:  48%|████▊     | 238/500 [00:58<01:04,  4.03it/s]\u001b[A\n",
            "Verification Evaluation:  48%|████▊     | 239/500 [00:59<01:03,  4.09it/s]\u001b[A\n",
            "Verification Evaluation:  48%|████▊     | 240/500 [00:59<01:02,  4.13it/s]\u001b[A\n",
            "Verification Evaluation:  48%|████▊     | 241/500 [00:59<01:02,  4.17it/s]\u001b[A\n",
            "Verification Evaluation:  48%|████▊     | 242/500 [00:59<01:01,  4.19it/s]\u001b[A\n",
            "Verification Evaluation:  49%|████▊     | 243/500 [01:00<01:01,  4.20it/s]\u001b[A\n",
            "Verification Evaluation:  49%|████▉     | 244/500 [01:00<01:00,  4.27it/s]\u001b[A\n",
            "Verification Evaluation:  49%|████▉     | 245/500 [01:00<00:59,  4.29it/s]\u001b[A\n",
            "Verification Evaluation:  49%|████▉     | 246/500 [01:00<00:59,  4.29it/s]\u001b[A\n",
            "Verification Evaluation:  49%|████▉     | 247/500 [01:01<00:58,  4.31it/s]\u001b[A\n",
            "Verification Evaluation:  50%|████▉     | 248/500 [01:01<00:58,  4.33it/s]\u001b[A\n",
            "Verification Evaluation:  50%|████▉     | 249/500 [01:01<00:58,  4.32it/s]\u001b[A\n",
            "Verification Evaluation:  50%|█████     | 250/500 [01:01<00:58,  4.31it/s]\u001b[A\n",
            "Verification Evaluation:  50%|█████     | 251/500 [01:02<00:57,  4.31it/s]\u001b[A\n",
            "Verification Evaluation:  50%|█████     | 252/500 [01:02<00:57,  4.30it/s]\u001b[A\n",
            "Verification Evaluation:  51%|█████     | 253/500 [01:02<00:58,  4.25it/s]\u001b[A\n",
            "Verification Evaluation:  51%|█████     | 254/500 [01:02<00:57,  4.27it/s]\u001b[A\n",
            "Verification Evaluation:  51%|█████     | 255/500 [01:02<00:56,  4.31it/s]\u001b[A\n",
            "Verification Evaluation:  51%|█████     | 256/500 [01:03<00:57,  4.26it/s]\u001b[A\n",
            "Verification Evaluation:  51%|█████▏    | 257/500 [01:03<00:57,  4.23it/s]\u001b[A\n",
            "Verification Evaluation:  52%|█████▏    | 258/500 [01:03<00:56,  4.26it/s]\u001b[A\n",
            "Verification Evaluation:  52%|█████▏    | 259/500 [01:03<00:56,  4.26it/s]\u001b[A\n",
            "Verification Evaluation:  52%|█████▏    | 260/500 [01:04<00:56,  4.26it/s]\u001b[A\n",
            "Verification Evaluation:  52%|█████▏    | 261/500 [01:04<00:55,  4.29it/s]\u001b[A\n",
            "Verification Evaluation:  52%|█████▏    | 262/500 [01:04<00:55,  4.29it/s]\u001b[A\n",
            "Verification Evaluation:  53%|█████▎    | 263/500 [01:04<00:54,  4.32it/s]\u001b[A\n",
            "Verification Evaluation:  53%|█████▎    | 264/500 [01:05<00:54,  4.34it/s]\u001b[A\n",
            "Verification Evaluation:  53%|█████▎    | 265/500 [01:05<00:54,  4.35it/s]\u001b[A\n",
            "Verification Evaluation:  53%|█████▎    | 266/500 [01:05<00:54,  4.31it/s]\u001b[A\n",
            "Verification Evaluation:  53%|█████▎    | 267/500 [01:05<00:53,  4.34it/s]\u001b[A\n",
            "Verification Evaluation:  54%|█████▎    | 268/500 [01:05<00:53,  4.35it/s]\u001b[A\n",
            "Verification Evaluation:  54%|█████▍    | 269/500 [01:06<00:53,  4.32it/s]\u001b[A\n",
            "Verification Evaluation:  54%|█████▍    | 270/500 [01:06<00:53,  4.33it/s]\u001b[A\n",
            "Verification Evaluation:  54%|█████▍    | 271/500 [01:06<00:53,  4.32it/s]\u001b[A\n",
            "Verification Evaluation:  54%|█████▍    | 272/500 [01:06<00:52,  4.35it/s]\u001b[A\n",
            "Verification Evaluation:  55%|█████▍    | 273/500 [01:07<00:52,  4.33it/s]\u001b[A\n",
            "Verification Evaluation:  55%|█████▍    | 274/500 [01:07<00:52,  4.32it/s]\u001b[A\n",
            "Verification Evaluation:  55%|█████▌    | 275/500 [01:07<00:52,  4.32it/s]\u001b[A\n",
            "Verification Evaluation:  55%|█████▌    | 276/500 [01:07<00:52,  4.30it/s]\u001b[A\n",
            "Verification Evaluation:  55%|█████▌    | 277/500 [01:08<00:51,  4.29it/s]\u001b[A\n",
            "Verification Evaluation:  56%|█████▌    | 278/500 [01:08<00:51,  4.27it/s]\u001b[A\n",
            "Verification Evaluation:  56%|█████▌    | 279/500 [01:08<00:51,  4.30it/s]\u001b[A\n",
            "Verification Evaluation:  56%|█████▌    | 280/500 [01:08<00:52,  4.23it/s]\u001b[A\n",
            "Verification Evaluation:  56%|█████▌    | 281/500 [01:08<00:51,  4.24it/s]\u001b[A\n",
            "Verification Evaluation:  56%|█████▋    | 282/500 [01:09<00:51,  4.23it/s]\u001b[A\n",
            "Verification Evaluation:  57%|█████▋    | 283/500 [01:09<00:55,  3.88it/s]\u001b[A\n",
            "Verification Evaluation:  57%|█████▋    | 284/500 [01:09<00:54,  3.94it/s]\u001b[A\n",
            "Verification Evaluation:  57%|█████▋    | 285/500 [01:10<01:05,  3.29it/s]\u001b[A\n",
            "Verification Evaluation:  57%|█████▋    | 286/500 [01:10<01:03,  3.39it/s]\u001b[A\n",
            "Verification Evaluation:  57%|█████▋    | 287/500 [01:10<01:12,  2.94it/s]\u001b[A\n",
            "Verification Evaluation:  58%|█████▊    | 288/500 [01:11<01:05,  3.26it/s]\u001b[A\n",
            "Verification Evaluation:  58%|█████▊    | 289/500 [01:11<01:14,  2.82it/s]\u001b[A\n",
            "Verification Evaluation:  58%|█████▊    | 290/500 [01:11<01:06,  3.15it/s]\u001b[A\n",
            "Verification Evaluation:  58%|█████▊    | 291/500 [01:12<01:05,  3.21it/s]\u001b[A\n",
            "Verification Evaluation:  58%|█████▊    | 292/500 [01:12<01:00,  3.44it/s]\u001b[A\n",
            "Verification Evaluation:  59%|█████▊    | 293/500 [01:12<00:58,  3.52it/s]\u001b[A\n",
            "Verification Evaluation:  59%|█████▉    | 294/500 [01:12<00:56,  3.66it/s]\u001b[A\n",
            "Verification Evaluation:  59%|█████▉    | 295/500 [01:13<00:53,  3.86it/s]\u001b[A\n",
            "Verification Evaluation:  59%|█████▉    | 296/500 [01:13<00:51,  3.93it/s]\u001b[A\n",
            "Verification Evaluation:  59%|█████▉    | 297/500 [01:13<00:50,  4.02it/s]\u001b[A\n",
            "Verification Evaluation:  60%|█████▉    | 298/500 [01:13<00:49,  4.11it/s]\u001b[A\n",
            "Verification Evaluation:  60%|█████▉    | 299/500 [01:14<00:48,  4.14it/s]\u001b[A\n",
            "Verification Evaluation:  60%|██████    | 300/500 [01:14<00:47,  4.17it/s]\u001b[A\n",
            "Verification Evaluation:  60%|██████    | 301/500 [01:14<00:47,  4.21it/s]\u001b[A\n",
            "Verification Evaluation:  60%|██████    | 302/500 [01:14<00:46,  4.23it/s]\u001b[A\n",
            "Verification Evaluation:  61%|██████    | 303/500 [01:15<00:46,  4.24it/s]\u001b[A\n",
            "Verification Evaluation:  61%|██████    | 304/500 [01:15<00:45,  4.27it/s]\u001b[A\n",
            "Verification Evaluation:  61%|██████    | 305/500 [01:15<00:45,  4.28it/s]\u001b[A\n",
            "Verification Evaluation:  61%|██████    | 306/500 [01:15<00:45,  4.26it/s]\u001b[A\n",
            "Verification Evaluation:  61%|██████▏   | 307/500 [01:15<00:45,  4.28it/s]\u001b[A\n",
            "Verification Evaluation:  62%|██████▏   | 308/500 [01:16<00:44,  4.32it/s]\u001b[A\n",
            "Verification Evaluation:  62%|██████▏   | 309/500 [01:16<00:44,  4.32it/s]\u001b[A\n",
            "Verification Evaluation:  62%|██████▏   | 310/500 [01:16<00:44,  4.30it/s]\u001b[A\n",
            "Verification Evaluation:  62%|██████▏   | 311/500 [01:16<00:44,  4.23it/s]\u001b[A\n",
            "Verification Evaluation:  62%|██████▏   | 312/500 [01:17<00:43,  4.29it/s]\u001b[A\n",
            "Verification Evaluation:  63%|██████▎   | 313/500 [01:17<00:43,  4.31it/s]\u001b[A\n",
            "Verification Evaluation:  63%|██████▎   | 314/500 [01:17<00:43,  4.29it/s]\u001b[A\n",
            "Verification Evaluation:  63%|██████▎   | 315/500 [01:17<00:42,  4.32it/s]\u001b[A\n",
            "Verification Evaluation:  63%|██████▎   | 316/500 [01:18<00:42,  4.30it/s]\u001b[A\n",
            "Verification Evaluation:  63%|██████▎   | 317/500 [01:18<00:42,  4.30it/s]\u001b[A\n",
            "Verification Evaluation:  64%|██████▎   | 318/500 [01:18<00:42,  4.32it/s]\u001b[A\n",
            "Verification Evaluation:  64%|██████▍   | 319/500 [01:18<00:42,  4.31it/s]\u001b[A\n",
            "Verification Evaluation:  64%|██████▍   | 320/500 [01:18<00:42,  4.25it/s]\u001b[A\n",
            "Verification Evaluation:  64%|██████▍   | 321/500 [01:19<00:41,  4.28it/s]\u001b[A\n",
            "Verification Evaluation:  64%|██████▍   | 322/500 [01:19<00:41,  4.29it/s]\u001b[A\n",
            "Verification Evaluation:  65%|██████▍   | 323/500 [01:19<00:41,  4.26it/s]\u001b[A\n",
            "Verification Evaluation:  65%|██████▍   | 324/500 [01:19<00:41,  4.27it/s]\u001b[A\n",
            "Verification Evaluation:  65%|██████▌   | 325/500 [01:20<00:40,  4.29it/s]\u001b[A\n",
            "Verification Evaluation:  65%|██████▌   | 326/500 [01:20<00:40,  4.29it/s]\u001b[A\n",
            "Verification Evaluation:  65%|██████▌   | 327/500 [01:20<00:40,  4.30it/s]\u001b[A\n",
            "Verification Evaluation:  66%|██████▌   | 328/500 [01:20<00:39,  4.31it/s]\u001b[A\n",
            "Verification Evaluation:  66%|██████▌   | 329/500 [01:21<00:39,  4.32it/s]\u001b[A\n",
            "Verification Evaluation:  66%|██████▌   | 330/500 [01:21<00:39,  4.29it/s]\u001b[A\n",
            "Verification Evaluation:  66%|██████▌   | 331/500 [01:21<00:39,  4.29it/s]\u001b[A\n",
            "Verification Evaluation:  66%|██████▋   | 332/500 [01:21<00:38,  4.31it/s]\u001b[A\n",
            "Verification Evaluation:  67%|██████▋   | 333/500 [01:22<00:39,  4.26it/s]\u001b[A\n",
            "Verification Evaluation:  67%|██████▋   | 334/500 [01:22<00:38,  4.26it/s]\u001b[A\n",
            "Verification Evaluation:  67%|██████▋   | 335/500 [01:22<00:38,  4.31it/s]\u001b[A\n",
            "Verification Evaluation:  67%|██████▋   | 336/500 [01:22<00:38,  4.29it/s]\u001b[A\n",
            "Verification Evaluation:  67%|██████▋   | 337/500 [01:22<00:38,  4.26it/s]\u001b[A\n",
            "Verification Evaluation:  68%|██████▊   | 338/500 [01:23<00:38,  4.26it/s]\u001b[A\n",
            "Verification Evaluation:  68%|██████▊   | 339/500 [01:23<00:38,  4.22it/s]\u001b[A\n",
            "Verification Evaluation:  68%|██████▊   | 340/500 [01:23<00:39,  4.09it/s]\u001b[A\n",
            "Verification Evaluation:  68%|██████▊   | 341/500 [01:24<00:49,  3.23it/s]\u001b[A\n",
            "Verification Evaluation:  68%|██████▊   | 342/500 [01:24<00:45,  3.48it/s]\u001b[A\n",
            "Verification Evaluation:  69%|██████▊   | 343/500 [01:24<00:49,  3.16it/s]\u001b[A\n",
            "Verification Evaluation:  69%|██████▉   | 344/500 [01:24<00:45,  3.46it/s]\u001b[A\n",
            "Verification Evaluation:  69%|██████▉   | 345/500 [01:25<00:52,  2.95it/s]\u001b[A\n",
            "Verification Evaluation:  69%|██████▉   | 346/500 [01:25<00:46,  3.29it/s]\u001b[A\n",
            "Verification Evaluation:  69%|██████▉   | 347/500 [01:26<00:49,  3.12it/s]\u001b[A\n",
            "Verification Evaluation:  70%|██████▉   | 348/500 [01:26<00:44,  3.42it/s]\u001b[A\n",
            "Verification Evaluation:  70%|██████▉   | 349/500 [01:26<00:46,  3.27it/s]\u001b[A\n",
            "Verification Evaluation:  70%|███████   | 350/500 [01:26<00:42,  3.54it/s]\u001b[A\n",
            "Verification Evaluation:  70%|███████   | 351/500 [01:27<00:40,  3.71it/s]\u001b[A\n",
            "Verification Evaluation:  70%|███████   | 352/500 [01:27<00:38,  3.85it/s]\u001b[A\n",
            "Verification Evaluation:  71%|███████   | 353/500 [01:27<00:37,  3.97it/s]\u001b[A\n",
            "Verification Evaluation:  71%|███████   | 354/500 [01:27<00:35,  4.09it/s]\u001b[A\n",
            "Verification Evaluation:  71%|███████   | 355/500 [01:27<00:35,  4.13it/s]\u001b[A\n",
            "Verification Evaluation:  71%|███████   | 356/500 [01:28<00:34,  4.22it/s]\u001b[A\n",
            "Verification Evaluation:  71%|███████▏  | 357/500 [01:28<00:33,  4.21it/s]\u001b[A\n",
            "Verification Evaluation:  72%|███████▏  | 358/500 [01:28<00:33,  4.24it/s]\u001b[A\n",
            "Verification Evaluation:  72%|███████▏  | 359/500 [01:28<00:33,  4.27it/s]\u001b[A\n",
            "Verification Evaluation:  72%|███████▏  | 360/500 [01:29<00:33,  4.24it/s]\u001b[A\n",
            "Verification Evaluation:  72%|███████▏  | 361/500 [01:29<00:32,  4.30it/s]\u001b[A\n",
            "Verification Evaluation:  72%|███████▏  | 362/500 [01:29<00:32,  4.27it/s]\u001b[A\n",
            "Verification Evaluation:  73%|███████▎  | 363/500 [01:29<00:32,  4.24it/s]\u001b[A\n",
            "Verification Evaluation:  73%|███████▎  | 364/500 [01:30<00:31,  4.28it/s]\u001b[A\n",
            "Verification Evaluation:  73%|███████▎  | 365/500 [01:30<00:31,  4.32it/s]\u001b[A\n",
            "Verification Evaluation:  73%|███████▎  | 366/500 [01:30<00:30,  4.33it/s]\u001b[A\n",
            "Verification Evaluation:  73%|███████▎  | 367/500 [01:30<00:30,  4.35it/s]\u001b[A\n",
            "Verification Evaluation:  74%|███████▎  | 368/500 [01:31<00:30,  4.34it/s]\u001b[A\n",
            "Verification Evaluation:  74%|███████▍  | 369/500 [01:31<00:30,  4.34it/s]\u001b[A\n",
            "Verification Evaluation:  74%|███████▍  | 370/500 [01:31<00:29,  4.34it/s]\u001b[A\n",
            "Verification Evaluation:  74%|███████▍  | 371/500 [01:31<00:29,  4.33it/s]\u001b[A\n",
            "Verification Evaluation:  74%|███████▍  | 372/500 [01:31<00:29,  4.34it/s]\u001b[A\n",
            "Verification Evaluation:  75%|███████▍  | 373/500 [01:32<00:29,  4.31it/s]\u001b[A\n",
            "Verification Evaluation:  75%|███████▍  | 374/500 [01:32<00:29,  4.31it/s]\u001b[A\n",
            "Verification Evaluation:  75%|███████▌  | 375/500 [01:32<00:28,  4.33it/s]\u001b[A\n",
            "Verification Evaluation:  75%|███████▌  | 376/500 [01:32<00:28,  4.32it/s]\u001b[A\n",
            "Verification Evaluation:  75%|███████▌  | 377/500 [01:33<00:28,  4.36it/s]\u001b[A\n",
            "Verification Evaluation:  76%|███████▌  | 378/500 [01:33<00:28,  4.30it/s]\u001b[A\n",
            "Verification Evaluation:  76%|███████▌  | 379/500 [01:33<00:28,  4.29it/s]\u001b[A\n",
            "Verification Evaluation:  76%|███████▌  | 380/500 [01:33<00:27,  4.29it/s]\u001b[A\n",
            "Verification Evaluation:  76%|███████▌  | 381/500 [01:34<00:27,  4.32it/s]\u001b[A\n",
            "Verification Evaluation:  76%|███████▋  | 382/500 [01:34<00:27,  4.29it/s]\u001b[A\n",
            "Verification Evaluation:  77%|███████▋  | 383/500 [01:34<00:27,  4.30it/s]\u001b[A\n",
            "Verification Evaluation:  77%|███████▋  | 384/500 [01:34<00:27,  4.29it/s]\u001b[A\n",
            "Verification Evaluation:  77%|███████▋  | 385/500 [01:34<00:26,  4.30it/s]\u001b[A\n",
            "Verification Evaluation:  77%|███████▋  | 386/500 [01:35<00:26,  4.27it/s]\u001b[A\n",
            "Verification Evaluation:  77%|███████▋  | 387/500 [01:35<00:26,  4.24it/s]\u001b[A\n",
            "Verification Evaluation:  78%|███████▊  | 388/500 [01:35<00:26,  4.24it/s]\u001b[A\n",
            "Verification Evaluation:  78%|███████▊  | 389/500 [01:35<00:26,  4.26it/s]\u001b[A\n",
            "Verification Evaluation:  78%|███████▊  | 390/500 [01:36<00:25,  4.30it/s]\u001b[A\n",
            "Verification Evaluation:  78%|███████▊  | 391/500 [01:36<00:25,  4.28it/s]\u001b[A\n",
            "Verification Evaluation:  78%|███████▊  | 392/500 [01:36<00:25,  4.31it/s]\u001b[A\n",
            "Verification Evaluation:  79%|███████▊  | 393/500 [01:36<00:25,  4.27it/s]\u001b[A\n",
            "Verification Evaluation:  79%|███████▉  | 394/500 [01:37<00:24,  4.32it/s]\u001b[A\n",
            "Verification Evaluation:  79%|███████▉  | 395/500 [01:37<00:24,  4.28it/s]\u001b[A\n",
            "Verification Evaluation:  79%|███████▉  | 396/500 [01:37<00:24,  4.21it/s]\u001b[A\n",
            "Verification Evaluation:  79%|███████▉  | 397/500 [01:37<00:27,  3.74it/s]\u001b[A\n",
            "Verification Evaluation:  80%|███████▉  | 398/500 [01:38<00:26,  3.92it/s]\u001b[A\n",
            "Verification Evaluation:  80%|███████▉  | 399/500 [01:38<00:29,  3.48it/s]\u001b[A\n",
            "Verification Evaluation:  80%|████████  | 400/500 [01:38<00:27,  3.66it/s]\u001b[A\n",
            "Verification Evaluation:  80%|████████  | 401/500 [01:39<00:36,  2.70it/s]\u001b[A\n",
            "Verification Evaluation:  80%|████████  | 402/500 [01:39<00:32,  3.05it/s]\u001b[A\n",
            "Verification Evaluation:  81%|████████  | 403/500 [01:39<00:31,  3.08it/s]\u001b[A\n",
            "Verification Evaluation:  81%|████████  | 404/500 [01:40<00:28,  3.38it/s]\u001b[A\n",
            "Verification Evaluation:  81%|████████  | 405/500 [01:40<00:28,  3.33it/s]\u001b[A\n",
            "Verification Evaluation:  81%|████████  | 406/500 [01:40<00:26,  3.61it/s]\u001b[A\n",
            "Verification Evaluation:  81%|████████▏ | 407/500 [01:40<00:27,  3.38it/s]\u001b[A\n",
            "Verification Evaluation:  82%|████████▏ | 408/500 [01:41<00:25,  3.63it/s]\u001b[A\n",
            "Verification Evaluation:  82%|████████▏ | 409/500 [01:41<00:23,  3.84it/s]\u001b[A\n",
            "Verification Evaluation:  82%|████████▏ | 410/500 [01:41<00:22,  3.93it/s]\u001b[A\n",
            "Verification Evaluation:  82%|████████▏ | 411/500 [01:41<00:22,  4.02it/s]\u001b[A\n",
            "Verification Evaluation:  82%|████████▏ | 412/500 [01:42<00:21,  4.11it/s]\u001b[A\n",
            "Verification Evaluation:  83%|████████▎ | 413/500 [01:42<00:20,  4.19it/s]\u001b[A\n",
            "Verification Evaluation:  83%|████████▎ | 414/500 [01:42<00:20,  4.20it/s]\u001b[A\n",
            "Verification Evaluation:  83%|████████▎ | 415/500 [01:42<00:20,  4.25it/s]\u001b[A\n",
            "Verification Evaluation:  83%|████████▎ | 416/500 [01:43<00:19,  4.25it/s]\u001b[A\n",
            "Verification Evaluation:  83%|████████▎ | 417/500 [01:43<00:19,  4.30it/s]\u001b[A\n",
            "Verification Evaluation:  84%|████████▎ | 418/500 [01:43<00:18,  4.32it/s]\u001b[A\n",
            "Verification Evaluation:  84%|████████▍ | 419/500 [01:43<00:18,  4.30it/s]\u001b[A\n",
            "Verification Evaluation:  84%|████████▍ | 420/500 [01:43<00:18,  4.25it/s]\u001b[A\n",
            "Verification Evaluation:  84%|████████▍ | 421/500 [01:44<00:18,  4.28it/s]\u001b[A\n",
            "Verification Evaluation:  84%|████████▍ | 422/500 [01:44<00:18,  4.29it/s]\u001b[A\n",
            "Verification Evaluation:  85%|████████▍ | 423/500 [01:44<00:18,  4.27it/s]\u001b[A\n",
            "Verification Evaluation:  85%|████████▍ | 424/500 [01:44<00:17,  4.28it/s]\u001b[A\n",
            "Verification Evaluation:  85%|████████▌ | 425/500 [01:45<00:17,  4.30it/s]\u001b[A\n",
            "Verification Evaluation:  85%|████████▌ | 426/500 [01:45<00:17,  4.27it/s]\u001b[A\n",
            "Verification Evaluation:  85%|████████▌ | 427/500 [01:45<00:16,  4.30it/s]\u001b[A\n",
            "Verification Evaluation:  86%|████████▌ | 428/500 [01:45<00:16,  4.32it/s]\u001b[A\n",
            "Verification Evaluation:  86%|████████▌ | 429/500 [01:46<00:16,  4.33it/s]\u001b[A\n",
            "Verification Evaluation:  86%|████████▌ | 430/500 [01:46<00:16,  4.26it/s]\u001b[A\n",
            "Verification Evaluation:  86%|████████▌ | 431/500 [01:46<00:16,  4.30it/s]\u001b[A\n",
            "Verification Evaluation:  86%|████████▋ | 432/500 [01:46<00:15,  4.32it/s]\u001b[A\n",
            "Verification Evaluation:  87%|████████▋ | 433/500 [01:46<00:15,  4.30it/s]\u001b[A\n",
            "Verification Evaluation:  87%|████████▋ | 434/500 [01:47<00:15,  4.31it/s]\u001b[A\n",
            "Verification Evaluation:  87%|████████▋ | 435/500 [01:47<00:15,  4.32it/s]\u001b[A\n",
            "Verification Evaluation:  87%|████████▋ | 436/500 [01:47<00:14,  4.31it/s]\u001b[A\n",
            "Verification Evaluation:  87%|████████▋ | 437/500 [01:47<00:14,  4.34it/s]\u001b[A\n",
            "Verification Evaluation:  88%|████████▊ | 438/500 [01:48<00:14,  4.32it/s]\u001b[A\n",
            "Verification Evaluation:  88%|████████▊ | 439/500 [01:48<00:14,  4.31it/s]\u001b[A\n",
            "Verification Evaluation:  88%|████████▊ | 440/500 [01:48<00:13,  4.33it/s]\u001b[A\n",
            "Verification Evaluation:  88%|████████▊ | 441/500 [01:48<00:13,  4.32it/s]\u001b[A\n",
            "Verification Evaluation:  88%|████████▊ | 442/500 [01:49<00:13,  4.34it/s]\u001b[A\n",
            "Verification Evaluation:  89%|████████▊ | 443/500 [01:49<00:13,  4.30it/s]\u001b[A\n",
            "Verification Evaluation:  89%|████████▉ | 444/500 [01:49<00:12,  4.34it/s]\u001b[A\n",
            "Verification Evaluation:  89%|████████▉ | 445/500 [01:49<00:12,  4.33it/s]\u001b[A\n",
            "Verification Evaluation:  89%|████████▉ | 446/500 [01:49<00:12,  4.36it/s]\u001b[A\n",
            "Verification Evaluation:  89%|████████▉ | 447/500 [01:50<00:12,  4.37it/s]\u001b[A\n",
            "Verification Evaluation:  90%|████████▉ | 448/500 [01:50<00:11,  4.34it/s]\u001b[A\n",
            "Verification Evaluation:  90%|████████▉ | 449/500 [01:50<00:11,  4.29it/s]\u001b[A\n",
            "Verification Evaluation:  90%|█████████ | 450/500 [01:50<00:11,  4.29it/s]\u001b[A\n",
            "Verification Evaluation:  90%|█████████ | 451/500 [01:51<00:11,  4.28it/s]\u001b[A\n",
            "Verification Evaluation:  90%|█████████ | 452/500 [01:51<00:11,  4.29it/s]\u001b[A\n",
            "Verification Evaluation:  91%|█████████ | 453/500 [01:51<00:10,  4.33it/s]\u001b[A\n",
            "Verification Evaluation:  91%|█████████ | 454/500 [01:51<00:10,  4.29it/s]\u001b[A\n",
            "Verification Evaluation:  91%|█████████ | 455/500 [01:52<00:11,  4.03it/s]\u001b[A\n",
            "Verification Evaluation:  91%|█████████ | 456/500 [01:52<00:10,  4.00it/s]\u001b[A\n",
            "Verification Evaluation:  91%|█████████▏| 457/500 [01:52<00:12,  3.48it/s]\u001b[A\n",
            "Verification Evaluation:  92%|█████████▏| 458/500 [01:53<00:11,  3.53it/s]\u001b[A\n",
            "Verification Evaluation:  92%|█████████▏| 459/500 [01:53<00:13,  2.97it/s]\u001b[A\n",
            "Verification Evaluation:  92%|█████████▏| 460/500 [01:53<00:12,  3.30it/s]\u001b[A\n",
            "Verification Evaluation:  92%|█████████▏| 461/500 [01:54<00:12,  3.08it/s]\u001b[A\n",
            "Verification Evaluation:  92%|█████████▏| 462/500 [01:54<00:11,  3.40it/s]\u001b[A\n",
            "Verification Evaluation:  93%|█████████▎| 463/500 [01:54<00:12,  3.04it/s]\u001b[A\n",
            "Verification Evaluation:  93%|█████████▎| 464/500 [01:54<00:10,  3.37it/s]\u001b[A\n",
            "Verification Evaluation:  93%|█████████▎| 465/500 [01:55<00:10,  3.38it/s]\u001b[A\n",
            "Verification Evaluation:  93%|█████████▎| 466/500 [01:55<00:09,  3.59it/s]\u001b[A\n",
            "Verification Evaluation:  93%|█████████▎| 467/500 [01:55<00:08,  3.80it/s]\u001b[A\n",
            "Verification Evaluation:  94%|█████████▎| 468/500 [01:55<00:08,  3.90it/s]\u001b[A\n",
            "Verification Evaluation:  94%|█████████▍| 469/500 [01:56<00:07,  4.05it/s]\u001b[A\n",
            "Verification Evaluation:  94%|█████████▍| 470/500 [01:56<00:07,  4.11it/s]\u001b[A\n",
            "Verification Evaluation:  94%|█████████▍| 471/500 [01:56<00:06,  4.18it/s]\u001b[A\n",
            "Verification Evaluation:  94%|█████████▍| 472/500 [01:56<00:06,  4.24it/s]\u001b[A\n",
            "Verification Evaluation:  95%|█████████▍| 473/500 [01:57<00:06,  4.25it/s]\u001b[A\n",
            "Verification Evaluation:  95%|█████████▍| 474/500 [01:57<00:06,  4.29it/s]\u001b[A\n",
            "Verification Evaluation:  95%|█████████▌| 475/500 [01:57<00:05,  4.26it/s]\u001b[A\n",
            "Verification Evaluation:  95%|█████████▌| 476/500 [01:57<00:05,  4.28it/s]\u001b[A\n",
            "Verification Evaluation:  95%|█████████▌| 477/500 [01:58<00:05,  4.25it/s]\u001b[A\n",
            "Verification Evaluation:  96%|█████████▌| 478/500 [01:58<00:05,  4.27it/s]\u001b[A\n",
            "Verification Evaluation:  96%|█████████▌| 479/500 [01:58<00:04,  4.29it/s]\u001b[A\n",
            "Verification Evaluation:  96%|█████████▌| 480/500 [01:58<00:04,  4.31it/s]\u001b[A\n",
            "Verification Evaluation:  96%|█████████▌| 481/500 [01:58<00:04,  4.34it/s]\u001b[A\n",
            "Verification Evaluation:  96%|█████████▋| 482/500 [01:59<00:04,  4.33it/s]\u001b[A\n",
            "Verification Evaluation:  97%|█████████▋| 483/500 [01:59<00:03,  4.32it/s]\u001b[A\n",
            "Verification Evaluation:  97%|█████████▋| 484/500 [01:59<00:03,  4.33it/s]\u001b[A\n",
            "Verification Evaluation:  97%|█████████▋| 485/500 [01:59<00:03,  4.34it/s]\u001b[A\n",
            "Verification Evaluation:  97%|█████████▋| 486/500 [02:00<00:03,  4.34it/s]\u001b[A\n",
            "Verification Evaluation:  97%|█████████▋| 487/500 [02:00<00:02,  4.35it/s]\u001b[A\n",
            "Verification Evaluation:  98%|█████████▊| 488/500 [02:00<00:02,  4.33it/s]\u001b[A\n",
            "Verification Evaluation:  98%|█████████▊| 489/500 [02:00<00:02,  4.32it/s]\u001b[A\n",
            "Verification Evaluation:  98%|█████████▊| 490/500 [02:01<00:02,  4.33it/s]\u001b[A\n",
            "Verification Evaluation:  98%|█████████▊| 491/500 [02:01<00:02,  4.36it/s]\u001b[A\n",
            "Verification Evaluation:  98%|█████████▊| 492/500 [02:01<00:01,  4.34it/s]\u001b[A\n",
            "Verification Evaluation:  99%|█████████▊| 493/500 [02:01<00:01,  4.30it/s]\u001b[A\n",
            "Verification Evaluation:  99%|█████████▉| 494/500 [02:01<00:01,  4.29it/s]\u001b[A\n",
            "Verification Evaluation:  99%|█████████▉| 495/500 [02:02<00:01,  4.27it/s]\u001b[A\n",
            "Verification Evaluation:  99%|█████████▉| 496/500 [02:02<00:00,  4.29it/s]\u001b[A\n",
            "Verification Evaluation:  99%|█████████▉| 497/500 [02:02<00:00,  4.27it/s]\u001b[A\n",
            "Verification Evaluation: 100%|█████████▉| 498/500 [02:02<00:00,  4.27it/s]\u001b[A\n",
            "Verification Evaluation: 100%|█████████▉| 499/500 [02:03<00:00,  4.31it/s]\u001b[A\n",
            "Verification Evaluation: 100%|██████████| 500/500 [02:03<00:00,  4.05it/s]\n",
            "Evaluating subsets:  83%|████████▎ | 5/6 [05:22<01:23, 83.81s/it]"
          ]
        },
        {
          "output_type": "stream",
          "name": "stdout",
          "text": [
            "Verification dataset initialized with 5000 pairs\n"
          ]
        },
        {
          "output_type": "stream",
          "name": "stderr",
          "text": [
            "\n",
            "Verification Evaluation:   0%|          | 0/625 [00:00<?, ?it/s]\u001b[A\n",
            "Verification Evaluation:   0%|          | 1/625 [00:00<06:26,  1.61it/s]\u001b[A\n",
            "Verification Evaluation:   0%|          | 2/625 [00:00<04:03,  2.55it/s]\u001b[A\n",
            "Verification Evaluation:   0%|          | 3/625 [00:01<03:25,  3.03it/s]\u001b[A\n",
            "Verification Evaluation:   1%|          | 4/625 [00:01<03:02,  3.40it/s]\u001b[A\n",
            "Verification Evaluation:   1%|          | 5/625 [00:01<02:48,  3.69it/s]\u001b[A\n",
            "Verification Evaluation:   1%|          | 6/625 [00:01<02:39,  3.89it/s]\u001b[A\n",
            "Verification Evaluation:   1%|          | 7/625 [00:02<02:33,  4.03it/s]\u001b[A\n",
            "Verification Evaluation:   1%|▏         | 8/625 [00:02<02:30,  4.10it/s]\u001b[A\n",
            "Verification Evaluation:   1%|▏         | 9/625 [00:02<02:27,  4.17it/s]\u001b[A\n",
            "Verification Evaluation:   2%|▏         | 10/625 [00:02<02:25,  4.23it/s]\u001b[A\n",
            "Verification Evaluation:   2%|▏         | 11/625 [00:03<03:10,  3.22it/s]\u001b[A\n",
            "Verification Evaluation:   2%|▏         | 12/625 [00:03<02:54,  3.52it/s]\u001b[A\n",
            "Verification Evaluation:   2%|▏         | 13/625 [00:03<03:27,  2.95it/s]\u001b[A\n",
            "Verification Evaluation:   2%|▏         | 14/625 [00:04<03:05,  3.30it/s]\u001b[A\n",
            "Verification Evaluation:   2%|▏         | 15/625 [00:04<03:23,  3.00it/s]\u001b[A\n",
            "Verification Evaluation:   3%|▎         | 16/625 [00:04<03:03,  3.31it/s]\u001b[A\n",
            "Verification Evaluation:   3%|▎         | 17/625 [00:05<03:22,  3.01it/s]\u001b[A\n",
            "Verification Evaluation:   3%|▎         | 18/625 [00:05<03:03,  3.31it/s]\u001b[A\n",
            "Verification Evaluation:   3%|▎         | 19/625 [00:05<03:05,  3.27it/s]\u001b[A\n",
            "Verification Evaluation:   3%|▎         | 20/625 [00:05<02:51,  3.53it/s]\u001b[A\n",
            "Verification Evaluation:   3%|▎         | 21/625 [00:06<02:51,  3.52it/s]\u001b[A\n",
            "Verification Evaluation:   4%|▎         | 22/625 [00:06<02:43,  3.69it/s]\u001b[A\n",
            "Verification Evaluation:   4%|▎         | 23/625 [00:06<02:37,  3.82it/s]\u001b[A\n",
            "Verification Evaluation:   4%|▍         | 24/625 [00:06<02:32,  3.94it/s]\u001b[A\n",
            "Verification Evaluation:   4%|▍         | 25/625 [00:07<02:27,  4.06it/s]\u001b[A\n",
            "Verification Evaluation:   4%|▍         | 26/625 [00:07<02:24,  4.15it/s]\u001b[A\n",
            "Verification Evaluation:   4%|▍         | 27/625 [00:07<02:22,  4.20it/s]\u001b[A\n",
            "Verification Evaluation:   4%|▍         | 28/625 [00:07<02:20,  4.24it/s]\u001b[A\n",
            "Verification Evaluation:   5%|▍         | 29/625 [00:08<02:19,  4.26it/s]\u001b[A\n",
            "Verification Evaluation:   5%|▍         | 30/625 [00:08<02:18,  4.29it/s]\u001b[A\n",
            "Verification Evaluation:   5%|▍         | 31/625 [00:08<02:18,  4.29it/s]\u001b[A\n",
            "Verification Evaluation:   5%|▌         | 32/625 [00:08<02:18,  4.27it/s]\u001b[A\n",
            "Verification Evaluation:   5%|▌         | 33/625 [00:09<02:17,  4.29it/s]\u001b[A\n",
            "Verification Evaluation:   5%|▌         | 34/625 [00:09<02:16,  4.32it/s]\u001b[A\n",
            "Verification Evaluation:   6%|▌         | 35/625 [00:09<02:16,  4.32it/s]\u001b[A\n",
            "Verification Evaluation:   6%|▌         | 36/625 [00:09<02:15,  4.34it/s]\u001b[A\n",
            "Verification Evaluation:   6%|▌         | 37/625 [00:09<02:15,  4.35it/s]\u001b[A\n",
            "Verification Evaluation:   6%|▌         | 38/625 [00:10<02:16,  4.30it/s]\u001b[A\n",
            "Verification Evaluation:   6%|▌         | 39/625 [00:10<02:16,  4.29it/s]\u001b[A\n",
            "Verification Evaluation:   6%|▋         | 40/625 [00:10<02:14,  4.34it/s]\u001b[A\n",
            "Verification Evaluation:   7%|▋         | 41/625 [00:10<02:14,  4.34it/s]\u001b[A\n",
            "Verification Evaluation:   7%|▋         | 42/625 [00:11<02:13,  4.36it/s]\u001b[A\n",
            "Verification Evaluation:   7%|▋         | 43/625 [00:11<02:13,  4.36it/s]\u001b[A\n",
            "Verification Evaluation:   7%|▋         | 44/625 [00:11<02:13,  4.37it/s]\u001b[A\n",
            "Verification Evaluation:   7%|▋         | 45/625 [00:11<02:13,  4.33it/s]\u001b[A\n",
            "Verification Evaluation:   7%|▋         | 46/625 [00:12<02:13,  4.33it/s]\u001b[A\n",
            "Verification Evaluation:   8%|▊         | 47/625 [00:12<02:13,  4.33it/s]\u001b[A\n",
            "Verification Evaluation:   8%|▊         | 48/625 [00:12<02:14,  4.30it/s]\u001b[A\n",
            "Verification Evaluation:   8%|▊         | 49/625 [00:12<02:13,  4.32it/s]\u001b[A\n",
            "Verification Evaluation:   8%|▊         | 50/625 [00:12<02:12,  4.33it/s]\u001b[A\n",
            "Verification Evaluation:   8%|▊         | 51/625 [00:13<02:13,  4.29it/s]\u001b[A\n",
            "Verification Evaluation:   8%|▊         | 52/625 [00:13<02:13,  4.30it/s]\u001b[A\n",
            "Verification Evaluation:   8%|▊         | 53/625 [00:13<02:12,  4.31it/s]\u001b[A\n",
            "Verification Evaluation:   9%|▊         | 54/625 [00:13<02:12,  4.30it/s]\u001b[A\n",
            "Verification Evaluation:   9%|▉         | 55/625 [00:14<02:12,  4.30it/s]\u001b[A\n",
            "Verification Evaluation:   9%|▉         | 56/625 [00:14<02:11,  4.33it/s]\u001b[A\n",
            "Verification Evaluation:   9%|▉         | 57/625 [00:14<02:13,  4.27it/s]\u001b[A\n",
            "Verification Evaluation:   9%|▉         | 58/625 [00:14<02:11,  4.30it/s]\u001b[A\n",
            "Verification Evaluation:   9%|▉         | 59/625 [00:15<02:11,  4.29it/s]\u001b[A\n",
            "Verification Evaluation:  10%|▉         | 60/625 [00:15<02:12,  4.27it/s]\u001b[A\n",
            "Verification Evaluation:  10%|▉         | 61/625 [00:15<02:10,  4.31it/s]\u001b[A\n",
            "Verification Evaluation:  10%|▉         | 62/625 [00:15<02:09,  4.34it/s]\u001b[A\n",
            "Verification Evaluation:  10%|█         | 63/625 [00:15<02:10,  4.32it/s]\u001b[A\n",
            "Verification Evaluation:  10%|█         | 64/625 [00:16<02:09,  4.32it/s]\u001b[A\n",
            "Verification Evaluation:  10%|█         | 65/625 [00:16<02:09,  4.32it/s]\u001b[A\n",
            "Verification Evaluation:  11%|█         | 66/625 [00:16<02:09,  4.32it/s]\u001b[A\n",
            "Verification Evaluation:  11%|█         | 67/625 [00:16<02:09,  4.32it/s]\u001b[A\n",
            "Verification Evaluation:  11%|█         | 68/625 [00:17<02:09,  4.31it/s]\u001b[A\n",
            "Verification Evaluation:  11%|█         | 69/625 [00:17<02:10,  4.27it/s]\u001b[A\n",
            "Verification Evaluation:  11%|█         | 70/625 [00:17<02:27,  3.75it/s]\u001b[A\n",
            "Verification Evaluation:  11%|█▏        | 71/625 [00:17<02:20,  3.94it/s]\u001b[A\n",
            "Verification Evaluation:  12%|█▏        | 72/625 [00:18<02:51,  3.22it/s]\u001b[A\n",
            "Verification Evaluation:  12%|█▏        | 73/625 [00:18<02:39,  3.46it/s]\u001b[A\n",
            "Verification Evaluation:  12%|█▏        | 74/625 [00:18<02:51,  3.22it/s]\u001b[A\n",
            "Verification Evaluation:  12%|█▏        | 75/625 [00:19<02:41,  3.40it/s]\u001b[A\n",
            "Verification Evaluation:  12%|█▏        | 76/625 [00:19<02:42,  3.39it/s]\u001b[A\n",
            "Verification Evaluation:  12%|█▏        | 77/625 [00:19<02:49,  3.23it/s]\u001b[A\n",
            "Verification Evaluation:  12%|█▏        | 78/625 [00:20<02:50,  3.21it/s]\u001b[A\n",
            "Verification Evaluation:  13%|█▎        | 79/625 [00:20<02:38,  3.45it/s]\u001b[A\n",
            "Verification Evaluation:  13%|█▎        | 80/625 [00:20<02:28,  3.68it/s]\u001b[A\n",
            "Verification Evaluation:  13%|█▎        | 81/625 [00:20<02:22,  3.81it/s]\u001b[A\n",
            "Verification Evaluation:  13%|█▎        | 82/625 [00:21<02:17,  3.94it/s]\u001b[A\n",
            "Verification Evaluation:  13%|█▎        | 83/625 [00:21<02:14,  4.04it/s]\u001b[A\n",
            "Verification Evaluation:  13%|█▎        | 84/625 [00:21<02:10,  4.15it/s]\u001b[A\n",
            "Verification Evaluation:  14%|█▎        | 85/625 [00:21<02:08,  4.19it/s]\u001b[A\n",
            "Verification Evaluation:  14%|█▍        | 86/625 [00:22<02:06,  4.26it/s]\u001b[A\n",
            "Verification Evaluation:  14%|█▍        | 87/625 [00:22<02:05,  4.29it/s]\u001b[A\n",
            "Verification Evaluation:  14%|█▍        | 88/625 [00:22<02:04,  4.31it/s]\u001b[A\n",
            "Verification Evaluation:  14%|█▍        | 89/625 [00:22<02:04,  4.32it/s]\u001b[A\n",
            "Verification Evaluation:  14%|█▍        | 90/625 [00:22<02:03,  4.33it/s]\u001b[A\n",
            "Verification Evaluation:  15%|█▍        | 91/625 [00:23<02:03,  4.32it/s]\u001b[A\n",
            "Verification Evaluation:  15%|█▍        | 92/625 [00:23<02:02,  4.34it/s]\u001b[A\n",
            "Verification Evaluation:  15%|█▍        | 93/625 [00:23<02:02,  4.33it/s]\u001b[A\n",
            "Verification Evaluation:  15%|█▌        | 94/625 [00:23<02:02,  4.33it/s]\u001b[A\n",
            "Verification Evaluation:  15%|█▌        | 95/625 [00:24<02:03,  4.31it/s]\u001b[A\n",
            "Verification Evaluation:  15%|█▌        | 96/625 [00:24<02:03,  4.30it/s]\u001b[A\n",
            "Verification Evaluation:  16%|█▌        | 97/625 [00:24<02:02,  4.31it/s]\u001b[A\n",
            "Verification Evaluation:  16%|█▌        | 98/625 [00:24<02:03,  4.26it/s]\u001b[A\n",
            "Verification Evaluation:  16%|█▌        | 99/625 [00:25<02:03,  4.27it/s]\u001b[A\n",
            "Verification Evaluation:  16%|█▌        | 100/625 [00:25<02:03,  4.24it/s]\u001b[A\n",
            "Verification Evaluation:  16%|█▌        | 101/625 [00:25<02:02,  4.27it/s]\u001b[A\n",
            "Verification Evaluation:  16%|█▋        | 102/625 [00:25<02:02,  4.25it/s]\u001b[A\n",
            "Verification Evaluation:  16%|█▋        | 103/625 [00:26<02:03,  4.24it/s]\u001b[A\n",
            "Verification Evaluation:  17%|█▋        | 104/625 [00:26<02:02,  4.26it/s]\u001b[A\n",
            "Verification Evaluation:  17%|█▋        | 105/625 [00:26<02:01,  4.29it/s]\u001b[A\n",
            "Verification Evaluation:  17%|█▋        | 106/625 [00:26<02:00,  4.30it/s]\u001b[A\n",
            "Verification Evaluation:  17%|█▋        | 107/625 [00:26<02:00,  4.32it/s]\u001b[A\n",
            "Verification Evaluation:  17%|█▋        | 108/625 [00:27<01:58,  4.36it/s]\u001b[A\n",
            "Verification Evaluation:  17%|█▋        | 109/625 [00:27<01:58,  4.35it/s]\u001b[A\n",
            "Verification Evaluation:  18%|█▊        | 110/625 [00:27<01:58,  4.35it/s]\u001b[A\n",
            "Verification Evaluation:  18%|█▊        | 111/625 [00:27<01:59,  4.29it/s]\u001b[A\n",
            "Verification Evaluation:  18%|█▊        | 112/625 [00:28<01:59,  4.31it/s]\u001b[A\n",
            "Verification Evaluation:  18%|█▊        | 113/625 [00:28<01:59,  4.30it/s]\u001b[A\n",
            "Verification Evaluation:  18%|█▊        | 114/625 [00:28<01:58,  4.31it/s]\u001b[A\n",
            "Verification Evaluation:  18%|█▊        | 115/625 [00:28<01:58,  4.32it/s]\u001b[A\n",
            "Verification Evaluation:  19%|█▊        | 116/625 [00:29<01:58,  4.30it/s]\u001b[A\n",
            "Verification Evaluation:  19%|█▊        | 117/625 [00:29<01:58,  4.27it/s]\u001b[A\n",
            "Verification Evaluation:  19%|█▉        | 118/625 [00:29<01:56,  4.35it/s]\u001b[A\n",
            "Verification Evaluation:  19%|█▉        | 119/625 [00:29<01:57,  4.32it/s]\u001b[A\n",
            "Verification Evaluation:  19%|█▉        | 120/625 [00:29<01:57,  4.29it/s]\u001b[A\n",
            "Verification Evaluation:  19%|█▉        | 121/625 [00:30<01:57,  4.29it/s]\u001b[A\n",
            "Verification Evaluation:  20%|█▉        | 122/625 [00:30<01:59,  4.22it/s]\u001b[A\n",
            "Verification Evaluation:  20%|█▉        | 123/625 [00:30<01:57,  4.26it/s]\u001b[A\n",
            "Verification Evaluation:  20%|█▉        | 124/625 [00:30<01:57,  4.28it/s]\u001b[A\n",
            "Verification Evaluation:  20%|██        | 125/625 [00:31<01:55,  4.32it/s]\u001b[A\n",
            "Verification Evaluation:  20%|██        | 126/625 [00:31<01:56,  4.29it/s]\u001b[A\n",
            "Verification Evaluation:  20%|██        | 127/625 [00:31<01:56,  4.29it/s]\u001b[A\n",
            "Verification Evaluation:  20%|██        | 128/625 [00:31<01:55,  4.32it/s]\u001b[A\n",
            "Verification Evaluation:  21%|██        | 129/625 [00:32<02:06,  3.93it/s]\u001b[A\n",
            "Verification Evaluation:  21%|██        | 130/625 [00:32<02:11,  3.77it/s]\u001b[A\n",
            "Verification Evaluation:  21%|██        | 131/625 [00:32<02:31,  3.27it/s]\u001b[A\n",
            "Verification Evaluation:  21%|██        | 132/625 [00:33<02:19,  3.54it/s]\u001b[A\n",
            "Verification Evaluation:  21%|██▏       | 133/625 [00:33<02:36,  3.15it/s]\u001b[A\n",
            "Verification Evaluation:  21%|██▏       | 134/625 [00:33<02:22,  3.43it/s]\u001b[A\n",
            "Verification Evaluation:  22%|██▏       | 135/625 [00:34<02:44,  2.98it/s]\u001b[A\n",
            "Verification Evaluation:  22%|██▏       | 136/625 [00:34<02:33,  3.19it/s]\u001b[A\n",
            "Verification Evaluation:  22%|██▏       | 137/625 [00:34<02:25,  3.36it/s]\u001b[A\n",
            "Verification Evaluation:  22%|██▏       | 138/625 [00:34<02:15,  3.60it/s]\u001b[A\n",
            "Verification Evaluation:  22%|██▏       | 139/625 [00:35<02:17,  3.53it/s]\u001b[A\n",
            "Verification Evaluation:  22%|██▏       | 140/625 [00:35<02:09,  3.75it/s]\u001b[A\n",
            "Verification Evaluation:  23%|██▎       | 141/625 [00:35<02:06,  3.83it/s]\u001b[A\n",
            "Verification Evaluation:  23%|██▎       | 142/625 [00:35<02:02,  3.94it/s]\u001b[A\n",
            "Verification Evaluation:  23%|██▎       | 143/625 [00:36<01:59,  4.05it/s]\u001b[A\n",
            "Verification Evaluation:  23%|██▎       | 144/625 [00:36<01:56,  4.13it/s]\u001b[A\n",
            "Verification Evaluation:  23%|██▎       | 145/625 [00:36<01:55,  4.17it/s]\u001b[A\n",
            "Verification Evaluation:  23%|██▎       | 146/625 [00:36<01:53,  4.22it/s]\u001b[A\n",
            "Verification Evaluation:  24%|██▎       | 147/625 [00:37<01:53,  4.23it/s]\u001b[A\n",
            "Verification Evaluation:  24%|██▎       | 148/625 [00:37<01:51,  4.27it/s]\u001b[A\n",
            "Verification Evaluation:  24%|██▍       | 149/625 [00:37<01:51,  4.26it/s]\u001b[A\n",
            "Verification Evaluation:  24%|██▍       | 150/625 [00:37<01:50,  4.31it/s]\u001b[A\n",
            "Verification Evaluation:  24%|██▍       | 151/625 [00:37<01:49,  4.34it/s]\u001b[A\n",
            "Verification Evaluation:  24%|██▍       | 152/625 [00:38<01:51,  4.26it/s]\u001b[A\n",
            "Verification Evaluation:  24%|██▍       | 153/625 [00:38<01:50,  4.27it/s]\u001b[A\n",
            "Verification Evaluation:  25%|██▍       | 154/625 [00:38<01:49,  4.29it/s]\u001b[A\n",
            "Verification Evaluation:  25%|██▍       | 155/625 [00:38<01:48,  4.32it/s]\u001b[A\n",
            "Verification Evaluation:  25%|██▍       | 156/625 [00:39<01:49,  4.28it/s]\u001b[A\n",
            "Verification Evaluation:  25%|██▌       | 157/625 [00:39<01:49,  4.29it/s]\u001b[A\n",
            "Verification Evaluation:  25%|██▌       | 158/625 [00:39<01:48,  4.32it/s]\u001b[A\n",
            "Verification Evaluation:  25%|██▌       | 159/625 [00:39<01:47,  4.35it/s]\u001b[A\n",
            "Verification Evaluation:  26%|██▌       | 160/625 [00:40<01:47,  4.33it/s]\u001b[A\n",
            "Verification Evaluation:  26%|██▌       | 161/625 [00:40<01:49,  4.25it/s]\u001b[A\n",
            "Verification Evaluation:  26%|██▌       | 162/625 [00:40<01:48,  4.28it/s]\u001b[A\n",
            "Verification Evaluation:  26%|██▌       | 163/625 [00:40<01:46,  4.34it/s]\u001b[A\n",
            "Verification Evaluation:  26%|██▌       | 164/625 [00:40<01:47,  4.31it/s]\u001b[A\n",
            "Verification Evaluation:  26%|██▋       | 165/625 [00:41<01:47,  4.30it/s]\u001b[A\n",
            "Verification Evaluation:  27%|██▋       | 166/625 [00:41<01:46,  4.32it/s]\u001b[A\n",
            "Verification Evaluation:  27%|██▋       | 167/625 [00:41<01:45,  4.33it/s]\u001b[A\n",
            "Verification Evaluation:  27%|██▋       | 168/625 [00:41<01:45,  4.32it/s]\u001b[A\n",
            "Verification Evaluation:  27%|██▋       | 169/625 [00:42<01:45,  4.34it/s]\u001b[A\n",
            "Verification Evaluation:  27%|██▋       | 170/625 [00:42<01:45,  4.32it/s]\u001b[A\n",
            "Verification Evaluation:  27%|██▋       | 171/625 [00:42<01:43,  4.37it/s]\u001b[A\n",
            "Verification Evaluation:  28%|██▊       | 172/625 [00:42<01:44,  4.35it/s]\u001b[A\n",
            "Verification Evaluation:  28%|██▊       | 173/625 [00:43<01:44,  4.33it/s]\u001b[A\n",
            "Verification Evaluation:  28%|██▊       | 174/625 [00:43<01:44,  4.31it/s]\u001b[A\n",
            "Verification Evaluation:  28%|██▊       | 175/625 [00:43<01:43,  4.34it/s]\u001b[A\n",
            "Verification Evaluation:  28%|██▊       | 176/625 [00:43<01:43,  4.36it/s]\u001b[A\n",
            "Verification Evaluation:  28%|██▊       | 177/625 [00:43<01:43,  4.32it/s]\u001b[A\n",
            "Verification Evaluation:  28%|██▊       | 178/625 [00:44<01:43,  4.30it/s]\u001b[A\n",
            "Verification Evaluation:  29%|██▊       | 179/625 [00:44<01:44,  4.28it/s]\u001b[A\n",
            "Verification Evaluation:  29%|██▉       | 180/625 [00:44<01:43,  4.31it/s]\u001b[A\n",
            "Verification Evaluation:  29%|██▉       | 181/625 [00:44<01:42,  4.32it/s]\u001b[A\n",
            "Verification Evaluation:  29%|██▉       | 182/625 [00:45<01:43,  4.28it/s]\u001b[A\n",
            "Verification Evaluation:  29%|██▉       | 183/625 [00:45<01:43,  4.27it/s]\u001b[A\n",
            "Verification Evaluation:  29%|██▉       | 184/625 [00:45<01:41,  4.35it/s]\u001b[A\n",
            "Verification Evaluation:  30%|██▉       | 185/625 [00:45<01:50,  3.98it/s]\u001b[A\n",
            "Verification Evaluation:  30%|██▉       | 186/625 [00:46<02:19,  3.14it/s]\u001b[A\n",
            "Verification Evaluation:  30%|██▉       | 187/625 [00:46<02:10,  3.35it/s]\u001b[A\n",
            "Verification Evaluation:  30%|███       | 188/625 [00:46<02:17,  3.17it/s]\u001b[A\n",
            "Verification Evaluation:  30%|███       | 189/625 [00:47<02:13,  3.26it/s]\u001b[A\n",
            "Verification Evaluation:  30%|███       | 190/625 [00:47<02:04,  3.49it/s]\u001b[A\n",
            "Verification Evaluation:  31%|███       | 191/625 [00:47<02:28,  2.93it/s]\u001b[A\n",
            "Verification Evaluation:  31%|███       | 192/625 [00:48<02:12,  3.26it/s]\u001b[A\n",
            "Verification Evaluation:  31%|███       | 193/625 [00:48<02:09,  3.34it/s]\u001b[A\n",
            "Verification Evaluation:  31%|███       | 194/625 [00:48<02:00,  3.57it/s]\u001b[A\n",
            "Verification Evaluation:  31%|███       | 195/625 [00:48<01:53,  3.80it/s]\u001b[A\n",
            "Verification Evaluation:  31%|███▏      | 196/625 [00:49<01:49,  3.92it/s]\u001b[A\n",
            "Verification Evaluation:  32%|███▏      | 197/625 [00:49<01:45,  4.06it/s]\u001b[A\n",
            "Verification Evaluation:  32%|███▏      | 198/625 [00:49<01:43,  4.12it/s]\u001b[A\n",
            "Verification Evaluation:  32%|███▏      | 199/625 [00:49<01:41,  4.19it/s]\u001b[A\n",
            "Verification Evaluation:  32%|███▏      | 200/625 [00:50<01:40,  4.24it/s]\u001b[A\n",
            "Verification Evaluation:  32%|███▏      | 201/625 [00:50<01:39,  4.24it/s]\u001b[A\n",
            "Verification Evaluation:  32%|███▏      | 202/625 [00:50<01:39,  4.26it/s]\u001b[A\n",
            "Verification Evaluation:  32%|███▏      | 203/625 [00:50<01:38,  4.26it/s]\u001b[A\n",
            "Verification Evaluation:  33%|███▎      | 204/625 [00:51<01:37,  4.31it/s]\u001b[A\n",
            "Verification Evaluation:  33%|███▎      | 205/625 [00:51<01:37,  4.31it/s]\u001b[A\n",
            "Verification Evaluation:  33%|███▎      | 206/625 [00:51<01:36,  4.33it/s]\u001b[A\n",
            "Verification Evaluation:  33%|███▎      | 207/625 [00:51<01:37,  4.30it/s]\u001b[A\n",
            "Verification Evaluation:  33%|███▎      | 208/625 [00:51<01:36,  4.32it/s]\u001b[A\n",
            "Verification Evaluation:  33%|███▎      | 209/625 [00:52<01:36,  4.33it/s]\u001b[A\n",
            "Verification Evaluation:  34%|███▎      | 210/625 [00:52<01:36,  4.31it/s]\u001b[A\n",
            "Verification Evaluation:  34%|███▍      | 211/625 [00:52<01:36,  4.28it/s]\u001b[A\n",
            "Verification Evaluation:  34%|███▍      | 212/625 [00:52<01:37,  4.25it/s]\u001b[A\n",
            "Verification Evaluation:  34%|███▍      | 213/625 [00:53<01:36,  4.27it/s]\u001b[A\n",
            "Verification Evaluation:  34%|███▍      | 214/625 [00:53<01:36,  4.27it/s]\u001b[A\n",
            "Verification Evaluation:  34%|███▍      | 215/625 [00:53<01:36,  4.26it/s]\u001b[A\n",
            "Verification Evaluation:  35%|███▍      | 216/625 [00:53<01:35,  4.29it/s]\u001b[A\n",
            "Verification Evaluation:  35%|███▍      | 217/625 [00:54<01:34,  4.31it/s]\u001b[A\n",
            "Verification Evaluation:  35%|███▍      | 218/625 [00:54<01:34,  4.31it/s]\u001b[A\n",
            "Verification Evaluation:  35%|███▌      | 219/625 [00:54<01:34,  4.30it/s]\u001b[A\n",
            "Verification Evaluation:  35%|███▌      | 220/625 [00:54<01:34,  4.29it/s]\u001b[A\n",
            "Verification Evaluation:  35%|███▌      | 221/625 [00:54<01:33,  4.32it/s]\u001b[A\n",
            "Verification Evaluation:  36%|███▌      | 222/625 [00:55<01:33,  4.32it/s]\u001b[A\n",
            "Verification Evaluation:  36%|███▌      | 223/625 [00:55<01:32,  4.35it/s]\u001b[A\n",
            "Verification Evaluation:  36%|███▌      | 224/625 [00:55<01:32,  4.35it/s]\u001b[A\n",
            "Verification Evaluation:  36%|███▌      | 225/625 [00:55<01:32,  4.33it/s]\u001b[A\n",
            "Verification Evaluation:  36%|███▌      | 226/625 [00:56<01:32,  4.30it/s]\u001b[A\n",
            "Verification Evaluation:  36%|███▋      | 227/625 [00:56<01:32,  4.31it/s]\u001b[A\n",
            "Verification Evaluation:  36%|███▋      | 228/625 [00:56<01:31,  4.33it/s]\u001b[A\n",
            "Verification Evaluation:  37%|███▋      | 229/625 [00:56<01:32,  4.29it/s]\u001b[A\n",
            "Verification Evaluation:  37%|███▋      | 230/625 [00:57<01:30,  4.35it/s]\u001b[A\n",
            "Verification Evaluation:  37%|███▋      | 231/625 [00:57<01:31,  4.32it/s]\u001b[A\n",
            "Verification Evaluation:  37%|███▋      | 232/625 [00:57<01:30,  4.34it/s]\u001b[A\n",
            "Verification Evaluation:  37%|███▋      | 233/625 [00:57<01:30,  4.32it/s]\u001b[A\n",
            "Verification Evaluation:  37%|███▋      | 234/625 [00:57<01:30,  4.32it/s]\u001b[A\n",
            "Verification Evaluation:  38%|███▊      | 235/625 [00:58<01:29,  4.34it/s]\u001b[A\n",
            "Verification Evaluation:  38%|███▊      | 236/625 [00:58<01:30,  4.29it/s]\u001b[A\n",
            "Verification Evaluation:  38%|███▊      | 237/625 [00:58<01:30,  4.30it/s]\u001b[A\n",
            "Verification Evaluation:  38%|███▊      | 238/625 [00:58<01:30,  4.28it/s]\u001b[A\n",
            "Verification Evaluation:  38%|███▊      | 239/625 [00:59<01:30,  4.26it/s]\u001b[A\n",
            "Verification Evaluation:  38%|███▊      | 240/625 [00:59<01:30,  4.24it/s]\u001b[A\n",
            "Verification Evaluation:  39%|███▊      | 241/625 [00:59<01:30,  4.25it/s]\u001b[A\n",
            "Verification Evaluation:  39%|███▊      | 242/625 [00:59<01:45,  3.64it/s]\u001b[A\n",
            "Verification Evaluation:  39%|███▉      | 243/625 [01:00<01:39,  3.83it/s]\u001b[A\n",
            "Verification Evaluation:  39%|███▉      | 244/625 [01:00<01:52,  3.40it/s]\u001b[A\n",
            "Verification Evaluation:  39%|███▉      | 245/625 [01:00<01:44,  3.65it/s]\u001b[A\n",
            "Verification Evaluation:  39%|███▉      | 246/625 [01:01<02:09,  2.93it/s]\u001b[A\n",
            "Verification Evaluation:  40%|███▉      | 247/625 [01:01<01:56,  3.24it/s]\u001b[A\n",
            "Verification Evaluation:  40%|███▉      | 248/625 [01:01<01:56,  3.24it/s]\u001b[A\n",
            "Verification Evaluation:  40%|███▉      | 249/625 [01:02<01:46,  3.52it/s]\u001b[A\n",
            "Verification Evaluation:  40%|████      | 250/625 [01:02<01:41,  3.70it/s]\u001b[A\n",
            "Verification Evaluation:  40%|████      | 251/625 [01:02<01:41,  3.67it/s]\u001b[A\n",
            "Verification Evaluation:  40%|████      | 252/625 [01:02<01:36,  3.87it/s]\u001b[A\n",
            "Verification Evaluation:  40%|████      | 253/625 [01:03<01:40,  3.71it/s]\u001b[A\n",
            "Verification Evaluation:  41%|████      | 254/625 [01:03<01:37,  3.82it/s]\u001b[A\n",
            "Verification Evaluation:  41%|████      | 255/625 [01:03<01:32,  4.01it/s]\u001b[A\n",
            "Verification Evaluation:  41%|████      | 256/625 [01:03<01:31,  4.04it/s]\u001b[A\n",
            "Verification Evaluation:  41%|████      | 257/625 [01:04<01:34,  3.88it/s]\u001b[A\n",
            "Verification Evaluation:  41%|████▏     | 258/625 [01:04<01:31,  4.01it/s]\u001b[A\n",
            "Verification Evaluation:  41%|████▏     | 259/625 [01:04<01:29,  4.10it/s]\u001b[A\n",
            "Verification Evaluation:  42%|████▏     | 260/625 [01:04<01:28,  4.11it/s]\u001b[A\n",
            "Verification Evaluation:  42%|████▏     | 261/625 [01:05<01:27,  4.17it/s]\u001b[A\n",
            "Verification Evaluation:  42%|████▏     | 262/625 [01:05<01:25,  4.24it/s]\u001b[A\n",
            "Verification Evaluation:  42%|████▏     | 263/625 [01:05<01:24,  4.30it/s]\u001b[A\n",
            "Verification Evaluation:  42%|████▏     | 264/625 [01:05<01:23,  4.31it/s]\u001b[A\n",
            "Verification Evaluation:  42%|████▏     | 265/625 [01:05<01:24,  4.28it/s]\u001b[A\n",
            "Verification Evaluation:  43%|████▎     | 266/625 [01:06<01:23,  4.28it/s]\u001b[A\n",
            "Verification Evaluation:  43%|████▎     | 267/625 [01:06<01:23,  4.31it/s]\u001b[A\n",
            "Verification Evaluation:  43%|████▎     | 268/625 [01:06<01:23,  4.29it/s]\u001b[A\n",
            "Verification Evaluation:  43%|████▎     | 269/625 [01:06<01:22,  4.33it/s]\u001b[A\n",
            "Verification Evaluation:  43%|████▎     | 270/625 [01:07<01:22,  4.31it/s]\u001b[A\n",
            "Verification Evaluation:  43%|████▎     | 271/625 [01:07<01:21,  4.32it/s]\u001b[A\n",
            "Verification Evaluation:  44%|████▎     | 272/625 [01:07<01:21,  4.32it/s]\u001b[A\n",
            "Verification Evaluation:  44%|████▎     | 273/625 [01:07<01:20,  4.35it/s]\u001b[A\n",
            "Verification Evaluation:  44%|████▍     | 274/625 [01:08<01:20,  4.34it/s]\u001b[A\n",
            "Verification Evaluation:  44%|████▍     | 275/625 [01:08<01:21,  4.32it/s]\u001b[A\n",
            "Verification Evaluation:  44%|████▍     | 276/625 [01:08<01:20,  4.35it/s]\u001b[A\n",
            "Verification Evaluation:  44%|████▍     | 277/625 [01:08<01:20,  4.34it/s]\u001b[A\n",
            "Verification Evaluation:  44%|████▍     | 278/625 [01:08<01:20,  4.32it/s]\u001b[A\n",
            "Verification Evaluation:  45%|████▍     | 279/625 [01:09<01:20,  4.30it/s]\u001b[A\n",
            "Verification Evaluation:  45%|████▍     | 280/625 [01:09<01:20,  4.30it/s]\u001b[A\n",
            "Verification Evaluation:  45%|████▍     | 281/625 [01:09<01:19,  4.33it/s]\u001b[A\n",
            "Verification Evaluation:  45%|████▌     | 282/625 [01:09<01:19,  4.30it/s]\u001b[A\n",
            "Verification Evaluation:  45%|████▌     | 283/625 [01:10<01:19,  4.32it/s]\u001b[A\n",
            "Verification Evaluation:  45%|████▌     | 284/625 [01:10<01:18,  4.32it/s]\u001b[A\n",
            "Verification Evaluation:  46%|████▌     | 285/625 [01:10<01:19,  4.27it/s]\u001b[A\n",
            "Verification Evaluation:  46%|████▌     | 286/625 [01:10<01:19,  4.27it/s]\u001b[A\n",
            "Verification Evaluation:  46%|████▌     | 287/625 [01:11<01:18,  4.31it/s]\u001b[A\n",
            "Verification Evaluation:  46%|████▌     | 288/625 [01:11<01:18,  4.32it/s]\u001b[A\n",
            "Verification Evaluation:  46%|████▌     | 289/625 [01:11<01:18,  4.30it/s]\u001b[A\n",
            "Verification Evaluation:  46%|████▋     | 290/625 [01:11<01:17,  4.32it/s]\u001b[A\n",
            "Verification Evaluation:  47%|████▋     | 291/625 [01:11<01:16,  4.36it/s]\u001b[A\n",
            "Verification Evaluation:  47%|████▋     | 292/625 [01:12<01:16,  4.34it/s]\u001b[A\n",
            "Verification Evaluation:  47%|████▋     | 293/625 [01:12<01:16,  4.33it/s]\u001b[A\n",
            "Verification Evaluation:  47%|████▋     | 294/625 [01:12<01:17,  4.29it/s]\u001b[A\n",
            "Verification Evaluation:  47%|████▋     | 295/625 [01:12<01:16,  4.29it/s]\u001b[A\n",
            "Verification Evaluation:  47%|████▋     | 296/625 [01:13<01:15,  4.34it/s]\u001b[A\n",
            "Verification Evaluation:  48%|████▊     | 297/625 [01:13<01:14,  4.37it/s]\u001b[A\n",
            "Verification Evaluation:  48%|████▊     | 298/625 [01:13<01:15,  4.35it/s]\u001b[A\n",
            "Verification Evaluation:  48%|████▊     | 299/625 [01:13<01:14,  4.36it/s]\u001b[A\n",
            "Verification Evaluation:  48%|████▊     | 300/625 [01:14<01:27,  3.71it/s]\u001b[A\n",
            "Verification Evaluation:  48%|████▊     | 301/625 [01:14<01:22,  3.92it/s]\u001b[A\n",
            "Verification Evaluation:  48%|████▊     | 302/625 [01:14<01:42,  3.16it/s]\u001b[A\n",
            "Verification Evaluation:  48%|████▊     | 303/625 [01:15<01:33,  3.44it/s]\u001b[A\n",
            "Verification Evaluation:  49%|████▊     | 304/625 [01:15<01:43,  3.10it/s]\u001b[A\n",
            "Verification Evaluation:  49%|████▉     | 305/625 [01:15<01:33,  3.41it/s]\u001b[A\n",
            "Verification Evaluation:  49%|████▉     | 306/625 [01:16<01:38,  3.24it/s]\u001b[A\n",
            "Verification Evaluation:  49%|████▉     | 307/625 [01:16<01:31,  3.48it/s]\u001b[A\n",
            "Verification Evaluation:  49%|████▉     | 308/625 [01:16<01:50,  2.87it/s]\u001b[A\n",
            "Verification Evaluation:  49%|████▉     | 309/625 [01:17<01:38,  3.20it/s]\u001b[A\n",
            "Verification Evaluation:  50%|████▉     | 310/625 [01:17<01:30,  3.47it/s]\u001b[A\n",
            "Verification Evaluation:  50%|████▉     | 311/625 [01:17<01:25,  3.69it/s]\u001b[A\n",
            "Verification Evaluation:  50%|████▉     | 312/625 [01:17<01:21,  3.85it/s]\u001b[A\n",
            "Verification Evaluation:  50%|█████     | 313/625 [01:17<01:17,  4.00it/s]\u001b[A\n",
            "Verification Evaluation:  50%|█████     | 314/625 [01:18<01:16,  4.09it/s]\u001b[A\n",
            "Verification Evaluation:  50%|█████     | 315/625 [01:18<01:15,  4.12it/s]\u001b[A\n",
            "Verification Evaluation:  51%|█████     | 316/625 [01:18<01:14,  4.16it/s]\u001b[A\n",
            "Verification Evaluation:  51%|█████     | 317/625 [01:18<01:13,  4.19it/s]\u001b[A\n",
            "Verification Evaluation:  51%|█████     | 318/625 [01:19<01:12,  4.24it/s]\u001b[A\n",
            "Verification Evaluation:  51%|█████     | 319/625 [01:19<01:12,  4.25it/s]\u001b[A\n",
            "Verification Evaluation:  51%|█████     | 320/625 [01:19<01:11,  4.25it/s]\u001b[A\n",
            "Verification Evaluation:  51%|█████▏    | 321/625 [01:19<01:11,  4.26it/s]\u001b[A\n",
            "Verification Evaluation:  52%|█████▏    | 322/625 [01:20<01:10,  4.28it/s]\u001b[A\n",
            "Verification Evaluation:  52%|█████▏    | 323/625 [01:20<01:10,  4.29it/s]\u001b[A\n",
            "Verification Evaluation:  52%|█████▏    | 324/625 [01:20<01:10,  4.29it/s]\u001b[A\n",
            "Verification Evaluation:  52%|█████▏    | 325/625 [01:20<01:09,  4.31it/s]\u001b[A\n",
            "Verification Evaluation:  52%|█████▏    | 326/625 [01:20<01:09,  4.30it/s]\u001b[A\n",
            "Verification Evaluation:  52%|█████▏    | 327/625 [01:21<01:09,  4.28it/s]\u001b[A\n",
            "Verification Evaluation:  52%|█████▏    | 328/625 [01:21<01:09,  4.26it/s]\u001b[A\n",
            "Verification Evaluation:  53%|█████▎    | 329/625 [01:21<01:08,  4.29it/s]\u001b[A\n",
            "Verification Evaluation:  53%|█████▎    | 330/625 [01:21<01:09,  4.26it/s]\u001b[A\n",
            "Verification Evaluation:  53%|█████▎    | 331/625 [01:22<01:08,  4.28it/s]\u001b[A\n",
            "Verification Evaluation:  53%|█████▎    | 332/625 [01:22<01:07,  4.32it/s]\u001b[A\n",
            "Verification Evaluation:  53%|█████▎    | 333/625 [01:22<01:07,  4.31it/s]\u001b[A\n",
            "Verification Evaluation:  53%|█████▎    | 334/625 [01:22<01:07,  4.29it/s]\u001b[A\n",
            "Verification Evaluation:  54%|█████▎    | 335/625 [01:23<01:07,  4.29it/s]\u001b[A\n",
            "Verification Evaluation:  54%|█████▍    | 336/625 [01:23<01:06,  4.32it/s]\u001b[A\n",
            "Verification Evaluation:  54%|█████▍    | 337/625 [01:23<01:06,  4.32it/s]\u001b[A\n",
            "Verification Evaluation:  54%|█████▍    | 338/625 [01:23<01:06,  4.31it/s]\u001b[A\n",
            "Verification Evaluation:  54%|█████▍    | 339/625 [01:24<01:06,  4.28it/s]\u001b[A\n",
            "Verification Evaluation:  54%|█████▍    | 340/625 [01:24<01:06,  4.29it/s]\u001b[A\n",
            "Verification Evaluation:  55%|█████▍    | 341/625 [01:24<01:06,  4.25it/s]\u001b[A\n",
            "Verification Evaluation:  55%|█████▍    | 342/625 [01:24<01:06,  4.27it/s]\u001b[A\n",
            "Verification Evaluation:  55%|█████▍    | 343/625 [01:24<01:05,  4.29it/s]\u001b[A\n",
            "Verification Evaluation:  55%|█████▌    | 344/625 [01:25<01:05,  4.28it/s]\u001b[A\n",
            "Verification Evaluation:  55%|█████▌    | 345/625 [01:25<01:05,  4.28it/s]\u001b[A\n",
            "Verification Evaluation:  55%|█████▌    | 346/625 [01:25<01:04,  4.32it/s]\u001b[A\n",
            "Verification Evaluation:  56%|█████▌    | 347/625 [01:25<01:04,  4.32it/s]\u001b[A\n",
            "Verification Evaluation:  56%|█████▌    | 348/625 [01:26<01:03,  4.37it/s]\u001b[A\n",
            "Verification Evaluation:  56%|█████▌    | 349/625 [01:26<01:03,  4.36it/s]\u001b[A\n",
            "Verification Evaluation:  56%|█████▌    | 350/625 [01:26<01:03,  4.34it/s]\u001b[A\n",
            "Verification Evaluation:  56%|█████▌    | 351/625 [01:26<01:03,  4.31it/s]\u001b[A\n",
            "Verification Evaluation:  56%|█████▋    | 352/625 [01:27<01:02,  4.33it/s]\u001b[A\n",
            "Verification Evaluation:  56%|█████▋    | 353/625 [01:27<01:02,  4.35it/s]\u001b[A\n",
            "Verification Evaluation:  57%|█████▋    | 354/625 [01:27<01:02,  4.33it/s]\u001b[A\n",
            "Verification Evaluation:  57%|█████▋    | 355/625 [01:27<01:02,  4.31it/s]\u001b[A\n",
            "Verification Evaluation:  57%|█████▋    | 356/625 [01:27<01:02,  4.32it/s]\u001b[A\n",
            "Verification Evaluation:  57%|█████▋    | 357/625 [01:28<01:03,  4.21it/s]\u001b[A\n",
            "Verification Evaluation:  57%|█████▋    | 358/625 [01:28<01:17,  3.45it/s]\u001b[A\n",
            "Verification Evaluation:  57%|█████▋    | 359/625 [01:28<01:19,  3.34it/s]\u001b[A\n",
            "Verification Evaluation:  58%|█████▊    | 360/625 [01:29<01:18,  3.39it/s]\u001b[A\n",
            "Verification Evaluation:  58%|█████▊    | 361/625 [01:29<01:22,  3.18it/s]\u001b[A\n",
            "Verification Evaluation:  58%|█████▊    | 362/625 [01:29<01:24,  3.10it/s]\u001b[A\n",
            "Verification Evaluation:  58%|█████▊    | 363/625 [01:30<01:23,  3.13it/s]\u001b[A\n",
            "Verification Evaluation:  58%|█████▊    | 364/625 [01:30<01:17,  3.38it/s]\u001b[A\n",
            "Verification Evaluation:  58%|█████▊    | 365/625 [01:30<01:20,  3.25it/s]\u001b[A\n",
            "Verification Evaluation:  59%|█████▊    | 366/625 [01:31<01:14,  3.46it/s]\u001b[A\n",
            "Verification Evaluation:  59%|█████▊    | 367/625 [01:31<01:13,  3.49it/s]\u001b[A\n",
            "Verification Evaluation:  59%|█████▉    | 368/625 [01:31<01:09,  3.72it/s]\u001b[A\n",
            "Verification Evaluation:  59%|█████▉    | 369/625 [01:31<01:08,  3.76it/s]\u001b[A\n",
            "Verification Evaluation:  59%|█████▉    | 370/625 [01:32<01:05,  3.90it/s]\u001b[A\n",
            "Verification Evaluation:  59%|█████▉    | 371/625 [01:32<01:02,  4.06it/s]\u001b[A\n",
            "Verification Evaluation:  60%|█████▉    | 372/625 [01:32<01:01,  4.13it/s]\u001b[A\n",
            "Verification Evaluation:  60%|█████▉    | 373/625 [01:32<01:00,  4.20it/s]\u001b[A\n",
            "Verification Evaluation:  60%|█████▉    | 374/625 [01:32<00:59,  4.25it/s]\u001b[A\n",
            "Verification Evaluation:  60%|██████    | 375/625 [01:33<00:58,  4.30it/s]\u001b[A\n",
            "Verification Evaluation:  60%|██████    | 376/625 [01:33<00:57,  4.30it/s]\u001b[A\n",
            "Verification Evaluation:  60%|██████    | 377/625 [01:33<00:57,  4.30it/s]\u001b[A\n",
            "Verification Evaluation:  60%|██████    | 378/625 [01:33<00:57,  4.28it/s]\u001b[A\n",
            "Verification Evaluation:  61%|██████    | 379/625 [01:34<00:57,  4.27it/s]\u001b[A\n",
            "Verification Evaluation:  61%|██████    | 380/625 [01:34<00:57,  4.27it/s]\u001b[A\n",
            "Verification Evaluation:  61%|██████    | 381/625 [01:34<00:56,  4.31it/s]\u001b[A\n",
            "Verification Evaluation:  61%|██████    | 382/625 [01:34<00:56,  4.33it/s]\u001b[A\n",
            "Verification Evaluation:  61%|██████▏   | 383/625 [01:35<00:55,  4.34it/s]\u001b[A\n",
            "Verification Evaluation:  61%|██████▏   | 384/625 [01:35<00:55,  4.36it/s]\u001b[A\n",
            "Verification Evaluation:  62%|██████▏   | 385/625 [01:35<00:55,  4.34it/s]\u001b[A\n",
            "Verification Evaluation:  62%|██████▏   | 386/625 [01:35<00:55,  4.31it/s]\u001b[A\n",
            "Verification Evaluation:  62%|██████▏   | 387/625 [01:35<00:55,  4.30it/s]\u001b[A\n",
            "Verification Evaluation:  62%|██████▏   | 388/625 [01:36<00:54,  4.32it/s]\u001b[A\n",
            "Verification Evaluation:  62%|██████▏   | 389/625 [01:36<00:54,  4.32it/s]\u001b[A\n",
            "Verification Evaluation:  62%|██████▏   | 390/625 [01:36<00:54,  4.35it/s]\u001b[A\n",
            "Verification Evaluation:  63%|██████▎   | 391/625 [01:36<00:53,  4.36it/s]\u001b[A\n",
            "Verification Evaluation:  63%|██████▎   | 392/625 [01:37<00:53,  4.37it/s]\u001b[A\n",
            "Verification Evaluation:  63%|██████▎   | 393/625 [01:37<00:53,  4.35it/s]\u001b[A\n",
            "Verification Evaluation:  63%|██████▎   | 394/625 [01:37<00:53,  4.35it/s]\u001b[A\n",
            "Verification Evaluation:  63%|██████▎   | 395/625 [01:37<00:53,  4.31it/s]\u001b[A\n",
            "Verification Evaluation:  63%|██████▎   | 396/625 [01:38<00:53,  4.31it/s]\u001b[A\n",
            "Verification Evaluation:  64%|██████▎   | 397/625 [01:38<00:52,  4.33it/s]\u001b[A\n",
            "Verification Evaluation:  64%|██████▎   | 398/625 [01:38<00:52,  4.34it/s]\u001b[A\n",
            "Verification Evaluation:  64%|██████▍   | 399/625 [01:38<00:52,  4.27it/s]\u001b[A\n",
            "Verification Evaluation:  64%|██████▍   | 400/625 [01:38<00:52,  4.29it/s]\u001b[A\n",
            "Verification Evaluation:  64%|██████▍   | 401/625 [01:39<00:52,  4.30it/s]\u001b[A\n",
            "Verification Evaluation:  64%|██████▍   | 402/625 [01:39<00:51,  4.31it/s]\u001b[A\n",
            "Verification Evaluation:  64%|██████▍   | 403/625 [01:39<00:51,  4.30it/s]\u001b[A\n",
            "Verification Evaluation:  65%|██████▍   | 404/625 [01:39<00:51,  4.33it/s]\u001b[A\n",
            "Verification Evaluation:  65%|██████▍   | 405/625 [01:40<00:50,  4.33it/s]\u001b[A\n",
            "Verification Evaluation:  65%|██████▍   | 406/625 [01:40<00:50,  4.30it/s]\u001b[A\n",
            "Verification Evaluation:  65%|██████▌   | 407/625 [01:40<00:50,  4.28it/s]\u001b[A\n",
            "Verification Evaluation:  65%|██████▌   | 408/625 [01:40<00:50,  4.27it/s]\u001b[A\n",
            "Verification Evaluation:  65%|██████▌   | 409/625 [01:41<00:50,  4.28it/s]\u001b[A\n",
            "Verification Evaluation:  66%|██████▌   | 410/625 [01:41<00:50,  4.27it/s]\u001b[A\n",
            "Verification Evaluation:  66%|██████▌   | 411/625 [01:41<00:50,  4.21it/s]\u001b[A\n",
            "Verification Evaluation:  66%|██████▌   | 412/625 [01:41<00:49,  4.27it/s]\u001b[A\n",
            "Verification Evaluation:  66%|██████▌   | 413/625 [01:42<00:49,  4.27it/s]\u001b[A\n",
            "Verification Evaluation:  66%|██████▌   | 414/625 [01:42<00:49,  4.26it/s]\u001b[A\n",
            "Verification Evaluation:  66%|██████▋   | 415/625 [01:42<00:58,  3.61it/s]\u001b[A\n",
            "Verification Evaluation:  67%|██████▋   | 416/625 [01:42<00:55,  3.77it/s]\u001b[A\n",
            "Verification Evaluation:  67%|██████▋   | 417/625 [01:43<00:58,  3.55it/s]\u001b[A\n",
            "Verification Evaluation:  67%|██████▋   | 418/625 [01:43<01:01,  3.36it/s]\u001b[A\n",
            "Verification Evaluation:  67%|██████▋   | 419/625 [01:43<01:10,  2.91it/s]\u001b[A\n",
            "Verification Evaluation:  67%|██████▋   | 420/625 [01:44<01:03,  3.24it/s]\u001b[A\n",
            "Verification Evaluation:  67%|██████▋   | 421/625 [01:44<01:00,  3.39it/s]\u001b[A\n",
            "Verification Evaluation:  68%|██████▊   | 422/625 [01:44<01:07,  3.00it/s]\u001b[A\n",
            "Verification Evaluation:  68%|██████▊   | 423/625 [01:45<01:07,  3.00it/s]\u001b[A\n",
            "Verification Evaluation:  68%|██████▊   | 424/625 [01:45<01:00,  3.31it/s]\u001b[A\n",
            "Verification Evaluation:  68%|██████▊   | 425/625 [01:45<00:56,  3.57it/s]\u001b[A\n",
            "Verification Evaluation:  68%|██████▊   | 426/625 [01:45<00:54,  3.67it/s]\u001b[A\n",
            "Verification Evaluation:  68%|██████▊   | 427/625 [01:46<00:53,  3.70it/s]\u001b[A\n",
            "Verification Evaluation:  68%|██████▊   | 428/625 [01:46<00:51,  3.85it/s]\u001b[A\n",
            "Verification Evaluation:  69%|██████▊   | 429/625 [01:46<00:53,  3.66it/s]\u001b[A\n",
            "Verification Evaluation:  69%|██████▉   | 430/625 [01:46<00:50,  3.86it/s]\u001b[A\n",
            "Verification Evaluation:  69%|██████▉   | 431/625 [01:47<00:48,  3.98it/s]\u001b[A\n",
            "Verification Evaluation:  69%|██████▉   | 432/625 [01:47<00:47,  4.06it/s]\u001b[A\n",
            "Verification Evaluation:  69%|██████▉   | 433/625 [01:47<00:46,  4.10it/s]\u001b[A\n",
            "Verification Evaluation:  69%|██████▉   | 434/625 [01:47<00:45,  4.22it/s]\u001b[A\n",
            "Verification Evaluation:  70%|██████▉   | 435/625 [01:48<00:44,  4.28it/s]\u001b[A\n",
            "Verification Evaluation:  70%|██████▉   | 436/625 [01:48<00:43,  4.36it/s]\u001b[A\n",
            "Verification Evaluation:  70%|██████▉   | 437/625 [01:48<00:43,  4.32it/s]\u001b[A\n",
            "Verification Evaluation:  70%|███████   | 438/625 [01:48<00:42,  4.35it/s]\u001b[A\n",
            "Verification Evaluation:  70%|███████   | 439/625 [01:49<00:42,  4.37it/s]\u001b[A\n",
            "Verification Evaluation:  70%|███████   | 440/625 [01:49<00:42,  4.37it/s]\u001b[A\n",
            "Verification Evaluation:  71%|███████   | 441/625 [01:49<00:42,  4.31it/s]\u001b[A\n",
            "Verification Evaluation:  71%|███████   | 442/625 [01:49<00:42,  4.33it/s]\u001b[A\n",
            "Verification Evaluation:  71%|███████   | 443/625 [01:49<00:42,  4.33it/s]\u001b[A\n",
            "Verification Evaluation:  71%|███████   | 444/625 [01:50<00:42,  4.31it/s]\u001b[A\n",
            "Verification Evaluation:  71%|███████   | 445/625 [01:50<00:42,  4.26it/s]\u001b[A\n",
            "Verification Evaluation:  71%|███████▏  | 446/625 [01:50<00:41,  4.28it/s]\u001b[A\n",
            "Verification Evaluation:  72%|███████▏  | 447/625 [01:50<00:41,  4.31it/s]\u001b[A\n",
            "Verification Evaluation:  72%|███████▏  | 448/625 [01:51<00:41,  4.31it/s]\u001b[A\n",
            "Verification Evaluation:  72%|███████▏  | 449/625 [01:51<00:40,  4.30it/s]\u001b[A\n",
            "Verification Evaluation:  72%|███████▏  | 450/625 [01:51<00:40,  4.33it/s]\u001b[A\n",
            "Verification Evaluation:  72%|███████▏  | 451/625 [01:51<00:40,  4.34it/s]\u001b[A\n",
            "Verification Evaluation:  72%|███████▏  | 452/625 [01:52<00:40,  4.31it/s]\u001b[A\n",
            "Verification Evaluation:  72%|███████▏  | 453/625 [01:52<00:39,  4.33it/s]\u001b[A\n",
            "Verification Evaluation:  73%|███████▎  | 454/625 [01:52<00:39,  4.31it/s]\u001b[A\n",
            "Verification Evaluation:  73%|███████▎  | 455/625 [01:52<00:39,  4.33it/s]\u001b[A\n",
            "Verification Evaluation:  73%|███████▎  | 456/625 [01:52<00:39,  4.33it/s]\u001b[A\n",
            "Verification Evaluation:  73%|███████▎  | 457/625 [01:53<00:38,  4.34it/s]\u001b[A\n",
            "Verification Evaluation:  73%|███████▎  | 458/625 [01:53<00:38,  4.30it/s]\u001b[A\n",
            "Verification Evaluation:  73%|███████▎  | 459/625 [01:53<00:38,  4.28it/s]\u001b[A\n",
            "Verification Evaluation:  74%|███████▎  | 460/625 [01:53<00:38,  4.30it/s]\u001b[A\n",
            "Verification Evaluation:  74%|███████▍  | 461/625 [01:54<00:38,  4.30it/s]\u001b[A\n",
            "Verification Evaluation:  74%|███████▍  | 462/625 [01:54<00:37,  4.30it/s]\u001b[A\n",
            "Verification Evaluation:  74%|███████▍  | 463/625 [01:54<00:37,  4.31it/s]\u001b[A\n",
            "Verification Evaluation:  74%|███████▍  | 464/625 [01:54<00:37,  4.31it/s]\u001b[A\n",
            "Verification Evaluation:  74%|███████▍  | 465/625 [01:55<00:37,  4.32it/s]\u001b[A\n",
            "Verification Evaluation:  75%|███████▍  | 466/625 [01:55<00:36,  4.32it/s]\u001b[A\n",
            "Verification Evaluation:  75%|███████▍  | 467/625 [01:55<00:36,  4.30it/s]\u001b[A\n",
            "Verification Evaluation:  75%|███████▍  | 468/625 [01:55<00:36,  4.29it/s]\u001b[A\n",
            "Verification Evaluation:  75%|███████▌  | 469/625 [01:55<00:36,  4.29it/s]\u001b[A\n",
            "Verification Evaluation:  75%|███████▌  | 470/625 [01:56<00:35,  4.33it/s]\u001b[A\n",
            "Verification Evaluation:  75%|███████▌  | 471/625 [01:56<00:36,  4.28it/s]\u001b[A\n",
            "Verification Evaluation:  76%|███████▌  | 472/625 [01:56<00:43,  3.49it/s]\u001b[A\n",
            "Verification Evaluation:  76%|███████▌  | 473/625 [01:57<00:40,  3.72it/s]\u001b[A\n",
            "Verification Evaluation:  76%|███████▌  | 474/625 [01:57<00:47,  3.15it/s]\u001b[A\n",
            "Verification Evaluation:  76%|███████▌  | 475/625 [01:57<00:43,  3.44it/s]\u001b[A\n",
            "Verification Evaluation:  76%|███████▌  | 476/625 [01:58<00:54,  2.75it/s]\u001b[A\n",
            "Verification Evaluation:  76%|███████▋  | 477/625 [01:58<00:47,  3.09it/s]\u001b[A\n",
            "Verification Evaluation:  76%|███████▋  | 478/625 [01:58<00:45,  3.24it/s]\u001b[A\n",
            "Verification Evaluation:  77%|███████▋  | 479/625 [01:59<00:41,  3.49it/s]\u001b[A\n",
            "Verification Evaluation:  77%|███████▋  | 480/625 [01:59<00:45,  3.21it/s]\u001b[A\n",
            "Verification Evaluation:  77%|███████▋  | 481/625 [01:59<00:41,  3.49it/s]\u001b[A\n",
            "Verification Evaluation:  77%|███████▋  | 482/625 [01:59<00:38,  3.70it/s]\u001b[A\n",
            "Verification Evaluation:  77%|███████▋  | 483/625 [02:00<00:36,  3.86it/s]\u001b[A\n",
            "Verification Evaluation:  77%|███████▋  | 484/625 [02:00<00:35,  3.97it/s]\u001b[A\n",
            "Verification Evaluation:  78%|███████▊  | 485/625 [02:00<00:34,  4.07it/s]\u001b[A\n",
            "Verification Evaluation:  78%|███████▊  | 486/625 [02:00<00:33,  4.09it/s]\u001b[A\n",
            "Verification Evaluation:  78%|███████▊  | 487/625 [02:01<00:33,  4.17it/s]\u001b[A\n",
            "Verification Evaluation:  78%|███████▊  | 488/625 [02:01<00:32,  4.23it/s]\u001b[A\n",
            "Verification Evaluation:  78%|███████▊  | 489/625 [02:01<00:32,  4.21it/s]\u001b[A\n",
            "Verification Evaluation:  78%|███████▊  | 490/625 [02:01<00:31,  4.24it/s]\u001b[A\n",
            "Verification Evaluation:  79%|███████▊  | 491/625 [02:01<00:31,  4.23it/s]\u001b[A\n",
            "Verification Evaluation:  79%|███████▊  | 492/625 [02:02<00:31,  4.26it/s]\u001b[A\n",
            "Verification Evaluation:  79%|███████▉  | 493/625 [02:02<00:30,  4.28it/s]\u001b[A\n",
            "Verification Evaluation:  79%|███████▉  | 494/625 [02:02<00:30,  4.28it/s]\u001b[A\n",
            "Verification Evaluation:  79%|███████▉  | 495/625 [02:02<00:30,  4.28it/s]\u001b[A\n",
            "Verification Evaluation:  79%|███████▉  | 496/625 [02:03<00:30,  4.25it/s]\u001b[A\n",
            "Verification Evaluation:  80%|███████▉  | 497/625 [02:03<00:29,  4.32it/s]\u001b[A\n",
            "Verification Evaluation:  80%|███████▉  | 498/625 [02:03<00:29,  4.34it/s]\u001b[A\n",
            "Verification Evaluation:  80%|███████▉  | 499/625 [02:03<00:29,  4.34it/s]\u001b[A\n",
            "Verification Evaluation:  80%|████████  | 500/625 [02:04<00:28,  4.33it/s]\u001b[A\n",
            "Verification Evaluation:  80%|████████  | 501/625 [02:04<00:28,  4.34it/s]\u001b[A\n",
            "Verification Evaluation:  80%|████████  | 502/625 [02:04<00:28,  4.34it/s]\u001b[A\n",
            "Verification Evaluation:  80%|████████  | 503/625 [02:04<00:28,  4.28it/s]\u001b[A\n",
            "Verification Evaluation:  81%|████████  | 504/625 [02:04<00:28,  4.28it/s]\u001b[A\n",
            "Verification Evaluation:  81%|████████  | 505/625 [02:05<00:28,  4.28it/s]\u001b[A\n",
            "Verification Evaluation:  81%|████████  | 506/625 [02:05<00:27,  4.30it/s]\u001b[A\n",
            "Verification Evaluation:  81%|████████  | 507/625 [02:05<00:27,  4.29it/s]\u001b[A\n",
            "Verification Evaluation:  81%|████████▏ | 508/625 [02:05<00:26,  4.34it/s]\u001b[A\n",
            "Verification Evaluation:  81%|████████▏ | 509/625 [02:06<00:26,  4.32it/s]\u001b[A\n",
            "Verification Evaluation:  82%|████████▏ | 510/625 [02:06<00:26,  4.29it/s]\u001b[A\n",
            "Verification Evaluation:  82%|████████▏ | 511/625 [02:06<00:26,  4.32it/s]\u001b[A\n",
            "Verification Evaluation:  82%|████████▏ | 512/625 [02:06<00:26,  4.31it/s]\u001b[A\n",
            "Verification Evaluation:  82%|████████▏ | 513/625 [02:07<00:26,  4.30it/s]\u001b[A\n",
            "Verification Evaluation:  82%|████████▏ | 514/625 [02:07<00:25,  4.30it/s]\u001b[A\n",
            "Verification Evaluation:  82%|████████▏ | 515/625 [02:07<00:25,  4.33it/s]\u001b[A\n",
            "Verification Evaluation:  83%|████████▎ | 516/625 [02:07<00:25,  4.31it/s]\u001b[A\n",
            "Verification Evaluation:  83%|████████▎ | 517/625 [02:08<00:25,  4.24it/s]\u001b[A\n",
            "Verification Evaluation:  83%|████████▎ | 518/625 [02:08<00:25,  4.28it/s]\u001b[A\n",
            "Verification Evaluation:  83%|████████▎ | 519/625 [02:08<00:24,  4.28it/s]\u001b[A\n",
            "Verification Evaluation:  83%|████████▎ | 520/625 [02:08<00:24,  4.23it/s]\u001b[A\n",
            "Verification Evaluation:  83%|████████▎ | 521/625 [02:08<00:24,  4.25it/s]\u001b[A\n",
            "Verification Evaluation:  84%|████████▎ | 522/625 [02:09<00:24,  4.27it/s]\u001b[A\n",
            "Verification Evaluation:  84%|████████▎ | 523/625 [02:09<00:24,  4.25it/s]\u001b[A\n",
            "Verification Evaluation:  84%|████████▍ | 524/625 [02:09<00:23,  4.24it/s]\u001b[A\n",
            "Verification Evaluation:  84%|████████▍ | 525/625 [02:09<00:23,  4.28it/s]\u001b[A\n",
            "Verification Evaluation:  84%|████████▍ | 526/625 [02:10<00:23,  4.29it/s]\u001b[A\n",
            "Verification Evaluation:  84%|████████▍ | 527/625 [02:10<00:22,  4.31it/s]\u001b[A\n",
            "Verification Evaluation:  84%|████████▍ | 528/625 [02:10<00:23,  4.19it/s]\u001b[A\n",
            "Verification Evaluation:  85%|████████▍ | 529/625 [02:10<00:23,  4.17it/s]\u001b[A\n",
            "Verification Evaluation:  85%|████████▍ | 530/625 [02:11<00:24,  3.88it/s]\u001b[A\n",
            "Verification Evaluation:  85%|████████▍ | 531/625 [02:11<00:25,  3.72it/s]\u001b[A\n",
            "Verification Evaluation:  85%|████████▌ | 532/625 [02:11<00:28,  3.28it/s]\u001b[A\n",
            "Verification Evaluation:  85%|████████▌ | 533/625 [02:12<00:26,  3.49it/s]\u001b[A\n",
            "Verification Evaluation:  85%|████████▌ | 534/625 [02:12<00:27,  3.26it/s]\u001b[A\n",
            "Verification Evaluation:  86%|████████▌ | 535/625 [02:12<00:28,  3.14it/s]\u001b[A\n",
            "Verification Evaluation:  86%|████████▌ | 536/625 [02:13<00:28,  3.13it/s]\u001b[A\n",
            "Verification Evaluation:  86%|████████▌ | 537/625 [02:13<00:25,  3.42it/s]\u001b[A\n",
            "Verification Evaluation:  86%|████████▌ | 538/625 [02:13<00:26,  3.30it/s]\u001b[A\n",
            "Verification Evaluation:  86%|████████▌ | 539/625 [02:13<00:24,  3.56it/s]\u001b[A\n",
            "Verification Evaluation:  86%|████████▋ | 540/625 [02:14<00:22,  3.75it/s]\u001b[A\n",
            "Verification Evaluation:  87%|████████▋ | 541/625 [02:14<00:22,  3.81it/s]\u001b[A\n",
            "Verification Evaluation:  87%|████████▋ | 542/625 [02:14<00:21,  3.81it/s]\u001b[A\n",
            "Verification Evaluation:  87%|████████▋ | 543/625 [02:14<00:20,  3.94it/s]\u001b[A\n",
            "Verification Evaluation:  87%|████████▋ | 544/625 [02:15<00:19,  4.07it/s]\u001b[A\n",
            "Verification Evaluation:  87%|████████▋ | 545/625 [02:15<00:19,  4.08it/s]\u001b[A\n",
            "Verification Evaluation:  87%|████████▋ | 546/625 [02:15<00:19,  4.13it/s]\u001b[A\n",
            "Verification Evaluation:  88%|████████▊ | 547/625 [02:15<00:18,  4.20it/s]\u001b[A\n",
            "Verification Evaluation:  88%|████████▊ | 548/625 [02:16<00:18,  4.23it/s]\u001b[A\n",
            "Verification Evaluation:  88%|████████▊ | 549/625 [02:16<00:17,  4.27it/s]\u001b[A\n",
            "Verification Evaluation:  88%|████████▊ | 550/625 [02:16<00:17,  4.30it/s]\u001b[A\n",
            "Verification Evaluation:  88%|████████▊ | 551/625 [02:16<00:17,  4.21it/s]\u001b[A\n",
            "Verification Evaluation:  88%|████████▊ | 552/625 [02:16<00:17,  4.24it/s]\u001b[A\n",
            "Verification Evaluation:  88%|████████▊ | 553/625 [02:17<00:16,  4.25it/s]\u001b[A\n",
            "Verification Evaluation:  89%|████████▊ | 554/625 [02:17<00:16,  4.28it/s]\u001b[A\n",
            "Verification Evaluation:  89%|████████▉ | 555/625 [02:17<00:16,  4.25it/s]\u001b[A\n",
            "Verification Evaluation:  89%|████████▉ | 556/625 [02:17<00:16,  4.26it/s]\u001b[A\n",
            "Verification Evaluation:  89%|████████▉ | 557/625 [02:18<00:15,  4.28it/s]\u001b[A\n",
            "Verification Evaluation:  89%|████████▉ | 558/625 [02:18<00:15,  4.32it/s]\u001b[A\n",
            "Verification Evaluation:  89%|████████▉ | 559/625 [02:18<00:15,  4.26it/s]\u001b[A\n",
            "Verification Evaluation:  90%|████████▉ | 560/625 [02:18<00:15,  4.30it/s]\u001b[A\n",
            "Verification Evaluation:  90%|████████▉ | 561/625 [02:19<00:14,  4.30it/s]\u001b[A\n",
            "Verification Evaluation:  90%|████████▉ | 562/625 [02:19<00:14,  4.33it/s]\u001b[A\n",
            "Verification Evaluation:  90%|█████████ | 563/625 [02:19<00:14,  4.24it/s]\u001b[A\n",
            "Verification Evaluation:  90%|█████████ | 564/625 [02:19<00:14,  4.29it/s]\u001b[A\n",
            "Verification Evaluation:  90%|█████████ | 565/625 [02:20<00:14,  4.23it/s]\u001b[A\n",
            "Verification Evaluation:  91%|█████████ | 566/625 [02:20<00:13,  4.23it/s]\u001b[A\n",
            "Verification Evaluation:  91%|█████████ | 567/625 [02:20<00:13,  4.29it/s]\u001b[A\n",
            "Verification Evaluation:  91%|█████████ | 568/625 [02:20<00:13,  4.25it/s]\u001b[A\n",
            "Verification Evaluation:  91%|█████████ | 569/625 [02:20<00:13,  4.28it/s]\u001b[A\n",
            "Verification Evaluation:  91%|█████████ | 570/625 [02:21<00:12,  4.31it/s]\u001b[A\n",
            "Verification Evaluation:  91%|█████████▏| 571/625 [02:21<00:12,  4.33it/s]\u001b[A\n",
            "Verification Evaluation:  92%|█████████▏| 572/625 [02:21<00:12,  4.33it/s]\u001b[A\n",
            "Verification Evaluation:  92%|█████████▏| 573/625 [02:21<00:12,  4.26it/s]\u001b[A\n",
            "Verification Evaluation:  92%|█████████▏| 574/625 [02:22<00:11,  4.30it/s]\u001b[A\n",
            "Verification Evaluation:  92%|█████████▏| 575/625 [02:22<00:11,  4.32it/s]\u001b[A\n",
            "Verification Evaluation:  92%|█████████▏| 576/625 [02:22<00:11,  4.30it/s]\u001b[A\n",
            "Verification Evaluation:  92%|█████████▏| 577/625 [02:22<00:11,  4.29it/s]\u001b[A\n",
            "Verification Evaluation:  92%|█████████▏| 578/625 [02:23<00:10,  4.29it/s]\u001b[A\n",
            "Verification Evaluation:  93%|█████████▎| 579/625 [02:23<00:10,  4.23it/s]\u001b[A\n",
            "Verification Evaluation:  93%|█████████▎| 580/625 [02:23<00:10,  4.30it/s]\u001b[A\n",
            "Verification Evaluation:  93%|█████████▎| 581/625 [02:23<00:10,  4.30it/s]\u001b[A\n",
            "Verification Evaluation:  93%|█████████▎| 582/625 [02:23<00:10,  4.23it/s]\u001b[A\n",
            "Verification Evaluation:  93%|█████████▎| 583/625 [02:24<00:09,  4.28it/s]\u001b[A\n",
            "Verification Evaluation:  93%|█████████▎| 584/625 [02:24<00:09,  4.31it/s]\u001b[A\n",
            "Verification Evaluation:  94%|█████████▎| 585/625 [02:24<00:09,  4.32it/s]\u001b[A\n",
            "Verification Evaluation:  94%|█████████▍| 586/625 [02:24<00:09,  4.32it/s]\u001b[A\n",
            "Verification Evaluation:  94%|█████████▍| 587/625 [02:25<00:10,  3.55it/s]\u001b[A\n",
            "Verification Evaluation:  94%|█████████▍| 588/625 [02:25<00:09,  3.73it/s]\u001b[A\n",
            "Verification Evaluation:  94%|█████████▍| 589/625 [02:25<00:11,  3.13it/s]\u001b[A\n",
            "Verification Evaluation:  94%|█████████▍| 590/625 [02:26<00:10,  3.41it/s]\u001b[A\n",
            "Verification Evaluation:  95%|█████████▍| 591/625 [02:26<00:10,  3.23it/s]\u001b[A\n",
            "Verification Evaluation:  95%|█████████▍| 592/625 [02:26<00:09,  3.49it/s]\u001b[A\n",
            "Verification Evaluation:  95%|█████████▍| 593/625 [02:27<00:09,  3.21it/s]\u001b[A\n",
            "Verification Evaluation:  95%|█████████▌| 594/625 [02:27<00:09,  3.40it/s]\u001b[A\n",
            "Verification Evaluation:  95%|█████████▌| 595/625 [02:27<00:09,  3.20it/s]\u001b[A\n",
            "Verification Evaluation:  95%|█████████▌| 596/625 [02:27<00:08,  3.47it/s]\u001b[A\n",
            "Verification Evaluation:  96%|█████████▌| 597/625 [02:28<00:08,  3.40it/s]\u001b[A\n",
            "Verification Evaluation:  96%|█████████▌| 598/625 [02:28<00:07,  3.63it/s]\u001b[A\n",
            "Verification Evaluation:  96%|█████████▌| 599/625 [02:28<00:07,  3.69it/s]\u001b[A\n",
            "Verification Evaluation:  96%|█████████▌| 600/625 [02:29<00:06,  3.84it/s]\u001b[A\n",
            "Verification Evaluation:  96%|█████████▌| 601/625 [02:29<00:06,  3.82it/s]\u001b[A\n",
            "Verification Evaluation:  96%|█████████▋| 602/625 [02:29<00:05,  3.93it/s]\u001b[A\n",
            "Verification Evaluation:  96%|█████████▋| 603/625 [02:29<00:05,  4.04it/s]\u001b[A\n",
            "Verification Evaluation:  97%|█████████▋| 604/625 [02:29<00:05,  4.10it/s]\u001b[A\n",
            "Verification Evaluation:  97%|█████████▋| 605/625 [02:30<00:04,  4.15it/s]\u001b[A\n",
            "Verification Evaluation:  97%|█████████▋| 606/625 [02:30<00:04,  4.19it/s]\u001b[A\n",
            "Verification Evaluation:  97%|█████████▋| 607/625 [02:30<00:04,  4.24it/s]\u001b[A\n",
            "Verification Evaluation:  97%|█████████▋| 608/625 [02:30<00:03,  4.26it/s]\u001b[A\n",
            "Verification Evaluation:  97%|█████████▋| 609/625 [02:31<00:03,  4.28it/s]\u001b[A\n",
            "Verification Evaluation:  98%|█████████▊| 610/625 [02:31<00:03,  4.27it/s]\u001b[A\n",
            "Verification Evaluation:  98%|█████████▊| 611/625 [02:31<00:03,  4.30it/s]\u001b[A\n",
            "Verification Evaluation:  98%|█████████▊| 612/625 [02:31<00:02,  4.34it/s]\u001b[A\n",
            "Verification Evaluation:  98%|█████████▊| 613/625 [02:32<00:02,  4.36it/s]\u001b[A\n",
            "Verification Evaluation:  98%|█████████▊| 614/625 [02:32<00:02,  4.30it/s]\u001b[A\n",
            "Verification Evaluation:  98%|█████████▊| 615/625 [02:32<00:02,  4.31it/s]\u001b[A\n",
            "Verification Evaluation:  99%|█████████▊| 616/625 [02:32<00:02,  4.32it/s]\u001b[A\n",
            "Verification Evaluation:  99%|█████████▊| 617/625 [02:33<00:01,  4.30it/s]\u001b[A\n",
            "Verification Evaluation:  99%|█████████▉| 618/625 [02:33<00:01,  4.33it/s]\u001b[A\n",
            "Verification Evaluation:  99%|█████████▉| 619/625 [02:33<00:01,  4.36it/s]\u001b[A\n",
            "Verification Evaluation:  99%|█████████▉| 620/625 [02:33<00:01,  4.34it/s]\u001b[A\n",
            "Verification Evaluation:  99%|█████████▉| 621/625 [02:33<00:00,  4.34it/s]\u001b[A\n",
            "Verification Evaluation: 100%|█████████▉| 622/625 [02:34<00:00,  4.35it/s]\u001b[A\n",
            "Verification Evaluation: 100%|█████████▉| 623/625 [02:34<00:00,  4.36it/s]\u001b[A\n",
            "Verification Evaluation: 100%|█████████▉| 624/625 [02:34<00:00,  4.37it/s]\u001b[A\n",
            "Verification Evaluation: 100%|██████████| 625/625 [02:34<00:00,  4.03it/s]\n",
            "Evaluating subsets: 100%|██████████| 6/6 [07:57<00:00, 79.57s/it] \n"
          ]
        },
        {
          "output_type": "display_data",
          "data": {
            "text/plain": [
              "<Figure size 1500x1000 with 4 Axes>"
            ],
            "image/png": "[encoded data removed]"
          },
          "metadata": {}
        },
        {
          "output_type": "stream",
          "name": "stdout",
          "text": [
            "\n",
            "Pre-trained Model Verification Results (Full Dataset):\n",
            "EER: 40.42%\n",
            "TAR@1%FAR: 5.04%\n",
            "AUC: 0.6249\n",
            "Evaluating speaker identification accuracy...\n",
            "Dataset initialized with 360 samples and 18 classes\n"
          ]
        },
        {
          "output_type": "stream",
          "name": "stderr",
          "text": [
            "Speaker ID Evaluation: 100%|██████████| 45/45 [00:06<00:00,  6.72it/s]\n",
            "/usr/local/lib/python3.11/dist-packages/sklearn/metrics/_classification.py:1565: UndefinedMetricWarning: Precision is ill-defined and being set to 0.0 in labels with no predicted samples. Use `zero_division` parameter to control this behavior.\n",
            "  _warn_prf(average, modifier, f\"{metric.capitalize()} is\", len(result))\n",
            "/usr/local/lib/python3.11/dist-packages/sklearn/metrics/_classification.py:1565: UndefinedMetricWarning: Recall is ill-defined and being set to 0.0 in labels with no true samples. Use `zero_division` parameter to control this behavior.\n",
            "  _warn_prf(average, modifier, f\"{metric.capitalize()} is\", len(result))\n"
          ]
        },
        {
          "output_type": "display_data",
          "data": {
            "text/plain": [
              "<Figure size 1200x1000 with 2 Axes>"
            ],
            "image/png": "[encoded data removed]"
          },
          "metadata": {}
        },
        {
          "output_type": "stream",
          "name": "stdout",
          "text": [
            "Speaker Identification Results:\n",
            "Accuracy: 0.0000\n",
            "Precision: 0.0000\n",
            "Recall: 0.0000\n",
            "F1 Score: 0.0000\n",
            "\n",
            "Fine-tuning model with ArcFace loss\n",
            "Fine-tuning model with ArcFace loss: microsoft/wavlm-base-plus\n",
            "Dataset initialized with 2000 samples and 100 classes\n",
            "Dataset initialized with 360 samples and 18 classes\n"
          ]
        },
        {
          "output_type": "stream",
          "name": "stderr",
          "text": [
            "Epoch 1 Training:   4%|▍         | 11/250 [00:03<00:41,  5.83it/s]"
          ]
        },
        {
          "output_type": "stream",
          "name": "stdout",
          "text": [
            "Step 10/250, Loss: 20.2449\n"
          ]
        },
        {
          "output_type": "stream",
          "name": "stderr",
          "text": [
            "Epoch 1 Training:   8%|▊         | 21/250 [00:04<00:38,  5.91it/s]"
          ]
        },
        {
          "output_type": "stream",
          "name": "stdout",
          "text": [
            "Step 20/250, Loss: 20.2766\n"
          ]
        },
        {
          "output_type": "stream",
          "name": "stderr",
          "text": [
            "Epoch 1 Training:  12%|█▏        | 31/250 [00:06<00:37,  5.78it/s]"
          ]
        },
        {
          "output_type": "stream",
          "name": "stdout",
          "text": [
            "Step 30/250, Loss: 19.8219\n"
          ]
        },
        {
          "output_type": "stream",
          "name": "stderr",
          "text": [
            "Epoch 1 Training:  16%|█▋        | 41/250 [00:08<00:37,  5.54it/s]"
          ]
        },
        {
          "output_type": "stream",
          "name": "stdout",
          "text": [
            "Step 40/250, Loss: 21.1540\n"
          ]
        },
        {
          "output_type": "stream",
          "name": "stderr",
          "text": [
            "Epoch 1 Training:  20%|██        | 51/250 [00:09<00:32,  6.04it/s]"
          ]
        },
        {
          "output_type": "stream",
          "name": "stdout",
          "text": [
            "Step 50/250, Loss: 19.2682\n"
          ]
        },
        {
          "output_type": "stream",
          "name": "stderr",
          "text": [
            "Epoch 1 Training:  24%|██▍       | 61/250 [00:11<00:31,  6.01it/s]"
          ]
        },
        {
          "output_type": "stream",
          "name": "stdout",
          "text": [
            "Step 60/250, Loss: 19.6011\n"
          ]
        },
        {
          "output_type": "stream",
          "name": "stderr",
          "text": [
            "Epoch 1 Training:  28%|██▊       | 71/250 [00:13<00:29,  6.07it/s]"
          ]
        },
        {
          "output_type": "stream",
          "name": "stdout",
          "text": [
            "Step 70/250, Loss: 19.9856\n"
          ]
        },
        {
          "output_type": "stream",
          "name": "stderr",
          "text": [
            "Epoch 1 Training:  32%|███▏      | 81/250 [00:14<00:28,  5.93it/s]"
          ]
        },
        {
          "output_type": "stream",
          "name": "stdout",
          "text": [
            "Step 80/250, Loss: 20.1060\n"
          ]
        },
        {
          "output_type": "stream",
          "name": "stderr",
          "text": [
            "Epoch 1 Training:  36%|███▋      | 91/250 [00:16<00:26,  5.94it/s]"
          ]
        },
        {
          "output_type": "stream",
          "name": "stdout",
          "text": [
            "Step 90/250, Loss: 20.2589\n"
          ]
        },
        {
          "output_type": "stream",
          "name": "stderr",
          "text": [
            "Epoch 1 Training:  40%|████      | 101/250 [00:18<00:23,  6.28it/s]"
          ]
        },
        {
          "output_type": "stream",
          "name": "stdout",
          "text": [
            "Step 100/250, Loss: 20.2621\n"
          ]
        },
        {
          "output_type": "stream",
          "name": "stderr",
          "text": [
            "Epoch 1 Training:  44%|████▍     | 111/250 [00:19<00:23,  5.83it/s]"
          ]
        },
        {
          "output_type": "stream",
          "name": "stdout",
          "text": [
            "Step 110/250, Loss: 20.1358\n"
          ]
        },
        {
          "output_type": "stream",
          "name": "stderr",
          "text": [
            "Epoch 1 Training:  48%|████▊     | 120/250 [00:21<00:24,  5.37it/s]"
          ]
        },
        {
          "output_type": "stream",
          "name": "stdout",
          "text": [
            "Step 120/250, Loss: 19.2446\n"
          ]
        },
        {
          "output_type": "stream",
          "name": "stderr",
          "text": [
            "Epoch 1 Training:  52%|█████▏    | 131/250 [00:23<00:21,  5.55it/s]"
          ]
        },
        {
          "output_type": "stream",
          "name": "stdout",
          "text": [
            "Step 130/250, Loss: 20.3672\n"
          ]
        },
        {
          "output_type": "stream",
          "name": "stderr",
          "text": [
            "Epoch 1 Training:  56%|█████▋    | 141/250 [00:25<00:18,  6.03it/s]"
          ]
        },
        {
          "output_type": "stream",
          "name": "stdout",
          "text": [
            "Step 140/250, Loss: 19.5116\n"
          ]
        },
        {
          "output_type": "stream",
          "name": "stderr",
          "text": [
            "Epoch 1 Training:  60%|██████    | 151/250 [00:26<00:16,  6.15it/s]"
          ]
        },
        {
          "output_type": "stream",
          "name": "stdout",
          "text": [
            "Step 150/250, Loss: 19.5972\n"
          ]
        },
        {
          "output_type": "stream",
          "name": "stderr",
          "text": [
            "Epoch 1 Training:  64%|██████▍   | 161/250 [00:28<00:14,  6.08it/s]"
          ]
        },
        {
          "output_type": "stream",
          "name": "stdout",
          "text": [
            "Step 160/250, Loss: 19.4451\n"
          ]
        },
        {
          "output_type": "stream",
          "name": "stderr",
          "text": [
            "Epoch 1 Training:  68%|██████▊   | 171/250 [00:30<00:13,  6.04it/s]"
          ]
        },
        {
          "output_type": "stream",
          "name": "stdout",
          "text": [
            "Step 170/250, Loss: 19.5302\n"
          ]
        },
        {
          "output_type": "stream",
          "name": "stderr",
          "text": [
            "Epoch 1 Training:  72%|███████▏  | 181/250 [00:32<00:11,  6.10it/s]"
          ]
        },
        {
          "output_type": "stream",
          "name": "stdout",
          "text": [
            "Step 180/250, Loss: 20.0635\n"
          ]
        },
        {
          "output_type": "stream",
          "name": "stderr",
          "text": [
            "Epoch 1 Training:  76%|███████▋  | 191/250 [00:33<00:10,  5.81it/s]"
          ]
        },
        {
          "output_type": "stream",
          "name": "stdout",
          "text": [
            "Step 190/250, Loss: 19.7690\n"
          ]
        },
        {
          "output_type": "stream",
          "name": "stderr",
          "text": [
            "Epoch 1 Training:  80%|████████  | 201/250 [00:35<00:08,  5.83it/s]"
          ]
        },
        {
          "output_type": "stream",
          "name": "stdout",
          "text": [
            "Step 200/250, Loss: 19.9234\n"
          ]
        },
        {
          "output_type": "stream",
          "name": "stderr",
          "text": [
            "Epoch 1 Training:  84%|████████▍ | 211/250 [00:37<00:07,  5.53it/s]"
          ]
        },
        {
          "output_type": "stream",
          "name": "stdout",
          "text": [
            "Step 210/250, Loss: 19.6429\n"
          ]
        },
        {
          "output_type": "stream",
          "name": "stderr",
          "text": [
            "Epoch 1 Training:  88%|████████▊ | 221/250 [00:38<00:04,  5.81it/s]"
          ]
        },
        {
          "output_type": "stream",
          "name": "stdout",
          "text": [
            "Step 220/250, Loss: 19.2461\n"
          ]
        },
        {
          "output_type": "stream",
          "name": "stderr",
          "text": [
            "Epoch 1 Training:  92%|█████████▏| 231/250 [00:40<00:03,  6.08it/s]"
          ]
        },
        {
          "output_type": "stream",
          "name": "stdout",
          "text": [
            "Step 230/250, Loss: 20.0164\n"
          ]
        },
        {
          "output_type": "stream",
          "name": "stderr",
          "text": [
            "Epoch 1 Training:  96%|█████████▋| 241/250 [00:42<00:01,  6.44it/s]"
          ]
        },
        {
          "output_type": "stream",
          "name": "stdout",
          "text": [
            "Step 240/250, Loss: 19.3434\n"
          ]
        },
        {
          "output_type": "stream",
          "name": "stderr",
          "text": [
            "Epoch 1 Training: 100%|██████████| 250/250 [00:43<00:00,  5.71it/s]\n"
          ]
        },
        {
          "output_type": "stream",
          "name": "stdout",
          "text": [
            "Step 250/250, Loss: 19.4029\n"
          ]
        },
        {
          "output_type": "stream",
          "name": "stderr",
          "text": [
            "Validation: 100%|██████████| 45/45 [00:08<00:00,  5.56it/s]\n"
          ]
        },
        {
          "output_type": "stream",
          "name": "stdout",
          "text": [
            "Epoch 1/10 - Train Loss: 19.9484, Train Acc: 0.0000, Val Loss: 4.6362, Val Acc: 0.0167\n",
            "Saved best model with validation accuracy: 0.0167\n"
          ]
        },
        {
          "output_type": "stream",
          "name": "stderr",
          "text": [
            "Epoch 2 Training:   4%|▍         | 11/250 [00:02<00:39,  6.12it/s]"
          ]
        },
        {
          "output_type": "stream",
          "name": "stdout",
          "text": [
            "Step 10/250, Loss: 19.2708\n"
          ]
        },
        {
          "output_type": "stream",
          "name": "stderr",
          "text": [
            "Epoch 2 Training:   8%|▊         | 21/250 [00:03<00:38,  5.99it/s]"
          ]
        },
        {
          "output_type": "stream",
          "name": "stdout",
          "text": [
            "Step 20/250, Loss: 19.9008\n"
          ]
        },
        {
          "output_type": "stream",
          "name": "stderr",
          "text": [
            "Epoch 2 Training:  12%|█▏        | 31/250 [00:05<00:35,  6.12it/s]"
          ]
        },
        {
          "output_type": "stream",
          "name": "stdout",
          "text": [
            "Step 30/250, Loss: 19.4029\n"
          ]
        },
        {
          "output_type": "stream",
          "name": "stderr",
          "text": [
            "Epoch 2 Training:  16%|█▋        | 41/250 [00:06<00:33,  6.15it/s]"
          ]
        },
        {
          "output_type": "stream",
          "name": "stdout",
          "text": [
            "Step 40/250, Loss: 18.9414\n"
          ]
        },
        {
          "output_type": "stream",
          "name": "stderr",
          "text": [
            "Epoch 2 Training:  20%|██        | 51/250 [00:08<00:31,  6.38it/s]"
          ]
        },
        {
          "output_type": "stream",
          "name": "stdout",
          "text": [
            "Step 50/250, Loss: 19.8228\n"
          ]
        },
        {
          "output_type": "stream",
          "name": "stderr",
          "text": [
            "Epoch 2 Training:  24%|██▍       | 61/250 [00:10<00:32,  5.86it/s]"
          ]
        },
        {
          "output_type": "stream",
          "name": "stdout",
          "text": [
            "Step 60/250, Loss: 18.9683\n"
          ]
        },
        {
          "output_type": "stream",
          "name": "stderr",
          "text": [
            "Epoch 2 Training:  28%|██▊       | 71/250 [00:12<00:30,  5.91it/s]"
          ]
        },
        {
          "output_type": "stream",
          "name": "stdout",
          "text": [
            "Step 70/250, Loss: 19.3103\n"
          ]
        },
        {
          "output_type": "stream",
          "name": "stderr",
          "text": [
            "Epoch 2 Training:  32%|███▏      | 81/250 [00:13<00:27,  6.11it/s]"
          ]
        },
        {
          "output_type": "stream",
          "name": "stdout",
          "text": [
            "Step 80/250, Loss: 19.2832\n"
          ]
        },
        {
          "output_type": "stream",
          "name": "stderr",
          "text": [
            "Epoch 2 Training:  36%|███▋      | 91/250 [00:15<00:25,  6.12it/s]"
          ]
        },
        {
          "output_type": "stream",
          "name": "stdout",
          "text": [
            "Step 90/250, Loss: 19.6135\n"
          ]
        },
        {
          "output_type": "stream",
          "name": "stderr",
          "text": [
            "Epoch 2 Training:  40%|████      | 101/250 [00:16<00:24,  6.03it/s]"
          ]
        },
        {
          "output_type": "stream",
          "name": "stdout",
          "text": [
            "Step 100/250, Loss: 18.9606\n"
          ]
        },
        {
          "output_type": "stream",
          "name": "stderr",
          "text": [
            "Epoch 2 Training:  44%|████▍     | 111/250 [00:18<00:22,  6.12it/s]"
          ]
        },
        {
          "output_type": "stream",
          "name": "stdout",
          "text": [
            "Step 110/250, Loss: 19.3199\n"
          ]
        },
        {
          "output_type": "stream",
          "name": "stderr",
          "text": [
            "Epoch 2 Training:  48%|████▊     | 121/250 [00:20<00:21,  5.99it/s]"
          ]
        },
        {
          "output_type": "stream",
          "name": "stdout",
          "text": [
            "Step 120/250, Loss: 19.3754\n"
          ]
        },
        {
          "output_type": "stream",
          "name": "stderr",
          "text": [
            "Epoch 2 Training:  52%|█████▏    | 131/250 [00:21<00:20,  5.85it/s]"
          ]
        },
        {
          "output_type": "stream",
          "name": "stdout",
          "text": [
            "Step 130/250, Loss: 19.5517\n"
          ]
        },
        {
          "output_type": "stream",
          "name": "stderr",
          "text": [
            "Epoch 2 Training:  56%|█████▋    | 141/250 [00:23<00:18,  5.89it/s]"
          ]
        },
        {
          "output_type": "stream",
          "name": "stdout",
          "text": [
            "Step 140/250, Loss: 19.9671\n"
          ]
        },
        {
          "output_type": "stream",
          "name": "stderr",
          "text": [
            "Epoch 2 Training:  60%|██████    | 151/250 [00:25<00:17,  5.69it/s]"
          ]
        },
        {
          "output_type": "stream",
          "name": "stdout",
          "text": [
            "Step 150/250, Loss: 19.7173\n"
          ]
        },
        {
          "output_type": "stream",
          "name": "stderr",
          "text": [
            "Epoch 2 Training:  64%|██████▍   | 161/250 [00:27<00:15,  5.89it/s]"
          ]
        },
        {
          "output_type": "stream",
          "name": "stdout",
          "text": [
            "Step 160/250, Loss: 19.8445\n"
          ]
        },
        {
          "output_type": "stream",
          "name": "stderr",
          "text": [
            "Epoch 2 Training:  68%|██████▊   | 171/250 [00:28<00:13,  5.96it/s]"
          ]
        },
        {
          "output_type": "stream",
          "name": "stdout",
          "text": [
            "Step 170/250, Loss: 18.9785\n"
          ]
        },
        {
          "output_type": "stream",
          "name": "stderr",
          "text": [
            "Epoch 2 Training:  72%|███████▏  | 181/250 [00:30<00:11,  6.05it/s]"
          ]
        },
        {
          "output_type": "stream",
          "name": "stdout",
          "text": [
            "Step 180/250, Loss: 18.9941\n"
          ]
        },
        {
          "output_type": "stream",
          "name": "stderr",
          "text": [
            "Epoch 2 Training:  76%|███████▋  | 191/250 [00:32<00:09,  5.95it/s]"
          ]
        },
        {
          "output_type": "stream",
          "name": "stdout",
          "text": [
            "Step 190/250, Loss: 19.4842\n"
          ]
        },
        {
          "output_type": "stream",
          "name": "stderr",
          "text": [
            "Epoch 2 Training:  80%|████████  | 201/250 [00:33<00:08,  6.12it/s]"
          ]
        },
        {
          "output_type": "stream",
          "name": "stdout",
          "text": [
            "Step 200/250, Loss: 18.2779\n"
          ]
        },
        {
          "output_type": "stream",
          "name": "stderr",
          "text": [
            "Epoch 2 Training:  84%|████████▍ | 211/250 [00:35<00:06,  6.21it/s]"
          ]
        },
        {
          "output_type": "stream",
          "name": "stdout",
          "text": [
            "Step 210/250, Loss: 19.3530\n"
          ]
        },
        {
          "output_type": "stream",
          "name": "stderr",
          "text": [
            "Epoch 2 Training:  88%|████████▊ | 221/250 [00:36<00:04,  6.02it/s]"
          ]
        },
        {
          "output_type": "stream",
          "name": "stdout",
          "text": [
            "Step 220/250, Loss: 18.3641\n"
          ]
        },
        {
          "output_type": "stream",
          "name": "stderr",
          "text": [
            "Epoch 2 Training:  92%|█████████▏| 231/250 [00:38<00:03,  5.64it/s]"
          ]
        },
        {
          "output_type": "stream",
          "name": "stdout",
          "text": [
            "Step 230/250, Loss: 18.9735\n"
          ]
        },
        {
          "output_type": "stream",
          "name": "stderr",
          "text": [
            "Epoch 2 Training:  96%|█████████▋| 241/250 [00:40<00:01,  5.76it/s]"
          ]
        },
        {
          "output_type": "stream",
          "name": "stdout",
          "text": [
            "Step 240/250, Loss: 19.3587\n"
          ]
        },
        {
          "output_type": "stream",
          "name": "stderr",
          "text": [
            "Epoch 2 Training: 100%|██████████| 250/250 [00:42<00:00,  5.95it/s]\n"
          ]
        },
        {
          "output_type": "stream",
          "name": "stdout",
          "text": [
            "Step 250/250, Loss: 19.4077\n"
          ]
        },
        {
          "output_type": "stream",
          "name": "stderr",
          "text": [
            "Validation: 100%|██████████| 45/45 [00:07<00:00,  5.65it/s]\n"
          ]
        },
        {
          "output_type": "stream",
          "name": "stdout",
          "text": [
            "Epoch 2/10 - Train Loss: 19.1421, Train Acc: 0.0000, Val Loss: 4.6456, Val Acc: 0.0111\n"
          ]
        },
        {
          "output_type": "stream",
          "name": "stderr",
          "text": [
            "Epoch 3 Training:   4%|▍         | 11/250 [00:02<00:41,  5.76it/s]"
          ]
        },
        {
          "output_type": "stream",
          "name": "stdout",
          "text": [
            "Step 10/250, Loss: 18.6444\n"
          ]
        },
        {
          "output_type": "stream",
          "name": "stderr",
          "text": [
            "Epoch 3 Training:   8%|▊         | 21/250 [00:03<00:39,  5.73it/s]"
          ]
        },
        {
          "output_type": "stream",
          "name": "stdout",
          "text": [
            "Step 20/250, Loss: 19.2200\n"
          ]
        },
        {
          "output_type": "stream",
          "name": "stderr",
          "text": [
            "Epoch 3 Training:  12%|█▏        | 31/250 [00:05<00:38,  5.76it/s]"
          ]
        },
        {
          "output_type": "stream",
          "name": "stdout",
          "text": [
            "Step 30/250, Loss: 18.2460\n"
          ]
        },
        {
          "output_type": "stream",
          "name": "stderr",
          "text": [
            "Epoch 3 Training:  16%|█▋        | 41/250 [00:07<00:33,  6.28it/s]"
          ]
        },
        {
          "output_type": "stream",
          "name": "stdout",
          "text": [
            "Step 40/250, Loss: 18.4377\n"
          ]
        },
        {
          "output_type": "stream",
          "name": "stderr",
          "text": [
            "Epoch 3 Training:  20%|██        | 51/250 [00:08<00:33,  5.91it/s]"
          ]
        },
        {
          "output_type": "stream",
          "name": "stdout",
          "text": [
            "Step 50/250, Loss: 18.9122\n"
          ]
        },
        {
          "output_type": "stream",
          "name": "stderr",
          "text": [
            "Epoch 3 Training:  24%|██▍       | 61/250 [00:10<00:31,  6.10it/s]"
          ]
        },
        {
          "output_type": "stream",
          "name": "stdout",
          "text": [
            "Step 60/250, Loss: 18.4799\n"
          ]
        },
        {
          "output_type": "stream",
          "name": "stderr",
          "text": [
            "Epoch 3 Training:  28%|██▊       | 71/250 [00:12<00:29,  6.11it/s]"
          ]
        },
        {
          "output_type": "stream",
          "name": "stdout",
          "text": [
            "Step 70/250, Loss: 18.3794\n"
          ]
        },
        {
          "output_type": "stream",
          "name": "stderr",
          "text": [
            "Epoch 3 Training:  32%|███▏      | 81/250 [00:13<00:28,  6.03it/s]"
          ]
        },
        {
          "output_type": "stream",
          "name": "stdout",
          "text": [
            "Step 80/250, Loss: 19.4488\n"
          ]
        },
        {
          "output_type": "stream",
          "name": "stderr",
          "text": [
            "Epoch 3 Training:  36%|███▋      | 91/250 [00:15<00:26,  5.93it/s]"
          ]
        },
        {
          "output_type": "stream",
          "name": "stdout",
          "text": [
            "Step 90/250, Loss: 19.2021\n"
          ]
        },
        {
          "output_type": "stream",
          "name": "stderr",
          "text": [
            "Epoch 3 Training:  40%|████      | 101/250 [00:17<00:26,  5.66it/s]"
          ]
        },
        {
          "output_type": "stream",
          "name": "stdout",
          "text": [
            "Step 100/250, Loss: 18.4439\n"
          ]
        },
        {
          "output_type": "stream",
          "name": "stderr",
          "text": [
            "Epoch 3 Training:  44%|████▍     | 111/250 [00:18<00:24,  5.62it/s]"
          ]
        },
        {
          "output_type": "stream",
          "name": "stdout",
          "text": [
            "Step 110/250, Loss: 18.7615\n"
          ]
        },
        {
          "output_type": "stream",
          "name": "stderr",
          "text": [
            "Epoch 3 Training:  48%|████▊     | 121/250 [00:20<00:21,  5.90it/s]"
          ]
        },
        {
          "output_type": "stream",
          "name": "stdout",
          "text": [
            "Step 120/250, Loss: 18.4483\n"
          ]
        },
        {
          "output_type": "stream",
          "name": "stderr",
          "text": [
            "Epoch 3 Training:  52%|█████▏    | 131/250 [00:22<00:19,  6.12it/s]"
          ]
        },
        {
          "output_type": "stream",
          "name": "stdout",
          "text": [
            "Step 130/250, Loss: 19.0440\n"
          ]
        },
        {
          "output_type": "stream",
          "name": "stderr",
          "text": [
            "Epoch 3 Training:  56%|█████▋    | 141/250 [00:23<00:18,  5.99it/s]"
          ]
        },
        {
          "output_type": "stream",
          "name": "stdout",
          "text": [
            "Step 140/250, Loss: 18.6876\n"
          ]
        },
        {
          "output_type": "stream",
          "name": "stderr",
          "text": [
            "Epoch 3 Training:  60%|██████    | 151/250 [00:25<00:16,  6.01it/s]"
          ]
        },
        {
          "output_type": "stream",
          "name": "stdout",
          "text": [
            "Step 150/250, Loss: 19.1688\n"
          ]
        },
        {
          "output_type": "stream",
          "name": "stderr",
          "text": [
            "Epoch 3 Training:  64%|██████▍   | 161/250 [00:27<00:14,  6.01it/s]"
          ]
        },
        {
          "output_type": "stream",
          "name": "stdout",
          "text": [
            "Step 160/250, Loss: 18.6668\n"
          ]
        },
        {
          "output_type": "stream",
          "name": "stderr",
          "text": [
            "Epoch 3 Training:  68%|██████▊   | 171/250 [00:28<00:13,  5.89it/s]"
          ]
        },
        {
          "output_type": "stream",
          "name": "stdout",
          "text": [
            "Step 170/250, Loss: 19.9307\n"
          ]
        },
        {
          "output_type": "stream",
          "name": "stderr",
          "text": [
            "Epoch 3 Training:  72%|███████▏  | 181/250 [00:30<00:11,  6.07it/s]"
          ]
        },
        {
          "output_type": "stream",
          "name": "stdout",
          "text": [
            "Step 180/250, Loss: 17.5754\n"
          ]
        },
        {
          "output_type": "stream",
          "name": "stderr",
          "text": [
            "Epoch 3 Training:  76%|███████▋  | 191/250 [00:32<00:10,  5.74it/s]"
          ]
        },
        {
          "output_type": "stream",
          "name": "stdout",
          "text": [
            "Step 190/250, Loss: 18.3189\n"
          ]
        },
        {
          "output_type": "stream",
          "name": "stderr",
          "text": [
            "Epoch 3 Training:  80%|████████  | 201/250 [00:34<00:09,  5.16it/s]"
          ]
        },
        {
          "output_type": "stream",
          "name": "stdout",
          "text": [
            "Step 200/250, Loss: 18.6497\n"
          ]
        },
        {
          "output_type": "stream",
          "name": "stderr",
          "text": [
            "Epoch 3 Training:  84%|████████▍ | 211/250 [00:35<00:06,  6.20it/s]"
          ]
        },
        {
          "output_type": "stream",
          "name": "stdout",
          "text": [
            "Step 210/250, Loss: 18.6839\n"
          ]
        },
        {
          "output_type": "stream",
          "name": "stderr",
          "text": [
            "Epoch 3 Training:  88%|████████▊ | 221/250 [00:37<00:04,  6.34it/s]"
          ]
        },
        {
          "output_type": "stream",
          "name": "stdout",
          "text": [
            "Step 220/250, Loss: 19.1129\n"
          ]
        },
        {
          "output_type": "stream",
          "name": "stderr",
          "text": [
            "Epoch 3 Training:  92%|█████████▏| 231/250 [00:39<00:03,  6.07it/s]"
          ]
        },
        {
          "output_type": "stream",
          "name": "stdout",
          "text": [
            "Step 230/250, Loss: 18.6780\n"
          ]
        },
        {
          "output_type": "stream",
          "name": "stderr",
          "text": [
            "Epoch 3 Training:  96%|█████████▋| 241/250 [00:40<00:01,  6.11it/s]"
          ]
        },
        {
          "output_type": "stream",
          "name": "stdout",
          "text": [
            "Step 240/250, Loss: 18.3733\n"
          ]
        },
        {
          "output_type": "stream",
          "name": "stderr",
          "text": [
            "Epoch 3 Training: 100%|██████████| 250/250 [00:42<00:00,  5.90it/s]\n"
          ]
        },
        {
          "output_type": "stream",
          "name": "stdout",
          "text": [
            "Step 250/250, Loss: 18.7615\n"
          ]
        },
        {
          "output_type": "stream",
          "name": "stderr",
          "text": [
            "Validation: 100%|██████████| 45/45 [00:08<00:00,  5.56it/s]\n"
          ]
        },
        {
          "output_type": "stream",
          "name": "stdout",
          "text": [
            "Epoch 3/10 - Train Loss: 18.6584, Train Acc: 0.0000, Val Loss: 4.6620, Val Acc: 0.0111\n"
          ]
        },
        {
          "output_type": "stream",
          "name": "stderr",
          "text": [
            "Epoch 4 Training:   4%|▍         | 11/250 [00:02<00:39,  6.04it/s]"
          ]
        },
        {
          "output_type": "stream",
          "name": "stdout",
          "text": [
            "Step 10/250, Loss: 18.3537\n"
          ]
        },
        {
          "output_type": "stream",
          "name": "stderr",
          "text": [
            "Epoch 4 Training:   8%|▊         | 21/250 [00:03<00:38,  5.96it/s]"
          ]
        },
        {
          "output_type": "stream",
          "name": "stdout",
          "text": [
            "Step 20/250, Loss: 18.2745\n"
          ]
        },
        {
          "output_type": "stream",
          "name": "stderr",
          "text": [
            "Epoch 4 Training:  12%|█▏        | 31/250 [00:05<00:35,  6.25it/s]"
          ]
        },
        {
          "output_type": "stream",
          "name": "stdout",
          "text": [
            "Step 30/250, Loss: 17.5022\n"
          ]
        },
        {
          "output_type": "stream",
          "name": "stderr",
          "text": [
            "Epoch 4 Training:  16%|█▋        | 41/250 [00:07<00:34,  6.05it/s]"
          ]
        },
        {
          "output_type": "stream",
          "name": "stdout",
          "text": [
            "Step 40/250, Loss: 18.4892\n"
          ]
        },
        {
          "output_type": "stream",
          "name": "stderr",
          "text": [
            "Epoch 4 Training:  20%|██        | 51/250 [00:08<00:32,  6.18it/s]"
          ]
        },
        {
          "output_type": "stream",
          "name": "stdout",
          "text": [
            "Step 50/250, Loss: 18.1242\n"
          ]
        },
        {
          "output_type": "stream",
          "name": "stderr",
          "text": [
            "Epoch 4 Training:  24%|██▍       | 61/250 [00:10<00:32,  5.85it/s]"
          ]
        },
        {
          "output_type": "stream",
          "name": "stdout",
          "text": [
            "Step 60/250, Loss: 19.1453\n"
          ]
        },
        {
          "output_type": "stream",
          "name": "stderr",
          "text": [
            "Epoch 4 Training:  28%|██▊       | 71/250 [00:12<00:31,  5.71it/s]"
          ]
        },
        {
          "output_type": "stream",
          "name": "stdout",
          "text": [
            "Step 70/250, Loss: 17.6245\n"
          ]
        },
        {
          "output_type": "stream",
          "name": "stderr",
          "text": [
            "Epoch 4 Training:  32%|███▏      | 81/250 [00:13<00:28,  6.01it/s]"
          ]
        },
        {
          "output_type": "stream",
          "name": "stdout",
          "text": [
            "Step 80/250, Loss: 18.0695\n"
          ]
        },
        {
          "output_type": "stream",
          "name": "stderr",
          "text": [
            "Epoch 4 Training:  36%|███▋      | 91/250 [00:15<00:24,  6.40it/s]"
          ]
        },
        {
          "output_type": "stream",
          "name": "stdout",
          "text": [
            "Step 90/250, Loss: 17.9959\n"
          ]
        },
        {
          "output_type": "stream",
          "name": "stderr",
          "text": [
            "Epoch 4 Training:  40%|████      | 101/250 [00:16<00:24,  6.14it/s]"
          ]
        },
        {
          "output_type": "stream",
          "name": "stdout",
          "text": [
            "Step 100/250, Loss: 18.4217\n"
          ]
        },
        {
          "output_type": "stream",
          "name": "stderr",
          "text": [
            "Epoch 4 Training:  44%|████▍     | 111/250 [00:18<00:22,  6.31it/s]"
          ]
        },
        {
          "output_type": "stream",
          "name": "stdout",
          "text": [
            "Step 110/250, Loss: 18.9168\n"
          ]
        },
        {
          "output_type": "stream",
          "name": "stderr",
          "text": [
            "Epoch 4 Training:  48%|████▊     | 121/250 [00:20<00:20,  6.34it/s]"
          ]
        },
        {
          "output_type": "stream",
          "name": "stdout",
          "text": [
            "Step 120/250, Loss: 18.6275\n"
          ]
        },
        {
          "output_type": "stream",
          "name": "stderr",
          "text": [
            "Epoch 4 Training:  52%|█████▏    | 131/250 [00:21<00:19,  6.09it/s]"
          ]
        },
        {
          "output_type": "stream",
          "name": "stdout",
          "text": [
            "Step 130/250, Loss: 18.7288\n"
          ]
        },
        {
          "output_type": "stream",
          "name": "stderr",
          "text": [
            "Epoch 4 Training:  56%|█████▋    | 141/250 [00:23<00:19,  5.69it/s]"
          ]
        },
        {
          "output_type": "stream",
          "name": "stdout",
          "text": [
            "Step 140/250, Loss: 18.3728\n"
          ]
        },
        {
          "output_type": "stream",
          "name": "stderr",
          "text": [
            "Epoch 4 Training:  60%|██████    | 151/250 [00:25<00:16,  6.02it/s]"
          ]
        },
        {
          "output_type": "stream",
          "name": "stdout",
          "text": [
            "Step 150/250, Loss: 18.9640\n"
          ]
        },
        {
          "output_type": "stream",
          "name": "stderr",
          "text": [
            "Epoch 4 Training:  64%|██████▍   | 161/250 [00:27<00:14,  6.07it/s]"
          ]
        },
        {
          "output_type": "stream",
          "name": "stdout",
          "text": [
            "Step 160/250, Loss: 18.2916\n"
          ]
        },
        {
          "output_type": "stream",
          "name": "stderr",
          "text": [
            "Epoch 4 Training:  68%|██████▊   | 171/250 [00:28<00:12,  6.16it/s]"
          ]
        },
        {
          "output_type": "stream",
          "name": "stdout",
          "text": [
            "Step 170/250, Loss: 17.6200\n"
          ]
        },
        {
          "output_type": "stream",
          "name": "stderr",
          "text": [
            "Epoch 4 Training:  72%|███████▏  | 181/250 [00:30<00:11,  6.24it/s]"
          ]
        },
        {
          "output_type": "stream",
          "name": "stdout",
          "text": [
            "Step 180/250, Loss: 18.1148\n"
          ]
        },
        {
          "output_type": "stream",
          "name": "stderr",
          "text": [
            "Epoch 4 Training:  76%|███████▋  | 191/250 [00:31<00:09,  6.22it/s]"
          ]
        },
        {
          "output_type": "stream",
          "name": "stdout",
          "text": [
            "Step 190/250, Loss: 18.2309\n"
          ]
        },
        {
          "output_type": "stream",
          "name": "stderr",
          "text": [
            "Epoch 4 Training:  80%|████████  | 201/250 [00:33<00:07,  6.15it/s]"
          ]
        },
        {
          "output_type": "stream",
          "name": "stdout",
          "text": [
            "Step 200/250, Loss: 18.7268\n"
          ]
        },
        {
          "output_type": "stream",
          "name": "stderr",
          "text": [
            "Epoch 4 Training:  84%|████████▍ | 211/250 [00:35<00:06,  6.06it/s]"
          ]
        },
        {
          "output_type": "stream",
          "name": "stdout",
          "text": [
            "Step 210/250, Loss: 18.9408\n"
          ]
        },
        {
          "output_type": "stream",
          "name": "stderr",
          "text": [
            "Epoch 4 Training:  88%|████████▊ | 221/250 [00:36<00:04,  6.02it/s]"
          ]
        },
        {
          "output_type": "stream",
          "name": "stdout",
          "text": [
            "Step 220/250, Loss: 17.5832\n"
          ]
        },
        {
          "output_type": "stream",
          "name": "stderr",
          "text": [
            "Epoch 4 Training:  92%|█████████▏| 231/250 [00:38<00:03,  5.87it/s]"
          ]
        },
        {
          "output_type": "stream",
          "name": "stdout",
          "text": [
            "Step 230/250, Loss: 18.2787\n"
          ]
        },
        {
          "output_type": "stream",
          "name": "stderr",
          "text": [
            "Epoch 4 Training:  96%|█████████▋| 241/250 [00:40<00:01,  5.63it/s]"
          ]
        },
        {
          "output_type": "stream",
          "name": "stdout",
          "text": [
            "Step 240/250, Loss: 17.2472\n"
          ]
        },
        {
          "output_type": "stream",
          "name": "stderr",
          "text": [
            "Epoch 4 Training: 100%|██████████| 250/250 [00:41<00:00,  5.97it/s]\n"
          ]
        },
        {
          "output_type": "stream",
          "name": "stdout",
          "text": [
            "Step 250/250, Loss: 18.1741\n"
          ]
        },
        {
          "output_type": "stream",
          "name": "stderr",
          "text": [
            "Validation: 100%|██████████| 45/45 [00:07<00:00,  5.63it/s]\n"
          ]
        },
        {
          "output_type": "stream",
          "name": "stdout",
          "text": [
            "Epoch 4/10 - Train Loss: 18.2846, Train Acc: 0.0000, Val Loss: 4.6411, Val Acc: 0.0139\n"
          ]
        },
        {
          "output_type": "stream",
          "name": "stderr",
          "text": [
            "Epoch 5 Training:   4%|▍         | 11/250 [00:02<00:42,  5.67it/s]"
          ]
        },
        {
          "output_type": "stream",
          "name": "stdout",
          "text": [
            "Step 10/250, Loss: 18.2643\n"
          ]
        },
        {
          "output_type": "stream",
          "name": "stderr",
          "text": [
            "Epoch 5 Training:   8%|▊         | 21/250 [00:03<00:39,  5.79it/s]"
          ]
        },
        {
          "output_type": "stream",
          "name": "stdout",
          "text": [
            "Step 20/250, Loss: 19.2088\n"
          ]
        },
        {
          "output_type": "stream",
          "name": "stderr",
          "text": [
            "Epoch 5 Training:  12%|█▏        | 31/250 [00:05<00:38,  5.64it/s]"
          ]
        },
        {
          "output_type": "stream",
          "name": "stdout",
          "text": [
            "Step 30/250, Loss: 18.5063\n"
          ]
        },
        {
          "output_type": "stream",
          "name": "stderr",
          "text": [
            "Epoch 5 Training:  16%|█▋        | 41/250 [00:07<00:34,  6.04it/s]"
          ]
        },
        {
          "output_type": "stream",
          "name": "stdout",
          "text": [
            "Step 40/250, Loss: 18.5293\n"
          ]
        },
        {
          "output_type": "stream",
          "name": "stderr",
          "text": [
            "Epoch 5 Training:  20%|██        | 51/250 [00:09<00:33,  6.02it/s]"
          ]
        },
        {
          "output_type": "stream",
          "name": "stdout",
          "text": [
            "Step 50/250, Loss: 17.7587\n"
          ]
        },
        {
          "output_type": "stream",
          "name": "stderr",
          "text": [
            "Epoch 5 Training:  24%|██▍       | 61/250 [00:10<00:29,  6.35it/s]"
          ]
        },
        {
          "output_type": "stream",
          "name": "stdout",
          "text": [
            "Step 60/250, Loss: 17.3377\n"
          ]
        },
        {
          "output_type": "stream",
          "name": "stderr",
          "text": [
            "Epoch 5 Training:  28%|██▊       | 71/250 [00:12<00:29,  6.06it/s]"
          ]
        },
        {
          "output_type": "stream",
          "name": "stdout",
          "text": [
            "Step 70/250, Loss: 18.7420\n"
          ]
        },
        {
          "output_type": "stream",
          "name": "stderr",
          "text": [
            "Epoch 5 Training:  32%|███▏      | 81/250 [00:13<00:27,  6.14it/s]"
          ]
        },
        {
          "output_type": "stream",
          "name": "stdout",
          "text": [
            "Step 80/250, Loss: 17.3823\n"
          ]
        },
        {
          "output_type": "stream",
          "name": "stderr",
          "text": [
            "Epoch 5 Training:  36%|███▋      | 91/250 [00:15<00:26,  5.97it/s]"
          ]
        },
        {
          "output_type": "stream",
          "name": "stdout",
          "text": [
            "Step 90/250, Loss: 18.7584\n"
          ]
        },
        {
          "output_type": "stream",
          "name": "stderr",
          "text": [
            "Epoch 5 Training:  40%|████      | 101/250 [00:17<00:25,  5.85it/s]"
          ]
        },
        {
          "output_type": "stream",
          "name": "stdout",
          "text": [
            "Step 100/250, Loss: 17.5306\n"
          ]
        },
        {
          "output_type": "stream",
          "name": "stderr",
          "text": [
            "Epoch 5 Training:  44%|████▍     | 111/250 [00:19<00:24,  5.71it/s]"
          ]
        },
        {
          "output_type": "stream",
          "name": "stdout",
          "text": [
            "Step 110/250, Loss: 18.0793\n"
          ]
        },
        {
          "output_type": "stream",
          "name": "stderr",
          "text": [
            "Epoch 5 Training:  48%|████▊     | 121/250 [00:20<00:21,  5.97it/s]"
          ]
        },
        {
          "output_type": "stream",
          "name": "stdout",
          "text": [
            "Step 120/250, Loss: 17.4446\n"
          ]
        },
        {
          "output_type": "stream",
          "name": "stderr",
          "text": [
            "Epoch 5 Training:  52%|█████▏    | 131/250 [00:22<00:19,  6.01it/s]"
          ]
        },
        {
          "output_type": "stream",
          "name": "stdout",
          "text": [
            "Step 130/250, Loss: 17.7564\n"
          ]
        },
        {
          "output_type": "stream",
          "name": "stderr",
          "text": [
            "Epoch 5 Training:  56%|█████▋    | 141/250 [00:24<00:18,  5.94it/s]"
          ]
        },
        {
          "output_type": "stream",
          "name": "stdout",
          "text": [
            "Step 140/250, Loss: 17.7628\n"
          ]
        },
        {
          "output_type": "stream",
          "name": "stderr",
          "text": [
            "Epoch 5 Training:  60%|██████    | 151/250 [00:25<00:16,  5.99it/s]"
          ]
        },
        {
          "output_type": "stream",
          "name": "stdout",
          "text": [
            "Step 150/250, Loss: 17.4088\n"
          ]
        },
        {
          "output_type": "stream",
          "name": "stderr",
          "text": [
            "Epoch 5 Training:  64%|██████▍   | 161/250 [00:27<00:14,  6.17it/s]"
          ]
        },
        {
          "output_type": "stream",
          "name": "stdout",
          "text": [
            "Step 160/250, Loss: 18.0566\n"
          ]
        },
        {
          "output_type": "stream",
          "name": "stderr",
          "text": [
            "Epoch 5 Training:  68%|██████▊   | 171/250 [00:29<00:13,  5.78it/s]"
          ]
        },
        {
          "output_type": "stream",
          "name": "stdout",
          "text": [
            "Step 170/250, Loss: 18.8164\n"
          ]
        },
        {
          "output_type": "stream",
          "name": "stderr",
          "text": [
            "Epoch 5 Training:  72%|███████▏  | 181/250 [00:30<00:11,  5.75it/s]"
          ]
        },
        {
          "output_type": "stream",
          "name": "stdout",
          "text": [
            "Step 180/250, Loss: 17.8802\n"
          ]
        },
        {
          "output_type": "stream",
          "name": "stderr",
          "text": [
            "Epoch 5 Training:  76%|███████▋  | 191/250 [00:32<00:11,  5.34it/s]"
          ]
        },
        {
          "output_type": "stream",
          "name": "stdout",
          "text": [
            "Step 190/250, Loss: 17.9298\n"
          ]
        },
        {
          "output_type": "stream",
          "name": "stderr",
          "text": [
            "Epoch 5 Training:  80%|████████  | 201/250 [00:34<00:07,  6.17it/s]"
          ]
        },
        {
          "output_type": "stream",
          "name": "stdout",
          "text": [
            "Step 200/250, Loss: 17.6109\n"
          ]
        },
        {
          "output_type": "stream",
          "name": "stderr",
          "text": [
            "Epoch 5 Training:  84%|████████▍ | 211/250 [00:35<00:06,  6.07it/s]"
          ]
        },
        {
          "output_type": "stream",
          "name": "stdout",
          "text": [
            "Step 210/250, Loss: 18.0669\n"
          ]
        },
        {
          "output_type": "stream",
          "name": "stderr",
          "text": [
            "Epoch 5 Training:  88%|████████▊ | 221/250 [00:37<00:04,  6.11it/s]"
          ]
        },
        {
          "output_type": "stream",
          "name": "stdout",
          "text": [
            "Step 220/250, Loss: 17.8362\n"
          ]
        },
        {
          "output_type": "stream",
          "name": "stderr",
          "text": [
            "Epoch 5 Training:  92%|█████████▏| 231/250 [00:39<00:03,  6.02it/s]"
          ]
        },
        {
          "output_type": "stream",
          "name": "stdout",
          "text": [
            "Step 230/250, Loss: 17.7393\n"
          ]
        },
        {
          "output_type": "stream",
          "name": "stderr",
          "text": [
            "Epoch 5 Training:  96%|█████████▋| 241/250 [00:40<00:01,  5.87it/s]"
          ]
        },
        {
          "output_type": "stream",
          "name": "stdout",
          "text": [
            "Step 240/250, Loss: 18.0143\n"
          ]
        },
        {
          "output_type": "stream",
          "name": "stderr",
          "text": [
            "Epoch 5 Training: 100%|██████████| 250/250 [00:42<00:00,  5.89it/s]\n"
          ]
        },
        {
          "output_type": "stream",
          "name": "stdout",
          "text": [
            "Step 250/250, Loss: 18.9583\n"
          ]
        },
        {
          "output_type": "stream",
          "name": "stderr",
          "text": [
            "Validation: 100%|██████████| 45/45 [00:08<00:00,  5.59it/s]\n"
          ]
        },
        {
          "output_type": "stream",
          "name": "stdout",
          "text": [
            "Epoch 5/10 - Train Loss: 18.0592, Train Acc: 0.0000, Val Loss: 4.6656, Val Acc: 0.0056\n"
          ]
        },
        {
          "output_type": "stream",
          "name": "stderr",
          "text": [
            "Epoch 6 Training:   4%|▍         | 11/250 [00:02<00:41,  5.78it/s]"
          ]
        },
        {
          "output_type": "stream",
          "name": "stdout",
          "text": [
            "Step 10/250, Loss: 18.4106\n"
          ]
        },
        {
          "output_type": "stream",
          "name": "stderr",
          "text": [
            "Epoch 6 Training:   8%|▊         | 21/250 [00:03<00:38,  6.00it/s]"
          ]
        },
        {
          "output_type": "stream",
          "name": "stdout",
          "text": [
            "Step 20/250, Loss: 18.4079\n"
          ]
        },
        {
          "output_type": "stream",
          "name": "stderr",
          "text": [
            "Epoch 6 Training:  12%|█▏        | 31/250 [00:05<00:35,  6.16it/s]"
          ]
        },
        {
          "output_type": "stream",
          "name": "stdout",
          "text": [
            "Step 30/250, Loss: 17.4672\n"
          ]
        },
        {
          "output_type": "stream",
          "name": "stderr",
          "text": [
            "Epoch 6 Training:  16%|█▋        | 41/250 [00:07<00:33,  6.18it/s]"
          ]
        },
        {
          "output_type": "stream",
          "name": "stdout",
          "text": [
            "Step 40/250, Loss: 17.9091\n"
          ]
        },
        {
          "output_type": "stream",
          "name": "stderr",
          "text": [
            "Epoch 6 Training:  20%|██        | 51/250 [00:08<00:33,  5.86it/s]"
          ]
        },
        {
          "output_type": "stream",
          "name": "stdout",
          "text": [
            "Step 50/250, Loss: 16.9565\n"
          ]
        },
        {
          "output_type": "stream",
          "name": "stderr",
          "text": [
            "Epoch 6 Training:  24%|██▍       | 61/250 [00:10<00:34,  5.53it/s]"
          ]
        },
        {
          "output_type": "stream",
          "name": "stdout",
          "text": [
            "Step 60/250, Loss: 18.0920\n"
          ]
        },
        {
          "output_type": "stream",
          "name": "stderr",
          "text": [
            "Epoch 6 Training:  28%|██▊       | 71/250 [00:12<00:29,  6.10it/s]"
          ]
        },
        {
          "output_type": "stream",
          "name": "stdout",
          "text": [
            "Step 70/250, Loss: 18.1828\n"
          ]
        },
        {
          "output_type": "stream",
          "name": "stderr",
          "text": [
            "Epoch 6 Training:  32%|███▏      | 81/250 [00:13<00:27,  6.05it/s]"
          ]
        },
        {
          "output_type": "stream",
          "name": "stdout",
          "text": [
            "Step 80/250, Loss: 18.3376\n"
          ]
        },
        {
          "output_type": "stream",
          "name": "stderr",
          "text": [
            "Epoch 6 Training:  36%|███▋      | 91/250 [00:15<00:26,  6.05it/s]"
          ]
        },
        {
          "output_type": "stream",
          "name": "stdout",
          "text": [
            "Step 90/250, Loss: 17.8342\n"
          ]
        },
        {
          "output_type": "stream",
          "name": "stderr",
          "text": [
            "Epoch 6 Training:  40%|████      | 101/250 [00:17<00:24,  5.97it/s]"
          ]
        },
        {
          "output_type": "stream",
          "name": "stdout",
          "text": [
            "Step 100/250, Loss: 18.4543\n"
          ]
        },
        {
          "output_type": "stream",
          "name": "stderr",
          "text": [
            "Epoch 6 Training:  44%|████▍     | 111/250 [00:18<00:23,  5.96it/s]"
          ]
        },
        {
          "output_type": "stream",
          "name": "stdout",
          "text": [
            "Step 110/250, Loss: 17.5216\n"
          ]
        },
        {
          "output_type": "stream",
          "name": "stderr",
          "text": [
            "Epoch 6 Training:  48%|████▊     | 121/250 [00:20<00:21,  6.00it/s]"
          ]
        },
        {
          "output_type": "stream",
          "name": "stdout",
          "text": [
            "Step 120/250, Loss: 17.6426\n"
          ]
        },
        {
          "output_type": "stream",
          "name": "stderr",
          "text": [
            "Epoch 6 Training:  52%|█████▏    | 131/250 [00:22<00:20,  5.86it/s]"
          ]
        },
        {
          "output_type": "stream",
          "name": "stdout",
          "text": [
            "Step 130/250, Loss: 17.8825\n"
          ]
        },
        {
          "output_type": "stream",
          "name": "stderr",
          "text": [
            "Epoch 6 Training:  56%|█████▋    | 141/250 [00:23<00:17,  6.30it/s]"
          ]
        },
        {
          "output_type": "stream",
          "name": "stdout",
          "text": [
            "Step 140/250, Loss: 16.9039\n"
          ]
        },
        {
          "output_type": "stream",
          "name": "stderr",
          "text": [
            "Epoch 6 Training:  60%|██████    | 151/250 [00:25<00:16,  6.09it/s]"
          ]
        },
        {
          "output_type": "stream",
          "name": "stdout",
          "text": [
            "Step 150/250, Loss: 17.1844\n"
          ]
        },
        {
          "output_type": "stream",
          "name": "stderr",
          "text": [
            "Epoch 6 Training:  64%|██████▍   | 161/250 [00:27<00:14,  5.96it/s]"
          ]
        },
        {
          "output_type": "stream",
          "name": "stdout",
          "text": [
            "Step 160/250, Loss: 17.2242\n"
          ]
        },
        {
          "output_type": "stream",
          "name": "stderr",
          "text": [
            "Epoch 6 Training:  68%|██████▊   | 171/250 [00:28<00:12,  6.29it/s]"
          ]
        },
        {
          "output_type": "stream",
          "name": "stdout",
          "text": [
            "Step 170/250, Loss: 18.0175\n"
          ]
        },
        {
          "output_type": "stream",
          "name": "stderr",
          "text": [
            "Epoch 6 Training:  72%|███████▏  | 181/250 [00:30<00:11,  6.07it/s]"
          ]
        },
        {
          "output_type": "stream",
          "name": "stdout",
          "text": [
            "Step 180/250, Loss: 18.7265\n"
          ]
        },
        {
          "output_type": "stream",
          "name": "stderr",
          "text": [
            "Epoch 6 Training:  76%|███████▋  | 191/250 [00:32<00:09,  6.22it/s]"
          ]
        },
        {
          "output_type": "stream",
          "name": "stdout",
          "text": [
            "Step 190/250, Loss: 17.7807\n"
          ]
        },
        {
          "output_type": "stream",
          "name": "stderr",
          "text": [
            "Epoch 6 Training:  80%|████████  | 201/250 [00:33<00:07,  6.13it/s]"
          ]
        },
        {
          "output_type": "stream",
          "name": "stdout",
          "text": [
            "Step 200/250, Loss: 17.3854\n"
          ]
        },
        {
          "output_type": "stream",
          "name": "stderr",
          "text": [
            "Epoch 6 Training:  84%|████████▍ | 211/250 [00:35<00:06,  6.09it/s]"
          ]
        },
        {
          "output_type": "stream",
          "name": "stdout",
          "text": [
            "Step 210/250, Loss: 17.9765\n"
          ]
        },
        {
          "output_type": "stream",
          "name": "stderr",
          "text": [
            "Epoch 6 Training:  88%|████████▊ | 221/250 [00:37<00:04,  5.94it/s]"
          ]
        },
        {
          "output_type": "stream",
          "name": "stdout",
          "text": [
            "Step 220/250, Loss: 17.3579\n"
          ]
        },
        {
          "output_type": "stream",
          "name": "stderr",
          "text": [
            "Epoch 6 Training:  92%|█████████▏| 231/250 [00:38<00:03,  5.83it/s]"
          ]
        },
        {
          "output_type": "stream",
          "name": "stdout",
          "text": [
            "Step 230/250, Loss: 17.9877\n"
          ]
        },
        {
          "output_type": "stream",
          "name": "stderr",
          "text": [
            "Epoch 6 Training:  96%|█████████▋| 241/250 [00:40<00:01,  5.69it/s]"
          ]
        },
        {
          "output_type": "stream",
          "name": "stdout",
          "text": [
            "Step 240/250, Loss: 17.4265\n"
          ]
        },
        {
          "output_type": "stream",
          "name": "stderr",
          "text": [
            "Epoch 6 Training: 100%|██████████| 250/250 [00:42<00:00,  5.93it/s]\n"
          ]
        },
        {
          "output_type": "stream",
          "name": "stdout",
          "text": [
            "Step 250/250, Loss: 17.7127\n"
          ]
        },
        {
          "output_type": "stream",
          "name": "stderr",
          "text": [
            "Validation: 100%|██████████| 45/45 [00:07<00:00,  5.65it/s]\n"
          ]
        },
        {
          "output_type": "stream",
          "name": "stdout",
          "text": [
            "Epoch 6/10 - Train Loss: 17.8517, Train Acc: 0.0000, Val Loss: 4.6504, Val Acc: 0.0167\n"
          ]
        },
        {
          "output_type": "stream",
          "name": "stderr",
          "text": [
            "Epoch 7 Training:   4%|▍         | 11/250 [00:02<00:41,  5.76it/s]"
          ]
        },
        {
          "output_type": "stream",
          "name": "stdout",
          "text": [
            "Step 10/250, Loss: 17.7635\n"
          ]
        },
        {
          "output_type": "stream",
          "name": "stderr",
          "text": [
            "Epoch 7 Training:   8%|▊         | 21/250 [00:03<00:39,  5.80it/s]"
          ]
        },
        {
          "output_type": "stream",
          "name": "stdout",
          "text": [
            "Step 20/250, Loss: 17.4889\n"
          ]
        },
        {
          "output_type": "stream",
          "name": "stderr",
          "text": [
            "Epoch 7 Training:  12%|█▏        | 31/250 [00:05<00:35,  6.11it/s]"
          ]
        },
        {
          "output_type": "stream",
          "name": "stdout",
          "text": [
            "Step 30/250, Loss: 16.8953\n"
          ]
        },
        {
          "output_type": "stream",
          "name": "stderr",
          "text": [
            "Epoch 7 Training:  16%|█▋        | 41/250 [00:07<00:33,  6.16it/s]"
          ]
        },
        {
          "output_type": "stream",
          "name": "stdout",
          "text": [
            "Step 40/250, Loss: 17.7553\n"
          ]
        },
        {
          "output_type": "stream",
          "name": "stderr",
          "text": [
            "Epoch 7 Training:  20%|██        | 51/250 [00:08<00:34,  5.83it/s]"
          ]
        },
        {
          "output_type": "stream",
          "name": "stdout",
          "text": [
            "Step 50/250, Loss: 17.8902\n"
          ]
        },
        {
          "output_type": "stream",
          "name": "stderr",
          "text": [
            "Epoch 7 Training:  24%|██▍       | 61/250 [00:10<00:31,  6.07it/s]"
          ]
        },
        {
          "output_type": "stream",
          "name": "stdout",
          "text": [
            "Step 60/250, Loss: 17.9268\n"
          ]
        },
        {
          "output_type": "stream",
          "name": "stderr",
          "text": [
            "Epoch 7 Training:  28%|██▊       | 71/250 [00:12<00:29,  6.08it/s]"
          ]
        },
        {
          "output_type": "stream",
          "name": "stdout",
          "text": [
            "Step 70/250, Loss: 17.9072\n"
          ]
        },
        {
          "output_type": "stream",
          "name": "stderr",
          "text": [
            "Epoch 7 Training:  32%|███▏      | 81/250 [00:13<00:27,  6.05it/s]"
          ]
        },
        {
          "output_type": "stream",
          "name": "stdout",
          "text": [
            "Step 80/250, Loss: 17.0461\n"
          ]
        },
        {
          "output_type": "stream",
          "name": "stderr",
          "text": [
            "Epoch 7 Training:  36%|███▋      | 91/250 [00:15<00:25,  6.26it/s]"
          ]
        },
        {
          "output_type": "stream",
          "name": "stdout",
          "text": [
            "Step 90/250, Loss: 17.4139\n"
          ]
        },
        {
          "output_type": "stream",
          "name": "stderr",
          "text": [
            "Epoch 7 Training:  40%|████      | 101/250 [00:17<00:24,  6.02it/s]"
          ]
        },
        {
          "output_type": "stream",
          "name": "stdout",
          "text": [
            "Step 100/250, Loss: 18.6418\n"
          ]
        },
        {
          "output_type": "stream",
          "name": "stderr",
          "text": [
            "Epoch 7 Training:  44%|████▍     | 111/250 [00:18<00:23,  5.85it/s]"
          ]
        },
        {
          "output_type": "stream",
          "name": "stdout",
          "text": [
            "Step 110/250, Loss: 17.2380\n"
          ]
        },
        {
          "output_type": "stream",
          "name": "stderr",
          "text": [
            "Epoch 7 Training:  48%|████▊     | 121/250 [00:20<00:21,  6.04it/s]"
          ]
        },
        {
          "output_type": "stream",
          "name": "stdout",
          "text": [
            "Step 120/250, Loss: 17.2693\n"
          ]
        },
        {
          "output_type": "stream",
          "name": "stderr",
          "text": [
            "Epoch 7 Training:  52%|█████▏    | 131/250 [00:22<00:19,  6.07it/s]"
          ]
        },
        {
          "output_type": "stream",
          "name": "stdout",
          "text": [
            "Step 130/250, Loss: 17.1892\n"
          ]
        },
        {
          "output_type": "stream",
          "name": "stderr",
          "text": [
            "Epoch 7 Training:  56%|█████▋    | 141/250 [00:23<00:16,  6.55it/s]"
          ]
        },
        {
          "output_type": "stream",
          "name": "stdout",
          "text": [
            "Step 140/250, Loss: 17.0757\n"
          ]
        },
        {
          "output_type": "stream",
          "name": "stderr",
          "text": [
            "Epoch 7 Training:  60%|██████    | 151/250 [00:25<00:16,  5.97it/s]"
          ]
        },
        {
          "output_type": "stream",
          "name": "stdout",
          "text": [
            "Step 150/250, Loss: 17.4555\n"
          ]
        },
        {
          "output_type": "stream",
          "name": "stderr",
          "text": [
            "Epoch 7 Training:  64%|██████▍   | 161/250 [00:27<00:14,  6.11it/s]"
          ]
        },
        {
          "output_type": "stream",
          "name": "stdout",
          "text": [
            "Step 160/250, Loss: 17.7027\n"
          ]
        },
        {
          "output_type": "stream",
          "name": "stderr",
          "text": [
            "Epoch 7 Training:  68%|██████▊   | 171/250 [00:28<00:13,  5.92it/s]"
          ]
        },
        {
          "output_type": "stream",
          "name": "stdout",
          "text": [
            "Step 170/250, Loss: 18.1549\n"
          ]
        },
        {
          "output_type": "stream",
          "name": "stderr",
          "text": [
            "Epoch 7 Training:  72%|███████▏  | 181/250 [00:30<00:12,  5.75it/s]"
          ]
        },
        {
          "output_type": "stream",
          "name": "stdout",
          "text": [
            "Step 180/250, Loss: 17.8250\n"
          ]
        },
        {
          "output_type": "stream",
          "name": "stderr",
          "text": [
            "Epoch 7 Training:  76%|███████▋  | 191/250 [00:32<00:10,  5.90it/s]"
          ]
        },
        {
          "output_type": "stream",
          "name": "stdout",
          "text": [
            "Step 190/250, Loss: 17.3822\n"
          ]
        },
        {
          "output_type": "stream",
          "name": "stderr",
          "text": [
            "Epoch 7 Training:  80%|████████  | 201/250 [00:33<00:08,  5.98it/s]"
          ]
        },
        {
          "output_type": "stream",
          "name": "stdout",
          "text": [
            "Step 200/250, Loss: 17.7989\n"
          ]
        },
        {
          "output_type": "stream",
          "name": "stderr",
          "text": [
            "Epoch 7 Training:  84%|████████▍ | 211/250 [00:35<00:06,  6.32it/s]"
          ]
        },
        {
          "output_type": "stream",
          "name": "stdout",
          "text": [
            "Step 210/250, Loss: 17.9613\n"
          ]
        },
        {
          "output_type": "stream",
          "name": "stderr",
          "text": [
            "Epoch 7 Training:  88%|████████▊ | 221/250 [00:37<00:04,  5.93it/s]"
          ]
        },
        {
          "output_type": "stream",
          "name": "stdout",
          "text": [
            "Step 220/250, Loss: 18.0852\n"
          ]
        },
        {
          "output_type": "stream",
          "name": "stderr",
          "text": [
            "Epoch 7 Training:  92%|█████████▏| 231/250 [00:38<00:03,  6.03it/s]"
          ]
        },
        {
          "output_type": "stream",
          "name": "stdout",
          "text": [
            "Step 230/250, Loss: 17.8066\n"
          ]
        },
        {
          "output_type": "stream",
          "name": "stderr",
          "text": [
            "Epoch 7 Training:  96%|█████████▋| 241/250 [00:40<00:01,  6.01it/s]"
          ]
        },
        {
          "output_type": "stream",
          "name": "stdout",
          "text": [
            "Step 240/250, Loss: 18.3655\n"
          ]
        },
        {
          "output_type": "stream",
          "name": "stderr",
          "text": [
            "Epoch 7 Training: 100%|██████████| 250/250 [00:42<00:00,  5.95it/s]\n"
          ]
        },
        {
          "output_type": "stream",
          "name": "stdout",
          "text": [
            "Step 250/250, Loss: 18.0087\n"
          ]
        },
        {
          "output_type": "stream",
          "name": "stderr",
          "text": [
            "Validation: 100%|██████████| 45/45 [00:08<00:00,  5.59it/s]\n"
          ]
        },
        {
          "output_type": "stream",
          "name": "stdout",
          "text": [
            "Epoch 7/10 - Train Loss: 17.6908, Train Acc: 0.0000, Val Loss: 4.6405, Val Acc: 0.0167\n"
          ]
        },
        {
          "output_type": "stream",
          "name": "stderr",
          "text": [
            "Epoch 8 Training:   4%|▍         | 11/250 [00:02<00:40,  5.86it/s]"
          ]
        },
        {
          "output_type": "stream",
          "name": "stdout",
          "text": [
            "Step 10/250, Loss: 18.0708\n"
          ]
        },
        {
          "output_type": "stream",
          "name": "stderr",
          "text": [
            "Epoch 8 Training:   8%|▊         | 21/250 [00:03<00:37,  6.09it/s]"
          ]
        },
        {
          "output_type": "stream",
          "name": "stdout",
          "text": [
            "Step 20/250, Loss: 16.5810\n"
          ]
        },
        {
          "output_type": "stream",
          "name": "stderr",
          "text": [
            "Epoch 8 Training:  12%|█▏        | 31/250 [00:05<00:35,  6.10it/s]"
          ]
        },
        {
          "output_type": "stream",
          "name": "stdout",
          "text": [
            "Step 30/250, Loss: 17.0394\n"
          ]
        },
        {
          "output_type": "stream",
          "name": "stderr",
          "text": [
            "Epoch 8 Training:  16%|█▋        | 41/250 [00:07<00:34,  6.04it/s]"
          ]
        },
        {
          "output_type": "stream",
          "name": "stdout",
          "text": [
            "Step 40/250, Loss: 17.2158\n"
          ]
        },
        {
          "output_type": "stream",
          "name": "stderr",
          "text": [
            "Epoch 8 Training:  20%|██        | 51/250 [00:08<00:33,  5.89it/s]"
          ]
        },
        {
          "output_type": "stream",
          "name": "stdout",
          "text": [
            "Step 50/250, Loss: 18.7050\n"
          ]
        },
        {
          "output_type": "stream",
          "name": "stderr",
          "text": [
            "Epoch 8 Training:  24%|██▍       | 61/250 [00:10<00:32,  5.77it/s]"
          ]
        },
        {
          "output_type": "stream",
          "name": "stdout",
          "text": [
            "Step 60/250, Loss: 17.6687\n"
          ]
        },
        {
          "output_type": "stream",
          "name": "stderr",
          "text": [
            "Epoch 8 Training:  28%|██▊       | 71/250 [00:12<00:31,  5.63it/s]"
          ]
        },
        {
          "output_type": "stream",
          "name": "stdout",
          "text": [
            "Step 70/250, Loss: 17.0307\n"
          ]
        },
        {
          "output_type": "stream",
          "name": "stderr",
          "text": [
            "Epoch 8 Training:  32%|███▏      | 81/250 [00:13<00:28,  5.85it/s]"
          ]
        },
        {
          "output_type": "stream",
          "name": "stdout",
          "text": [
            "Step 80/250, Loss: 17.4007\n"
          ]
        },
        {
          "output_type": "stream",
          "name": "stderr",
          "text": [
            "Epoch 8 Training:  36%|███▋      | 91/250 [00:15<00:26,  5.93it/s]"
          ]
        },
        {
          "output_type": "stream",
          "name": "stdout",
          "text": [
            "Step 90/250, Loss: 16.9716\n"
          ]
        },
        {
          "output_type": "stream",
          "name": "stderr",
          "text": [
            "Epoch 8 Training:  40%|████      | 101/250 [00:17<00:24,  6.02it/s]"
          ]
        },
        {
          "output_type": "stream",
          "name": "stdout",
          "text": [
            "Step 100/250, Loss: 17.5664\n"
          ]
        },
        {
          "output_type": "stream",
          "name": "stderr",
          "text": [
            "Epoch 8 Training:  44%|████▍     | 111/250 [00:18<00:23,  5.99it/s]"
          ]
        },
        {
          "output_type": "stream",
          "name": "stdout",
          "text": [
            "Step 110/250, Loss: 18.5990\n"
          ]
        },
        {
          "output_type": "stream",
          "name": "stderr",
          "text": [
            "Epoch 8 Training:  48%|████▊     | 121/250 [00:20<00:21,  6.06it/s]"
          ]
        },
        {
          "output_type": "stream",
          "name": "stdout",
          "text": [
            "Step 120/250, Loss: 18.1053\n"
          ]
        },
        {
          "output_type": "stream",
          "name": "stderr",
          "text": [
            "Epoch 8 Training:  52%|█████▏    | 131/250 [00:22<00:19,  6.24it/s]"
          ]
        },
        {
          "output_type": "stream",
          "name": "stdout",
          "text": [
            "Step 130/250, Loss: 17.7986\n"
          ]
        },
        {
          "output_type": "stream",
          "name": "stderr",
          "text": [
            "Epoch 8 Training:  56%|█████▋    | 141/250 [00:23<00:19,  5.69it/s]"
          ]
        },
        {
          "output_type": "stream",
          "name": "stdout",
          "text": [
            "Step 140/250, Loss: 17.7454\n"
          ]
        },
        {
          "output_type": "stream",
          "name": "stderr",
          "text": [
            "Epoch 8 Training:  60%|██████    | 151/250 [00:25<00:17,  5.59it/s]"
          ]
        },
        {
          "output_type": "stream",
          "name": "stdout",
          "text": [
            "Step 150/250, Loss: 17.8366\n"
          ]
        },
        {
          "output_type": "stream",
          "name": "stderr",
          "text": [
            "Epoch 8 Training:  64%|██████▍   | 161/250 [00:27<00:15,  5.93it/s]"
          ]
        },
        {
          "output_type": "stream",
          "name": "stdout",
          "text": [
            "Step 160/250, Loss: 18.6455\n"
          ]
        },
        {
          "output_type": "stream",
          "name": "stderr",
          "text": [
            "Epoch 8 Training:  68%|██████▊   | 171/250 [00:28<00:12,  6.16it/s]"
          ]
        },
        {
          "output_type": "stream",
          "name": "stdout",
          "text": [
            "Step 170/250, Loss: 18.1203\n"
          ]
        },
        {
          "output_type": "stream",
          "name": "stderr",
          "text": [
            "Epoch 8 Training:  72%|███████▏  | 181/250 [00:30<00:11,  5.94it/s]"
          ]
        },
        {
          "output_type": "stream",
          "name": "stdout",
          "text": [
            "Step 180/250, Loss: 18.1040\n"
          ]
        },
        {
          "output_type": "stream",
          "name": "stderr",
          "text": [
            "Epoch 8 Training:  76%|███████▋  | 191/250 [00:32<00:09,  6.00it/s]"
          ]
        },
        {
          "output_type": "stream",
          "name": "stdout",
          "text": [
            "Step 190/250, Loss: 17.5565\n"
          ]
        },
        {
          "output_type": "stream",
          "name": "stderr",
          "text": [
            "Epoch 8 Training:  80%|████████  | 201/250 [00:33<00:08,  6.01it/s]"
          ]
        },
        {
          "output_type": "stream",
          "name": "stdout",
          "text": [
            "Step 200/250, Loss: 17.8461\n"
          ]
        },
        {
          "output_type": "stream",
          "name": "stderr",
          "text": [
            "Epoch 8 Training:  84%|████████▍ | 211/250 [00:35<00:06,  6.00it/s]"
          ]
        },
        {
          "output_type": "stream",
          "name": "stdout",
          "text": [
            "Step 210/250, Loss: 17.4723\n"
          ]
        },
        {
          "output_type": "stream",
          "name": "stderr",
          "text": [
            "Epoch 8 Training:  88%|████████▊ | 221/250 [00:37<00:04,  5.98it/s]"
          ]
        },
        {
          "output_type": "stream",
          "name": "stdout",
          "text": [
            "Step 220/250, Loss: 18.3279\n"
          ]
        },
        {
          "output_type": "stream",
          "name": "stderr",
          "text": [
            "Epoch 8 Training:  92%|█████████▏| 231/250 [00:38<00:03,  5.82it/s]"
          ]
        },
        {
          "output_type": "stream",
          "name": "stdout",
          "text": [
            "Step 230/250, Loss: 17.1897\n"
          ]
        },
        {
          "output_type": "stream",
          "name": "stderr",
          "text": [
            "Epoch 8 Training:  96%|█████████▋| 241/250 [00:40<00:01,  5.90it/s]"
          ]
        },
        {
          "output_type": "stream",
          "name": "stdout",
          "text": [
            "Step 240/250, Loss: 17.1491\n"
          ]
        },
        {
          "output_type": "stream",
          "name": "stderr",
          "text": [
            "Epoch 8 Training: 100%|██████████| 250/250 [00:42<00:00,  5.91it/s]\n"
          ]
        },
        {
          "output_type": "stream",
          "name": "stdout",
          "text": [
            "Step 250/250, Loss: 17.1239\n"
          ]
        },
        {
          "output_type": "stream",
          "name": "stderr",
          "text": [
            "Validation: 100%|██████████| 45/45 [00:07<00:00,  5.66it/s]\n"
          ]
        },
        {
          "output_type": "stream",
          "name": "stdout",
          "text": [
            "Epoch 8/10 - Train Loss: 17.6049, Train Acc: 0.0000, Val Loss: 4.6571, Val Acc: 0.0111\n"
          ]
        },
        {
          "output_type": "stream",
          "name": "stderr",
          "text": [
            "Epoch 9 Training:   4%|▍         | 11/250 [00:02<00:41,  5.79it/s]"
          ]
        },
        {
          "output_type": "stream",
          "name": "stdout",
          "text": [
            "Step 10/250, Loss: 17.4561\n"
          ]
        },
        {
          "output_type": "stream",
          "name": "stderr",
          "text": [
            "Epoch 9 Training:   8%|▊         | 21/250 [00:03<00:38,  5.93it/s]"
          ]
        },
        {
          "output_type": "stream",
          "name": "stdout",
          "text": [
            "Step 20/250, Loss: 16.5900\n"
          ]
        },
        {
          "output_type": "stream",
          "name": "stderr",
          "text": [
            "Epoch 9 Training:  12%|█▏        | 31/250 [00:05<00:38,  5.66it/s]"
          ]
        },
        {
          "output_type": "stream",
          "name": "stdout",
          "text": [
            "Step 30/250, Loss: 16.3343\n"
          ]
        },
        {
          "output_type": "stream",
          "name": "stderr",
          "text": [
            "Epoch 9 Training:  16%|█▋        | 41/250 [00:07<00:34,  6.07it/s]"
          ]
        },
        {
          "output_type": "stream",
          "name": "stdout",
          "text": [
            "Step 40/250, Loss: 17.1588\n"
          ]
        },
        {
          "output_type": "stream",
          "name": "stderr",
          "text": [
            "Epoch 9 Training:  20%|██        | 51/250 [00:08<00:33,  5.87it/s]"
          ]
        },
        {
          "output_type": "stream",
          "name": "stdout",
          "text": [
            "Step 50/250, Loss: 17.2167\n"
          ]
        },
        {
          "output_type": "stream",
          "name": "stderr",
          "text": [
            "Epoch 9 Training:  24%|██▍       | 61/250 [00:10<00:31,  5.93it/s]"
          ]
        },
        {
          "output_type": "stream",
          "name": "stdout",
          "text": [
            "Step 60/250, Loss: 17.8614\n"
          ]
        },
        {
          "output_type": "stream",
          "name": "stderr",
          "text": [
            "Epoch 9 Training:  28%|██▊       | 71/250 [00:12<00:29,  6.01it/s]"
          ]
        },
        {
          "output_type": "stream",
          "name": "stdout",
          "text": [
            "Step 70/250, Loss: 18.2706\n"
          ]
        },
        {
          "output_type": "stream",
          "name": "stderr",
          "text": [
            "Epoch 9 Training:  32%|███▏      | 81/250 [00:13<00:28,  6.00it/s]"
          ]
        },
        {
          "output_type": "stream",
          "name": "stdout",
          "text": [
            "Step 80/250, Loss: 17.2144\n"
          ]
        },
        {
          "output_type": "stream",
          "name": "stderr",
          "text": [
            "Epoch 9 Training:  36%|███▋      | 91/250 [00:15<00:26,  6.10it/s]"
          ]
        },
        {
          "output_type": "stream",
          "name": "stdout",
          "text": [
            "Step 90/250, Loss: 17.4318\n"
          ]
        },
        {
          "output_type": "stream",
          "name": "stderr",
          "text": [
            "Epoch 9 Training:  40%|████      | 101/250 [00:17<00:26,  5.68it/s]"
          ]
        },
        {
          "output_type": "stream",
          "name": "stdout",
          "text": [
            "Step 100/250, Loss: 16.9221\n"
          ]
        },
        {
          "output_type": "stream",
          "name": "stderr",
          "text": [
            "Epoch 9 Training:  44%|████▍     | 111/250 [00:18<00:23,  5.87it/s]"
          ]
        },
        {
          "output_type": "stream",
          "name": "stdout",
          "text": [
            "Step 110/250, Loss: 16.9955\n"
          ]
        },
        {
          "output_type": "stream",
          "name": "stderr",
          "text": [
            "Epoch 9 Training:  48%|████▊     | 121/250 [00:20<00:21,  6.01it/s]"
          ]
        },
        {
          "output_type": "stream",
          "name": "stdout",
          "text": [
            "Step 120/250, Loss: 17.7570\n"
          ]
        },
        {
          "output_type": "stream",
          "name": "stderr",
          "text": [
            "Epoch 9 Training:  52%|█████▏    | 131/250 [00:22<00:19,  5.96it/s]"
          ]
        },
        {
          "output_type": "stream",
          "name": "stdout",
          "text": [
            "Step 130/250, Loss: 17.9083\n"
          ]
        },
        {
          "output_type": "stream",
          "name": "stderr",
          "text": [
            "Epoch 9 Training:  56%|█████▋    | 141/250 [00:23<00:18,  5.99it/s]"
          ]
        },
        {
          "output_type": "stream",
          "name": "stdout",
          "text": [
            "Step 140/250, Loss: 17.1837\n"
          ]
        },
        {
          "output_type": "stream",
          "name": "stderr",
          "text": [
            "Epoch 9 Training:  60%|██████    | 151/250 [00:25<00:16,  6.10it/s]"
          ]
        },
        {
          "output_type": "stream",
          "name": "stdout",
          "text": [
            "Step 150/250, Loss: 17.7085\n"
          ]
        },
        {
          "output_type": "stream",
          "name": "stderr",
          "text": [
            "Epoch 9 Training:  64%|██████▍   | 161/250 [00:27<00:14,  5.97it/s]"
          ]
        },
        {
          "output_type": "stream",
          "name": "stdout",
          "text": [
            "Step 160/250, Loss: 18.1370\n"
          ]
        },
        {
          "output_type": "stream",
          "name": "stderr",
          "text": [
            "Epoch 9 Training:  68%|██████▊   | 171/250 [00:28<00:13,  6.08it/s]"
          ]
        },
        {
          "output_type": "stream",
          "name": "stdout",
          "text": [
            "Step 170/250, Loss: 17.5505\n"
          ]
        },
        {
          "output_type": "stream",
          "name": "stderr",
          "text": [
            "Epoch 9 Training:  72%|███████▏  | 181/250 [00:30<00:11,  6.02it/s]"
          ]
        },
        {
          "output_type": "stream",
          "name": "stdout",
          "text": [
            "Step 180/250, Loss: 17.1994\n"
          ]
        },
        {
          "output_type": "stream",
          "name": "stderr",
          "text": [
            "Epoch 9 Training:  76%|███████▋  | 191/250 [00:32<00:10,  5.52it/s]"
          ]
        },
        {
          "output_type": "stream",
          "name": "stdout",
          "text": [
            "Step 190/250, Loss: 17.6835\n"
          ]
        },
        {
          "output_type": "stream",
          "name": "stderr",
          "text": [
            "Epoch 9 Training:  80%|████████  | 201/250 [00:33<00:08,  5.95it/s]"
          ]
        },
        {
          "output_type": "stream",
          "name": "stdout",
          "text": [
            "Step 200/250, Loss: 17.5410\n"
          ]
        },
        {
          "output_type": "stream",
          "name": "stderr",
          "text": [
            "Epoch 9 Training:  84%|████████▍ | 211/250 [00:35<00:06,  5.88it/s]"
          ]
        },
        {
          "output_type": "stream",
          "name": "stdout",
          "text": [
            "Step 210/250, Loss: 17.9156\n"
          ]
        },
        {
          "output_type": "stream",
          "name": "stderr",
          "text": [
            "Epoch 9 Training:  88%|████████▊ | 221/250 [00:37<00:04,  6.05it/s]"
          ]
        },
        {
          "output_type": "stream",
          "name": "stdout",
          "text": [
            "Step 220/250, Loss: 17.4053\n"
          ]
        },
        {
          "output_type": "stream",
          "name": "stderr",
          "text": [
            "Epoch 9 Training:  92%|█████████▏| 231/250 [00:38<00:03,  6.15it/s]"
          ]
        },
        {
          "output_type": "stream",
          "name": "stdout",
          "text": [
            "Step 230/250, Loss: 18.1543\n"
          ]
        },
        {
          "output_type": "stream",
          "name": "stderr",
          "text": [
            "Epoch 9 Training:  96%|█████████▋| 241/250 [00:40<00:01,  5.94it/s]"
          ]
        },
        {
          "output_type": "stream",
          "name": "stdout",
          "text": [
            "Step 240/250, Loss: 17.1930\n"
          ]
        },
        {
          "output_type": "stream",
          "name": "stderr",
          "text": [
            "Epoch 9 Training: 100%|██████████| 250/250 [00:42<00:00,  5.93it/s]\n"
          ]
        },
        {
          "output_type": "stream",
          "name": "stdout",
          "text": [
            "Step 250/250, Loss: 17.1208\n"
          ]
        },
        {
          "output_type": "stream",
          "name": "stderr",
          "text": [
            "Validation: 100%|██████████| 45/45 [00:08<00:00,  5.62it/s]\n"
          ]
        },
        {
          "output_type": "stream",
          "name": "stdout",
          "text": [
            "Epoch 9/10 - Train Loss: 17.6170, Train Acc: 0.0000, Val Loss: 4.6418, Val Acc: 0.0111\n"
          ]
        },
        {
          "output_type": "stream",
          "name": "stderr",
          "text": [
            "Epoch 10 Training:   4%|▍         | 11/250 [00:02<00:40,  5.95it/s]"
          ]
        },
        {
          "output_type": "stream",
          "name": "stdout",
          "text": [
            "Step 10/250, Loss: 17.3831\n"
          ]
        },
        {
          "output_type": "stream",
          "name": "stderr",
          "text": [
            "Epoch 10 Training:   8%|▊         | 21/250 [00:03<00:38,  5.90it/s]"
          ]
        },
        {
          "output_type": "stream",
          "name": "stdout",
          "text": [
            "Step 20/250, Loss: 17.2379\n"
          ]
        },
        {
          "output_type": "stream",
          "name": "stderr",
          "text": [
            "Epoch 10 Training:  12%|█▏        | 31/250 [00:05<00:36,  5.99it/s]"
          ]
        },
        {
          "output_type": "stream",
          "name": "stdout",
          "text": [
            "Step 30/250, Loss: 17.6081\n"
          ]
        },
        {
          "output_type": "stream",
          "name": "stderr",
          "text": [
            "Epoch 10 Training:  16%|█▋        | 41/250 [00:07<00:34,  6.03it/s]"
          ]
        },
        {
          "output_type": "stream",
          "name": "stdout",
          "text": [
            "Step 40/250, Loss: 17.9317\n"
          ]
        },
        {
          "output_type": "stream",
          "name": "stderr",
          "text": [
            "Epoch 10 Training:  20%|██        | 51/250 [00:08<00:34,  5.83it/s]"
          ]
        },
        {
          "output_type": "stream",
          "name": "stdout",
          "text": [
            "Step 50/250, Loss: 16.9399\n"
          ]
        },
        {
          "output_type": "stream",
          "name": "stderr",
          "text": [
            "Epoch 10 Training:  24%|██▍       | 61/250 [00:10<00:32,  5.86it/s]"
          ]
        },
        {
          "output_type": "stream",
          "name": "stdout",
          "text": [
            "Step 60/250, Loss: 18.0380\n"
          ]
        },
        {
          "output_type": "stream",
          "name": "stderr",
          "text": [
            "Epoch 10 Training:  28%|██▊       | 71/250 [00:12<00:29,  6.15it/s]"
          ]
        },
        {
          "output_type": "stream",
          "name": "stdout",
          "text": [
            "Step 70/250, Loss: 18.2380\n"
          ]
        },
        {
          "output_type": "stream",
          "name": "stderr",
          "text": [
            "Epoch 10 Training:  32%|███▏      | 81/250 [00:13<00:28,  5.91it/s]"
          ]
        },
        {
          "output_type": "stream",
          "name": "stdout",
          "text": [
            "Step 80/250, Loss: 17.5835\n"
          ]
        },
        {
          "output_type": "stream",
          "name": "stderr",
          "text": [
            "Epoch 10 Training:  36%|███▋      | 91/250 [00:15<00:26,  5.90it/s]"
          ]
        },
        {
          "output_type": "stream",
          "name": "stdout",
          "text": [
            "Step 90/250, Loss: 17.4761\n"
          ]
        },
        {
          "output_type": "stream",
          "name": "stderr",
          "text": [
            "Epoch 10 Training:  40%|████      | 101/250 [00:17<00:24,  6.09it/s]"
          ]
        },
        {
          "output_type": "stream",
          "name": "stdout",
          "text": [
            "Step 100/250, Loss: 17.7283\n"
          ]
        },
        {
          "output_type": "stream",
          "name": "stderr",
          "text": [
            "Epoch 10 Training:  44%|████▍     | 111/250 [00:18<00:22,  6.05it/s]"
          ]
        },
        {
          "output_type": "stream",
          "name": "stdout",
          "text": [
            "Step 110/250, Loss: 18.5708\n"
          ]
        },
        {
          "output_type": "stream",
          "name": "stderr",
          "text": [
            "Epoch 10 Training:  48%|████▊     | 121/250 [00:20<00:20,  6.19it/s]"
          ]
        },
        {
          "output_type": "stream",
          "name": "stdout",
          "text": [
            "Step 120/250, Loss: 17.3034\n"
          ]
        },
        {
          "output_type": "stream",
          "name": "stderr",
          "text": [
            "Epoch 10 Training:  52%|█████▏    | 131/250 [00:22<00:19,  6.10it/s]"
          ]
        },
        {
          "output_type": "stream",
          "name": "stdout",
          "text": [
            "Step 130/250, Loss: 17.4480\n"
          ]
        },
        {
          "output_type": "stream",
          "name": "stderr",
          "text": [
            "Epoch 10 Training:  56%|█████▋    | 141/250 [00:23<00:19,  5.67it/s]"
          ]
        },
        {
          "output_type": "stream",
          "name": "stdout",
          "text": [
            "Step 140/250, Loss: 17.6272\n"
          ]
        },
        {
          "output_type": "stream",
          "name": "stderr",
          "text": [
            "Epoch 10 Training:  60%|██████    | 151/250 [00:25<00:17,  5.60it/s]"
          ]
        },
        {
          "output_type": "stream",
          "name": "stdout",
          "text": [
            "Step 150/250, Loss: 16.6507\n"
          ]
        },
        {
          "output_type": "stream",
          "name": "stderr",
          "text": [
            "Epoch 10 Training:  64%|██████▍   | 161/250 [00:27<00:14,  6.23it/s]"
          ]
        },
        {
          "output_type": "stream",
          "name": "stdout",
          "text": [
            "Step 160/250, Loss: 17.3877\n"
          ]
        },
        {
          "output_type": "stream",
          "name": "stderr",
          "text": [
            "Epoch 10 Training:  68%|██████▊   | 171/250 [00:29<00:13,  6.04it/s]"
          ]
        },
        {
          "output_type": "stream",
          "name": "stdout",
          "text": [
            "Step 170/250, Loss: 17.8513\n"
          ]
        },
        {
          "output_type": "stream",
          "name": "stderr",
          "text": [
            "Epoch 10 Training:  72%|███████▏  | 181/250 [00:30<00:11,  6.23it/s]"
          ]
        },
        {
          "output_type": "stream",
          "name": "stdout",
          "text": [
            "Step 180/250, Loss: 17.2186\n"
          ]
        },
        {
          "output_type": "stream",
          "name": "stderr",
          "text": [
            "Epoch 10 Training:  76%|███████▋  | 191/250 [00:32<00:09,  6.22it/s]"
          ]
        },
        {
          "output_type": "stream",
          "name": "stdout",
          "text": [
            "Step 190/250, Loss: 17.7320\n"
          ]
        },
        {
          "output_type": "stream",
          "name": "stderr",
          "text": [
            "Epoch 10 Training:  80%|████████  | 201/250 [00:33<00:07,  6.36it/s]"
          ]
        },
        {
          "output_type": "stream",
          "name": "stdout",
          "text": [
            "Step 200/250, Loss: 16.8176\n"
          ]
        },
        {
          "output_type": "stream",
          "name": "stderr",
          "text": [
            "Epoch 10 Training:  84%|████████▍ | 211/250 [00:35<00:06,  6.25it/s]"
          ]
        },
        {
          "output_type": "stream",
          "name": "stdout",
          "text": [
            "Step 210/250, Loss: 16.8412\n"
          ]
        },
        {
          "output_type": "stream",
          "name": "stderr",
          "text": [
            "Epoch 10 Training:  88%|████████▊ | 221/250 [00:37<00:04,  5.99it/s]"
          ]
        },
        {
          "output_type": "stream",
          "name": "stdout",
          "text": [
            "Step 220/250, Loss: 17.3506\n"
          ]
        },
        {
          "output_type": "stream",
          "name": "stderr",
          "text": [
            "Epoch 10 Training:  92%|█████████▏| 231/250 [00:38<00:03,  5.77it/s]"
          ]
        },
        {
          "output_type": "stream",
          "name": "stdout",
          "text": [
            "Step 230/250, Loss: 17.3725\n"
          ]
        },
        {
          "output_type": "stream",
          "name": "stderr",
          "text": [
            "Epoch 10 Training:  96%|█████████▋| 241/250 [00:40<00:01,  5.90it/s]"
          ]
        },
        {
          "output_type": "stream",
          "name": "stdout",
          "text": [
            "Step 240/250, Loss: 17.2549\n"
          ]
        },
        {
          "output_type": "stream",
          "name": "stderr",
          "text": [
            "Epoch 10 Training: 100%|██████████| 250/250 [00:42<00:00,  5.92it/s]\n"
          ]
        },
        {
          "output_type": "stream",
          "name": "stdout",
          "text": [
            "Step 250/250, Loss: 17.1885\n"
          ]
        },
        {
          "output_type": "stream",
          "name": "stderr",
          "text": [
            "Validation: 100%|██████████| 45/45 [00:07<00:00,  5.69it/s]\n"
          ]
        },
        {
          "output_type": "stream",
          "name": "stdout",
          "text": [
            "Epoch 10/10 - Train Loss: 17.5384, Train Acc: 0.0000, Val Loss: 4.6443, Val Acc: 0.0139\n"
          ]
        },
        {
          "output_type": "display_data",
          "data": {
            "text/plain": [
              "<Figure size 1200x500 with 2 Axes>"
            ],
            "image/png": "[encoded data removed]"
          },
          "metadata": {}
        },
        {
          "output_type": "stream",
          "name": "stdout",
          "text": [
            "\n",
            "Evaluating fine-tuned model\n",
            "Evaluating fine-tuned model on verification task\n",
            "Verification dataset initialized with 37720 pairs\n"
          ]
        },
        {
          "output_type": "stream",
          "name": "stderr",
          "text": [
            "Verification Evaluation: 100%|██████████| 4715/4715 [26:33<00:00,  2.96it/s]\n"
          ]
        },
        {
          "output_type": "stream",
          "name": "stdout",
          "text": [
            "\n",
            "Fine-tuned Model Verification Results:\n",
            "EER: 40.43%\n",
            "TAR@1%FAR: 4.10%\n",
            "AUC: 0.6324\n"
          ]
        },
        {
          "output_type": "display_data",
          "data": {
            "text/plain": [
              "<Figure size 800x800 with 1 Axes>"
            ],
            "image/png": "[encoded data removed]"
          },
          "metadata": {}
        },
        {
          "output_type": "stream",
          "name": "stdout",
          "text": [
            "Evaluating speaker identification accuracy...\n",
            "Dataset initialized with 360 samples and 18 classes\n"
          ]
        },
        {
          "output_type": "stream",
          "name": "stderr",
          "text": [
            "Speaker ID Evaluation: 100%|██████████| 45/45 [00:08<00:00,  5.55it/s]\n",
            "/usr/local/lib/python3.11/dist-packages/sklearn/metrics/_classification.py:1565: UndefinedMetricWarning: Precision is ill-defined and being set to 0.0 in labels with no predicted samples. Use `zero_division` parameter to control this behavior.\n",
            "  _warn_prf(average, modifier, f\"{metric.capitalize()} is\", len(result))\n",
            "/usr/local/lib/python3.11/dist-packages/sklearn/metrics/_classification.py:1565: UndefinedMetricWarning: Recall is ill-defined and being set to 0.0 in labels with no true samples. Use `zero_division` parameter to control this behavior.\n",
            "  _warn_prf(average, modifier, f\"{metric.capitalize()} is\", len(result))\n"
          ]
        },
        {
          "output_type": "display_data",
          "data": {
            "text/plain": [
              "<Figure size 1200x1000 with 2 Axes>"
            ],
            "image/png": "[encoded data removed]"
          },
          "metadata": {}
        },
        {
          "output_type": "stream",
          "name": "stdout",
          "text": [
            "Speaker Identification Results:\n",
            "Accuracy: 0.0194\n",
            "Precision: 0.0450\n",
            "Recall: 0.0194\n",
            "F1 Score: 0.0218\n",
            "\n",
            "Saving models and results\n",
            "Could not save full models due to serialization limitations: Serialization of parametrized modules is only supported through state_dict(). See:\n",
            "https://pytorch.org/tutorials/beginner/saving_loading_models.html#saving-loading-a-general-checkpoint-for-inference-and-or-resuming-training\n",
            "Model weights have been saved successfully using state_dict()\n",
            "Models and metrics saved to /content/model_outputs\n",
            "\n",
            "Comparing model performance\n",
            "\n",
            "==================================================\n",
            "Model Performance Comparison\n",
            "==================================================\n",
            "Metric          Pre-trained     Fine-tuned      Improvement    \n",
            "------------------------------------------------------------\n",
            "EER (%)         40.42           40.43           -0.01          \n",
            "TAR@1%FAR (%)   5.04            4.10            -0.94          \n",
            "AUC             0.6249          0.6324          0.0076         \n",
            "\n",
            "==================================================\n",
            "Speaker Identification Performance Comparison\n",
            "==================================================\n",
            "Metric          Pre-trained     Fine-tuned      Improvement    \n",
            "------------------------------------------------------------\n",
            "Accuracy        0.0000          0.0194          0.0194         \n",
            "F1 Score        0.0000          0.0218          0.0218         \n"
          ]
        },
        {
          "output_type": "display_data",
          "data": {
            "text/plain": [
              "<Figure size 1000x600 with 1 Axes>"
            ],
            "image/png": "[encoded data removed]"
          },
          "metadata": {}
        },
        {
          "output_type": "display_data",
          "data": {
            "text/plain": [
              "<Figure size 1000x800 with 1 Axes>"
            ],
            "image/png": "[encoded data removed]"
          },
          "metadata": {}
        }
      ]
    },
    {
      "cell_type": "code",
      "source": [
        "!zip -r SU2_models.zip model_checkpoints model_outputs plots"
      ],
      "metadata": {
        "colab": {
          "base_uri": "https://localhost:8080/"
        },
        "id": "vVfnTycMqqu9",
        "outputId": "ce05fc8f-8be7-47d7-92b6-2ab8bfe2e6e1"
      },
      "execution_count": 45,
      "outputs": [
        {
          "output_type": "stream",
          "name": "stdout",
          "text": [
            "  adding: model_checkpoints/ (stored 0%)\n",
            "  adding: model_checkpoints/model_arcface_best.pt (deflated 41%)\n",
            "  adding: model_outputs/ (stored 0%)\n",
            "  adding: model_outputs/pretrained_metrics.json (deflated 49%)\n",
            "  adding: model_outputs/pretrained_model_full.pt (deflated 63%)\n",
            "  adding: model_outputs/finetuned_metrics.pkl (deflated 66%)\n",
            "  adding: model_outputs/pretrained_model_weights.pt (deflated 41%)\n",
            "  adding: model_outputs/finetuned_model_weights.pt (deflated 41%)\n",
            "  adding: model_outputs/finetuned_metrics.json (deflated 55%)\n",
            "  adding: model_outputs/plots/ (stored 0%)\n",
            "  adding: model_outputs/plots/model_comparison_roc.png (deflated 14%)\n",
            "  adding: model_outputs/plots/speaker_id_comparison.png (deflated 30%)\n",
            "  adding: model_outputs/plots/pretrained_model_evaluation.png (deflated 17%)\n",
            "  adding: model_outputs/plots/speaker_id_confusion_matrix.png (deflated 31%)\n",
            "  adding: model_outputs/plots/verification_roc.png (deflated 16%)\n",
            "  adding: model_outputs/pretrained_metrics.pkl (deflated 72%)\n",
            "  adding: plots/ (stored 0%)\n",
            "  adding: plots/training_progress.png (deflated 17%)\n"
          ]
        }
      ]
    },
    {
      "cell_type": "code",
      "source": [
        "from google.colab import files\n",
        "files.download('SU2_models.zip')"
      ],
      "metadata": {
        "colab": {
          "base_uri": "https://localhost:8080/",
          "height": 17
        },
        "id": "ftfUpwf6q6i6",
        "outputId": "643ff07a-0524-429c-a3cf-4227a1682555"
      },
      "execution_count": 46,
      "outputs": [
        {
          "output_type": "display_data",
          "data": {
            "text/plain": [
              "<IPython.core.display.Javascript object>"
            ],
            "application/javascript": [
              "\n",
              "    async function download(id, filename, size) {\n",
              "      if (!google.colab.kernel.accessAllowed) {\n",
              "        return;\n",
              "      }\n",
              "      const div = document.createElement('div');\n",
              "      const label = document.createElement('label');\n",
              "      label.textContent = `Downloading \"${filename}\": `;\n",
              "      div.appendChild(label);\n",
              "      const progress = document.createElement('progress');\n",
              "      progress.max = size;\n",
              "      div.appendChild(progress);\n",
              "      document.body.appendChild(div);\n",
              "\n",
              "      const buffers = [];\n",
              "      let downloaded = 0;\n",
              "\n",
              "      const channel = await google.colab.kernel.comms.open(id);\n",
              "      // Send a message to notify the kernel that we're ready.\n",
              "      channel.send({})\n",
              "\n",
              "      for await (const message of channel.messages) {\n",
              "        // Send a message to notify the kernel that we're ready.\n",
              "        channel.send({})\n",
              "        if (message.buffers) {\n",
              "          for (const buffer of message.buffers) {\n",
              "            buffers.push(buffer);\n",
              "            downloaded += buffer.byteLength;\n",
              "            progress.value = downloaded;\n",
              "          }\n",
              "        }\n",
              "      }\n",
              "      const blob = new Blob(buffers, {type: 'application/binary'});\n",
              "      const a = document.createElement('a');\n",
              "      a.href = window.URL.createObjectURL(blob);\n",
              "      a.download = filename;\n",
              "      div.appendChild(a);\n",
              "      a.click();\n",
              "      div.remove();\n",
              "    }\n",
              "  "
            ]
          },
          "metadata": {}
        },
        {
          "output_type": "display_data",
          "data": {
            "text/plain": [
              "<IPython.core.display.Javascript object>"
            ],
            "application/javascript": [
              "download(\"download_dd9c959c-3b72-4add-8ead-cad4efeb9269\", \"SU2_models.zip\", 680111930)"
            ]
          },
          "metadata": {}
        }
      ]
    }
  ]
}